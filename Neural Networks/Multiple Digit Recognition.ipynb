{
 "cells": [
  {
   "cell_type": "markdown",
   "metadata": {
    "colab_type": "text",
    "id": "pT3rJzPszHgm"
   },
   "source": [
    "\n",
    "## Project 7 - Neural Networks\n",
    "Recognizing multi-digit numbers in photographs captured at street level is an important component of modern-day map making. A classic example of a corpus of such street level photographs is Google’s Street View imagery comprised of hundreds of millions of geo-located 360 degree panoramic images. The ability to automatically transcribe an address number from a geo-located patch of pixels and associate the transcribed number with a known street address helps pinpoint, with a high degree of accuracy, the location of the building it represents. \n",
    "\n",
    "More broadly, recognizing numbers in photographs is a problem of interest to the optical character recognition community. While OCR on constrained domains like document processing is well studied, arbitrary multi-character text recognition in photographs is still highly challenging. This difficulty arises due to the wide variability in the visual appearance of text in the wild on account of a large range of fonts, colors, styles, orientations, and character arrangements. The recognition problem is further complicated by environmental factors such as lighting, shadows, specularities, and occlusions as well as by image acquisition factors such as resolution, motion, and focus blurs.\n",
    "\n",
    "In this project we will use dataset with images centred around a single digit (many of the images do contain some distractors at the sides). Although we are taking a sample of the data which is simpler, it is more complex than MNIST because of the distractors. \n",
    "\n",
    "**The Street View House Numbers (SVHN) Dataset**\n",
    "\n",
    "SVHN is a real-world image dataset for developing machine learning and object recognition algorithms with minimal requirement on data formatting but comes from a significantly harder, unsolved, real world problem (recognizing digits and numbers in natural scene images). SVHN is obtained from house numbers in Google Street View images.\n",
    "\n",
    "Link to Dataset: https://www.kaggle.com/datasets/sasha18/street-view-house-nos-h5-file\n",
    "\n",
    "\n",
    "\n",
    "**Acknowledgement for the datasets**\n",
    "\n",
    "Yuval Netzer, Tao Wang, Adam Coates, Alessandro Bissacco, Bo Wu, Andrew Y. Ng Reading Digits in Natural Images with Unsupervised Feature Learning NIPS Workshop on Deep Learning and Unsupervised Feature Learning 2011. PDF http://ufldl.stanford.edu/housenumbers as the URL for this site when necessary.\n",
    "\n",
    "**Objective of the project** is to learn how to implement a simple image classification pipeline based on a deep neural network.\n",
    "\n",
    "* Understand the basic Image Classification pipeline and the data-driven approach (train/predict stages)\n",
    "* Data fetching and understand the train/val/test splits\n",
    "* Implement and apply a deep neural network classifier including (feed forward neural network, RELU, activations)\n",
    "* Understand and be able to implement (vectorized) backpropagation (cost stochastic gradient descent, cross entropy loss, cost functions)\n",
    "* Implement batch normalization for training the neural network\n",
    "* Print the classification accuracy metrics"
   ]
  },
  {
   "cell_type": "markdown",
   "metadata": {
    "colab_type": "text",
    "id": "6DsvU1eB2dJ9"
   },
   "source": [
    "<a id='import'></a>\n",
    "### Import Packages"
   ]
  },
  {
   "cell_type": "code",
   "execution_count": 2,
   "metadata": {
    "colab": {
     "base_uri": "https://localhost:8080/",
     "height": 82
    },
    "colab_type": "code",
    "id": "YdPPqfcR17r5",
    "outputId": "6de7e6c5-07ef-4596-e8f9-08b2861ce82f"
   },
   "outputs": [
    {
     "name": "stdout",
     "output_type": "stream",
     "text": [
      "Found GPU at: /device:GPU:0\n"
     ]
    }
   ],
   "source": [
    "# Imports\n",
    "import pandas as pd, numpy as np, matplotlib.pyplot as plt, seaborn as sns, h5py\n",
    "import matplotlib.style as style; style.use('fivethirtyeight')\n",
    "%matplotlib inline\n",
    "\n",
    "# Metrics and preprocessing\n",
    "from sklearn.metrics import classification_report, accuracy_score, confusion_matrix, precision_score, recall_score, f1_score, precision_recall_curve, auc\n",
    "from sklearn.model_selection import train_test_split\n",
    "from sklearn import preprocessing\n",
    "\n",
    "# TF and Keras\n",
    "from tensorflow.keras.layers import Dense, Dropout, BatchNormalization\n",
    "from tensorflow.keras.layers import Activation, Dense\n",
    "from tensorflow.keras.utils import to_categorical\n",
    "from tensorflow.keras.models import Sequential\n",
    "from tensorflow.keras import optimizers\n",
    "\n",
    "# Checking if GPU is found\n",
    "import tensorflow as tf\n",
    "device_name = tf.test.gpu_device_name()\n",
    "if device_name != '/device:GPU:0':\n",
    "  raise SystemError('GPU device not found')\n",
    "print('Found GPU at: {}'.format(device_name))\n",
    "\n",
    "tf.compat.v1.reset_default_graph()\n",
    "tf.random.set_seed(42)"
   ]
  },
  {
   "cell_type": "markdown",
   "metadata": {
    "colab_type": "text",
    "id": "X4jslkxXdFB1"
   },
   "source": [
    "<a id='load'></a>\n",
    "### Load train, val and test datasets from h5py file"
   ]
  },
  {
   "cell_type": "code",
   "execution_count": 3,
   "metadata": {
    "colab": {
     "base_uri": "https://localhost:8080/",
     "height": 159
    },
    "colab_type": "code",
    "id": "kdolI00z7KOf",
    "outputId": "7d3fd2b8-da8b-4c72-f55c-c0868eedb822"
   },
   "outputs": [
    {
     "name": "stdout",
     "output_type": "stream",
     "text": [
      "Training set (42000, 32, 32) (42000,)\n",
      "Validation set (60000, 32, 32) (60000,)\n",
      "Test set (18000, 32, 32) (18000,)\n",
      "\n",
      "\n",
      "Unique labels in y_train: [0 1 2 3 4 5 6 7 8 9]\n",
      "Unique labels in y_val: [0 1 2 3 4 5 6 7 8 9]\n",
      "Unique labels in y_test: [0 1 2 3 4 5 6 7 8 9]\n"
     ]
    }
   ],
   "source": [
    "# Read the h5 file\n",
    "h5_SVH = h5py.File('SVHN_single_grey1.h5', 'r')\n",
    "\n",
    "# Load the training, validation and test sets\n",
    "X_train = h5_SVH['X_train'][:]\n",
    "y_train_o = h5_SVH['y_train'][:]\n",
    "X_val = h5_SVH['X_val'][:]\n",
    "y_val_o = h5_SVH['y_val'][:]\n",
    "X_test = h5_SVH['X_test'][:]\n",
    "y_test_o = h5_SVH['y_test'][:]\n",
    "\n",
    "# Close this file\n",
    "\n",
    "h5_SVH.close()\n",
    "\n",
    "print('Training set', X_train.shape, y_train_o.shape)\n",
    "print('Validation set', X_val.shape, y_val_o.shape)\n",
    "print('Test set', X_test.shape, y_test_o.shape)\n",
    "\n",
    "print('\\n')\n",
    "print('Unique labels in y_train:', np.unique(y_train_o))\n",
    "print('Unique labels in y_val:', np.unique(y_val_o))\n",
    "print('Unique labels in y_test:', np.unique(y_test_o))"
   ]
  },
  {
   "cell_type": "markdown",
   "metadata": {
    "colab_type": "text",
    "id": "OwanQxdD9mBC"
   },
   "source": [
    "<a id='o1'></a>\n",
    "#### Observation 1 - Sets Shape\n",
    "* Length of training sets: 42k, validation sets: 60k, test sets: 18k\n",
    "* Size of the images: 32*32\n",
    "* Number of class: 10"
   ]
  },
  {
   "cell_type": "markdown",
   "metadata": {
    "colab_type": "text",
    "id": "g8Zur6Qxs92_"
   },
   "source": [
    "<a id='visualize'></a>\n",
    "### Visualizing first 10 images"
   ]
  },
  {
   "cell_type": "code",
   "execution_count": 4,
   "metadata": {
    "colab": {
     "base_uri": "https://localhost:8080/",
     "height": 152
    },
    "colab_type": "code",
    "id": "wuXKfSv58lbK",
    "outputId": "4d2bf75c-6b25-4c59-ecd7-0c06aade559e"
   },
   "outputs": [
    {
     "data": {
      "image/png": "[encoded data removed]",
      "text/plain": [
       "<Figure size 1500x450 with 10 Axes>"
      ]
     },
     "metadata": {},
     "output_type": "display_data"
    },
    {
     "name": "stdout",
     "output_type": "stream",
     "text": [
      "Label for each of the above image: [2 6 7 4 4 0 3 0 7 3]\n"
     ]
    }
   ],
   "source": [
    "# Visualizing first 10 images in the dataset and their labels\n",
    "plt.figure(figsize = (15, 4.5))\n",
    "for i in range(10):  \n",
    "    plt.subplot(1, 10, i+1)\n",
    "    plt.imshow(X_train[i].reshape((32, 32)),cmap = plt.cm.binary)\n",
    "    plt.axis('off')\n",
    "plt.subplots_adjust(wspace = -0.1, hspace = -0.1)\n",
    "plt.show()\n",
    "\n",
    "print('Label for each of the above image: %s' % (y_train_o[0 : 10]))"
   ]
  },
  {
   "cell_type": "code",
   "execution_count": 5,
   "metadata": {
    "colab": {
     "base_uri": "https://localhost:8080/",
     "height": 316
    },
    "colab_type": "code",
    "id": "Td7LigoTynL2",
    "outputId": "dea62917-3429-40ac-c813-31b36f8a5f3a"
   },
   "outputs": [
    {
     "name": "stdout",
     "output_type": "stream",
     "text": [
      "Checking first image and label in training set\n",
      "--------------------------------------------------------------------------------\n"
     ]
    },
    {
     "data": {
      "image/png": "[encoded data removed]",
      "text/plain": [
       "<Figure size 640x480 with 1 Axes>"
      ]
     },
     "metadata": {},
     "output_type": "display_data"
    },
    {
     "name": "stdout",
     "output_type": "stream",
     "text": [
      "Label: 2\n"
     ]
    }
   ],
   "source": [
    "print('Checking first image and label in training set'); print('--'*40)\n",
    "plt.imshow(X_train[0], cmap = plt.cm.binary)    \n",
    "plt.show()\n",
    "print('Label:', y_train_o[0])"
   ]
  },
  {
   "cell_type": "code",
   "execution_count": 6,
   "metadata": {
    "colab": {
     "base_uri": "https://localhost:8080/",
     "height": 316
    },
    "colab_type": "code",
    "id": "Bcpa-MFxy0Zt",
    "outputId": "f4593ef0-8dfb-46d5-d06d-3d4c2c88907f"
   },
   "outputs": [
    {
     "name": "stdout",
     "output_type": "stream",
     "text": [
      "Checking first image and label in validation set\n",
      "--------------------------------------------------------------------------------\n"
     ]
    },
    {
     "data": {
      "image/png": "[encoded data removed]",
      "text/plain": [
       "<Figure size 640x480 with 1 Axes>"
      ]
     },
     "metadata": {},
     "output_type": "display_data"
    },
    {
     "name": "stdout",
     "output_type": "stream",
     "text": [
      "Label: 0\n"
     ]
    }
   ],
   "source": [
    "print('Checking first image and label in validation set'); print('--'*40)\n",
    "plt.imshow(X_val[0], cmap = plt.cm.binary)    \n",
    "plt.show()\n",
    "print('Label:', y_val_o[0])"
   ]
  },
  {
   "cell_type": "code",
   "execution_count": 7,
   "metadata": {
    "colab": {
     "base_uri": "https://localhost:8080/",
     "height": 316
    },
    "colab_type": "code",
    "id": "r1OIeig-zHap",
    "outputId": "469be395-b214-4ccb-fdb3-5058f7a2f3f9"
   },
   "outputs": [
    {
     "name": "stdout",
     "output_type": "stream",
     "text": [
      "Checking first image and label in test set\n",
      "--------------------------------------------------------------------------------\n"
     ]
    },
    {
     "data": {
      "image/png": "[encoded data removed]",
      "text/plain": [
       "<Figure size 640x480 with 1 Axes>"
      ]
     },
     "metadata": {},
     "output_type": "display_data"
    },
    {
     "name": "stdout",
     "output_type": "stream",
     "text": [
      "Label: 1\n"
     ]
    }
   ],
   "source": [
    "print('Checking first image and label in test set'); print('--'*40)\n",
    "plt.imshow(X_test[0], cmap = plt.cm.binary)    \n",
    "plt.show()\n",
    "print('Label:', y_test_o[0])"
   ]
  },
  {
   "cell_type": "markdown",
   "metadata": {
    "colab_type": "text",
    "id": "fEQ-CNcVdr-c"
   },
   "source": [
    "<a id='flatten'></a>\n",
    "### Flatten and normalize the images for Keras"
   ]
  },
  {
   "cell_type": "code",
   "execution_count": 8,
   "metadata": {
    "colab": {
     "base_uri": "https://localhost:8080/",
     "height": 159
    },
    "colab_type": "code",
    "id": "t4cfwZ9ldlO0",
    "outputId": "4c4d0e87-bb47-47d7-f016-7bf6347f7ecb"
   },
   "outputs": [
    {
     "name": "stdout",
     "output_type": "stream",
     "text": [
      "Reshaping X data: (n, 32, 32) => (n, 1024)\n",
      "--------------------------------------------------------------------------------\n",
      "Making sure that the values are float so that we can get decimal points after division\n",
      "--------------------------------------------------------------------------------\n",
      "Normalizing the RGB codes by dividing it to the max RGB value\n",
      "--------------------------------------------------------------------------------\n",
      "Converting y data into categorical (one-hot encoding)\n",
      "--------------------------------------------------------------------------------\n"
     ]
    }
   ],
   "source": [
    "print('Reshaping X data: (n, 32, 32) => (n, 1024)'); print('--'*40)\n",
    "X_train = X_train.reshape((X_train.shape[0], -1))\n",
    "X_val = X_val.reshape((X_val.shape[0], -1))\n",
    "X_test = X_test.reshape((X_test.shape[0], -1))\n",
    "\n",
    "print('Making sure that the values are float so that we can get decimal points after division'); print('--'*40)\n",
    "X_train = X_train.astype('float32')\n",
    "X_val = X_val.astype('float32')\n",
    "X_test = X_test.astype('float32')\n",
    "\n",
    "print('Normalizing the RGB codes by dividing it to the max RGB value'); print('--'*40)\n",
    "X_train /= 255\n",
    "X_val /= 255\n",
    "X_test /= 255\n",
    "\n",
    "print('Converting y data into categorical (one-hot encoding)'); print('--'*40)\n",
    "y_train = to_categorical(y_train_o)\n",
    "y_val = to_categorical(y_val_o)\n",
    "y_test = to_categorical(y_test_o)"
   ]
  },
  {
   "cell_type": "code",
   "execution_count": 9,
   "metadata": {
    "colab": {
     "base_uri": "https://localhost:8080/",
     "height": 248
    },
    "colab_type": "code",
    "id": "evUXte-cnfRN",
    "outputId": "9f9be675-0b9e-4a14-dd97-1f4bd4d4efa0"
   },
   "outputs": [
    {
     "name": "stdout",
     "output_type": "stream",
     "text": [
      "X_train shape: (42000, 1024)\n",
      "X_val shape: (60000, 1024)\n",
      "X_test shape: (18000, 1024)\n",
      "\n",
      "\n",
      "y_train shape: (42000, 10)\n",
      "y_val shape: (60000, 10)\n",
      "y_test shape: (18000, 10)\n",
      "\n",
      "\n",
      "Number of images in X_train 42000\n",
      "Number of images in X_val 60000\n",
      "Number of images in X_test 18000\n"
     ]
    }
   ],
   "source": [
    "print('X_train shape:', X_train.shape)\n",
    "print('X_val shape:', X_val.shape)\n",
    "print('X_test shape:', X_test.shape)\n",
    "\n",
    "print('\\n')\n",
    "print('y_train shape:', y_train.shape)\n",
    "print('y_val shape:', y_val.shape)\n",
    "print('y_test shape:', y_test.shape)\n",
    "\n",
    "print('\\n')\n",
    "print('Number of images in X_train', X_train.shape[0])\n",
    "print('Number of images in X_val', X_val.shape[0])\n",
    "print('Number of images in X_test', X_test.shape[0])"
   ]
  },
  {
   "cell_type": "markdown",
   "metadata": {
    "colab_type": "text",
    "id": "fGKy-ZD1YAWv"
   },
   "source": [
    "<a id='Baby'></a>\n",
    "### Modelling - Baby sitting the learning process"
   ]
  },
  {
   "cell_type": "markdown",
   "metadata": {
    "colab_type": "text",
    "id": "JX35qWq_AyLZ"
   },
   "source": [
    "#### Fully connected linear layer"
   ]
  },
  {
   "cell_type": "code",
   "execution_count": 10,
   "metadata": {
    "colab": {},
    "colab_type": "code",
    "id": "nyQvFvwMX_pI"
   },
   "outputs": [],
   "source": [
    "class Linear():\n",
    "    def __init__(self, in_size, out_size):\n",
    "        self.W = np.random.randn(in_size, out_size) * 0.01\n",
    "        self.b = np.zeros((1, out_size))\n",
    "        self.params = [self.W, self.b]\n",
    "        self.gradW = None\n",
    "        self.gradB = None\n",
    "        self.gradInput = None        \n",
    "\n",
    "    def forward(self, X):\n",
    "        self.X = X\n",
    "        self.output = np.dot(X, self.W) + self.b\n",
    "        return self.output\n",
    "\n",
    "    def backward(self, nextgrad):\n",
    "        self.gradW = np.dot(self.X.T, nextgrad)\n",
    "        self.gradB = np.sum(nextgrad, axis=0)\n",
    "        self.gradInput = np.dot(nextgrad, self.W.T)\n",
    "        return self.gradInput, [self.gradW, self.gradB]"
   ]
  },
  {
   "cell_type": "markdown",
   "metadata": {
    "colab_type": "text",
    "id": "CQegqIQXA1Wi"
   },
   "source": [
    "#### ReLU"
   ]
  },
  {
   "cell_type": "code",
   "execution_count": 11,
   "metadata": {
    "colab": {},
    "colab_type": "code",
    "id": "A0HxN2PnaaaM"
   },
   "outputs": [],
   "source": [
    "class ReLU():\n",
    "    def __init__(self):\n",
    "        self.params = []\n",
    "        self.gradInput = None\n",
    "\n",
    "    def forward(self, X):\n",
    "        self.output = np.maximum(X, 0)\n",
    "        return self.output\n",
    "\n",
    "    def backward(self, nextgrad):\n",
    "        self.gradInput = nextgrad.copy()\n",
    "        self.gradInput[self.output <=0] = 0\n",
    "        return self.gradInput, []"
   ]
  },
  {
   "cell_type": "markdown",
   "metadata": {
    "colab_type": "text",
    "id": "5CwuYJdhA7sz"
   },
   "source": [
    "#### Softmax function"
   ]
  },
  {
   "cell_type": "code",
   "execution_count": 12,
   "metadata": {
    "colab": {},
    "colab_type": "code",
    "id": "5AxCBE9fagiP"
   },
   "outputs": [],
   "source": [
    "def softmax(x):\n",
    "    exp_x = np.exp(x - np.max(x, axis=1, keepdims=True))\n",
    "    return exp_x / np.sum(exp_x, axis=1, keepdims=True)"
   ]
  },
  {
   "cell_type": "markdown",
   "metadata": {
    "colab_type": "text",
    "id": "x6X9_AZeA-61"
   },
   "source": [
    "#### Cross entropy loss"
   ]
  },
  {
   "cell_type": "code",
   "execution_count": 13,
   "metadata": {
    "colab": {},
    "colab_type": "code",
    "id": "tbjl_6qYaq80"
   },
   "outputs": [],
   "source": [
    "class CrossEntropy:\n",
    "    def forward(self, X, y):\n",
    "        self.m = y.shape[0]\n",
    "        self.p = softmax(X)\n",
    "        cross_entropy = -np.log(self.p[range(self.m), y]+1e-16)\n",
    "        loss = np.sum(cross_entropy) / self.m\n",
    "        return loss\n",
    "    \n",
    "    def backward(self, X, y):\n",
    "        y_idx = y.argmax()        \n",
    "        grad = softmax(X)\n",
    "        grad[range(self.m), y] -= 1\n",
    "        grad /= self.m\n",
    "        return grad"
   ]
  },
  {
   "cell_type": "markdown",
   "metadata": {
    "colab_type": "text",
    "id": "g-dLPKqbBCuT"
   },
   "source": [
    "#### NN class that enables the forward prop and backward propagation of the entire network"
   ]
  },
  {
   "cell_type": "code",
   "execution_count": 14,
   "metadata": {
    "colab": {},
    "colab_type": "code",
    "id": "aOUQbEfIawH0"
   },
   "outputs": [],
   "source": [
    "class NN():\n",
    "    def __init__(self, lossfunc = CrossEntropy(), mode = 'train'):\n",
    "        self.params = []\n",
    "        self.layers = []\n",
    "        self.loss_func = lossfunc\n",
    "        self.grads = []\n",
    "        self.mode = mode\n",
    "        \n",
    "    def add_layer(self, layer):\n",
    "        self.layers.append(layer)\n",
    "        self.params.append(layer.params)\n",
    "\n",
    "    def forward(self, X):\n",
    "        for layer in self.layers:\n",
    "            X = layer.forward(X)\n",
    "        return X\n",
    "    \n",
    "    def backward(self, nextgrad):\n",
    "        self.clear_grad_param()\n",
    "        for layer in reversed(self.layers):\n",
    "            nextgrad, grad = layer.backward(nextgrad)\n",
    "            self.grads.append(grad)\n",
    "        return self.grads\n",
    "    \n",
    "    def train_step(self, X, y):\n",
    "        out = self.forward(X)\n",
    "        loss = self.loss_func.forward(out,y)\n",
    "        nextgrad = self.loss_func.backward(out,y)\n",
    "        grads = self.backward(nextgrad)\n",
    "        return loss, grads\n",
    "    \n",
    "    def predict(self, X):\n",
    "        X = self.forward(X)\n",
    "        p = softmax(X)\n",
    "        return np.argmax(p, axis=1)\n",
    "    \n",
    "    def predict_scores(self, X):\n",
    "        X = self.forward(X)\n",
    "        p = softmax(X)\n",
    "        return p\n",
    "    \n",
    "    def clear_grad_param(self):\n",
    "        self.grads = []"
   ]
  },
  {
   "cell_type": "markdown",
   "metadata": {
    "colab_type": "text",
    "id": "mHLu_qtoBGYg"
   },
   "source": [
    "#### Update function SGD with momentum"
   ]
  },
  {
   "cell_type": "code",
   "execution_count": 15,
   "metadata": {
    "colab": {},
    "colab_type": "code",
    "id": "XpEjX7qqbN9q"
   },
   "outputs": [],
   "source": [
    "def update(velocity, params, grads, learning_rate=0.01, mu=0.9):\n",
    "    for v, p, g, in zip(velocity, params, reversed(grads)):\n",
    "        for i in range(len(g)):\n",
    "            v[i] = (mu * v[i]) - (learning_rate * g[i])\n",
    "            p[i] += v[i]"
   ]
  },
  {
   "cell_type": "markdown",
   "metadata": {
    "colab_type": "text",
    "id": "YQnT5wBFBJUH"
   },
   "source": [
    "#### Get minibatches"
   ]
  },
  {
   "cell_type": "code",
   "execution_count": 16,
   "metadata": {
    "colab": {},
    "colab_type": "code",
    "id": "xYxPXK7Fbfgk"
   },
   "outputs": [],
   "source": [
    "def minibatch(X, y, minibatch_size):\n",
    "    n = X.shape[0]\n",
    "    minibatches = []\n",
    "    permutation = np.random.permutation(X.shape[0])\n",
    "    X = X[permutation]\n",
    "    y = y[permutation]\n",
    "    \n",
    "    for i in range(0, n , minibatch_size):\n",
    "        X_batch = X[i:i + minibatch_size, :]\n",
    "        y_batch = y[i:i + minibatch_size, ]\n",
    "        minibatches.append((X_batch, y_batch))\n",
    "        \n",
    "    return minibatches"
   ]
  },
  {
   "cell_type": "markdown",
   "metadata": {
    "colab_type": "text",
    "id": "ScfG6m51BQfz"
   },
   "source": [
    "#### The training loop"
   ]
  },
  {
   "cell_type": "code",
   "execution_count": 17,
   "metadata": {
    "colab": {},
    "colab_type": "code",
    "id": "y6F3W-wfbpqC"
   },
   "outputs": [],
   "source": [
    "def train(net, X_train, y_train, minibatch_size, epoch, learning_rate, mu = 0.9, X_val = None, y_val = None, Lambda = 0, verb = True):\n",
    "    val_loss_epoch = []\n",
    "    minibatches = minibatch(X_train, y_train, minibatch_size)\n",
    "    minibatches_val = minibatch(X_val, y_val, minibatch_size)\n",
    "    \n",
    "    for i in range(epoch):\n",
    "        loss_batch = []\n",
    "        val_loss_batch = []\n",
    "        velocity = []\n",
    "        for param_layer in net.params:\n",
    "            p = [np.zeros_like(param) for param in list(param_layer)]\n",
    "            velocity.append(p)\n",
    "            \n",
    "        # iterate over mini batches\n",
    "        for X_mini, y_mini in minibatches:\n",
    "            loss, grads = net.train_step(X_mini, y_mini)\n",
    "            loss_batch.append(loss)\n",
    "            update(velocity, net.params, grads, learning_rate=learning_rate, mu=mu)\n",
    "\n",
    "        for X_mini_val, y_mini_val in minibatches_val:\n",
    "            val_loss, _ = net.train_step(X_mini, y_mini)\n",
    "            val_loss_batch.append(val_loss)\n",
    "        \n",
    "        # accuracy of model at end of epoch after all mini batch updates\n",
    "        m_train = X_train.shape[0]\n",
    "        m_val = X_val.shape[0]\n",
    "        y_train_pred = []\n",
    "        y_val_pred = []\n",
    "        y_train1 = []\n",
    "        y_vall = []\n",
    "        for ii in range(0, m_train, minibatch_size):\n",
    "            X_tr = X_train[ii:ii + minibatch_size, : ]\n",
    "            y_tr = y_train[ii:ii + minibatch_size,]\n",
    "            y_train1 = np.append(y_train1, y_tr)\n",
    "            y_train_pred = np.append(y_train_pred, net.predict(X_tr))\n",
    "\n",
    "        for ii in range(0, m_val, minibatch_size):\n",
    "            X_va = X_val[ii:ii + minibatch_size, : ]\n",
    "            y_va = y_val[ii:ii + minibatch_size,]\n",
    "            y_vall = np.append(y_vall, y_va)\n",
    "            y_val_pred = np.append(y_val_pred, net.predict(X_va))\n",
    "            \n",
    "        train_acc = check_accuracy(y_train1, y_train_pred)\n",
    "        val_acc = check_accuracy(y_vall, y_val_pred)\n",
    "        \n",
    "        ## weights\n",
    "        w = np.array(net.params[0][0])\n",
    "        \n",
    "        ## adding regularization to cost\n",
    "        mean_train_loss = (sum(loss_batch) / float(len(loss_batch)))\n",
    "        mean_val_loss = sum(val_loss_batch) / float(len(val_loss_batch))\n",
    "        \n",
    "        val_loss_epoch.append(mean_val_loss)\n",
    "        if verb:\n",
    "            if i%50==0:\n",
    "                print(\"Epoch {3}/{4}: Loss = {0} | Training Accuracy = {1}\".format(mean_train_loss, train_acc, val_acc, i, epoch))\n",
    "    return net, val_acc"
   ]
  },
  {
   "cell_type": "markdown",
   "metadata": {
    "colab_type": "text",
    "id": "kFKQ9JIPBU2L"
   },
   "source": [
    "#### Checking the accuracy of the model"
   ]
  },
  {
   "cell_type": "code",
   "execution_count": 18,
   "metadata": {
    "colab": {},
    "colab_type": "code",
    "id": "gAAOfhBebz8d"
   },
   "outputs": [],
   "source": [
    "def check_accuracy(y_true, y_pred):\n",
    "    return np.mean(y_pred == y_true)"
   ]
  },
  {
   "cell_type": "markdown",
   "metadata": {
    "colab_type": "text",
    "id": "iagKp2kvBaZD"
   },
   "source": [
    "#### Invoking all that we have created until now"
   ]
  },
  {
   "cell_type": "code",
   "execution_count": 19,
   "metadata": {
    "colab": {},
    "colab_type": "code",
    "id": "vA1-5ojib7XH"
   },
   "outputs": [],
   "source": [
    "# Invoking the model\n",
    "## input size\n",
    "input_dim = X_train.shape[1]\n",
    "\n",
    "def train_and_test_loop(iterations, lr, Lambda, verb = True):\n",
    "    ## hyperparameters\n",
    "    iterations = iterations\n",
    "    learning_rate = lr\n",
    "    hidden_nodes1 = 10\n",
    "    output_nodes = 10\n",
    "\n",
    "    ## define neural net\n",
    "    nn = NN()\n",
    "    nn.add_layer(Linear(input_dim, hidden_nodes1))\n",
    "\n",
    "    nn, val_acc = train(nn, X_train, y_train_o, minibatch_size = 200, epoch = iterations, learning_rate = learning_rate,\\\n",
    "                      X_val = X_test, y_val = y_test_o, Lambda = Lambda, verb = verb)\n",
    "    return val_acc"
   ]
  },
  {
   "cell_type": "markdown",
   "metadata": {
    "colab_type": "text",
    "id": "_JhBJRfvBfiC"
   },
   "source": [
    "#### Double Check that the loss is reasonable : Disable the regularization"
   ]
  },
  {
   "cell_type": "code",
   "execution_count": 20,
   "metadata": {
    "colab": {
     "base_uri": "https://localhost:8080/",
     "height": 52
    },
    "colab_type": "code",
    "id": "fjbjgrHl6LBv",
    "outputId": "8dd2b91f-4761-480b-c68e-bdfe4c4a54a2"
   },
   "outputs": [
    {
     "name": "stdout",
     "output_type": "stream",
     "text": [
      "Epoch 0/1: Loss = 2.3072327693608217 | Training Accuracy = 0.09564285714285714\n"
     ]
    },
    {
     "data": {
      "text/plain": [
       "0.09644444444444444"
      ]
     },
     "execution_count": 20,
     "metadata": {},
     "output_type": "execute_result"
    }
   ],
   "source": [
    "lr = 0.00001\n",
    "Lambda = 0\n",
    "train_and_test_loop(1, lr, Lambda)"
   ]
  },
  {
   "cell_type": "markdown",
   "metadata": {
    "colab_type": "text",
    "id": "wFbKNxLpBl7i"
   },
   "source": [
    "#### Now, lets crank up the Lambda(Regularization) and check what it does to our loss function"
   ]
  },
  {
   "cell_type": "code",
   "execution_count": 21,
   "metadata": {
    "colab": {
     "base_uri": "https://localhost:8080/",
     "height": 52
    },
    "colab_type": "code",
    "id": "_OtyvtW39bmm",
    "outputId": "ce84f1ba-9d21-4a36-c881-579f3fa3ba4d"
   },
   "outputs": [
    {
     "name": "stdout",
     "output_type": "stream",
     "text": [
      "Epoch 0/1: Loss = 2.3118886676180135 | Training Accuracy = 0.10704761904761904\n"
     ]
    },
    {
     "data": {
      "text/plain": [
       "0.10916666666666666"
      ]
     },
     "execution_count": 21,
     "metadata": {},
     "output_type": "execute_result"
    }
   ],
   "source": [
    "lr = 0.00001\n",
    "Lambda = 1e3\n",
    "train_and_test_loop(1, lr, Lambda)"
   ]
  },
  {
   "cell_type": "markdown",
   "metadata": {
    "colab_type": "text",
    "id": "7Zq7TGKfBped"
   },
   "source": [
    "#### Now, lets overfit to a small subset of our dataset, in this case 20 images"
   ]
  },
  {
   "cell_type": "code",
   "execution_count": 22,
   "metadata": {
    "colab": {
     "base_uri": "https://localhost:8080/",
     "height": 35
    },
    "colab_type": "code",
    "id": "882INFrA9wSF",
    "outputId": "8f0d13f9-0dc9-40eb-a335-30f87bb8b746"
   },
   "outputs": [
    {
     "data": {
      "text/plain": [
       "((20, 1024), (20,))"
      ]
     },
     "execution_count": 22,
     "metadata": {},
     "output_type": "execute_result"
    }
   ],
   "source": [
    "X_train_subset = X_train[0:20]\n",
    "y_train_subset = y_train_o[0:20]\n",
    "\n",
    "X_train = X_train_subset\n",
    "y_train_o = y_train_subset\n",
    "\n",
    "X_train.shape, y_train_o.shape"
   ]
  },
  {
   "cell_type": "markdown",
   "metadata": {
    "colab_type": "text",
    "id": "fmS0Eicu-T00"
   },
   "source": [
    "#### Make sure that you can overfit very small portion of the training data\n",
    "So, set a small learning rate and turn regularization off\n",
    "In the code below:\n",
    "* Take the first 20 examples\n",
    "* turn off regularization(reg=0.0)\n",
    "* use simple vanilla 'sgd'"
   ]
  },
  {
   "cell_type": "code",
   "execution_count": 23,
   "metadata": {
    "colab": {
     "base_uri": "https://localhost:8080/",
     "height": 1000
    },
    "colab_type": "code",
    "id": "adxWZ2NO-OrY",
    "outputId": "1a35adc0-91a8-4603-f953-b6430d9030e9"
   },
   "outputs": [
    {
     "name": "stdout",
     "output_type": "stream",
     "text": [
      "CPU times: user 3 µs, sys: 1e+03 ns, total: 4 µs\n",
      "Wall time: 6.91 µs\n",
      "Epoch 0/5000: Loss = 2.412471837037873 | Training Accuracy = 0.05\n",
      "Epoch 50/5000: Loss = 1.9384321085698868 | Training Accuracy = 0.3\n",
      "Epoch 100/5000: Loss = 1.8464713856950823 | Training Accuracy = 0.4\n",
      "Epoch 150/5000: Loss = 1.7910480096211234 | Training Accuracy = 0.45\n",
      "Epoch 200/5000: Loss = 1.7457066528560587 | Training Accuracy = 0.5\n",
      "Epoch 250/5000: Loss = 1.705110349739709 | Training Accuracy = 0.5\n",
      "Epoch 300/5000: Loss = 1.6674517171539436 | Training Accuracy = 0.55\n",
      "Epoch 350/5000: Loss = 1.6319302461161374 | Training Accuracy = 0.55\n",
      "Epoch 400/5000: Loss = 1.5981264976660536 | Training Accuracy = 0.55\n",
      "Epoch 450/5000: Loss = 1.5657909134891026 | Training Accuracy = 0.55\n",
      "Epoch 500/5000: Loss = 1.5347583957988014 | Training Accuracy = 0.6\n",
      "Epoch 550/5000: Loss = 1.504909656634212 | Training Accuracy = 0.6\n",
      "Epoch 600/5000: Loss = 1.4761522652204626 | Training Accuracy = 0.6\n",
      "Epoch 650/5000: Loss = 1.4484107179776804 | Training Accuracy = 0.6\n",
      "Epoch 700/5000: Loss = 1.4216209174890273 | Training Accuracy = 0.65\n",
      "Epoch 750/5000: Loss = 1.395726927811436 | Training Accuracy = 0.65\n",
      "Epoch 800/5000: Loss = 1.370678964901384 | Training Accuracy = 0.65\n",
      "Epoch 850/5000: Loss = 1.3464320888765697 | Training Accuracy = 0.65\n",
      "Epoch 900/5000: Loss = 1.3229453127754616 | Training Accuracy = 0.65\n",
      "Epoch 950/5000: Loss = 1.300180968762379 | Training Accuracy = 0.65\n",
      "Epoch 1000/5000: Loss = 1.2781042396376425 | Training Accuracy = 0.65\n",
      "Epoch 1050/5000: Loss = 1.2566828003142363 | Training Accuracy = 0.65\n",
      "Epoch 1100/5000: Loss = 1.2358865348939374 | Training Accuracy = 0.7\n",
      "Epoch 1150/5000: Loss = 1.2156873073318903 | Training Accuracy = 0.7\n",
      "Epoch 1200/5000: Loss = 1.1960587711881618 | Training Accuracy = 0.7\n",
      "Epoch 1250/5000: Loss = 1.1769762086609568 | Training Accuracy = 0.7\n",
      "Epoch 1300/5000: Loss = 1.15841639211054 | Training Accuracy = 0.75\n",
      "Epoch 1350/5000: Loss = 1.1403574632640692 | Training Accuracy = 0.75\n",
      "Epoch 1400/5000: Loss = 1.1227788266221117 | Training Accuracy = 0.75\n",
      "Epoch 1450/5000: Loss = 1.1056610544990098 | Training Accuracy = 0.75\n",
      "Epoch 1500/5000: Loss = 1.0889858017649467 | Training Accuracy = 0.75\n",
      "Epoch 1550/5000: Loss = 1.0727357288084496 | Training Accuracy = 0.8\n",
      "Epoch 1600/5000: Loss = 1.0568944315629805 | Training Accuracy = 0.85\n",
      "Epoch 1650/5000: Loss = 1.0414463776787977 | Training Accuracy = 0.85\n",
      "Epoch 1700/5000: Loss = 1.026376848097524 | Training Accuracy = 0.85\n",
      "Epoch 1750/5000: Loss = 1.0116718834193583 | Training Accuracy = 0.85\n",
      "Epoch 1800/5000: Loss = 0.9973182345539293 | Training Accuracy = 0.85\n",
      "Epoch 1850/5000: Loss = 0.9833033172238863 | Training Accuracy = 0.85\n",
      "Epoch 1900/5000: Loss = 0.9696151699516026 | Training Accuracy = 0.85\n",
      "Epoch 1950/5000: Loss = 0.9562424152080611 | Training Accuracy = 0.85\n",
      "Epoch 2000/5000: Loss = 0.9431742234423813 | Training Accuracy = 0.85\n",
      "Epoch 2050/5000: Loss = 0.9304002797426758 | Training Accuracy = 0.85\n",
      "Epoch 2100/5000: Loss = 0.9179107529058058 | Training Accuracy = 0.85\n",
      "Epoch 2150/5000: Loss = 0.9056962667162765 | Training Accuracy = 0.85\n",
      "Epoch 2200/5000: Loss = 0.8937478732539501 | Training Accuracy = 0.9\n",
      "Epoch 2250/5000: Loss = 0.8820570280671289 | Training Accuracy = 0.9\n",
      "Epoch 2300/5000: Loss = 0.8706155670623644 | Training Accuracy = 0.9\n",
      "Epoch 2350/5000: Loss = 0.8594156849754852 | Training Accuracy = 0.9\n",
      "Epoch 2400/5000: Loss = 0.8484499153000848 | Training Accuracy = 0.9\n",
      "Epoch 2450/5000: Loss = 0.8377111115602943 | Training Accuracy = 0.9\n",
      "Epoch 2500/5000: Loss = 0.8271924298242302 | Training Accuracy = 0.9\n",
      "Epoch 2550/5000: Loss = 0.8168873123632338 | Training Accuracy = 0.9\n",
      "Epoch 2600/5000: Loss = 0.8067894723699343 | Training Accuracy = 0.9\n",
      "Epoch 2650/5000: Loss = 0.796892879655436 | Training Accuracy = 0.9\n",
      "Epoch 2700/5000: Loss = 0.7871917472525449 | Training Accuracy = 1.0\n",
      "Epoch 2750/5000: Loss = 0.777680518858026 | Training Accuracy = 1.0\n",
      "Epoch 2800/5000: Loss = 0.7683538570524217 | Training Accuracy = 1.0\n",
      "Epoch 2850/5000: Loss = 0.7592066322410512 | Training Accuracy = 1.0\n",
      "Epoch 2900/5000: Loss = 0.7502339122644406 | Training Accuracy = 1.0\n",
      "Epoch 2950/5000: Loss = 0.7414309526306859 | Training Accuracy = 1.0\n",
      "Epoch 3000/5000: Loss = 0.7327931873261198 | Training Accuracy = 1.0\n",
      "Epoch 3050/5000: Loss = 0.7243162201641955 | Training Accuracy = 1.0\n",
      "Epoch 3100/5000: Loss = 0.715995816635728 | Training Accuracy = 1.0\n",
      "Epoch 3150/5000: Loss = 0.7078278962265658 | Training Accuracy = 1.0\n",
      "Epoch 3200/5000: Loss = 0.6998085251714679 | Training Accuracy = 1.0\n",
      "Epoch 3250/5000: Loss = 0.6919339096153894 | Training Accuracy = 1.0\n",
      "Epoch 3300/5000: Loss = 0.6842003891556144 | Training Accuracy = 1.0\n",
      "Epoch 3350/5000: Loss = 0.6766044307402079 | Training Accuracy = 1.0\n",
      "Epoch 3400/5000: Loss = 0.6691426229001084 | Training Accuracy = 1.0\n",
      "Epoch 3450/5000: Loss = 0.6618116702938714 | Training Accuracy = 1.0\n",
      "Epoch 3500/5000: Loss = 0.6546083885456205 | Training Accuracy = 1.0\n",
      "Epoch 3550/5000: Loss = 0.6475296993581683 | Training Accuracy = 1.0\n",
      "Epoch 3600/5000: Loss = 0.6405726258845551 | Training Accuracy = 1.0\n",
      "Epoch 3650/5000: Loss = 0.6337342883424428 | Training Accuracy = 1.0\n",
      "Epoch 3700/5000: Loss = 0.6270118998568663 | Training Accuracy = 1.0\n",
      "Epoch 3750/5000: Loss = 0.6204027625178485 | Training Accuracy = 1.0\n",
      "Epoch 3800/5000: Loss = 0.613904263640287 | Training Accuracy = 1.0\n",
      "Epoch 3850/5000: Loss = 0.6075138722143661 | Training Accuracy = 1.0\n",
      "Epoch 3900/5000: Loss = 0.6012291355355049 | Training Accuracy = 1.0\n",
      "Epoch 3950/5000: Loss = 0.595047676003584 | Training Accuracy = 1.0\n",
      "Epoch 4000/5000: Loss = 0.5889671880818272 | Training Accuracy = 1.0\n",
      "Epoch 4050/5000: Loss = 0.5829854354063441 | Training Accuracy = 1.0\n",
      "Epoch 4100/5000: Loss = 0.5771002480378866 | Training Accuracy = 1.0\n",
      "Epoch 4150/5000: Loss = 0.5713095198479005 | Training Accuracy = 1.0\n",
      "Epoch 4200/5000: Loss = 0.5656112060314434 | Training Accuracy = 1.0\n",
      "Epoch 4250/5000: Loss = 0.5600033207399827 | Training Accuracy = 1.0\n",
      "Epoch 4300/5000: Loss = 0.5544839348275119 | Training Accuracy = 1.0\n",
      "Epoch 4350/5000: Loss = 0.5490511737038168 | Training Accuracy = 1.0\n",
      "Epoch 4400/5000: Loss = 0.5437032152890847 | Training Accuracy = 1.0\n",
      "Epoch 4450/5000: Loss = 0.5384382880643936 | Training Accuracy = 1.0\n",
      "Epoch 4500/5000: Loss = 0.5332546692129421 | Training Accuracy = 1.0\n",
      "Epoch 4550/5000: Loss = 0.5281506828471645 | Training Accuracy = 1.0\n",
      "Epoch 4600/5000: Loss = 0.52312469831718 | Training Accuracy = 1.0\n",
      "Epoch 4650/5000: Loss = 0.5181751285962617 | Training Accuracy = 1.0\n",
      "Epoch 4700/5000: Loss = 0.5133004287392752 | Training Accuracy = 1.0\n",
      "Epoch 4750/5000: Loss = 0.5084990944102611 | Training Accuracy = 1.0\n",
      "Epoch 4800/5000: Loss = 0.503769660475552 | Training Accuracy = 1.0\n",
      "Epoch 4850/5000: Loss = 0.49911069965902205 | Training Accuracy = 1.0\n",
      "Epoch 4900/5000: Loss = 0.4945208212562527 | Training Accuracy = 1.0\n",
      "Epoch 4950/5000: Loss = 0.48999866990458746 | Training Accuracy = 1.0\n"
     ]
    },
    {
     "data": {
      "text/plain": [
       "0.13733333333333334"
      ]
     },
     "execution_count": 23,
     "metadata": {},
     "output_type": "execute_result"
    }
   ],
   "source": [
    "%time\n",
    "lr = 0.001\n",
    "Lambda = 0\n",
    "train_and_test_loop(5000, lr, Lambda)"
   ]
  },
  {
   "cell_type": "markdown",
   "metadata": {
    "colab_type": "text",
    "id": "BleQhuF6ByTQ"
   },
   "source": [
    "#### Loading the original dataset again"
   ]
  },
  {
   "cell_type": "code",
   "execution_count": 24,
   "metadata": {
    "colab": {
     "base_uri": "https://localhost:8080/",
     "height": 159
    },
    "colab_type": "code",
    "id": "C1iZh7go--Tx",
    "outputId": "688eb4bb-3310-47e0-a01c-39b97ca301f2"
   },
   "outputs": [
    {
     "name": "stdout",
     "output_type": "stream",
     "text": [
      "Reshaping X data: (n, 32, 32) => (n, 1024)\n",
      "--------------------------------------------------------------------------------\n",
      "Making sure that the values are float so that we can get decimal points after division\n",
      "--------------------------------------------------------------------------------\n",
      "Normalizing the RGB codes by dividing it to the max RGB value\n",
      "--------------------------------------------------------------------------------\n",
      "Converting y data into categorical (one-hot encoding)\n",
      "--------------------------------------------------------------------------------\n"
     ]
    }
   ],
   "source": [
    "h5_SVH = h5py.File('SVHN_single_grey1.h5', 'r')\n",
    "# Load the training, validation and test sets\n",
    "X_train = h5_SVH['X_train'][:]\n",
    "y_train_o = h5_SVH['y_train'][:]\n",
    "X_val = h5_SVH['X_val'][:]\n",
    "y_val_o = h5_SVH['y_val'][:]\n",
    "X_test = h5_SVH['X_test'][:]\n",
    "y_test_o = h5_SVH['y_test'][:]\n",
    "\n",
    "print('Reshaping X data: (n, 32, 32) => (n, 1024)'); print('--'*40)\n",
    "X_train = X_train.reshape((X_train.shape[0], -1))\n",
    "X_val = X_val.reshape((X_val.shape[0], -1))\n",
    "X_test = X_test.reshape((X_test.shape[0], -1))\n",
    "\n",
    "print('Making sure that the values are float so that we can get decimal points after division'); print('--'*40)\n",
    "X_train = X_train.astype('float32')\n",
    "X_val = X_val.astype('float32')\n",
    "X_test = X_test.astype('float32')\n",
    "\n",
    "print('Normalizing the RGB codes by dividing it to the max RGB value'); print('--'*40)\n",
    "X_train /= 255\n",
    "X_val /= 255\n",
    "X_test /= 255\n",
    "\n",
    "print('Converting y data into categorical (one-hot encoding)'); print('--'*40)\n",
    "y_train = to_categorical(y_train_o)\n",
    "y_val = to_categorical(y_val_o)\n",
    "y_test = to_categorical(y_test_o)"
   ]
  },
  {
   "cell_type": "markdown",
   "metadata": {
    "colab_type": "text",
    "id": "8qZ1E-lE_vD9"
   },
   "source": [
    "#### Start with small regularization and find learning rate that makes the loss go down.\n",
    "* we start with Lambda(small regularization) = 1e-7\n",
    "* we start with a small learning rate = 1e-7"
   ]
  },
  {
   "cell_type": "code",
   "execution_count": 25,
   "metadata": {
    "colab": {
     "base_uri": "https://localhost:8080/",
     "height": 212
    },
    "colab_type": "code",
    "id": "V7q3hsLT_oDn",
    "outputId": "842b874b-99ea-4eee-efc3-369b5b83f4aa"
   },
   "outputs": [
    {
     "name": "stdout",
     "output_type": "stream",
     "text": [
      "Epoch 0/500: Loss = 2.3242192801488546 | Training Accuracy = 0.09895238095238096\n",
      "Epoch 50/500: Loss = 2.3168320249032583 | Training Accuracy = 0.0998095238095238\n",
      "Epoch 100/500: Loss = 2.3120437247327117 | Training Accuracy = 0.0993095238095238\n",
      "Epoch 150/500: Loss = 2.3089400901080466 | Training Accuracy = 0.1\n",
      "Epoch 200/500: Loss = 2.3069284119672027 | Training Accuracy = 0.10083333333333333\n",
      "Epoch 250/500: Loss = 2.3056237452535835 | Training Accuracy = 0.10138095238095238\n",
      "Epoch 300/500: Loss = 2.304776187197855 | Training Accuracy = 0.10211904761904762\n",
      "Epoch 350/500: Loss = 2.304223733448172 | Training Accuracy = 0.10104761904761905\n",
      "Epoch 400/500: Loss = 2.3038615448264643 | Training Accuracy = 0.10021428571428571\n",
      "Epoch 450/500: Loss = 2.3036218935177337 | Training Accuracy = 0.10064285714285715\n"
     ]
    },
    {
     "data": {
      "text/plain": [
       "0.10377777777777777"
      ]
     },
     "execution_count": 25,
     "metadata": {},
     "output_type": "execute_result"
    }
   ],
   "source": [
    "lr = 1e-7\n",
    "Lambda = 1e-7\n",
    "train_and_test_loop(500, lr, Lambda)"
   ]
  },
  {
   "cell_type": "markdown",
   "metadata": {
    "colab_type": "text",
    "id": "OtPHH89wB8YE"
   },
   "source": [
    "#### Lets try to train now with a value of learning rate 0.001"
   ]
  },
  {
   "cell_type": "code",
   "execution_count": 26,
   "metadata": {
    "colab": {
     "base_uri": "https://localhost:8080/",
     "height": 212
    },
    "colab_type": "code",
    "id": "7hvRY3b__90J",
    "outputId": "47584191-1536-49b4-ccff-db2e2a597ec8"
   },
   "outputs": [
    {
     "name": "stdout",
     "output_type": "stream",
     "text": [
      "Epoch 0/500: Loss = 2.3055603487818894 | Training Accuracy = 0.11607142857142858\n",
      "Epoch 50/500: Loss = 2.259686255158559 | Training Accuracy = 0.20395238095238094\n",
      "Epoch 100/500: Loss = 2.2511070146705445 | Training Accuracy = 0.21347619047619049\n",
      "Epoch 150/500: Loss = 2.246746516846755 | Training Accuracy = 0.21961904761904763\n",
      "Epoch 200/500: Loss = 2.2438277281143306 | Training Accuracy = 0.22376190476190477\n",
      "Epoch 250/500: Loss = 2.241632543649622 | Training Accuracy = 0.22578571428571428\n",
      "Epoch 300/500: Loss = 2.239873706676711 | Training Accuracy = 0.22778571428571429\n",
      "Epoch 350/500: Loss = 2.238406626938824 | Training Accuracy = 0.22890476190476192\n",
      "Epoch 400/500: Loss = 2.2371479456450594 | Training Accuracy = 0.22973809523809524\n",
      "Epoch 450/500: Loss = 2.236045171086668 | Training Accuracy = 0.23092857142857143\n"
     ]
    },
    {
     "data": {
      "text/plain": [
       "0.21333333333333335"
      ]
     },
     "execution_count": 26,
     "metadata": {},
     "output_type": "execute_result"
    }
   ],
   "source": [
    "lr = 0.001\n",
    "Lambda = 1e-7\n",
    "train_and_test_loop(500, lr, Lambda)"
   ]
  },
  {
   "cell_type": "markdown",
   "metadata": {
    "colab_type": "text",
    "id": "gU8B62CzAdTA"
   },
   "source": [
    "#### Hyperparameter Optimization\n",
    "\n"
   ]
  },
  {
   "cell_type": "markdown",
   "metadata": {
    "colab_type": "text",
    "id": "qp_2H1IwCUIY"
   },
   "source": [
    "#### Running a finer search"
   ]
  },
  {
   "cell_type": "code",
   "execution_count": 27,
   "metadata": {
    "colab": {
     "base_uri": "https://localhost:8080/",
     "height": 337
    },
    "colab_type": "code",
    "id": "GZN36etSCUsA",
    "outputId": "9b5791f7-94d4-4134-b18c-f2bb284e340c"
   },
   "outputs": [
    {
     "name": "stdout",
     "output_type": "stream",
     "text": [
      "Try 1/10: Best_val_acc: 0.19144444444444444, lr: 0.008033532722534811, Lambda: 0.00012351660794521232\n",
      "\n",
      "Try 2/10: Best_val_acc: 0.18944444444444444, lr: 0.001700385744384045, Lambda: 1.2957714851761988\n",
      "\n",
      "Try 3/10: Best_val_acc: 0.20272222222222222, lr: 0.0030537599389688776, Lambda: 4.528597816216651\n",
      "\n",
      "Try 4/10: Best_val_acc: 0.20583333333333334, lr: 0.001453835966582263, Lambda: 0.4621355612383988\n",
      "\n",
      "Try 5/10: Best_val_acc: 0.20405555555555555, lr: 0.0018583687714097004, Lambda: 0.0019733708971703045\n",
      "\n",
      "Try 6/10: Best_val_acc: 0.20577777777777778, lr: 0.003510997719871898, Lambda: 0.07625327362644449\n",
      "\n",
      "Try 7/10: Best_val_acc: 0.2041111111111111, lr: 0.003086019642857046, Lambda: 61.27706262969212\n",
      "\n",
      "Try 8/10: Best_val_acc: 0.19427777777777777, lr: 0.001037969841268224, Lambda: 76.8827064530227\n",
      "\n",
      "Try 9/10: Best_val_acc: 0.19644444444444445, lr: 0.0019183420676286156, Lambda: 45.6994501781007\n",
      "\n"
     ]
    }
   ],
   "source": [
    "import math\n",
    "for k in range(1, 10):\n",
    "    lr = math.pow(10, np.random.uniform(-3.0, -2.0))\n",
    "    Lambda = math.pow(10, np.random.uniform(-5, 2))\n",
    "    best_acc = train_and_test_loop(100, lr, Lambda, False)\n",
    "    print(\"Try {0}/{1}: Best_val_acc: {2}, lr: {3}, Lambda: {4}\\n\".format(k, 10, best_acc, lr, Lambda))"
   ]
  },
  {
   "cell_type": "markdown",
   "metadata": {
    "colab_type": "text",
    "id": "lzm9IwhkvrIm"
   },
   "source": [
    "##### Observation 2 - Baby sitting the neural network for SVHN\n",
    "* Best accuracy achieved using this method after hyperparameter optimization: 21%."
   ]
  },
  {
   "cell_type": "markdown",
   "metadata": {
    "colab_type": "text",
    "id": "uwYNz4zM-gob"
   },
   "source": [
    "<a id='BasicNN'></a>\n",
    "### Modelling - Neural Network API"
   ]
  },
  {
   "cell_type": "markdown",
   "metadata": {
    "colab_type": "text",
    "id": "vrFnLj4hP787"
   },
   "source": [
    "#### NN model, sigmoid activations, SGD optimizer"
   ]
  },
  {
   "cell_type": "code",
   "execution_count": 28,
   "metadata": {
    "colab": {
     "base_uri": "https://localhost:8080/",
     "height": 126
    },
    "colab_type": "code",
    "id": "clFSpvEc-fkg",
    "outputId": "4ce26658-e9be-40c6-d6c6-331144bd2345"
   },
   "outputs": [
    {
     "name": "stdout",
     "output_type": "stream",
     "text": [
      "NN model with sigmoid activations\n",
      "--------------------------------------------------------------------------------\n"
     ]
    }
   ],
   "source": [
    "print('NN model with sigmoid activations'); print('--'*40)\n",
    "# Initialize the neural network classifier\n",
    "model1 = Sequential()\n",
    "\n",
    "# Input Layer - adding input layer and activation functions sigmoid\n",
    "model1.add(Dense(128, input_shape = (1024, )))\n",
    "# Adding activation function\n",
    "model1.add(Activation('sigmoid'))\n",
    "\n",
    "#Hidden Layer 1 - adding first hidden layer\n",
    "model1.add(Dense(64))\n",
    "# Adding activation function\n",
    "model1.add(Activation('sigmoid'))\n",
    "\n",
    "# Output Layer - adding output layer which is of 10 nodes (digits)\n",
    "model1.add(Dense(10))\n",
    "# Adding activation function - softmax for multiclass classification\n",
    "model1.add(Activation('softmax'))"
   ]
  },
  {
   "cell_type": "code",
   "execution_count": 29,
   "metadata": {
    "colab": {
     "base_uri": "https://localhost:8080/",
     "height": 372
    },
    "colab_type": "code",
    "id": "vYDJ37MPlLiL",
    "outputId": "f3c7951d-68c1-4a5a-a18a-b1e0b246c517"
   },
   "outputs": [
    {
     "name": "stdout",
     "output_type": "stream",
     "text": [
      "Model: \"sequential\"\n",
      "_________________________________________________________________\n",
      " Layer (type)                Output Shape              Param #   \n",
      "=================================================================\n",
      " dense (Dense)               (None, 128)               131200    \n",
      "                                                                 \n",
      " activation (Activation)     (None, 128)               0         \n",
      "                                                                 \n",
      " dense_1 (Dense)             (None, 64)                8256      \n",
      "                                                                 \n",
      " activation_1 (Activation)   (None, 64)                0         \n",
      "                                                                 \n",
      " dense_2 (Dense)             (None, 10)                650       \n",
      "                                                                 \n",
      " activation_2 (Activation)   (None, 10)                0         \n",
      "                                                                 \n",
      "=================================================================\n",
      "Total params: 140,106\n",
      "Trainable params: 140,106\n",
      "Non-trainable params: 0\n",
      "_________________________________________________________________\n"
     ]
    }
   ],
   "source": [
    "model1.summary()"
   ]
  },
  {
   "cell_type": "code",
   "execution_count": 30,
   "metadata": {
    "colab": {
     "base_uri": "https://localhost:8080/",
     "height": 1000
    },
    "colab_type": "code",
    "id": "RkURmgxTQYhx",
    "outputId": "5a9d0c3d-f955-4493-d0e4-d42618d9401b"
   },
   "outputs": [
    {
     "name": "stderr",
     "output_type": "stream",
     "text": [
      "WARNING:absl:At this time, the v2.11+ optimizer `tf.keras.optimizers.SGD` runs slowly on M1/M2 Macs, please use the legacy Keras optimizer instead, located at `tf.keras.optimizers.legacy.SGD`.\n",
      "WARNING:absl:`lr` is deprecated in Keras optimizer, please use `learning_rate` or use the legacy optimizer, e.g.,tf.keras.optimizers.legacy.SGD.\n",
      "WARNING:absl:There is a known slowdown when using v2.11+ Keras optimizers on M1/M2 Macs. Falling back to the legacy Keras optimizer, i.e., `tf.keras.optimizers.legacy.SGD`.\n"
     ]
    },
    {
     "name": "stdout",
     "output_type": "stream",
     "text": [
      "Epoch 1/100\n"
     ]
    },
    {
     "name": "stderr",
     "output_type": "stream",
     "text": [
      "2024-05-31 19:15:00.482985: W tensorflow/tsl/platform/profile_utils/cpu_utils.cc:128] Failed to get CPU frequency: 0 Hz\n"
     ]
    },
    {
     "name": "stdout",
     "output_type": "stream",
     "text": [
      "210/210 [==============================] - 5s 15ms/step - loss: 2.3480 - accuracy: 0.1016 - val_loss: 2.3031 - val_accuracy: 0.0988\n",
      "Epoch 2/100\n",
      "210/210 [==============================] - 3s 13ms/step - loss: 2.3031 - accuracy: 0.1010 - val_loss: 2.3030 - val_accuracy: 0.1006\n",
      "Epoch 3/100\n",
      "210/210 [==============================] - 3s 13ms/step - loss: 2.3031 - accuracy: 0.1022 - val_loss: 2.3028 - val_accuracy: 0.1080\n",
      "Epoch 4/100\n",
      "210/210 [==============================] - 3s 13ms/step - loss: 2.3031 - accuracy: 0.1033 - val_loss: 2.3027 - val_accuracy: 0.1052\n",
      "Epoch 5/100\n",
      "210/210 [==============================] - 3s 13ms/step - loss: 2.3030 - accuracy: 0.1035 - val_loss: 2.3027 - val_accuracy: 0.1056\n",
      "Epoch 6/100\n",
      "210/210 [==============================] - 3s 13ms/step - loss: 2.3029 - accuracy: 0.1032 - val_loss: 2.3027 - val_accuracy: 0.1048\n",
      "Epoch 7/100\n",
      "210/210 [==============================] - 3s 13ms/step - loss: 2.3029 - accuracy: 0.1016 - val_loss: 2.3027 - val_accuracy: 0.1037\n",
      "Epoch 8/100\n",
      "210/210 [==============================] - 3s 13ms/step - loss: 2.3028 - accuracy: 0.1040 - val_loss: 2.3027 - val_accuracy: 0.1088\n",
      "Epoch 9/100\n",
      "210/210 [==============================] - 3s 13ms/step - loss: 2.3028 - accuracy: 0.1040 - val_loss: 2.3026 - val_accuracy: 0.1071\n",
      "Epoch 10/100\n",
      "210/210 [==============================] - 3s 13ms/step - loss: 2.3028 - accuracy: 0.1047 - val_loss: 2.3024 - val_accuracy: 0.1086\n",
      "Epoch 11/100\n",
      "210/210 [==============================] - 3s 13ms/step - loss: 2.3026 - accuracy: 0.1074 - val_loss: 2.3027 - val_accuracy: 0.1013\n",
      "Epoch 12/100\n",
      "210/210 [==============================] - 3s 13ms/step - loss: 2.3027 - accuracy: 0.1056 - val_loss: 2.3024 - val_accuracy: 0.1126\n",
      "Epoch 13/100\n",
      "210/210 [==============================] - 3s 13ms/step - loss: 2.3026 - accuracy: 0.1070 - val_loss: 2.3025 - val_accuracy: 0.1081\n",
      "Epoch 14/100\n",
      "210/210 [==============================] - 3s 13ms/step - loss: 2.3026 - accuracy: 0.1061 - val_loss: 2.3024 - val_accuracy: 0.1059\n",
      "Epoch 15/100\n",
      "210/210 [==============================] - 3s 13ms/step - loss: 2.3025 - accuracy: 0.1059 - val_loss: 2.3025 - val_accuracy: 0.1071\n",
      "Epoch 16/100\n",
      "210/210 [==============================] - 3s 13ms/step - loss: 2.3025 - accuracy: 0.1055 - val_loss: 2.3023 - val_accuracy: 0.1128\n",
      "Epoch 17/100\n",
      "210/210 [==============================] - 3s 13ms/step - loss: 2.3024 - accuracy: 0.1069 - val_loss: 2.3024 - val_accuracy: 0.1063\n",
      "Epoch 18/100\n",
      "210/210 [==============================] - 3s 13ms/step - loss: 2.3025 - accuracy: 0.1089 - val_loss: 2.3021 - val_accuracy: 0.1079\n",
      "Epoch 19/100\n",
      "210/210 [==============================] - 3s 13ms/step - loss: 2.3023 - accuracy: 0.1049 - val_loss: 2.3022 - val_accuracy: 0.1065\n",
      "Epoch 20/100\n",
      "210/210 [==============================] - 3s 13ms/step - loss: 2.3023 - accuracy: 0.1066 - val_loss: 2.3022 - val_accuracy: 0.1054\n",
      "Epoch 21/100\n",
      "210/210 [==============================] - 3s 13ms/step - loss: 2.3023 - accuracy: 0.1066 - val_loss: 2.3022 - val_accuracy: 0.1078\n",
      "Epoch 22/100\n",
      "210/210 [==============================] - 3s 13ms/step - loss: 2.3023 - accuracy: 0.1082 - val_loss: 2.3020 - val_accuracy: 0.1117\n",
      "Epoch 23/100\n",
      "210/210 [==============================] - 3s 13ms/step - loss: 2.3021 - accuracy: 0.1085 - val_loss: 2.3020 - val_accuracy: 0.1099\n",
      "Epoch 24/100\n",
      "210/210 [==============================] - 3s 13ms/step - loss: 2.3022 - accuracy: 0.1086 - val_loss: 2.3021 - val_accuracy: 0.1064\n",
      "Epoch 25/100\n",
      "210/210 [==============================] - 3s 13ms/step - loss: 2.3021 - accuracy: 0.1098 - val_loss: 2.3020 - val_accuracy: 0.1093\n",
      "Epoch 26/100\n",
      "210/210 [==============================] - 3s 13ms/step - loss: 2.3021 - accuracy: 0.1102 - val_loss: 2.3020 - val_accuracy: 0.1065\n",
      "Epoch 27/100\n",
      "210/210 [==============================] - 3s 13ms/step - loss: 2.3020 - accuracy: 0.1112 - val_loss: 2.3021 - val_accuracy: 0.1086\n",
      "Epoch 28/100\n",
      "210/210 [==============================] - 3s 13ms/step - loss: 2.3020 - accuracy: 0.1109 - val_loss: 2.3019 - val_accuracy: 0.1166\n",
      "Epoch 29/100\n",
      "210/210 [==============================] - 3s 13ms/step - loss: 2.3019 - accuracy: 0.1108 - val_loss: 2.3019 - val_accuracy: 0.1068\n",
      "Epoch 30/100\n",
      "210/210 [==============================] - 3s 13ms/step - loss: 2.3019 - accuracy: 0.1104 - val_loss: 2.3017 - val_accuracy: 0.1158\n",
      "Epoch 31/100\n",
      "210/210 [==============================] - 3s 13ms/step - loss: 2.3019 - accuracy: 0.1077 - val_loss: 2.3017 - val_accuracy: 0.1224\n",
      "Epoch 32/100\n",
      "210/210 [==============================] - 3s 13ms/step - loss: 2.3018 - accuracy: 0.1128 - val_loss: 2.3017 - val_accuracy: 0.1100\n",
      "Epoch 33/100\n",
      "210/210 [==============================] - 3s 13ms/step - loss: 2.3018 - accuracy: 0.1109 - val_loss: 2.3018 - val_accuracy: 0.1037\n",
      "Epoch 34/100\n",
      "210/210 [==============================] - 3s 13ms/step - loss: 2.3017 - accuracy: 0.1126 - val_loss: 2.3017 - val_accuracy: 0.1186\n",
      "Epoch 35/100\n",
      "210/210 [==============================] - 3s 13ms/step - loss: 2.3017 - accuracy: 0.1130 - val_loss: 2.3016 - val_accuracy: 0.1111\n",
      "Epoch 36/100\n",
      "210/210 [==============================] - 3s 13ms/step - loss: 2.3017 - accuracy: 0.1105 - val_loss: 2.3016 - val_accuracy: 0.1096\n",
      "Epoch 37/100\n",
      "210/210 [==============================] - 3s 13ms/step - loss: 2.3017 - accuracy: 0.1131 - val_loss: 2.3015 - val_accuracy: 0.1060\n",
      "Epoch 38/100\n",
      "210/210 [==============================] - 3s 13ms/step - loss: 2.3016 - accuracy: 0.1122 - val_loss: 2.3015 - val_accuracy: 0.1186\n",
      "Epoch 39/100\n",
      "210/210 [==============================] - 3s 13ms/step - loss: 2.3016 - accuracy: 0.1145 - val_loss: 2.3015 - val_accuracy: 0.1109\n",
      "Epoch 40/100\n",
      "210/210 [==============================] - 3s 13ms/step - loss: 2.3015 - accuracy: 0.1115 - val_loss: 2.3016 - val_accuracy: 0.1116\n",
      "Epoch 41/100\n",
      "210/210 [==============================] - 3s 13ms/step - loss: 2.3016 - accuracy: 0.1151 - val_loss: 2.3013 - val_accuracy: 0.1185\n",
      "Epoch 42/100\n",
      "210/210 [==============================] - 3s 13ms/step - loss: 2.3014 - accuracy: 0.1133 - val_loss: 2.3014 - val_accuracy: 0.1164\n",
      "Epoch 43/100\n",
      "210/210 [==============================] - 3s 13ms/step - loss: 2.3014 - accuracy: 0.1185 - val_loss: 2.3013 - val_accuracy: 0.1128\n",
      "Epoch 44/100\n",
      "210/210 [==============================] - 3s 13ms/step - loss: 2.3014 - accuracy: 0.1133 - val_loss: 2.3013 - val_accuracy: 0.1170\n",
      "Epoch 45/100\n",
      "210/210 [==============================] - 3s 13ms/step - loss: 2.3014 - accuracy: 0.1156 - val_loss: 2.3012 - val_accuracy: 0.1081\n",
      "Epoch 46/100\n",
      "210/210 [==============================] - 3s 13ms/step - loss: 2.3013 - accuracy: 0.1126 - val_loss: 2.3012 - val_accuracy: 0.1276\n",
      "Epoch 47/100\n",
      "210/210 [==============================] - 3s 13ms/step - loss: 2.3014 - accuracy: 0.1162 - val_loss: 2.3012 - val_accuracy: 0.1233\n",
      "Epoch 48/100\n",
      "210/210 [==============================] - 3s 13ms/step - loss: 2.3012 - accuracy: 0.1194 - val_loss: 2.3012 - val_accuracy: 0.1147\n",
      "Epoch 49/100\n",
      "210/210 [==============================] - 3s 13ms/step - loss: 2.3013 - accuracy: 0.1148 - val_loss: 2.3012 - val_accuracy: 0.1210\n",
      "Epoch 50/100\n",
      "210/210 [==============================] - 3s 13ms/step - loss: 2.3012 - accuracy: 0.1161 - val_loss: 2.3011 - val_accuracy: 0.1114\n",
      "Epoch 51/100\n",
      "210/210 [==============================] - 3s 13ms/step - loss: 2.3012 - accuracy: 0.1174 - val_loss: 2.3010 - val_accuracy: 0.1194\n",
      "Epoch 52/100\n",
      "210/210 [==============================] - 3s 13ms/step - loss: 2.3012 - accuracy: 0.1186 - val_loss: 2.3010 - val_accuracy: 0.1191\n",
      "Epoch 53/100\n",
      "210/210 [==============================] - 3s 13ms/step - loss: 2.3010 - accuracy: 0.1162 - val_loss: 2.3010 - val_accuracy: 0.1300\n",
      "Epoch 54/100\n",
      "210/210 [==============================] - 3s 13ms/step - loss: 2.3010 - accuracy: 0.1190 - val_loss: 2.3010 - val_accuracy: 0.1063\n",
      "Epoch 55/100\n",
      "210/210 [==============================] - 3s 13ms/step - loss: 2.3010 - accuracy: 0.1189 - val_loss: 2.3009 - val_accuracy: 0.1252\n",
      "Epoch 56/100\n",
      "210/210 [==============================] - 3s 13ms/step - loss: 2.3010 - accuracy: 0.1202 - val_loss: 2.3008 - val_accuracy: 0.1278\n",
      "Epoch 57/100\n"
     ]
    },
    {
     "name": "stdout",
     "output_type": "stream",
     "text": [
      "210/210 [==============================] - 3s 13ms/step - loss: 2.3009 - accuracy: 0.1202 - val_loss: 2.3010 - val_accuracy: 0.1112\n",
      "Epoch 58/100\n",
      "210/210 [==============================] - 3s 13ms/step - loss: 2.3009 - accuracy: 0.1167 - val_loss: 2.3008 - val_accuracy: 0.1168\n",
      "Epoch 59/100\n",
      "210/210 [==============================] - 3s 13ms/step - loss: 2.3009 - accuracy: 0.1172 - val_loss: 2.3007 - val_accuracy: 0.1166\n",
      "Epoch 60/100\n",
      "210/210 [==============================] - 3s 13ms/step - loss: 2.3009 - accuracy: 0.1170 - val_loss: 2.3007 - val_accuracy: 0.1260\n",
      "Epoch 61/100\n",
      "210/210 [==============================] - 3s 13ms/step - loss: 2.3008 - accuracy: 0.1218 - val_loss: 2.3007 - val_accuracy: 0.1182\n",
      "Epoch 62/100\n",
      "210/210 [==============================] - 3s 13ms/step - loss: 2.3007 - accuracy: 0.1183 - val_loss: 2.3007 - val_accuracy: 0.1065\n",
      "Epoch 63/100\n",
      "210/210 [==============================] - 3s 13ms/step - loss: 2.3007 - accuracy: 0.1150 - val_loss: 2.3007 - val_accuracy: 0.1176\n",
      "Epoch 64/100\n",
      "210/210 [==============================] - 3s 13ms/step - loss: 2.3007 - accuracy: 0.1218 - val_loss: 2.3005 - val_accuracy: 0.1188\n",
      "Epoch 65/100\n",
      "210/210 [==============================] - 3s 13ms/step - loss: 2.3006 - accuracy: 0.1216 - val_loss: 2.3007 - val_accuracy: 0.1098\n",
      "Epoch 66/100\n",
      "210/210 [==============================] - 3s 13ms/step - loss: 2.3006 - accuracy: 0.1192 - val_loss: 2.3006 - val_accuracy: 0.1193\n",
      "Epoch 67/100\n",
      "210/210 [==============================] - 3s 13ms/step - loss: 2.3005 - accuracy: 0.1180 - val_loss: 2.3006 - val_accuracy: 0.1169\n",
      "Epoch 68/100\n",
      "210/210 [==============================] - 3s 13ms/step - loss: 2.3006 - accuracy: 0.1201 - val_loss: 2.3005 - val_accuracy: 0.1169\n",
      "Epoch 69/100\n",
      "210/210 [==============================] - 3s 13ms/step - loss: 2.3005 - accuracy: 0.1199 - val_loss: 2.3005 - val_accuracy: 0.1307\n",
      "Epoch 70/100\n",
      "210/210 [==============================] - 3s 13ms/step - loss: 2.3005 - accuracy: 0.1204 - val_loss: 2.3003 - val_accuracy: 0.1341\n",
      "Epoch 71/100\n",
      "210/210 [==============================] - 3s 13ms/step - loss: 2.3004 - accuracy: 0.1252 - val_loss: 2.3003 - val_accuracy: 0.1314\n",
      "Epoch 72/100\n",
      "210/210 [==============================] - 3s 13ms/step - loss: 2.3004 - accuracy: 0.1244 - val_loss: 2.3004 - val_accuracy: 0.1246\n",
      "Epoch 73/100\n",
      "210/210 [==============================] - 3s 13ms/step - loss: 2.3003 - accuracy: 0.1228 - val_loss: 2.3003 - val_accuracy: 0.1279\n",
      "Epoch 74/100\n",
      "210/210 [==============================] - 3s 13ms/step - loss: 2.3003 - accuracy: 0.1237 - val_loss: 2.3003 - val_accuracy: 0.1114\n",
      "Epoch 75/100\n",
      "210/210 [==============================] - 3s 13ms/step - loss: 2.3002 - accuracy: 0.1215 - val_loss: 2.3005 - val_accuracy: 0.1244\n",
      "Epoch 76/100\n",
      "210/210 [==============================] - 3s 13ms/step - loss: 2.3004 - accuracy: 0.1215 - val_loss: 2.3001 - val_accuracy: 0.1289\n",
      "Epoch 77/100\n",
      "210/210 [==============================] - 3s 13ms/step - loss: 2.3002 - accuracy: 0.1247 - val_loss: 2.3002 - val_accuracy: 0.1219\n",
      "Epoch 78/100\n",
      "210/210 [==============================] - 3s 13ms/step - loss: 2.3002 - accuracy: 0.1221 - val_loss: 2.3001 - val_accuracy: 0.1195\n",
      "Epoch 79/100\n",
      "210/210 [==============================] - 3s 13ms/step - loss: 2.3001 - accuracy: 0.1210 - val_loss: 2.3002 - val_accuracy: 0.1243\n",
      "Epoch 80/100\n",
      "210/210 [==============================] - 3s 13ms/step - loss: 2.3001 - accuracy: 0.1260 - val_loss: 2.3000 - val_accuracy: 0.1241\n",
      "Epoch 81/100\n",
      "210/210 [==============================] - 3s 13ms/step - loss: 2.3001 - accuracy: 0.1266 - val_loss: 2.2999 - val_accuracy: 0.1351\n",
      "Epoch 82/100\n",
      "210/210 [==============================] - 3s 13ms/step - loss: 2.3000 - accuracy: 0.1256 - val_loss: 2.2999 - val_accuracy: 0.1226\n",
      "Epoch 83/100\n",
      "210/210 [==============================] - 3s 13ms/step - loss: 2.2999 - accuracy: 0.1217 - val_loss: 2.3000 - val_accuracy: 0.1238\n",
      "Epoch 84/100\n",
      "210/210 [==============================] - 3s 13ms/step - loss: 2.2999 - accuracy: 0.1244 - val_loss: 2.3000 - val_accuracy: 0.1221\n",
      "Epoch 85/100\n",
      "210/210 [==============================] - 3s 13ms/step - loss: 2.2999 - accuracy: 0.1250 - val_loss: 2.2998 - val_accuracy: 0.1276\n",
      "Epoch 86/100\n",
      "210/210 [==============================] - 3s 13ms/step - loss: 2.2999 - accuracy: 0.1294 - val_loss: 2.2997 - val_accuracy: 0.1353\n",
      "Epoch 87/100\n",
      "210/210 [==============================] - 3s 13ms/step - loss: 2.2998 - accuracy: 0.1267 - val_loss: 2.2998 - val_accuracy: 0.1226\n",
      "Epoch 88/100\n",
      "210/210 [==============================] - 3s 13ms/step - loss: 2.2998 - accuracy: 0.1231 - val_loss: 2.2998 - val_accuracy: 0.1152\n",
      "Epoch 89/100\n",
      "210/210 [==============================] - 3s 13ms/step - loss: 2.2998 - accuracy: 0.1278 - val_loss: 2.2997 - val_accuracy: 0.1347\n",
      "Epoch 90/100\n",
      "210/210 [==============================] - 3s 13ms/step - loss: 2.2997 - accuracy: 0.1311 - val_loss: 2.2997 - val_accuracy: 0.1251\n",
      "Epoch 91/100\n",
      "210/210 [==============================] - 3s 13ms/step - loss: 2.2997 - accuracy: 0.1290 - val_loss: 2.2998 - val_accuracy: 0.1278\n",
      "Epoch 92/100\n",
      "210/210 [==============================] - 3s 13ms/step - loss: 2.2996 - accuracy: 0.1285 - val_loss: 2.2995 - val_accuracy: 0.1314\n",
      "Epoch 93/100\n",
      "210/210 [==============================] - 3s 13ms/step - loss: 2.2996 - accuracy: 0.1289 - val_loss: 2.2995 - val_accuracy: 0.1356\n",
      "Epoch 94/100\n",
      "210/210 [==============================] - 3s 13ms/step - loss: 2.2995 - accuracy: 0.1275 - val_loss: 2.2995 - val_accuracy: 0.1236\n",
      "Epoch 95/100\n",
      "210/210 [==============================] - 3s 13ms/step - loss: 2.2994 - accuracy: 0.1277 - val_loss: 2.2995 - val_accuracy: 0.1259\n",
      "Epoch 96/100\n",
      "210/210 [==============================] - 3s 13ms/step - loss: 2.2995 - accuracy: 0.1276 - val_loss: 2.2994 - val_accuracy: 0.1333\n",
      "Epoch 97/100\n",
      "210/210 [==============================] - 3s 13ms/step - loss: 2.2994 - accuracy: 0.1270 - val_loss: 2.2994 - val_accuracy: 0.1205\n",
      "Epoch 98/100\n",
      "210/210 [==============================] - 3s 13ms/step - loss: 2.2994 - accuracy: 0.1309 - val_loss: 2.2993 - val_accuracy: 0.1416\n",
      "Epoch 99/100\n",
      "210/210 [==============================] - 3s 13ms/step - loss: 2.2994 - accuracy: 0.1315 - val_loss: 2.2992 - val_accuracy: 0.1317\n",
      "Epoch 100/100\n",
      "210/210 [==============================] - 3s 13ms/step - loss: 2.2993 - accuracy: 0.1324 - val_loss: 2.2992 - val_accuracy: 0.1409\n"
     ]
    }
   ],
   "source": [
    "# compiling the neural network classifier, sgd optimizer\n",
    "sgd = optimizers.SGD(lr = 0.01)\n",
    "model1.compile(optimizer = sgd, loss = 'categorical_crossentropy', metrics = ['accuracy'])\n",
    "\n",
    "# Fitting the neural network for training\n",
    "history = model1.fit(X_train, y_train, validation_data = (X_val, y_val), batch_size = 200, epochs = 100, verbose = 1)"
   ]
  },
  {
   "cell_type": "code",
   "execution_count": 31,
   "metadata": {
    "colab": {
     "base_uri": "https://localhost:8080/",
     "height": 88
    },
    "colab_type": "code",
    "id": "airVUr8-FQJ8",
    "outputId": "6ca2bcf8-d177-43c5-894f-c610cb411f3e"
   },
   "outputs": [
    {
     "name": "stdout",
     "output_type": "stream",
     "text": [
      "Evaluate NN model with sigmoid activations\n",
      "--------------------------------------------------------------------------------\n",
      "1875/1875 [==============================] - 11s 6ms/step - loss: 2.2992 - accuracy: 0.1409\n",
      "Validation accuracy: 14.09\n"
     ]
    }
   ],
   "source": [
    "print('Evaluate NN model with sigmoid activations'); print('--'*40)\n",
    "results1 = model1.evaluate(X_val, y_val)\n",
    "print('Validation accuracy: {}'.format(round(results1[1]*100, 2), '%'))"
   ]
  },
  {
   "cell_type": "markdown",
   "metadata": {
    "colab_type": "text",
    "id": "o2rIo2V1Q10H"
   },
   "source": [
    "#### NN model, sigmoid activations, SGD optimizer, changing learning rate"
   ]
  },
  {
   "cell_type": "code",
   "execution_count": 32,
   "metadata": {
    "colab": {
     "base_uri": "https://localhost:8080/",
     "height": 1000
    },
    "colab_type": "code",
    "id": "YTbX96-vGjFj",
    "outputId": "275c3e7d-35df-4a15-c2f1-e26a47eba163"
   },
   "outputs": [
    {
     "name": "stderr",
     "output_type": "stream",
     "text": [
      "WARNING:absl:At this time, the v2.11+ optimizer `tf.keras.optimizers.SGD` runs slowly on M1/M2 Macs, please use the legacy Keras optimizer instead, located at `tf.keras.optimizers.legacy.SGD`.\n",
      "WARNING:absl:`lr` is deprecated in Keras optimizer, please use `learning_rate` or use the legacy optimizer, e.g.,tf.keras.optimizers.legacy.SGD.\n",
      "WARNING:absl:There is a known slowdown when using v2.11+ Keras optimizers on M1/M2 Macs. Falling back to the legacy Keras optimizer, i.e., `tf.keras.optimizers.legacy.SGD`.\n"
     ]
    },
    {
     "name": "stdout",
     "output_type": "stream",
     "text": [
      "NN model with sigmoid activations - changing learning rate\n",
      "--------------------------------------------------------------------------------\n",
      "Epoch 1/100\n",
      "210/210 [==============================] - 3s 15ms/step - loss: 2.2993 - accuracy: 0.1325 - val_loss: 2.2992 - val_accuracy: 0.1271\n",
      "Epoch 2/100\n",
      "210/210 [==============================] - 3s 13ms/step - loss: 2.2992 - accuracy: 0.1302 - val_loss: 2.2993 - val_accuracy: 0.1119\n",
      "Epoch 3/100\n",
      "210/210 [==============================] - 3s 13ms/step - loss: 2.2991 - accuracy: 0.1306 - val_loss: 2.2990 - val_accuracy: 0.1352\n",
      "Epoch 4/100\n",
      "210/210 [==============================] - 3s 13ms/step - loss: 2.2992 - accuracy: 0.1291 - val_loss: 2.2990 - val_accuracy: 0.1399\n",
      "Epoch 5/100\n",
      "210/210 [==============================] - 3s 13ms/step - loss: 2.2991 - accuracy: 0.1333 - val_loss: 2.2990 - val_accuracy: 0.1420\n",
      "Epoch 6/100\n",
      "210/210 [==============================] - 3s 13ms/step - loss: 2.2990 - accuracy: 0.1329 - val_loss: 2.2990 - val_accuracy: 0.1366\n",
      "Epoch 7/100\n",
      "210/210 [==============================] - 3s 13ms/step - loss: 2.2990 - accuracy: 0.1328 - val_loss: 2.2990 - val_accuracy: 0.1367\n",
      "Epoch 8/100\n",
      "210/210 [==============================] - 3s 14ms/step - loss: 2.2989 - accuracy: 0.1305 - val_loss: 2.2990 - val_accuracy: 0.1297\n",
      "Epoch 9/100\n",
      "210/210 [==============================] - 3s 13ms/step - loss: 2.2989 - accuracy: 0.1317 - val_loss: 2.2988 - val_accuracy: 0.1297\n",
      "Epoch 10/100\n",
      "210/210 [==============================] - 3s 13ms/step - loss: 2.2990 - accuracy: 0.1360 - val_loss: 2.2987 - val_accuracy: 0.1423\n",
      "Epoch 11/100\n",
      "210/210 [==============================] - 3s 13ms/step - loss: 2.2988 - accuracy: 0.1313 - val_loss: 2.2990 - val_accuracy: 0.1229\n",
      "Epoch 12/100\n",
      "210/210 [==============================] - 3s 13ms/step - loss: 2.2989 - accuracy: 0.1338 - val_loss: 2.2987 - val_accuracy: 0.1439\n",
      "Epoch 13/100\n",
      "210/210 [==============================] - 3s 13ms/step - loss: 2.2987 - accuracy: 0.1374 - val_loss: 2.2988 - val_accuracy: 0.1316\n",
      "Epoch 14/100\n",
      "210/210 [==============================] - 3s 13ms/step - loss: 2.2987 - accuracy: 0.1384 - val_loss: 2.2986 - val_accuracy: 0.1346\n",
      "Epoch 15/100\n",
      "210/210 [==============================] - 3s 13ms/step - loss: 2.2986 - accuracy: 0.1355 - val_loss: 2.2988 - val_accuracy: 0.1328\n",
      "Epoch 16/100\n",
      "210/210 [==============================] - 3s 13ms/step - loss: 2.2987 - accuracy: 0.1345 - val_loss: 2.2986 - val_accuracy: 0.1436\n",
      "Epoch 17/100\n",
      "210/210 [==============================] - 3s 13ms/step - loss: 2.2985 - accuracy: 0.1339 - val_loss: 2.2986 - val_accuracy: 0.1243\n",
      "Epoch 18/100\n",
      "210/210 [==============================] - 3s 13ms/step - loss: 2.2986 - accuracy: 0.1374 - val_loss: 2.2984 - val_accuracy: 0.1502\n",
      "Epoch 19/100\n",
      "210/210 [==============================] - 3s 13ms/step - loss: 2.2985 - accuracy: 0.1347 - val_loss: 2.2984 - val_accuracy: 0.1325\n",
      "Epoch 20/100\n",
      "210/210 [==============================] - 3s 13ms/step - loss: 2.2984 - accuracy: 0.1396 - val_loss: 2.2985 - val_accuracy: 0.1282\n",
      "Epoch 21/100\n",
      "210/210 [==============================] - 3s 13ms/step - loss: 2.2984 - accuracy: 0.1370 - val_loss: 2.2984 - val_accuracy: 0.1389\n",
      "Epoch 22/100\n",
      "210/210 [==============================] - 3s 13ms/step - loss: 2.2984 - accuracy: 0.1351 - val_loss: 2.2982 - val_accuracy: 0.1479\n",
      "Epoch 23/100\n",
      "210/210 [==============================] - 3s 13ms/step - loss: 2.2983 - accuracy: 0.1360 - val_loss: 2.2983 - val_accuracy: 0.1315\n",
      "Epoch 24/100\n",
      "210/210 [==============================] - 3s 13ms/step - loss: 2.2983 - accuracy: 0.1387 - val_loss: 2.2983 - val_accuracy: 0.1401\n",
      "Epoch 25/100\n",
      "210/210 [==============================] - 3s 13ms/step - loss: 2.2982 - accuracy: 0.1370 - val_loss: 2.2982 - val_accuracy: 0.1368\n",
      "Epoch 26/100\n",
      "210/210 [==============================] - 3s 13ms/step - loss: 2.2981 - accuracy: 0.1414 - val_loss: 2.2982 - val_accuracy: 0.1367\n",
      "Epoch 27/100\n",
      "210/210 [==============================] - 3s 13ms/step - loss: 2.2980 - accuracy: 0.1396 - val_loss: 2.2983 - val_accuracy: 0.1315\n",
      "Epoch 28/100\n",
      "210/210 [==============================] - 3s 13ms/step - loss: 2.2981 - accuracy: 0.1379 - val_loss: 2.2981 - val_accuracy: 0.1446\n",
      "Epoch 29/100\n",
      "210/210 [==============================] - 3s 13ms/step - loss: 2.2980 - accuracy: 0.1394 - val_loss: 2.2981 - val_accuracy: 0.1381\n",
      "Epoch 30/100\n",
      "210/210 [==============================] - 3s 13ms/step - loss: 2.2980 - accuracy: 0.1385 - val_loss: 2.2979 - val_accuracy: 0.1384\n",
      "Epoch 31/100\n",
      "210/210 [==============================] - 3s 13ms/step - loss: 2.2979 - accuracy: 0.1381 - val_loss: 2.2978 - val_accuracy: 0.1454\n",
      "Epoch 32/100\n",
      "210/210 [==============================] - 3s 13ms/step - loss: 2.2978 - accuracy: 0.1415 - val_loss: 2.2979 - val_accuracy: 0.1434\n",
      "Epoch 33/100\n",
      "210/210 [==============================] - 3s 13ms/step - loss: 2.2978 - accuracy: 0.1409 - val_loss: 2.2979 - val_accuracy: 0.1325\n",
      "Epoch 34/100\n",
      "210/210 [==============================] - 3s 13ms/step - loss: 2.2977 - accuracy: 0.1423 - val_loss: 2.2978 - val_accuracy: 0.1373\n",
      "Epoch 35/100\n",
      "210/210 [==============================] - 3s 13ms/step - loss: 2.2977 - accuracy: 0.1401 - val_loss: 2.2977 - val_accuracy: 0.1391\n",
      "Epoch 36/100\n",
      "210/210 [==============================] - 3s 13ms/step - loss: 2.2977 - accuracy: 0.1393 - val_loss: 2.2977 - val_accuracy: 0.1396\n",
      "Epoch 37/100\n",
      "210/210 [==============================] - 3s 13ms/step - loss: 2.2976 - accuracy: 0.1395 - val_loss: 2.2976 - val_accuracy: 0.1434\n",
      "Epoch 38/100\n",
      "210/210 [==============================] - 3s 13ms/step - loss: 2.2976 - accuracy: 0.1413 - val_loss: 2.2975 - val_accuracy: 0.1410\n",
      "Epoch 39/100\n",
      "210/210 [==============================] - 3s 13ms/step - loss: 2.2975 - accuracy: 0.1452 - val_loss: 2.2975 - val_accuracy: 0.1409\n",
      "Epoch 40/100\n",
      "210/210 [==============================] - 3s 13ms/step - loss: 2.2974 - accuracy: 0.1415 - val_loss: 2.2976 - val_accuracy: 0.1379\n",
      "Epoch 41/100\n",
      "210/210 [==============================] - 3s 13ms/step - loss: 2.2975 - accuracy: 0.1419 - val_loss: 2.2973 - val_accuracy: 0.1490\n",
      "Epoch 42/100\n",
      "210/210 [==============================] - 3s 13ms/step - loss: 2.2973 - accuracy: 0.1455 - val_loss: 2.2974 - val_accuracy: 0.1476\n",
      "Epoch 43/100\n",
      "210/210 [==============================] - 3s 13ms/step - loss: 2.2973 - accuracy: 0.1470 - val_loss: 2.2973 - val_accuracy: 0.1453\n",
      "Epoch 44/100\n",
      "210/210 [==============================] - 3s 13ms/step - loss: 2.2973 - accuracy: 0.1424 - val_loss: 2.2972 - val_accuracy: 0.1481\n",
      "Epoch 45/100\n",
      "210/210 [==============================] - 3s 13ms/step - loss: 2.2972 - accuracy: 0.1464 - val_loss: 2.2972 - val_accuracy: 0.1428\n",
      "Epoch 46/100\n",
      "210/210 [==============================] - 3s 13ms/step - loss: 2.2972 - accuracy: 0.1419 - val_loss: 2.2972 - val_accuracy: 0.1487\n",
      "Epoch 47/100\n",
      "210/210 [==============================] - 3s 13ms/step - loss: 2.2971 - accuracy: 0.1478 - val_loss: 2.2971 - val_accuracy: 0.1463\n",
      "Epoch 48/100\n",
      "210/210 [==============================] - 3s 13ms/step - loss: 2.2970 - accuracy: 0.1489 - val_loss: 2.2971 - val_accuracy: 0.1447\n",
      "Epoch 49/100\n",
      "210/210 [==============================] - 3s 13ms/step - loss: 2.2970 - accuracy: 0.1461 - val_loss: 2.2970 - val_accuracy: 0.1471\n",
      "Epoch 50/100\n",
      "210/210 [==============================] - 3s 13ms/step - loss: 2.2969 - accuracy: 0.1486 - val_loss: 2.2969 - val_accuracy: 0.1420\n",
      "Epoch 51/100\n",
      "210/210 [==============================] - 3s 13ms/step - loss: 2.2969 - accuracy: 0.1446 - val_loss: 2.2969 - val_accuracy: 0.1459\n",
      "Epoch 52/100\n",
      "210/210 [==============================] - 3s 13ms/step - loss: 2.2969 - accuracy: 0.1498 - val_loss: 2.2968 - val_accuracy: 0.1515\n",
      "Epoch 53/100\n",
      "210/210 [==============================] - 3s 13ms/step - loss: 2.2967 - accuracy: 0.1484 - val_loss: 2.2967 - val_accuracy: 0.1557\n",
      "Epoch 54/100\n",
      "210/210 [==============================] - 3s 13ms/step - loss: 2.2967 - accuracy: 0.1475 - val_loss: 2.2968 - val_accuracy: 0.1401\n",
      "Epoch 55/100\n",
      "210/210 [==============================] - 3s 13ms/step - loss: 2.2966 - accuracy: 0.1506 - val_loss: 2.2966 - val_accuracy: 0.1534\n",
      "Epoch 56/100\n"
     ]
    },
    {
     "name": "stdout",
     "output_type": "stream",
     "text": [
      "210/210 [==============================] - 3s 13ms/step - loss: 2.2966 - accuracy: 0.1497 - val_loss: 2.2965 - val_accuracy: 0.1563\n",
      "Epoch 57/100\n",
      "210/210 [==============================] - 3s 13ms/step - loss: 2.2965 - accuracy: 0.1463 - val_loss: 2.2967 - val_accuracy: 0.1399\n",
      "Epoch 58/100\n",
      "210/210 [==============================] - 3s 13ms/step - loss: 2.2965 - accuracy: 0.1439 - val_loss: 2.2964 - val_accuracy: 0.1446\n",
      "Epoch 59/100\n",
      "210/210 [==============================] - 3s 13ms/step - loss: 2.2964 - accuracy: 0.1453 - val_loss: 2.2964 - val_accuracy: 0.1472\n",
      "Epoch 60/100\n",
      "210/210 [==============================] - 3s 13ms/step - loss: 2.2964 - accuracy: 0.1453 - val_loss: 2.2963 - val_accuracy: 0.1549\n",
      "Epoch 61/100\n",
      "210/210 [==============================] - 3s 13ms/step - loss: 2.2963 - accuracy: 0.1519 - val_loss: 2.2963 - val_accuracy: 0.1469\n",
      "Epoch 62/100\n",
      "210/210 [==============================] - 3s 13ms/step - loss: 2.2962 - accuracy: 0.1488 - val_loss: 2.2963 - val_accuracy: 0.1375\n",
      "Epoch 63/100\n",
      "210/210 [==============================] - 3s 13ms/step - loss: 2.2961 - accuracy: 0.1462 - val_loss: 2.2962 - val_accuracy: 0.1431\n",
      "Epoch 64/100\n",
      "210/210 [==============================] - 3s 13ms/step - loss: 2.2961 - accuracy: 0.1498 - val_loss: 2.2960 - val_accuracy: 0.1488\n",
      "Epoch 65/100\n",
      "210/210 [==============================] - 3s 13ms/step - loss: 2.2960 - accuracy: 0.1505 - val_loss: 2.2962 - val_accuracy: 0.1408\n",
      "Epoch 66/100\n",
      "210/210 [==============================] - 3s 13ms/step - loss: 2.2960 - accuracy: 0.1482 - val_loss: 2.2960 - val_accuracy: 0.1452\n",
      "Epoch 67/100\n",
      "210/210 [==============================] - 3s 13ms/step - loss: 2.2959 - accuracy: 0.1480 - val_loss: 2.2960 - val_accuracy: 0.1490\n",
      "Epoch 68/100\n",
      "210/210 [==============================] - 3s 13ms/step - loss: 2.2959 - accuracy: 0.1500 - val_loss: 2.2959 - val_accuracy: 0.1491\n",
      "Epoch 69/100\n",
      "210/210 [==============================] - 3s 13ms/step - loss: 2.2958 - accuracy: 0.1500 - val_loss: 2.2959 - val_accuracy: 0.1505\n",
      "Epoch 70/100\n",
      "210/210 [==============================] - 3s 13ms/step - loss: 2.2957 - accuracy: 0.1481 - val_loss: 2.2957 - val_accuracy: 0.1605\n",
      "Epoch 71/100\n",
      "210/210 [==============================] - 3s 13ms/step - loss: 2.2957 - accuracy: 0.1559 - val_loss: 2.2956 - val_accuracy: 0.1575\n",
      "Epoch 72/100\n",
      "210/210 [==============================] - 3s 13ms/step - loss: 2.2956 - accuracy: 0.1539 - val_loss: 2.2957 - val_accuracy: 0.1530\n",
      "Epoch 73/100\n",
      "210/210 [==============================] - 3s 13ms/step - loss: 2.2955 - accuracy: 0.1520 - val_loss: 2.2956 - val_accuracy: 0.1563\n",
      "Epoch 74/100\n",
      "210/210 [==============================] - 3s 13ms/step - loss: 2.2954 - accuracy: 0.1526 - val_loss: 2.2956 - val_accuracy: 0.1402\n",
      "Epoch 75/100\n",
      "210/210 [==============================] - 3s 13ms/step - loss: 2.2953 - accuracy: 0.1500 - val_loss: 2.2958 - val_accuracy: 0.1455\n",
      "Epoch 76/100\n",
      "210/210 [==============================] - 3s 13ms/step - loss: 2.2954 - accuracy: 0.1514 - val_loss: 2.2953 - val_accuracy: 0.1593\n",
      "Epoch 77/100\n",
      "210/210 [==============================] - 3s 13ms/step - loss: 2.2952 - accuracy: 0.1535 - val_loss: 2.2954 - val_accuracy: 0.1494\n",
      "Epoch 78/100\n",
      "210/210 [==============================] - 3s 13ms/step - loss: 2.2952 - accuracy: 0.1557 - val_loss: 2.2952 - val_accuracy: 0.1514\n",
      "Epoch 79/100\n",
      "210/210 [==============================] - 3s 14ms/step - loss: 2.2951 - accuracy: 0.1522 - val_loss: 2.2953 - val_accuracy: 0.1539\n",
      "Epoch 80/100\n",
      "210/210 [==============================] - 3s 13ms/step - loss: 2.2950 - accuracy: 0.1542 - val_loss: 2.2950 - val_accuracy: 0.1558\n",
      "Epoch 81/100\n",
      "210/210 [==============================] - 3s 13ms/step - loss: 2.2950 - accuracy: 0.1563 - val_loss: 2.2949 - val_accuracy: 0.1607\n",
      "Epoch 82/100\n",
      "210/210 [==============================] - 3s 13ms/step - loss: 2.2949 - accuracy: 0.1544 - val_loss: 2.2949 - val_accuracy: 0.1569\n",
      "Epoch 83/100\n",
      "210/210 [==============================] - 3s 13ms/step - loss: 2.2947 - accuracy: 0.1533 - val_loss: 2.2950 - val_accuracy: 0.1536\n",
      "Epoch 84/100\n",
      "210/210 [==============================] - 3s 13ms/step - loss: 2.2947 - accuracy: 0.1541 - val_loss: 2.2949 - val_accuracy: 0.1492\n",
      "Epoch 85/100\n",
      "210/210 [==============================] - 3s 13ms/step - loss: 2.2947 - accuracy: 0.1511 - val_loss: 2.2947 - val_accuracy: 0.1511\n",
      "Epoch 86/100\n",
      "210/210 [==============================] - 3s 13ms/step - loss: 2.2947 - accuracy: 0.1561 - val_loss: 2.2946 - val_accuracy: 0.1619\n",
      "Epoch 87/100\n",
      "210/210 [==============================] - 3s 13ms/step - loss: 2.2945 - accuracy: 0.1574 - val_loss: 2.2946 - val_accuracy: 0.1455\n",
      "Epoch 88/100\n",
      "210/210 [==============================] - 3s 13ms/step - loss: 2.2944 - accuracy: 0.1525 - val_loss: 2.2945 - val_accuracy: 0.1538\n",
      "Epoch 89/100\n",
      "210/210 [==============================] - 3s 13ms/step - loss: 2.2944 - accuracy: 0.1557 - val_loss: 2.2944 - val_accuracy: 0.1573\n",
      "Epoch 90/100\n",
      "210/210 [==============================] - 3s 13ms/step - loss: 2.2943 - accuracy: 0.1577 - val_loss: 2.2944 - val_accuracy: 0.1539\n",
      "Epoch 91/100\n",
      "210/210 [==============================] - 3s 13ms/step - loss: 2.2942 - accuracy: 0.1576 - val_loss: 2.2944 - val_accuracy: 0.1544\n",
      "Epoch 92/100\n",
      "210/210 [==============================] - 3s 13ms/step - loss: 2.2941 - accuracy: 0.1559 - val_loss: 2.2942 - val_accuracy: 0.1605\n",
      "Epoch 93/100\n",
      "210/210 [==============================] - 3s 13ms/step - loss: 2.2941 - accuracy: 0.1567 - val_loss: 2.2941 - val_accuracy: 0.1580\n",
      "Epoch 94/100\n",
      "210/210 [==============================] - 3s 13ms/step - loss: 2.2940 - accuracy: 0.1536 - val_loss: 2.2941 - val_accuracy: 0.1563\n",
      "Epoch 95/100\n",
      "210/210 [==============================] - 3s 13ms/step - loss: 2.2938 - accuracy: 0.1537 - val_loss: 2.2940 - val_accuracy: 0.1576\n",
      "Epoch 96/100\n",
      "210/210 [==============================] - 3s 13ms/step - loss: 2.2938 - accuracy: 0.1554 - val_loss: 2.2939 - val_accuracy: 0.1561\n",
      "Epoch 97/100\n",
      "210/210 [==============================] - 3s 13ms/step - loss: 2.2937 - accuracy: 0.1542 - val_loss: 2.2939 - val_accuracy: 0.1539\n",
      "Epoch 98/100\n",
      "210/210 [==============================] - 3s 13ms/step - loss: 2.2936 - accuracy: 0.1593 - val_loss: 2.2937 - val_accuracy: 0.1665\n",
      "Epoch 99/100\n",
      "210/210 [==============================] - 3s 13ms/step - loss: 2.2936 - accuracy: 0.1598 - val_loss: 2.2936 - val_accuracy: 0.1625\n",
      "Epoch 100/100\n",
      "210/210 [==============================] - 3s 13ms/step - loss: 2.2935 - accuracy: 0.1602 - val_loss: 2.2935 - val_accuracy: 0.1581\n"
     ]
    }
   ],
   "source": [
    "print('NN model with sigmoid activations - changing learning rate'); print('--'*40)\n",
    "# compiling the neural network classifier, sgd optimizer\n",
    "sgd = optimizers.SGD(lr = 0.001)\n",
    "model1.compile(optimizer = sgd, loss = 'categorical_crossentropy', metrics = ['accuracy'])\n",
    "\n",
    "# Fitting the neural network for training\n",
    "history = model1.fit(X_train, y_train, validation_data = (X_val, y_val), batch_size = 200, epochs = 100, verbose = 1)"
   ]
  },
  {
   "cell_type": "code",
   "execution_count": 33,
   "metadata": {
    "colab": {
     "base_uri": "https://localhost:8080/",
     "height": 88
    },
    "colab_type": "code",
    "id": "scbm_YOeJkap",
    "outputId": "a96146ce-4b68-43da-f4b7-7005e0e5e1c5"
   },
   "outputs": [
    {
     "name": "stdout",
     "output_type": "stream",
     "text": [
      "Evaluate NN model with sigmoid activations - changing learning rate\n",
      "--------------------------------------------------------------------------------\n",
      "1875/1875 [==============================] - 11s 6ms/step - loss: 2.2935 - accuracy: 0.1581\n",
      "Validation accuracy: 15.81\n"
     ]
    }
   ],
   "source": [
    "print('Evaluate NN model with sigmoid activations - changing learning rate'); print('--'*40)\n",
    "results1 = model1.evaluate(X_val, y_val)\n",
    "print('Validation accuracy: {}'.format(round(results1[1]*100, 2), '%'))"
   ]
  },
  {
   "cell_type": "markdown",
   "metadata": {
    "colab_type": "text",
    "id": "7SUgKHYEmt1X"
   },
   "source": [
    "<a id='o3'></a>\n",
    "##### Observation 3 - NN model with sigmoid activations\n",
    "* Validation score is very low, changing learning rate further reduces it.\n",
    "* Optimizing the network in order to better learn the patterns in the dataset.\n",
    "* Best model out of the above is the one with lower learning rate using SGD optimizer and sigmoid activations.\n",
    "* Next, let's use relu activations and see if the score improves."
   ]
  },
  {
   "cell_type": "markdown",
   "metadata": {
    "colab_type": "text",
    "id": "u3qkfHovRFig"
   },
   "source": [
    "#### NN model, relu activations, SGD optimizer"
   ]
  },
  {
   "cell_type": "code",
   "execution_count": 34,
   "metadata": {
    "colab": {
     "base_uri": "https://localhost:8080/",
     "height": 88
    },
    "colab_type": "code",
    "id": "BRsNW7ss_iL9",
    "outputId": "0ba86d89-5f13-4e0e-c9bc-2a96bcbee867"
   },
   "outputs": [
    {
     "name": "stdout",
     "output_type": "stream",
     "text": [
      "CPU times: user 1 µs, sys: 1e+03 ns, total: 2 µs\n",
      "Wall time: 3.1 µs\n",
      "NN model with relu activations and sgd optimizers\n",
      "--------------------------------------------------------------------------------\n"
     ]
    }
   ],
   "source": [
    "%time\n",
    "print('NN model with relu activations and sgd optimizers'); print('--'*40)\n",
    "# Initialize the neural network classifier\n",
    "model2 = Sequential()\n",
    "\n",
    "# Input Layer - adding input layer and activation functions relu\n",
    "model2.add(Dense(128, input_shape = (1024, )))\n",
    "# Adding activation function\n",
    "model2.add(Activation('relu'))\n",
    "\n",
    "#Hidden Layer 1 - adding first hidden layer\n",
    "model2.add(Dense(64))\n",
    "# Adding activation function\n",
    "model2.add(Activation('relu'))\n",
    "\n",
    "# Output Layer - adding output layer which is of 10 nodes (digits)\n",
    "model2.add(Dense(10))\n",
    "# Adding activation function - softmax for multiclass classification\n",
    "model2.add(Activation('softmax'))"
   ]
  },
  {
   "cell_type": "code",
   "execution_count": 35,
   "metadata": {
    "colab": {
     "base_uri": "https://localhost:8080/",
     "height": 372
    },
    "colab_type": "code",
    "id": "x4uIPsDZqi8n",
    "outputId": "b633d453-b0bf-4b57-e252-8e313eb8cf12"
   },
   "outputs": [
    {
     "name": "stdout",
     "output_type": "stream",
     "text": [
      "Model: \"sequential_1\"\n",
      "_________________________________________________________________\n",
      " Layer (type)                Output Shape              Param #   \n",
      "=================================================================\n",
      " dense_3 (Dense)             (None, 128)               131200    \n",
      "                                                                 \n",
      " activation_3 (Activation)   (None, 128)               0         \n",
      "                                                                 \n",
      " dense_4 (Dense)             (None, 64)                8256      \n",
      "                                                                 \n",
      " activation_4 (Activation)   (None, 64)                0         \n",
      "                                                                 \n",
      " dense_5 (Dense)             (None, 10)                650       \n",
      "                                                                 \n",
      " activation_5 (Activation)   (None, 10)                0         \n",
      "                                                                 \n",
      "=================================================================\n",
      "Total params: 140,106\n",
      "Trainable params: 140,106\n",
      "Non-trainable params: 0\n",
      "_________________________________________________________________\n"
     ]
    }
   ],
   "source": [
    "model2.summary()"
   ]
  },
  {
   "cell_type": "code",
   "execution_count": 36,
   "metadata": {
    "colab": {
     "base_uri": "https://localhost:8080/",
     "height": 1000
    },
    "colab_type": "code",
    "id": "OJzn5I1ORL8q",
    "outputId": "674afc1b-75b8-4cfa-f82e-c27339777082"
   },
   "outputs": [
    {
     "name": "stderr",
     "output_type": "stream",
     "text": [
      "WARNING:absl:At this time, the v2.11+ optimizer `tf.keras.optimizers.SGD` runs slowly on M1/M2 Macs, please use the legacy Keras optimizer instead, located at `tf.keras.optimizers.legacy.SGD`.\n",
      "WARNING:absl:`lr` is deprecated in Keras optimizer, please use `learning_rate` or use the legacy optimizer, e.g.,tf.keras.optimizers.legacy.SGD.\n",
      "WARNING:absl:There is a known slowdown when using v2.11+ Keras optimizers on M1/M2 Macs. Falling back to the legacy Keras optimizer, i.e., `tf.keras.optimizers.legacy.SGD`.\n"
     ]
    },
    {
     "name": "stdout",
     "output_type": "stream",
     "text": [
      "Epoch 1/100\n",
      "210/210 [==============================] - 3s 15ms/step - loss: 2.3024 - accuracy: 0.1122 - val_loss: 2.2911 - val_accuracy: 0.1280\n",
      "Epoch 2/100\n",
      "210/210 [==============================] - 3s 13ms/step - loss: 2.2828 - accuracy: 0.1418 - val_loss: 2.2730 - val_accuracy: 0.1512\n",
      "Epoch 3/100\n",
      "210/210 [==============================] - 3s 13ms/step - loss: 2.2626 - accuracy: 0.1811 - val_loss: 2.2503 - val_accuracy: 0.2142\n",
      "Epoch 4/100\n",
      "210/210 [==============================] - 3s 13ms/step - loss: 2.2393 - accuracy: 0.2226 - val_loss: 2.2251 - val_accuracy: 0.2453\n",
      "Epoch 5/100\n",
      "210/210 [==============================] - 3s 13ms/step - loss: 2.2106 - accuracy: 0.2598 - val_loss: 2.1934 - val_accuracy: 0.2803\n",
      "Epoch 6/100\n",
      "210/210 [==============================] - 3s 13ms/step - loss: 2.1752 - accuracy: 0.2981 - val_loss: 2.1546 - val_accuracy: 0.3115\n",
      "Epoch 7/100\n",
      "210/210 [==============================] - 3s 13ms/step - loss: 2.1335 - accuracy: 0.3318 - val_loss: 2.1110 - val_accuracy: 0.3439\n",
      "Epoch 8/100\n",
      "210/210 [==============================] - 3s 13ms/step - loss: 2.0838 - accuracy: 0.3648 - val_loss: 2.0571 - val_accuracy: 0.3888\n",
      "Epoch 9/100\n",
      "210/210 [==============================] - 3s 13ms/step - loss: 2.0265 - accuracy: 0.4010 - val_loss: 1.9923 - val_accuracy: 0.4247\n",
      "Epoch 10/100\n",
      "210/210 [==============================] - 3s 13ms/step - loss: 1.9624 - accuracy: 0.4259 - val_loss: 1.9279 - val_accuracy: 0.4334\n",
      "Epoch 11/100\n",
      "210/210 [==============================] - 3s 13ms/step - loss: 1.8936 - accuracy: 0.4462 - val_loss: 1.8562 - val_accuracy: 0.4575\n",
      "Epoch 12/100\n",
      "210/210 [==============================] - 3s 13ms/step - loss: 1.8245 - accuracy: 0.4689 - val_loss: 1.7873 - val_accuracy: 0.4857\n",
      "Epoch 13/100\n",
      "210/210 [==============================] - 3s 13ms/step - loss: 1.7561 - accuracy: 0.4872 - val_loss: 1.7257 - val_accuracy: 0.4933\n",
      "Epoch 14/100\n",
      "210/210 [==============================] - 3s 13ms/step - loss: 1.6915 - accuracy: 0.5078 - val_loss: 1.6544 - val_accuracy: 0.5235\n",
      "Epoch 15/100\n",
      "210/210 [==============================] - 3s 13ms/step - loss: 1.6304 - accuracy: 0.5274 - val_loss: 1.6104 - val_accuracy: 0.5260\n",
      "Epoch 16/100\n",
      "210/210 [==============================] - 3s 13ms/step - loss: 1.5757 - accuracy: 0.5444 - val_loss: 1.5488 - val_accuracy: 0.5527\n",
      "Epoch 17/100\n",
      "210/210 [==============================] - 3s 13ms/step - loss: 1.5263 - accuracy: 0.5546 - val_loss: 1.4983 - val_accuracy: 0.5569\n",
      "Epoch 18/100\n",
      "210/210 [==============================] - 3s 13ms/step - loss: 1.4810 - accuracy: 0.5664 - val_loss: 1.4744 - val_accuracy: 0.5543\n",
      "Epoch 19/100\n",
      "210/210 [==============================] - 3s 13ms/step - loss: 1.4413 - accuracy: 0.5760 - val_loss: 1.4229 - val_accuracy: 0.5776\n",
      "Epoch 20/100\n",
      "210/210 [==============================] - 3s 13ms/step - loss: 1.4056 - accuracy: 0.5853 - val_loss: 1.3841 - val_accuracy: 0.5873\n",
      "Epoch 21/100\n",
      "210/210 [==============================] - 3s 13ms/step - loss: 1.3702 - accuracy: 0.5947 - val_loss: 1.3497 - val_accuracy: 0.6021\n",
      "Epoch 22/100\n",
      "210/210 [==============================] - 3s 13ms/step - loss: 1.3408 - accuracy: 0.6027 - val_loss: 1.3254 - val_accuracy: 0.6091\n",
      "Epoch 23/100\n",
      "210/210 [==============================] - 3s 13ms/step - loss: 1.3123 - accuracy: 0.6105 - val_loss: 1.2937 - val_accuracy: 0.6194\n",
      "Epoch 24/100\n",
      "210/210 [==============================] - 3s 13ms/step - loss: 1.2873 - accuracy: 0.6170 - val_loss: 1.2781 - val_accuracy: 0.6141\n",
      "Epoch 25/100\n",
      "210/210 [==============================] - 3s 13ms/step - loss: 1.2640 - accuracy: 0.6240 - val_loss: 1.2459 - val_accuracy: 0.6305\n",
      "Epoch 26/100\n",
      "210/210 [==============================] - 3s 13ms/step - loss: 1.2458 - accuracy: 0.6264 - val_loss: 1.2414 - val_accuracy: 0.6245\n",
      "Epoch 27/100\n",
      "210/210 [==============================] - 3s 13ms/step - loss: 1.2264 - accuracy: 0.6342 - val_loss: 1.2376 - val_accuracy: 0.6222\n",
      "Epoch 28/100\n",
      "210/210 [==============================] - 3s 14ms/step - loss: 1.2079 - accuracy: 0.6406 - val_loss: 1.1941 - val_accuracy: 0.6432\n",
      "Epoch 29/100\n",
      "210/210 [==============================] - 3s 13ms/step - loss: 1.1930 - accuracy: 0.6451 - val_loss: 1.1867 - val_accuracy: 0.6410\n",
      "Epoch 30/100\n",
      "210/210 [==============================] - 3s 13ms/step - loss: 1.1751 - accuracy: 0.6482 - val_loss: 1.1822 - val_accuracy: 0.6441\n",
      "Epoch 31/100\n",
      "210/210 [==============================] - 3s 13ms/step - loss: 1.1638 - accuracy: 0.6519 - val_loss: 1.1464 - val_accuracy: 0.6588\n",
      "Epoch 32/100\n",
      "210/210 [==============================] - 3s 13ms/step - loss: 1.1456 - accuracy: 0.6580 - val_loss: 1.1318 - val_accuracy: 0.6648\n",
      "Epoch 33/100\n",
      "210/210 [==============================] - 3s 13ms/step - loss: 1.1369 - accuracy: 0.6580 - val_loss: 1.1406 - val_accuracy: 0.6523\n",
      "Epoch 34/100\n",
      "210/210 [==============================] - 3s 13ms/step - loss: 1.1206 - accuracy: 0.6637 - val_loss: 1.1061 - val_accuracy: 0.6703\n",
      "Epoch 35/100\n",
      "210/210 [==============================] - 3s 13ms/step - loss: 1.1092 - accuracy: 0.6672 - val_loss: 1.0967 - val_accuracy: 0.6717\n",
      "Epoch 36/100\n",
      "210/210 [==============================] - 3s 13ms/step - loss: 1.0966 - accuracy: 0.6727 - val_loss: 1.0870 - val_accuracy: 0.6733\n",
      "Epoch 37/100\n",
      "210/210 [==============================] - 3s 13ms/step - loss: 1.0857 - accuracy: 0.6753 - val_loss: 1.0972 - val_accuracy: 0.6673\n",
      "Epoch 38/100\n",
      "210/210 [==============================] - 3s 13ms/step - loss: 1.0798 - accuracy: 0.6764 - val_loss: 1.0656 - val_accuracy: 0.6817\n",
      "Epoch 39/100\n",
      "210/210 [==============================] - 3s 13ms/step - loss: 1.0699 - accuracy: 0.6788 - val_loss: 1.0558 - val_accuracy: 0.6831\n",
      "Epoch 40/100\n",
      "210/210 [==============================] - 3s 13ms/step - loss: 1.0564 - accuracy: 0.6830 - val_loss: 1.0545 - val_accuracy: 0.6810\n",
      "Epoch 41/100\n",
      "210/210 [==============================] - 3s 13ms/step - loss: 1.0468 - accuracy: 0.6862 - val_loss: 1.0364 - val_accuracy: 0.6901\n",
      "Epoch 42/100\n",
      "210/210 [==============================] - 3s 13ms/step - loss: 1.0372 - accuracy: 0.6871 - val_loss: 1.0235 - val_accuracy: 0.6924\n",
      "Epoch 43/100\n",
      "210/210 [==============================] - 3s 13ms/step - loss: 1.0284 - accuracy: 0.6924 - val_loss: 1.0245 - val_accuracy: 0.6906\n",
      "Epoch 44/100\n",
      "210/210 [==============================] - 3s 13ms/step - loss: 1.0200 - accuracy: 0.6936 - val_loss: 1.0121 - val_accuracy: 0.6972\n",
      "Epoch 45/100\n",
      "210/210 [==============================] - 3s 13ms/step - loss: 1.0130 - accuracy: 0.6960 - val_loss: 0.9975 - val_accuracy: 0.7023\n",
      "Epoch 46/100\n",
      "210/210 [==============================] - 3s 13ms/step - loss: 1.0031 - accuracy: 0.6998 - val_loss: 0.9916 - val_accuracy: 0.7039\n",
      "Epoch 47/100\n",
      "210/210 [==============================] - 3s 13ms/step - loss: 0.9965 - accuracy: 0.7008 - val_loss: 0.9973 - val_accuracy: 0.6984\n",
      "Epoch 48/100\n",
      "210/210 [==============================] - 3s 13ms/step - loss: 0.9840 - accuracy: 0.7057 - val_loss: 0.9848 - val_accuracy: 0.7042\n",
      "Epoch 49/100\n",
      "210/210 [==============================] - 3s 13ms/step - loss: 0.9771 - accuracy: 0.7073 - val_loss: 0.9942 - val_accuracy: 0.6969\n",
      "Epoch 50/100\n",
      "210/210 [==============================] - 3s 13ms/step - loss: 0.9730 - accuracy: 0.7075 - val_loss: 0.9717 - val_accuracy: 0.7078\n",
      "Epoch 51/100\n",
      "210/210 [==============================] - 3s 13ms/step - loss: 0.9666 - accuracy: 0.7080 - val_loss: 0.9624 - val_accuracy: 0.7090\n",
      "Epoch 52/100\n",
      "210/210 [==============================] - 3s 13ms/step - loss: 0.9553 - accuracy: 0.7118 - val_loss: 0.9650 - val_accuracy: 0.7089\n",
      "Epoch 53/100\n",
      "210/210 [==============================] - 3s 13ms/step - loss: 0.9484 - accuracy: 0.7145 - val_loss: 0.9502 - val_accuracy: 0.7145\n",
      "Epoch 54/100\n",
      "210/210 [==============================] - 3s 14ms/step - loss: 0.9413 - accuracy: 0.7174 - val_loss: 0.9338 - val_accuracy: 0.7215\n",
      "Epoch 55/100\n",
      "210/210 [==============================] - 3s 13ms/step - loss: 0.9355 - accuracy: 0.7204 - val_loss: 0.9483 - val_accuracy: 0.7127\n",
      "Epoch 56/100\n",
      "210/210 [==============================] - 3s 13ms/step - loss: 0.9271 - accuracy: 0.7218 - val_loss: 0.9197 - val_accuracy: 0.7253\n",
      "Epoch 57/100\n"
     ]
    },
    {
     "name": "stdout",
     "output_type": "stream",
     "text": [
      "210/210 [==============================] - 3s 13ms/step - loss: 0.9220 - accuracy: 0.7216 - val_loss: 0.9223 - val_accuracy: 0.7239\n",
      "Epoch 58/100\n",
      "210/210 [==============================] - 3s 13ms/step - loss: 0.9128 - accuracy: 0.7260 - val_loss: 0.9151 - val_accuracy: 0.7265\n",
      "Epoch 59/100\n",
      "210/210 [==============================] - 3s 13ms/step - loss: 0.9088 - accuracy: 0.7275 - val_loss: 0.9139 - val_accuracy: 0.7254\n",
      "Epoch 60/100\n",
      "210/210 [==============================] - 3s 13ms/step - loss: 0.8985 - accuracy: 0.7315 - val_loss: 0.9246 - val_accuracy: 0.7220\n",
      "Epoch 61/100\n",
      "210/210 [==============================] - 3s 13ms/step - loss: 0.8950 - accuracy: 0.7302 - val_loss: 0.8880 - val_accuracy: 0.7369\n",
      "Epoch 62/100\n",
      "210/210 [==============================] - 3s 13ms/step - loss: 0.8871 - accuracy: 0.7344 - val_loss: 0.8860 - val_accuracy: 0.7357\n",
      "Epoch 63/100\n",
      "210/210 [==============================] - 3s 13ms/step - loss: 0.8791 - accuracy: 0.7359 - val_loss: 0.8873 - val_accuracy: 0.7333\n",
      "Epoch 64/100\n",
      "210/210 [==============================] - 3s 13ms/step - loss: 0.8754 - accuracy: 0.7370 - val_loss: 0.8929 - val_accuracy: 0.7302\n",
      "Epoch 65/100\n",
      "210/210 [==============================] - 3s 13ms/step - loss: 0.8662 - accuracy: 0.7392 - val_loss: 0.8957 - val_accuracy: 0.7310\n",
      "Epoch 66/100\n",
      "210/210 [==============================] - 3s 13ms/step - loss: 0.8595 - accuracy: 0.7438 - val_loss: 0.8752 - val_accuracy: 0.7365\n",
      "Epoch 67/100\n",
      "210/210 [==============================] - 3s 13ms/step - loss: 0.8538 - accuracy: 0.7438 - val_loss: 0.8568 - val_accuracy: 0.7445\n",
      "Epoch 68/100\n",
      "210/210 [==============================] - 3s 13ms/step - loss: 0.8478 - accuracy: 0.7473 - val_loss: 0.8461 - val_accuracy: 0.7484\n",
      "Epoch 69/100\n",
      "210/210 [==============================] - 3s 13ms/step - loss: 0.8431 - accuracy: 0.7475 - val_loss: 0.8312 - val_accuracy: 0.7536\n",
      "Epoch 70/100\n",
      "210/210 [==============================] - 3s 13ms/step - loss: 0.8370 - accuracy: 0.7484 - val_loss: 0.8602 - val_accuracy: 0.7401\n",
      "Epoch 71/100\n",
      "210/210 [==============================] - 3s 13ms/step - loss: 0.8351 - accuracy: 0.7512 - val_loss: 0.8290 - val_accuracy: 0.7544\n",
      "Epoch 72/100\n",
      "210/210 [==============================] - 3s 13ms/step - loss: 0.8267 - accuracy: 0.7517 - val_loss: 0.8286 - val_accuracy: 0.7526\n",
      "Epoch 73/100\n",
      "210/210 [==============================] - 3s 13ms/step - loss: 0.8215 - accuracy: 0.7543 - val_loss: 0.8236 - val_accuracy: 0.7525\n",
      "Epoch 74/100\n",
      "210/210 [==============================] - 3s 13ms/step - loss: 0.8148 - accuracy: 0.7571 - val_loss: 0.8151 - val_accuracy: 0.7594\n",
      "Epoch 75/100\n",
      "210/210 [==============================] - 3s 13ms/step - loss: 0.8123 - accuracy: 0.7568 - val_loss: 0.8158 - val_accuracy: 0.7578\n",
      "Epoch 76/100\n",
      "210/210 [==============================] - 3s 13ms/step - loss: 0.8055 - accuracy: 0.7586 - val_loss: 0.7994 - val_accuracy: 0.7629\n",
      "Epoch 77/100\n",
      "210/210 [==============================] - 3s 13ms/step - loss: 0.8013 - accuracy: 0.7621 - val_loss: 0.8015 - val_accuracy: 0.7644\n",
      "Epoch 78/100\n",
      "210/210 [==============================] - 3s 13ms/step - loss: 0.7973 - accuracy: 0.7620 - val_loss: 0.8027 - val_accuracy: 0.7627\n",
      "Epoch 79/100\n",
      "210/210 [==============================] - 3s 13ms/step - loss: 0.7904 - accuracy: 0.7641 - val_loss: 0.7957 - val_accuracy: 0.7655\n",
      "Epoch 80/100\n",
      "210/210 [==============================] - 3s 13ms/step - loss: 0.7843 - accuracy: 0.7673 - val_loss: 0.7826 - val_accuracy: 0.7693\n",
      "Epoch 81/100\n",
      "210/210 [==============================] - 3s 13ms/step - loss: 0.7782 - accuracy: 0.7683 - val_loss: 0.7940 - val_accuracy: 0.7659\n",
      "Epoch 82/100\n",
      "210/210 [==============================] - 3s 13ms/step - loss: 0.7759 - accuracy: 0.7680 - val_loss: 0.7694 - val_accuracy: 0.7744\n",
      "Epoch 83/100\n",
      "210/210 [==============================] - 3s 13ms/step - loss: 0.7727 - accuracy: 0.7692 - val_loss: 0.8276 - val_accuracy: 0.7523\n",
      "Epoch 84/100\n",
      "210/210 [==============================] - 3s 13ms/step - loss: 0.7694 - accuracy: 0.7731 - val_loss: 0.7655 - val_accuracy: 0.7749\n",
      "Epoch 85/100\n",
      "210/210 [==============================] - 3s 13ms/step - loss: 0.7631 - accuracy: 0.7740 - val_loss: 0.7680 - val_accuracy: 0.7739\n",
      "Epoch 86/100\n",
      "210/210 [==============================] - 3s 13ms/step - loss: 0.7603 - accuracy: 0.7751 - val_loss: 0.7728 - val_accuracy: 0.7735\n",
      "Epoch 87/100\n",
      "210/210 [==============================] - 3s 13ms/step - loss: 0.7606 - accuracy: 0.7740 - val_loss: 0.7706 - val_accuracy: 0.7725\n",
      "Epoch 88/100\n",
      "210/210 [==============================] - 3s 13ms/step - loss: 0.7526 - accuracy: 0.7756 - val_loss: 0.7517 - val_accuracy: 0.7790\n",
      "Epoch 89/100\n",
      "210/210 [==============================] - 3s 13ms/step - loss: 0.7473 - accuracy: 0.7779 - val_loss: 0.7524 - val_accuracy: 0.7782\n",
      "Epoch 90/100\n",
      "210/210 [==============================] - 3s 13ms/step - loss: 0.7452 - accuracy: 0.7788 - val_loss: 0.7421 - val_accuracy: 0.7834\n",
      "Epoch 91/100\n",
      "210/210 [==============================] - 3s 13ms/step - loss: 0.7431 - accuracy: 0.7790 - val_loss: 0.7838 - val_accuracy: 0.7667\n",
      "Epoch 92/100\n",
      "210/210 [==============================] - 3s 13ms/step - loss: 0.7418 - accuracy: 0.7788 - val_loss: 0.7332 - val_accuracy: 0.7852\n",
      "Epoch 93/100\n",
      "210/210 [==============================] - 3s 13ms/step - loss: 0.7335 - accuracy: 0.7820 - val_loss: 0.7476 - val_accuracy: 0.7794\n",
      "Epoch 94/100\n",
      "210/210 [==============================] - 3s 13ms/step - loss: 0.7321 - accuracy: 0.7824 - val_loss: 0.7491 - val_accuracy: 0.7800\n",
      "Epoch 95/100\n",
      "210/210 [==============================] - 3s 13ms/step - loss: 0.7252 - accuracy: 0.7858 - val_loss: 0.7304 - val_accuracy: 0.7864\n",
      "Epoch 96/100\n",
      "210/210 [==============================] - 3s 14ms/step - loss: 0.7276 - accuracy: 0.7851 - val_loss: 0.7363 - val_accuracy: 0.7829\n",
      "Epoch 97/100\n",
      "210/210 [==============================] - 3s 13ms/step - loss: 0.7205 - accuracy: 0.7856 - val_loss: 0.7912 - val_accuracy: 0.7618\n",
      "Epoch 98/100\n",
      "210/210 [==============================] - 3s 13ms/step - loss: 0.7159 - accuracy: 0.7880 - val_loss: 0.7367 - val_accuracy: 0.7818\n",
      "Epoch 99/100\n",
      "210/210 [==============================] - 3s 13ms/step - loss: 0.7150 - accuracy: 0.7875 - val_loss: 0.8043 - val_accuracy: 0.7580\n",
      "Epoch 100/100\n",
      "210/210 [==============================] - 3s 13ms/step - loss: 0.7125 - accuracy: 0.7890 - val_loss: 0.7392 - val_accuracy: 0.7822\n"
     ]
    }
   ],
   "source": [
    "# compiling the neural network classifier, sgd optimizer\n",
    "sgd = optimizers.SGD(lr = 0.01)\n",
    "model2.compile(optimizer = sgd, loss = 'categorical_crossentropy', metrics = ['accuracy'])\n",
    "\n",
    "# Fitting the neural network for training\n",
    "history = model2.fit(X_train, y_train, validation_data = (X_val, y_val), batch_size = 200, epochs = 100, verbose = 1)"
   ]
  },
  {
   "cell_type": "code",
   "execution_count": 37,
   "metadata": {
    "colab": {
     "base_uri": "https://localhost:8080/",
     "height": 88
    },
    "colab_type": "code",
    "id": "RGwKAGtRDEm8",
    "outputId": "071ffd46-eaf6-4cd6-ad9f-d03e610e4ffe"
   },
   "outputs": [
    {
     "name": "stdout",
     "output_type": "stream",
     "text": [
      "Evaluate NN model with relu activations\n",
      "--------------------------------------------------------------------------------\n",
      "1875/1875 [==============================] - 11s 6ms/step - loss: 0.7392 - accuracy: 0.7822\n",
      "Validation accuracy: 78.22\n"
     ]
    }
   ],
   "source": [
    "print('Evaluate NN model with relu activations'); print('--'*40)\n",
    "results2 = model2.evaluate(X_val, y_val)\n",
    "print('Validation accuracy: {}'.format(round(results2[1]*100, 2), '%'))"
   ]
  },
  {
   "cell_type": "markdown",
   "metadata": {
    "colab_type": "text",
    "id": "4p0ZX0GTRRyG"
   },
   "source": [
    "#### NN model, relu activations, SGD optimizer, changing learning rate"
   ]
  },
  {
   "cell_type": "code",
   "execution_count": 38,
   "metadata": {
    "colab": {
     "base_uri": "https://localhost:8080/",
     "height": 1000
    },
    "colab_type": "code",
    "id": "DWIBrdDdGnDY",
    "outputId": "9bf968c3-4375-4a81-daf3-aa8f6f228898"
   },
   "outputs": [
    {
     "name": "stderr",
     "output_type": "stream",
     "text": [
      "WARNING:absl:At this time, the v2.11+ optimizer `tf.keras.optimizers.SGD` runs slowly on M1/M2 Macs, please use the legacy Keras optimizer instead, located at `tf.keras.optimizers.legacy.SGD`.\n",
      "WARNING:absl:`lr` is deprecated in Keras optimizer, please use `learning_rate` or use the legacy optimizer, e.g.,tf.keras.optimizers.legacy.SGD.\n",
      "WARNING:absl:There is a known slowdown when using v2.11+ Keras optimizers on M1/M2 Macs. Falling back to the legacy Keras optimizer, i.e., `tf.keras.optimizers.legacy.SGD`.\n"
     ]
    },
    {
     "name": "stdout",
     "output_type": "stream",
     "text": [
      "CPU times: user 1 µs, sys: 1e+03 ns, total: 2 µs\n",
      "Wall time: 4.05 µs\n",
      "NN model with relu activations and sgd optimizers - changing learning rate\n",
      "--------------------------------------------------------------------------------\n",
      "Epoch 1/100\n",
      "210/210 [==============================] - 3s 15ms/step - loss: 0.7101 - accuracy: 0.7913 - val_loss: 0.7461 - val_accuracy: 0.7786\n",
      "Epoch 2/100\n",
      "210/210 [==============================] - 3s 14ms/step - loss: 0.7129 - accuracy: 0.7894 - val_loss: 0.7134 - val_accuracy: 0.7906\n",
      "Epoch 3/100\n",
      "210/210 [==============================] - 3s 13ms/step - loss: 0.7002 - accuracy: 0.7930 - val_loss: 0.7014 - val_accuracy: 0.7949\n",
      "Epoch 4/100\n",
      "210/210 [==============================] - 3s 13ms/step - loss: 0.7032 - accuracy: 0.7909 - val_loss: 0.6977 - val_accuracy: 0.7985\n",
      "Epoch 5/100\n",
      "210/210 [==============================] - 3s 13ms/step - loss: 0.6937 - accuracy: 0.7942 - val_loss: 0.7052 - val_accuracy: 0.7935\n",
      "Epoch 6/100\n",
      "210/210 [==============================] - 3s 13ms/step - loss: 0.6922 - accuracy: 0.7952 - val_loss: 0.6968 - val_accuracy: 0.7950\n",
      "Epoch 7/100\n",
      "210/210 [==============================] - 3s 14ms/step - loss: 0.6903 - accuracy: 0.7952 - val_loss: 0.6963 - val_accuracy: 0.7968\n",
      "Epoch 8/100\n",
      "210/210 [==============================] - 3s 14ms/step - loss: 0.6921 - accuracy: 0.7955 - val_loss: 0.7127 - val_accuracy: 0.7900\n",
      "Epoch 9/100\n",
      "210/210 [==============================] - 3s 14ms/step - loss: 0.6840 - accuracy: 0.7977 - val_loss: 0.7231 - val_accuracy: 0.7849\n",
      "Epoch 10/100\n",
      "210/210 [==============================] - 3s 13ms/step - loss: 0.6803 - accuracy: 0.7979 - val_loss: 0.7005 - val_accuracy: 0.7919\n",
      "Epoch 11/100\n",
      "210/210 [==============================] - 3s 14ms/step - loss: 0.6787 - accuracy: 0.7994 - val_loss: 0.6865 - val_accuracy: 0.8007\n",
      "Epoch 12/100\n",
      "210/210 [==============================] - 3s 16ms/step - loss: 0.6786 - accuracy: 0.7969 - val_loss: 0.6961 - val_accuracy: 0.7941\n",
      "Epoch 13/100\n",
      "210/210 [==============================] - 3s 13ms/step - loss: 0.6764 - accuracy: 0.8003 - val_loss: 0.6880 - val_accuracy: 0.7974\n",
      "Epoch 14/100\n",
      "210/210 [==============================] - 3s 13ms/step - loss: 0.6762 - accuracy: 0.8011 - val_loss: 0.6719 - val_accuracy: 0.8043\n",
      "Epoch 15/100\n",
      "210/210 [==============================] - 3s 13ms/step - loss: 0.6699 - accuracy: 0.8006 - val_loss: 0.6831 - val_accuracy: 0.7981\n",
      "Epoch 16/100\n",
      "210/210 [==============================] - 3s 13ms/step - loss: 0.6686 - accuracy: 0.8026 - val_loss: 0.7051 - val_accuracy: 0.7908\n",
      "Epoch 17/100\n",
      "210/210 [==============================] - 3s 13ms/step - loss: 0.6666 - accuracy: 0.8015 - val_loss: 0.6699 - val_accuracy: 0.8037\n",
      "Epoch 18/100\n",
      "210/210 [==============================] - 3s 13ms/step - loss: 0.6608 - accuracy: 0.8023 - val_loss: 0.6976 - val_accuracy: 0.7948\n",
      "Epoch 19/100\n",
      "210/210 [==============================] - 3s 13ms/step - loss: 0.6619 - accuracy: 0.8031 - val_loss: 0.7085 - val_accuracy: 0.7890\n",
      "Epoch 20/100\n",
      "210/210 [==============================] - 3s 13ms/step - loss: 0.6580 - accuracy: 0.8038 - val_loss: 0.6828 - val_accuracy: 0.7980\n",
      "Epoch 21/100\n",
      "210/210 [==============================] - 3s 13ms/step - loss: 0.6548 - accuracy: 0.8057 - val_loss: 0.6719 - val_accuracy: 0.8044\n",
      "Epoch 22/100\n",
      "210/210 [==============================] - 3s 13ms/step - loss: 0.6534 - accuracy: 0.8065 - val_loss: 0.6774 - val_accuracy: 0.8003\n",
      "Epoch 23/100\n",
      "210/210 [==============================] - 3s 13ms/step - loss: 0.6475 - accuracy: 0.8079 - val_loss: 0.6520 - val_accuracy: 0.8096\n",
      "Epoch 24/100\n",
      "210/210 [==============================] - 3s 13ms/step - loss: 0.6498 - accuracy: 0.8066 - val_loss: 0.7346 - val_accuracy: 0.7809\n",
      "Epoch 25/100\n",
      "210/210 [==============================] - 3s 13ms/step - loss: 0.6430 - accuracy: 0.8093 - val_loss: 0.6737 - val_accuracy: 0.8006\n",
      "Epoch 26/100\n",
      "210/210 [==============================] - 3s 14ms/step - loss: 0.6444 - accuracy: 0.8098 - val_loss: 0.6775 - val_accuracy: 0.7982\n",
      "Epoch 27/100\n",
      "210/210 [==============================] - 3s 13ms/step - loss: 0.6448 - accuracy: 0.8073 - val_loss: 0.6746 - val_accuracy: 0.7975\n",
      "Epoch 28/100\n",
      "210/210 [==============================] - 3s 13ms/step - loss: 0.6426 - accuracy: 0.8080 - val_loss: 0.6475 - val_accuracy: 0.8103\n",
      "Epoch 29/100\n",
      "210/210 [==============================] - 3s 13ms/step - loss: 0.6377 - accuracy: 0.8102 - val_loss: 0.6679 - val_accuracy: 0.8028\n",
      "Epoch 30/100\n",
      "210/210 [==============================] - 3s 13ms/step - loss: 0.6334 - accuracy: 0.8117 - val_loss: 0.6410 - val_accuracy: 0.8128\n",
      "Epoch 31/100\n",
      "210/210 [==============================] - 3s 13ms/step - loss: 0.6398 - accuracy: 0.8091 - val_loss: 0.6441 - val_accuracy: 0.8115\n",
      "Epoch 32/100\n",
      "210/210 [==============================] - 3s 14ms/step - loss: 0.6288 - accuracy: 0.8132 - val_loss: 0.6580 - val_accuracy: 0.8056\n",
      "Epoch 33/100\n",
      "210/210 [==============================] - 3s 13ms/step - loss: 0.6331 - accuracy: 0.8123 - val_loss: 0.7588 - val_accuracy: 0.7735\n",
      "Epoch 34/100\n",
      "210/210 [==============================] - 3s 13ms/step - loss: 0.6222 - accuracy: 0.8158 - val_loss: 0.6461 - val_accuracy: 0.8081\n",
      "Epoch 35/100\n",
      "210/210 [==============================] - 3s 13ms/step - loss: 0.6273 - accuracy: 0.8130 - val_loss: 0.6350 - val_accuracy: 0.8138\n",
      "Epoch 36/100\n",
      "210/210 [==============================] - 3s 15ms/step - loss: 0.6235 - accuracy: 0.8153 - val_loss: 0.6918 - val_accuracy: 0.7922\n",
      "Epoch 37/100\n",
      "210/210 [==============================] - 3s 13ms/step - loss: 0.6211 - accuracy: 0.8163 - val_loss: 0.6532 - val_accuracy: 0.8059\n",
      "Epoch 38/100\n",
      "210/210 [==============================] - 3s 13ms/step - loss: 0.6232 - accuracy: 0.8149 - val_loss: 0.6379 - val_accuracy: 0.8138\n",
      "Epoch 39/100\n",
      "210/210 [==============================] - 3s 14ms/step - loss: 0.6180 - accuracy: 0.8153 - val_loss: 0.6865 - val_accuracy: 0.7928\n",
      "Epoch 40/100\n",
      "210/210 [==============================] - 3s 13ms/step - loss: 0.6164 - accuracy: 0.8179 - val_loss: 0.7053 - val_accuracy: 0.7885\n",
      "Epoch 41/100\n",
      "210/210 [==============================] - 3s 13ms/step - loss: 0.6136 - accuracy: 0.8179 - val_loss: 0.6219 - val_accuracy: 0.8185\n",
      "Epoch 42/100\n",
      "210/210 [==============================] - 3s 13ms/step - loss: 0.6092 - accuracy: 0.8197 - val_loss: 0.6293 - val_accuracy: 0.8157\n",
      "Epoch 43/100\n",
      "210/210 [==============================] - 3s 13ms/step - loss: 0.6117 - accuracy: 0.8178 - val_loss: 0.6631 - val_accuracy: 0.8030\n",
      "Epoch 44/100\n",
      "210/210 [==============================] - 3s 13ms/step - loss: 0.6087 - accuracy: 0.8200 - val_loss: 0.6255 - val_accuracy: 0.8172\n",
      "Epoch 45/100\n",
      "210/210 [==============================] - 3s 13ms/step - loss: 0.6092 - accuracy: 0.8192 - val_loss: 0.6100 - val_accuracy: 0.8231\n",
      "Epoch 46/100\n",
      "210/210 [==============================] - 3s 14ms/step - loss: 0.6039 - accuracy: 0.8212 - val_loss: 0.6124 - val_accuracy: 0.8212\n",
      "Epoch 47/100\n",
      "210/210 [==============================] - 3s 13ms/step - loss: 0.6072 - accuracy: 0.8200 - val_loss: 0.6358 - val_accuracy: 0.8142\n",
      "Epoch 48/100\n",
      "210/210 [==============================] - 3s 13ms/step - loss: 0.5969 - accuracy: 0.8229 - val_loss: 0.6139 - val_accuracy: 0.8215\n",
      "Epoch 49/100\n",
      "210/210 [==============================] - 3s 13ms/step - loss: 0.5987 - accuracy: 0.8220 - val_loss: 0.6224 - val_accuracy: 0.8175\n",
      "Epoch 50/100\n",
      "210/210 [==============================] - 3s 14ms/step - loss: 0.6024 - accuracy: 0.8218 - val_loss: 0.6262 - val_accuracy: 0.8155\n",
      "Epoch 51/100\n",
      "210/210 [==============================] - 3s 13ms/step - loss: 0.5980 - accuracy: 0.8241 - val_loss: 0.6261 - val_accuracy: 0.8162\n",
      "Epoch 52/100\n",
      "210/210 [==============================] - 3s 13ms/step - loss: 0.5940 - accuracy: 0.8227 - val_loss: 0.6233 - val_accuracy: 0.8161\n",
      "Epoch 53/100\n",
      "210/210 [==============================] - 3s 13ms/step - loss: 0.5930 - accuracy: 0.8237 - val_loss: 0.6352 - val_accuracy: 0.8130\n",
      "Epoch 54/100\n",
      "210/210 [==============================] - 3s 13ms/step - loss: 0.5938 - accuracy: 0.8240 - val_loss: 0.6229 - val_accuracy: 0.8155\n",
      "Epoch 55/100\n",
      "210/210 [==============================] - 3s 13ms/step - loss: 0.5930 - accuracy: 0.8240 - val_loss: 0.6514 - val_accuracy: 0.8099\n",
      "Epoch 56/100\n"
     ]
    },
    {
     "name": "stdout",
     "output_type": "stream",
     "text": [
      "210/210 [==============================] - 3s 13ms/step - loss: 0.5877 - accuracy: 0.8262 - val_loss: 0.6052 - val_accuracy: 0.8228\n",
      "Epoch 57/100\n",
      "210/210 [==============================] - 3s 13ms/step - loss: 0.5865 - accuracy: 0.8252 - val_loss: 0.6291 - val_accuracy: 0.8117\n",
      "Epoch 58/100\n",
      "210/210 [==============================] - 3s 13ms/step - loss: 0.5829 - accuracy: 0.8269 - val_loss: 0.5951 - val_accuracy: 0.8267\n",
      "Epoch 59/100\n",
      "210/210 [==============================] - 3s 13ms/step - loss: 0.5838 - accuracy: 0.8269 - val_loss: 0.5963 - val_accuracy: 0.8269\n",
      "Epoch 60/100\n",
      "210/210 [==============================] - 3s 13ms/step - loss: 0.5790 - accuracy: 0.8283 - val_loss: 0.6451 - val_accuracy: 0.8105\n",
      "Epoch 61/100\n",
      "210/210 [==============================] - 3s 13ms/step - loss: 0.5836 - accuracy: 0.8261 - val_loss: 0.5876 - val_accuracy: 0.8298\n",
      "Epoch 62/100\n",
      "210/210 [==============================] - 3s 13ms/step - loss: 0.5783 - accuracy: 0.8275 - val_loss: 0.6659 - val_accuracy: 0.8034\n",
      "Epoch 63/100\n",
      "210/210 [==============================] - 3s 13ms/step - loss: 0.5764 - accuracy: 0.8295 - val_loss: 0.6331 - val_accuracy: 0.8100\n",
      "Epoch 64/100\n",
      "210/210 [==============================] - 3s 13ms/step - loss: 0.5756 - accuracy: 0.8298 - val_loss: 0.6239 - val_accuracy: 0.8144\n",
      "Epoch 65/100\n",
      "210/210 [==============================] - 3s 13ms/step - loss: 0.5704 - accuracy: 0.8310 - val_loss: 0.6635 - val_accuracy: 0.8013\n",
      "Epoch 66/100\n",
      "210/210 [==============================] - 3s 14ms/step - loss: 0.5713 - accuracy: 0.8305 - val_loss: 0.6913 - val_accuracy: 0.7921\n",
      "Epoch 67/100\n",
      "210/210 [==============================] - 3s 13ms/step - loss: 0.5708 - accuracy: 0.8308 - val_loss: 0.6009 - val_accuracy: 0.8238\n",
      "Epoch 68/100\n",
      "210/210 [==============================] - 3s 13ms/step - loss: 0.5676 - accuracy: 0.8314 - val_loss: 0.6024 - val_accuracy: 0.8228\n",
      "Epoch 69/100\n",
      "210/210 [==============================] - 3s 13ms/step - loss: 0.5645 - accuracy: 0.8310 - val_loss: 0.5801 - val_accuracy: 0.8303\n",
      "Epoch 70/100\n",
      "210/210 [==============================] - 3s 13ms/step - loss: 0.5681 - accuracy: 0.8307 - val_loss: 0.5918 - val_accuracy: 0.8268\n",
      "Epoch 71/100\n",
      "210/210 [==============================] - 3s 13ms/step - loss: 0.5665 - accuracy: 0.8319 - val_loss: 0.5719 - val_accuracy: 0.8332\n",
      "Epoch 72/100\n",
      "210/210 [==============================] - 3s 13ms/step - loss: 0.5629 - accuracy: 0.8329 - val_loss: 0.5982 - val_accuracy: 0.8248\n",
      "Epoch 73/100\n",
      "210/210 [==============================] - 3s 13ms/step - loss: 0.5620 - accuracy: 0.8330 - val_loss: 0.5980 - val_accuracy: 0.8230\n",
      "Epoch 74/100\n",
      "210/210 [==============================] - 3s 13ms/step - loss: 0.5584 - accuracy: 0.8333 - val_loss: 0.5789 - val_accuracy: 0.8318\n",
      "Epoch 75/100\n",
      "210/210 [==============================] - 3s 13ms/step - loss: 0.5625 - accuracy: 0.8322 - val_loss: 0.5916 - val_accuracy: 0.8269\n",
      "Epoch 76/100\n",
      "210/210 [==============================] - 3s 13ms/step - loss: 0.5591 - accuracy: 0.8326 - val_loss: 0.5776 - val_accuracy: 0.8311\n",
      "Epoch 77/100\n",
      "210/210 [==============================] - 3s 13ms/step - loss: 0.5547 - accuracy: 0.8360 - val_loss: 0.6049 - val_accuracy: 0.8226\n",
      "Epoch 78/100\n",
      "210/210 [==============================] - 3s 13ms/step - loss: 0.5567 - accuracy: 0.8346 - val_loss: 0.5862 - val_accuracy: 0.8291\n",
      "Epoch 79/100\n",
      "210/210 [==============================] - 3s 13ms/step - loss: 0.5510 - accuracy: 0.8359 - val_loss: 0.5817 - val_accuracy: 0.8299\n",
      "Epoch 80/100\n",
      "210/210 [==============================] - 3s 13ms/step - loss: 0.5525 - accuracy: 0.8361 - val_loss: 0.5577 - val_accuracy: 0.8388\n",
      "Epoch 81/100\n",
      "210/210 [==============================] - 3s 13ms/step - loss: 0.5480 - accuracy: 0.8371 - val_loss: 0.5899 - val_accuracy: 0.8277\n",
      "Epoch 82/100\n",
      "210/210 [==============================] - 3s 13ms/step - loss: 0.5472 - accuracy: 0.8371 - val_loss: 0.5669 - val_accuracy: 0.8351\n",
      "Epoch 83/100\n",
      "210/210 [==============================] - 3s 13ms/step - loss: 0.5471 - accuracy: 0.8381 - val_loss: 0.5696 - val_accuracy: 0.8345\n",
      "Epoch 84/100\n",
      "210/210 [==============================] - 3s 13ms/step - loss: 0.5444 - accuracy: 0.8378 - val_loss: 0.5654 - val_accuracy: 0.8360\n",
      "Epoch 85/100\n",
      "210/210 [==============================] - 3s 13ms/step - loss: 0.5418 - accuracy: 0.8391 - val_loss: 0.5699 - val_accuracy: 0.8339\n",
      "Epoch 86/100\n",
      "210/210 [==============================] - 3s 13ms/step - loss: 0.5464 - accuracy: 0.8381 - val_loss: 0.5964 - val_accuracy: 0.8233\n",
      "Epoch 87/100\n",
      "210/210 [==============================] - 3s 13ms/step - loss: 0.5456 - accuracy: 0.8380 - val_loss: 0.6136 - val_accuracy: 0.8182\n",
      "Epoch 88/100\n",
      "210/210 [==============================] - 3s 13ms/step - loss: 0.5402 - accuracy: 0.8401 - val_loss: 0.5762 - val_accuracy: 0.8300\n",
      "Epoch 89/100\n",
      "210/210 [==============================] - 3s 13ms/step - loss: 0.5379 - accuracy: 0.8399 - val_loss: 0.5650 - val_accuracy: 0.8351\n",
      "Epoch 90/100\n",
      "210/210 [==============================] - 3s 13ms/step - loss: 0.5384 - accuracy: 0.8397 - val_loss: 0.5705 - val_accuracy: 0.8337\n",
      "Epoch 91/100\n",
      "210/210 [==============================] - 3s 13ms/step - loss: 0.5402 - accuracy: 0.8395 - val_loss: 0.6256 - val_accuracy: 0.8149\n",
      "Epoch 92/100\n",
      "210/210 [==============================] - 3s 13ms/step - loss: 0.5403 - accuracy: 0.8410 - val_loss: 0.5608 - val_accuracy: 0.8371\n",
      "Epoch 93/100\n",
      "210/210 [==============================] - 3s 13ms/step - loss: 0.5326 - accuracy: 0.8422 - val_loss: 0.5529 - val_accuracy: 0.8399\n",
      "Epoch 94/100\n",
      "210/210 [==============================] - 3s 13ms/step - loss: 0.5334 - accuracy: 0.8411 - val_loss: 0.5785 - val_accuracy: 0.8320\n",
      "Epoch 95/100\n",
      "210/210 [==============================] - 3s 13ms/step - loss: 0.5315 - accuracy: 0.8429 - val_loss: 0.5455 - val_accuracy: 0.8419\n",
      "Epoch 96/100\n",
      "210/210 [==============================] - 3s 13ms/step - loss: 0.5353 - accuracy: 0.8407 - val_loss: 0.5741 - val_accuracy: 0.8328\n",
      "Epoch 97/100\n",
      "210/210 [==============================] - 3s 13ms/step - loss: 0.5285 - accuracy: 0.8430 - val_loss: 0.5937 - val_accuracy: 0.8252\n",
      "Epoch 98/100\n",
      "210/210 [==============================] - 3s 13ms/step - loss: 0.5305 - accuracy: 0.8420 - val_loss: 0.5691 - val_accuracy: 0.8326\n",
      "Epoch 99/100\n",
      "210/210 [==============================] - 3s 13ms/step - loss: 0.5257 - accuracy: 0.8438 - val_loss: 0.5939 - val_accuracy: 0.8254\n",
      "Epoch 100/100\n",
      "210/210 [==============================] - 3s 13ms/step - loss: 0.5278 - accuracy: 0.8430 - val_loss: 0.5583 - val_accuracy: 0.8378\n"
     ]
    }
   ],
   "source": [
    "%time\n",
    "print('NN model with relu activations and sgd optimizers - changing learning rate'); print('--'*40)\n",
    "# compiling the neural network classifier, sgd optimizer\n",
    "sgd = optimizers.SGD(lr = 0.001)\n",
    "model2.compile(optimizer = sgd, loss = 'categorical_crossentropy', metrics = ['accuracy'])\n",
    "\n",
    "# Fitting the neural network for training\n",
    "history = model2.fit(X_train, y_train, validation_data = (X_val, y_val), batch_size = 200, epochs = 100, verbose = 1)"
   ]
  },
  {
   "cell_type": "code",
   "execution_count": 39,
   "metadata": {
    "colab": {
     "base_uri": "https://localhost:8080/",
     "height": 88
    },
    "colab_type": "code",
    "id": "9O9KhqH5HMWW",
    "outputId": "03347a3f-e86f-45b9-dce0-8d47001f6b07"
   },
   "outputs": [
    {
     "name": "stdout",
     "output_type": "stream",
     "text": [
      "Evaluate NN model with relu activations\n",
      "--------------------------------------------------------------------------------\n",
      "1875/1875 [==============================] - 13s 6ms/step - loss: 0.5583 - accuracy: 0.8378\n",
      "Validation accuracy: 83.78\n"
     ]
    }
   ],
   "source": [
    "print('Evaluate NN model with relu activations'); print('--'*40)\n",
    "results2 = model2.evaluate(X_val, y_val)\n",
    "print('Validation accuracy: {}'.format(round(results2[1]*100, 2), '%'))"
   ]
  },
  {
   "cell_type": "markdown",
   "metadata": {
    "colab_type": "text",
    "id": "CKJFAr9JRfJJ"
   },
   "source": [
    "#### NN model, relu activations, adam optimizer"
   ]
  },
  {
   "cell_type": "code",
   "execution_count": 40,
   "metadata": {
    "colab": {
     "base_uri": "https://localhost:8080/",
     "height": 1000
    },
    "colab_type": "code",
    "id": "9Q8PtyA-Jw74",
    "outputId": "15020f47-a35d-45bf-9090-cd6556442388"
   },
   "outputs": [
    {
     "name": "stderr",
     "output_type": "stream",
     "text": [
      "WARNING:absl:At this time, the v2.11+ optimizer `tf.keras.optimizers.Adam` runs slowly on M1/M2 Macs, please use the legacy Keras optimizer instead, located at `tf.keras.optimizers.legacy.Adam`.\n",
      "WARNING:absl:`lr` is deprecated in Keras optimizer, please use `learning_rate` or use the legacy optimizer, e.g.,tf.keras.optimizers.legacy.Adam.\n",
      "WARNING:absl:There is a known slowdown when using v2.11+ Keras optimizers on M1/M2 Macs. Falling back to the legacy Keras optimizer, i.e., `tf.keras.optimizers.legacy.Adam`.\n"
     ]
    },
    {
     "name": "stdout",
     "output_type": "stream",
     "text": [
      "CPU times: user 1 µs, sys: 1 µs, total: 2 µs\n",
      "Wall time: 4.05 µs\n",
      "NN model with relu activations and adam optimizer\n",
      "--------------------------------------------------------------------------------\n",
      "Epoch 1/100\n",
      "210/210 [==============================] - 4s 15ms/step - loss: 0.6963 - accuracy: 0.7902 - val_loss: 0.6798 - val_accuracy: 0.7922\n",
      "Epoch 2/100\n",
      "210/210 [==============================] - 3s 14ms/step - loss: 0.6482 - accuracy: 0.8024 - val_loss: 0.6936 - val_accuracy: 0.7890\n",
      "Epoch 3/100\n",
      "210/210 [==============================] - 3s 14ms/step - loss: 0.6470 - accuracy: 0.8020 - val_loss: 0.6240 - val_accuracy: 0.8145\n",
      "Epoch 4/100\n",
      "210/210 [==============================] - 3s 14ms/step - loss: 0.6443 - accuracy: 0.8044 - val_loss: 0.6511 - val_accuracy: 0.8053\n",
      "Epoch 5/100\n",
      "210/210 [==============================] - 3s 14ms/step - loss: 0.6410 - accuracy: 0.8063 - val_loss: 0.6743 - val_accuracy: 0.7944\n",
      "Epoch 6/100\n",
      "210/210 [==============================] - 3s 14ms/step - loss: 0.6258 - accuracy: 0.8088 - val_loss: 0.6223 - val_accuracy: 0.8151\n",
      "Epoch 7/100\n",
      "210/210 [==============================] - 3s 14ms/step - loss: 0.6256 - accuracy: 0.8107 - val_loss: 0.6184 - val_accuracy: 0.8137\n",
      "Epoch 8/100\n",
      "210/210 [==============================] - 3s 14ms/step - loss: 0.6195 - accuracy: 0.8120 - val_loss: 0.6051 - val_accuracy: 0.8187\n",
      "Epoch 9/100\n",
      "210/210 [==============================] - 3s 14ms/step - loss: 0.6142 - accuracy: 0.8118 - val_loss: 0.6201 - val_accuracy: 0.8152\n",
      "Epoch 10/100\n",
      "210/210 [==============================] - 3s 14ms/step - loss: 0.5883 - accuracy: 0.8235 - val_loss: 0.6386 - val_accuracy: 0.8077\n",
      "Epoch 11/100\n",
      "210/210 [==============================] - 3s 14ms/step - loss: 0.5931 - accuracy: 0.8196 - val_loss: 0.6803 - val_accuracy: 0.7943\n",
      "Epoch 12/100\n",
      "210/210 [==============================] - 3s 14ms/step - loss: 0.5922 - accuracy: 0.8208 - val_loss: 0.5660 - val_accuracy: 0.8333\n",
      "Epoch 13/100\n",
      "210/210 [==============================] - 3s 14ms/step - loss: 0.5758 - accuracy: 0.8241 - val_loss: 0.6280 - val_accuracy: 0.8140\n",
      "Epoch 14/100\n",
      "210/210 [==============================] - 3s 14ms/step - loss: 0.5986 - accuracy: 0.8177 - val_loss: 0.6330 - val_accuracy: 0.8128\n",
      "Epoch 15/100\n",
      "210/210 [==============================] - 3s 14ms/step - loss: 0.5739 - accuracy: 0.8257 - val_loss: 0.6186 - val_accuracy: 0.8181\n",
      "Epoch 16/100\n",
      "210/210 [==============================] - 3s 14ms/step - loss: 0.5719 - accuracy: 0.8277 - val_loss: 0.6557 - val_accuracy: 0.8051\n",
      "Epoch 17/100\n",
      "210/210 [==============================] - 3s 14ms/step - loss: 0.5762 - accuracy: 0.8271 - val_loss: 0.6202 - val_accuracy: 0.8149\n",
      "Epoch 18/100\n",
      "210/210 [==============================] - 3s 14ms/step - loss: 0.5610 - accuracy: 0.8286 - val_loss: 0.5589 - val_accuracy: 0.8368\n",
      "Epoch 19/100\n",
      "210/210 [==============================] - 3s 14ms/step - loss: 0.5554 - accuracy: 0.8309 - val_loss: 0.5616 - val_accuracy: 0.8323\n",
      "Epoch 20/100\n",
      "210/210 [==============================] - 3s 14ms/step - loss: 0.5423 - accuracy: 0.8345 - val_loss: 0.5915 - val_accuracy: 0.8242\n",
      "Epoch 21/100\n",
      "210/210 [==============================] - 3s 14ms/step - loss: 0.5439 - accuracy: 0.8337 - val_loss: 0.5707 - val_accuracy: 0.8314\n",
      "Epoch 22/100\n",
      "210/210 [==============================] - 3s 14ms/step - loss: 0.5416 - accuracy: 0.8357 - val_loss: 0.6380 - val_accuracy: 0.8092\n",
      "Epoch 23/100\n",
      "210/210 [==============================] - 3s 14ms/step - loss: 0.5524 - accuracy: 0.8327 - val_loss: 0.5899 - val_accuracy: 0.8234\n",
      "Epoch 24/100\n",
      "210/210 [==============================] - 3s 14ms/step - loss: 0.5387 - accuracy: 0.8368 - val_loss: 0.5774 - val_accuracy: 0.8292\n",
      "Epoch 25/100\n",
      "210/210 [==============================] - 3s 14ms/step - loss: 0.5334 - accuracy: 0.8383 - val_loss: 0.5752 - val_accuracy: 0.8290\n",
      "Epoch 26/100\n",
      "210/210 [==============================] - 3s 14ms/step - loss: 0.5322 - accuracy: 0.8368 - val_loss: 0.5687 - val_accuracy: 0.8296\n",
      "Epoch 27/100\n",
      "210/210 [==============================] - 3s 14ms/step - loss: 0.5296 - accuracy: 0.8386 - val_loss: 0.6095 - val_accuracy: 0.8166\n",
      "Epoch 28/100\n",
      "210/210 [==============================] - 3s 14ms/step - loss: 0.5334 - accuracy: 0.8360 - val_loss: 0.5478 - val_accuracy: 0.8371\n",
      "Epoch 29/100\n",
      "210/210 [==============================] - 3s 14ms/step - loss: 0.5215 - accuracy: 0.8418 - val_loss: 0.5467 - val_accuracy: 0.8378\n",
      "Epoch 30/100\n",
      "210/210 [==============================] - 3s 14ms/step - loss: 0.5095 - accuracy: 0.8448 - val_loss: 0.5947 - val_accuracy: 0.8233\n",
      "Epoch 31/100\n",
      "210/210 [==============================] - 3s 14ms/step - loss: 0.5135 - accuracy: 0.8448 - val_loss: 0.5896 - val_accuracy: 0.8247\n",
      "Epoch 32/100\n",
      "210/210 [==============================] - 3s 14ms/step - loss: 0.5035 - accuracy: 0.8470 - val_loss: 0.5350 - val_accuracy: 0.8439\n",
      "Epoch 33/100\n",
      "210/210 [==============================] - 3s 14ms/step - loss: 0.4988 - accuracy: 0.8474 - val_loss: 0.5239 - val_accuracy: 0.8478\n",
      "Epoch 34/100\n",
      "210/210 [==============================] - 3s 14ms/step - loss: 0.4958 - accuracy: 0.8494 - val_loss: 0.5842 - val_accuracy: 0.8229\n",
      "Epoch 35/100\n",
      "210/210 [==============================] - 3s 14ms/step - loss: 0.5098 - accuracy: 0.8429 - val_loss: 0.5506 - val_accuracy: 0.8360\n",
      "Epoch 36/100\n",
      "210/210 [==============================] - 3s 14ms/step - loss: 0.4951 - accuracy: 0.8472 - val_loss: 0.4991 - val_accuracy: 0.8536\n",
      "Epoch 37/100\n",
      "210/210 [==============================] - 3s 13ms/step - loss: 0.4932 - accuracy: 0.8492 - val_loss: 0.5118 - val_accuracy: 0.8512\n",
      "Epoch 38/100\n",
      "210/210 [==============================] - 3s 14ms/step - loss: 0.4982 - accuracy: 0.8467 - val_loss: 0.5412 - val_accuracy: 0.8406\n",
      "Epoch 39/100\n",
      "210/210 [==============================] - 3s 14ms/step - loss: 0.4799 - accuracy: 0.8526 - val_loss: 0.5581 - val_accuracy: 0.8340\n",
      "Epoch 40/100\n",
      "210/210 [==============================] - 3s 14ms/step - loss: 0.4945 - accuracy: 0.8511 - val_loss: 0.5504 - val_accuracy: 0.8372\n",
      "Epoch 41/100\n",
      "210/210 [==============================] - 3s 14ms/step - loss: 0.4784 - accuracy: 0.8541 - val_loss: 0.5160 - val_accuracy: 0.8483\n",
      "Epoch 42/100\n",
      "210/210 [==============================] - 3s 13ms/step - loss: 0.4643 - accuracy: 0.8577 - val_loss: 0.5143 - val_accuracy: 0.8475\n",
      "Epoch 43/100\n",
      "210/210 [==============================] - 3s 14ms/step - loss: 0.4753 - accuracy: 0.8552 - val_loss: 0.5117 - val_accuracy: 0.8474\n",
      "Epoch 44/100\n",
      "210/210 [==============================] - 3s 13ms/step - loss: 0.4837 - accuracy: 0.8526 - val_loss: 0.5555 - val_accuracy: 0.8357\n",
      "Epoch 45/100\n",
      "210/210 [==============================] - 3s 14ms/step - loss: 0.4686 - accuracy: 0.8562 - val_loss: 0.4851 - val_accuracy: 0.8582\n",
      "Epoch 46/100\n",
      "210/210 [==============================] - 3s 14ms/step - loss: 0.4642 - accuracy: 0.8577 - val_loss: 0.4965 - val_accuracy: 0.8536\n",
      "Epoch 47/100\n",
      "210/210 [==============================] - 3s 14ms/step - loss: 0.4658 - accuracy: 0.8577 - val_loss: 0.4868 - val_accuracy: 0.8572\n",
      "Epoch 48/100\n",
      "210/210 [==============================] - 3s 14ms/step - loss: 0.4536 - accuracy: 0.8621 - val_loss: 0.5137 - val_accuracy: 0.8480\n",
      "Epoch 49/100\n",
      "210/210 [==============================] - 3s 14ms/step - loss: 0.4552 - accuracy: 0.8607 - val_loss: 0.4750 - val_accuracy: 0.8619\n",
      "Epoch 50/100\n",
      "210/210 [==============================] - 3s 14ms/step - loss: 0.4648 - accuracy: 0.8566 - val_loss: 0.5269 - val_accuracy: 0.8449\n",
      "Epoch 51/100\n",
      "210/210 [==============================] - 3s 14ms/step - loss: 0.4495 - accuracy: 0.8624 - val_loss: 0.4912 - val_accuracy: 0.8543\n",
      "Epoch 52/100\n",
      "210/210 [==============================] - 3s 14ms/step - loss: 0.4511 - accuracy: 0.8615 - val_loss: 0.4821 - val_accuracy: 0.8601\n",
      "Epoch 53/100\n",
      "210/210 [==============================] - 3s 14ms/step - loss: 0.4477 - accuracy: 0.8627 - val_loss: 0.4902 - val_accuracy: 0.8558\n",
      "Epoch 54/100\n",
      "210/210 [==============================] - 3s 13ms/step - loss: 0.4475 - accuracy: 0.8630 - val_loss: 0.4711 - val_accuracy: 0.8631\n",
      "Epoch 55/100\n",
      "210/210 [==============================] - 3s 13ms/step - loss: 0.4458 - accuracy: 0.8625 - val_loss: 0.5157 - val_accuracy: 0.8473\n",
      "Epoch 56/100\n"
     ]
    },
    {
     "name": "stdout",
     "output_type": "stream",
     "text": [
      "210/210 [==============================] - 3s 14ms/step - loss: 0.4508 - accuracy: 0.8610 - val_loss: 0.4666 - val_accuracy: 0.8621\n",
      "Epoch 57/100\n",
      "210/210 [==============================] - 3s 14ms/step - loss: 0.4421 - accuracy: 0.8665 - val_loss: 0.5533 - val_accuracy: 0.8358\n",
      "Epoch 58/100\n",
      "210/210 [==============================] - 3s 14ms/step - loss: 0.4374 - accuracy: 0.8671 - val_loss: 0.4963 - val_accuracy: 0.8537\n",
      "Epoch 59/100\n",
      "210/210 [==============================] - 3s 13ms/step - loss: 0.4321 - accuracy: 0.8680 - val_loss: 0.4593 - val_accuracy: 0.8651\n",
      "Epoch 60/100\n",
      "210/210 [==============================] - 3s 13ms/step - loss: 0.4386 - accuracy: 0.8642 - val_loss: 0.4799 - val_accuracy: 0.8595\n",
      "Epoch 61/100\n",
      "210/210 [==============================] - 3s 13ms/step - loss: 0.4218 - accuracy: 0.8709 - val_loss: 0.5156 - val_accuracy: 0.8466\n",
      "Epoch 62/100\n",
      "210/210 [==============================] - 3s 13ms/step - loss: 0.4315 - accuracy: 0.8685 - val_loss: 0.4876 - val_accuracy: 0.8546\n",
      "Epoch 63/100\n",
      "210/210 [==============================] - 3s 13ms/step - loss: 0.4348 - accuracy: 0.8659 - val_loss: 0.5006 - val_accuracy: 0.8503\n",
      "Epoch 64/100\n",
      "210/210 [==============================] - 3s 14ms/step - loss: 0.4229 - accuracy: 0.8713 - val_loss: 0.5042 - val_accuracy: 0.8493\n",
      "Epoch 65/100\n",
      "210/210 [==============================] - 3s 13ms/step - loss: 0.4309 - accuracy: 0.8669 - val_loss: 0.4824 - val_accuracy: 0.8579\n",
      "Epoch 66/100\n",
      "210/210 [==============================] - 3s 13ms/step - loss: 0.4276 - accuracy: 0.8670 - val_loss: 0.4524 - val_accuracy: 0.8682\n",
      "Epoch 67/100\n",
      "210/210 [==============================] - 3s 14ms/step - loss: 0.4251 - accuracy: 0.8680 - val_loss: 0.4639 - val_accuracy: 0.8632\n",
      "Epoch 68/100\n",
      "210/210 [==============================] - 3s 14ms/step - loss: 0.4104 - accuracy: 0.8730 - val_loss: 0.4529 - val_accuracy: 0.8676\n",
      "Epoch 69/100\n",
      "210/210 [==============================] - 3s 13ms/step - loss: 0.4215 - accuracy: 0.8687 - val_loss: 0.4673 - val_accuracy: 0.8630\n",
      "Epoch 70/100\n",
      "210/210 [==============================] - 3s 14ms/step - loss: 0.4209 - accuracy: 0.8705 - val_loss: 0.4575 - val_accuracy: 0.8665\n",
      "Epoch 71/100\n",
      "210/210 [==============================] - 3s 13ms/step - loss: 0.4179 - accuracy: 0.8726 - val_loss: 0.4798 - val_accuracy: 0.8593\n",
      "Epoch 72/100\n",
      "210/210 [==============================] - 3s 13ms/step - loss: 0.4086 - accuracy: 0.8743 - val_loss: 0.5016 - val_accuracy: 0.8529\n",
      "Epoch 73/100\n",
      "210/210 [==============================] - 3s 13ms/step - loss: 0.4109 - accuracy: 0.8738 - val_loss: 0.5225 - val_accuracy: 0.8439\n",
      "Epoch 74/100\n",
      "210/210 [==============================] - 3s 14ms/step - loss: 0.4059 - accuracy: 0.8743 - val_loss: 0.4678 - val_accuracy: 0.8641\n",
      "Epoch 75/100\n",
      "210/210 [==============================] - 3s 13ms/step - loss: 0.4129 - accuracy: 0.8726 - val_loss: 0.4930 - val_accuracy: 0.8536\n",
      "Epoch 76/100\n",
      "210/210 [==============================] - 3s 13ms/step - loss: 0.4070 - accuracy: 0.8745 - val_loss: 0.4613 - val_accuracy: 0.8660\n",
      "Epoch 77/100\n",
      "210/210 [==============================] - 3s 14ms/step - loss: 0.3929 - accuracy: 0.8784 - val_loss: 0.4801 - val_accuracy: 0.8586\n",
      "Epoch 78/100\n",
      "210/210 [==============================] - 3s 14ms/step - loss: 0.3894 - accuracy: 0.8789 - val_loss: 0.4677 - val_accuracy: 0.8628\n",
      "Epoch 79/100\n",
      "210/210 [==============================] - 3s 13ms/step - loss: 0.3993 - accuracy: 0.8773 - val_loss: 0.4934 - val_accuracy: 0.8572\n",
      "Epoch 80/100\n",
      "210/210 [==============================] - 3s 14ms/step - loss: 0.4073 - accuracy: 0.8755 - val_loss: 0.4301 - val_accuracy: 0.8762\n",
      "Epoch 81/100\n",
      "210/210 [==============================] - 3s 14ms/step - loss: 0.3953 - accuracy: 0.8777 - val_loss: 0.4577 - val_accuracy: 0.8655\n",
      "Epoch 82/100\n",
      "210/210 [==============================] - 3s 14ms/step - loss: 0.3967 - accuracy: 0.8772 - val_loss: 0.4567 - val_accuracy: 0.8664\n",
      "Epoch 83/100\n",
      "210/210 [==============================] - 3s 13ms/step - loss: 0.3922 - accuracy: 0.8778 - val_loss: 0.4459 - val_accuracy: 0.8696\n",
      "Epoch 84/100\n",
      "210/210 [==============================] - 3s 14ms/step - loss: 0.3880 - accuracy: 0.8807 - val_loss: 0.4618 - val_accuracy: 0.8649\n",
      "Epoch 85/100\n",
      "210/210 [==============================] - 3s 14ms/step - loss: 0.3924 - accuracy: 0.8798 - val_loss: 0.4407 - val_accuracy: 0.8715\n",
      "Epoch 86/100\n",
      "210/210 [==============================] - 3s 13ms/step - loss: 0.3890 - accuracy: 0.8794 - val_loss: 0.4605 - val_accuracy: 0.8649\n",
      "Epoch 87/100\n",
      "210/210 [==============================] - 3s 14ms/step - loss: 0.3894 - accuracy: 0.8800 - val_loss: 0.4575 - val_accuracy: 0.8653\n",
      "Epoch 88/100\n",
      "210/210 [==============================] - 3s 14ms/step - loss: 0.3826 - accuracy: 0.8819 - val_loss: 0.4709 - val_accuracy: 0.8606\n",
      "Epoch 89/100\n",
      "210/210 [==============================] - 3s 14ms/step - loss: 0.3840 - accuracy: 0.8814 - val_loss: 0.4174 - val_accuracy: 0.8791\n",
      "Epoch 90/100\n",
      "210/210 [==============================] - 3s 14ms/step - loss: 0.3818 - accuracy: 0.8814 - val_loss: 0.4583 - val_accuracy: 0.8662\n",
      "Epoch 91/100\n",
      "210/210 [==============================] - 3s 14ms/step - loss: 0.3775 - accuracy: 0.8831 - val_loss: 0.4424 - val_accuracy: 0.8717\n",
      "Epoch 92/100\n",
      "210/210 [==============================] - 3s 14ms/step - loss: 0.3704 - accuracy: 0.8872 - val_loss: 0.4493 - val_accuracy: 0.8694\n",
      "Epoch 93/100\n",
      "210/210 [==============================] - 3s 13ms/step - loss: 0.3807 - accuracy: 0.8817 - val_loss: 0.4458 - val_accuracy: 0.8713\n",
      "Epoch 94/100\n",
      "210/210 [==============================] - 3s 13ms/step - loss: 0.3747 - accuracy: 0.8845 - val_loss: 0.4419 - val_accuracy: 0.8716\n",
      "Epoch 95/100\n",
      "210/210 [==============================] - 3s 14ms/step - loss: 0.3806 - accuracy: 0.8824 - val_loss: 0.4556 - val_accuracy: 0.8657\n",
      "Epoch 96/100\n",
      "210/210 [==============================] - 3s 13ms/step - loss: 0.3687 - accuracy: 0.8842 - val_loss: 0.4596 - val_accuracy: 0.8646\n",
      "Epoch 97/100\n",
      "210/210 [==============================] - 3s 13ms/step - loss: 0.3829 - accuracy: 0.8797 - val_loss: 0.4348 - val_accuracy: 0.8724\n",
      "Epoch 98/100\n",
      "210/210 [==============================] - 3s 13ms/step - loss: 0.3702 - accuracy: 0.8838 - val_loss: 0.4446 - val_accuracy: 0.8721\n",
      "Epoch 99/100\n",
      "210/210 [==============================] - 3s 14ms/step - loss: 0.3608 - accuracy: 0.8885 - val_loss: 0.4501 - val_accuracy: 0.8695\n",
      "Epoch 100/100\n",
      "210/210 [==============================] - 3s 13ms/step - loss: 0.3719 - accuracy: 0.8846 - val_loss: 0.4617 - val_accuracy: 0.8662\n"
     ]
    }
   ],
   "source": [
    "%time\n",
    "print('NN model with relu activations and adam optimizer'); print('--'*40)\n",
    "# compiling the neural network classifier, adam optimizer\n",
    "adam = optimizers.Adam(lr = 0.01)\n",
    "model2.compile(optimizer = adam, loss = 'categorical_crossentropy', metrics = ['accuracy'])\n",
    "\n",
    "# Fitting the neural network for training\n",
    "history = model2.fit(X_train, y_train, validation_data = (X_val, y_val), batch_size = 200, epochs = 100, verbose = 1)"
   ]
  },
  {
   "cell_type": "code",
   "execution_count": 41,
   "metadata": {
    "colab": {
     "base_uri": "https://localhost:8080/",
     "height": 88
    },
    "colab_type": "code",
    "id": "pAICaMQJKFE5",
    "outputId": "17b397c4-bf5e-44fc-ae73-4959635540eb"
   },
   "outputs": [
    {
     "name": "stdout",
     "output_type": "stream",
     "text": [
      "Evaluate NN model with relu activations\n",
      "--------------------------------------------------------------------------------\n",
      "1875/1875 [==============================] - 12s 6ms/step - loss: 0.4617 - accuracy: 0.8662\n",
      "Validation accuracy: 86.62\n"
     ]
    }
   ],
   "source": [
    "print('Evaluate NN model with relu activations'); print('--'*40)\n",
    "results2 = model2.evaluate(X_val, y_val)\n",
    "print('Validation accuracy: {}'.format(round(results2[1]*100, 2), '%'))"
   ]
  },
  {
   "cell_type": "markdown",
   "metadata": {
    "colab_type": "text",
    "id": "JT_j1efHRpGa"
   },
   "source": [
    "#### NN model, relu activations, adam optimizer, changing learning rate"
   ]
  },
  {
   "cell_type": "code",
   "execution_count": 42,
   "metadata": {
    "colab": {
     "base_uri": "https://localhost:8080/",
     "height": 1000
    },
    "colab_type": "code",
    "id": "j6CfiDwmRscX",
    "outputId": "66419ce6-9a33-4623-f0a3-e91822b6004a"
   },
   "outputs": [
    {
     "name": "stdout",
     "output_type": "stream",
     "text": [
      "CPU times: user 1 µs, sys: 1 µs, total: 2 µs\n",
      "Wall time: 3.1 µs\n",
      "NN model with relu activations and adam optimizer\n",
      "--------------------------------------------------------------------------------\n"
     ]
    },
    {
     "name": "stderr",
     "output_type": "stream",
     "text": [
      "WARNING:absl:At this time, the v2.11+ optimizer `tf.keras.optimizers.Adam` runs slowly on M1/M2 Macs, please use the legacy Keras optimizer instead, located at `tf.keras.optimizers.legacy.Adam`.\n",
      "WARNING:absl:`lr` is deprecated in Keras optimizer, please use `learning_rate` or use the legacy optimizer, e.g.,tf.keras.optimizers.legacy.Adam.\n",
      "WARNING:absl:There is a known slowdown when using v2.11+ Keras optimizers on M1/M2 Macs. Falling back to the legacy Keras optimizer, i.e., `tf.keras.optimizers.legacy.Adam`.\n"
     ]
    },
    {
     "name": "stdout",
     "output_type": "stream",
     "text": [
      "Epoch 1/100\n",
      "210/210 [==============================] - 4s 18ms/step - loss: 0.3728 - accuracy: 0.8844 - val_loss: 0.4466 - val_accuracy: 0.8721\n",
      "Epoch 2/100\n",
      "210/210 [==============================] - 3s 14ms/step - loss: 0.3579 - accuracy: 0.8891 - val_loss: 0.4480 - val_accuracy: 0.8699\n",
      "Epoch 3/100\n",
      "210/210 [==============================] - 3s 14ms/step - loss: 0.3670 - accuracy: 0.8856 - val_loss: 0.4313 - val_accuracy: 0.8766\n",
      "Epoch 4/100\n",
      "210/210 [==============================] - 3s 14ms/step - loss: 0.3619 - accuracy: 0.8874 - val_loss: 0.4285 - val_accuracy: 0.8789\n",
      "Epoch 5/100\n",
      "210/210 [==============================] - 3s 14ms/step - loss: 0.3679 - accuracy: 0.8858 - val_loss: 0.4313 - val_accuracy: 0.8753\n",
      "Epoch 6/100\n",
      "210/210 [==============================] - 3s 14ms/step - loss: 0.3611 - accuracy: 0.8869 - val_loss: 0.4456 - val_accuracy: 0.8711\n",
      "Epoch 7/100\n",
      "210/210 [==============================] - 3s 14ms/step - loss: 0.3631 - accuracy: 0.8854 - val_loss: 0.4083 - val_accuracy: 0.8839\n",
      "Epoch 8/100\n",
      "210/210 [==============================] - 3s 14ms/step - loss: 0.3615 - accuracy: 0.8885 - val_loss: 0.4180 - val_accuracy: 0.8790\n",
      "Epoch 9/100\n",
      "210/210 [==============================] - 3s 14ms/step - loss: 0.3542 - accuracy: 0.8890 - val_loss: 0.4741 - val_accuracy: 0.8623\n",
      "Epoch 10/100\n",
      "210/210 [==============================] - 3s 14ms/step - loss: 0.3585 - accuracy: 0.8883 - val_loss: 0.4526 - val_accuracy: 0.8691\n",
      "Epoch 11/100\n",
      "210/210 [==============================] - 3s 14ms/step - loss: 0.3682 - accuracy: 0.8846 - val_loss: 0.4385 - val_accuracy: 0.8727\n",
      "Epoch 12/100\n",
      "210/210 [==============================] - 3s 14ms/step - loss: 0.3591 - accuracy: 0.8869 - val_loss: 0.4467 - val_accuracy: 0.8709\n",
      "Epoch 13/100\n",
      "210/210 [==============================] - 3s 14ms/step - loss: 0.3493 - accuracy: 0.8917 - val_loss: 0.4187 - val_accuracy: 0.8798\n",
      "Epoch 14/100\n",
      "210/210 [==============================] - 3s 14ms/step - loss: 0.3512 - accuracy: 0.8900 - val_loss: 0.4063 - val_accuracy: 0.8859\n",
      "Epoch 15/100\n",
      "210/210 [==============================] - 3s 14ms/step - loss: 0.3419 - accuracy: 0.8923 - val_loss: 0.4293 - val_accuracy: 0.8763\n",
      "Epoch 16/100\n",
      "210/210 [==============================] - 3s 14ms/step - loss: 0.3583 - accuracy: 0.8891 - val_loss: 0.4370 - val_accuracy: 0.8734\n",
      "Epoch 17/100\n",
      "210/210 [==============================] - 3s 14ms/step - loss: 0.3515 - accuracy: 0.8917 - val_loss: 0.4570 - val_accuracy: 0.8697\n",
      "Epoch 18/100\n",
      "210/210 [==============================] - 3s 13ms/step - loss: 0.3469 - accuracy: 0.8917 - val_loss: 0.4270 - val_accuracy: 0.8782\n",
      "Epoch 19/100\n",
      "210/210 [==============================] - 3s 14ms/step - loss: 0.3375 - accuracy: 0.8949 - val_loss: 0.4126 - val_accuracy: 0.8835\n",
      "Epoch 20/100\n",
      "210/210 [==============================] - 3s 14ms/step - loss: 0.3348 - accuracy: 0.8943 - val_loss: 0.4169 - val_accuracy: 0.8810\n",
      "Epoch 21/100\n",
      "210/210 [==============================] - 3s 14ms/step - loss: 0.3328 - accuracy: 0.8967 - val_loss: 0.4123 - val_accuracy: 0.8827\n",
      "Epoch 22/100\n",
      "210/210 [==============================] - 3s 14ms/step - loss: 0.3417 - accuracy: 0.8932 - val_loss: 0.4445 - val_accuracy: 0.8726\n",
      "Epoch 23/100\n",
      "210/210 [==============================] - 3s 14ms/step - loss: 0.3339 - accuracy: 0.8960 - val_loss: 0.4644 - val_accuracy: 0.8639\n",
      "Epoch 24/100\n",
      "210/210 [==============================] - 3s 14ms/step - loss: 0.3443 - accuracy: 0.8938 - val_loss: 0.4287 - val_accuracy: 0.8768\n",
      "Epoch 25/100\n",
      "210/210 [==============================] - 3s 14ms/step - loss: 0.3336 - accuracy: 0.8965 - val_loss: 0.4640 - val_accuracy: 0.8661\n",
      "Epoch 26/100\n",
      "210/210 [==============================] - 3s 14ms/step - loss: 0.3435 - accuracy: 0.8922 - val_loss: 0.4124 - val_accuracy: 0.8819\n",
      "Epoch 27/100\n",
      "210/210 [==============================] - 3s 14ms/step - loss: 0.3338 - accuracy: 0.8956 - val_loss: 0.4275 - val_accuracy: 0.8781\n",
      "Epoch 28/100\n",
      "210/210 [==============================] - 3s 14ms/step - loss: 0.3304 - accuracy: 0.8982 - val_loss: 0.4151 - val_accuracy: 0.8795\n",
      "Epoch 29/100\n",
      "210/210 [==============================] - 3s 14ms/step - loss: 0.3320 - accuracy: 0.8957 - val_loss: 0.4297 - val_accuracy: 0.8758\n",
      "Epoch 30/100\n",
      "210/210 [==============================] - 3s 14ms/step - loss: 0.3292 - accuracy: 0.8987 - val_loss: 0.4181 - val_accuracy: 0.8819\n",
      "Epoch 31/100\n",
      "210/210 [==============================] - 3s 14ms/step - loss: 0.3309 - accuracy: 0.8968 - val_loss: 0.4096 - val_accuracy: 0.8821\n",
      "Epoch 32/100\n",
      "210/210 [==============================] - 3s 14ms/step - loss: 0.3282 - accuracy: 0.8966 - val_loss: 0.4161 - val_accuracy: 0.8818\n",
      "Epoch 33/100\n",
      "210/210 [==============================] - 3s 14ms/step - loss: 0.3260 - accuracy: 0.8975 - val_loss: 0.4327 - val_accuracy: 0.8766\n",
      "Epoch 34/100\n",
      "210/210 [==============================] - 3s 14ms/step - loss: 0.3284 - accuracy: 0.8962 - val_loss: 0.4883 - val_accuracy: 0.8597\n",
      "Epoch 35/100\n",
      "210/210 [==============================] - 3s 14ms/step - loss: 0.3258 - accuracy: 0.8964 - val_loss: 0.4037 - val_accuracy: 0.8875\n",
      "Epoch 36/100\n",
      "210/210 [==============================] - 3s 14ms/step - loss: 0.3210 - accuracy: 0.8999 - val_loss: 0.3901 - val_accuracy: 0.8907\n",
      "Epoch 37/100\n",
      "210/210 [==============================] - 3s 14ms/step - loss: 0.3250 - accuracy: 0.8967 - val_loss: 0.4379 - val_accuracy: 0.8744\n",
      "Epoch 38/100\n",
      "210/210 [==============================] - 3s 14ms/step - loss: 0.3335 - accuracy: 0.8958 - val_loss: 0.4244 - val_accuracy: 0.8783\n",
      "Epoch 39/100\n",
      "210/210 [==============================] - 3s 14ms/step - loss: 0.3328 - accuracy: 0.8946 - val_loss: 0.4564 - val_accuracy: 0.8677\n",
      "Epoch 40/100\n",
      "210/210 [==============================] - 3s 14ms/step - loss: 0.3239 - accuracy: 0.8987 - val_loss: 0.4218 - val_accuracy: 0.8804\n",
      "Epoch 41/100\n",
      "210/210 [==============================] - 3s 14ms/step - loss: 0.3248 - accuracy: 0.8977 - val_loss: 0.4178 - val_accuracy: 0.8820\n",
      "Epoch 42/100\n",
      "210/210 [==============================] - 3s 14ms/step - loss: 0.3158 - accuracy: 0.9009 - val_loss: 0.4229 - val_accuracy: 0.8802\n",
      "Epoch 43/100\n",
      "210/210 [==============================] - 3s 14ms/step - loss: 0.3139 - accuracy: 0.9013 - val_loss: 0.3980 - val_accuracy: 0.8885\n",
      "Epoch 44/100\n",
      "210/210 [==============================] - 3s 14ms/step - loss: 0.3159 - accuracy: 0.9011 - val_loss: 0.4086 - val_accuracy: 0.8866\n",
      "Epoch 45/100\n",
      "210/210 [==============================] - 3s 14ms/step - loss: 0.3136 - accuracy: 0.9015 - val_loss: 0.4267 - val_accuracy: 0.8791\n",
      "Epoch 46/100\n",
      "210/210 [==============================] - 3s 14ms/step - loss: 0.3165 - accuracy: 0.9009 - val_loss: 0.4141 - val_accuracy: 0.8837\n",
      "Epoch 47/100\n",
      "210/210 [==============================] - 3s 14ms/step - loss: 0.3201 - accuracy: 0.8986 - val_loss: 0.3832 - val_accuracy: 0.8935\n",
      "Epoch 48/100\n",
      "210/210 [==============================] - 3s 14ms/step - loss: 0.3079 - accuracy: 0.9025 - val_loss: 0.3942 - val_accuracy: 0.8907\n",
      "Epoch 49/100\n",
      "210/210 [==============================] - 3s 14ms/step - loss: 0.3218 - accuracy: 0.8983 - val_loss: 0.4019 - val_accuracy: 0.8878\n",
      "Epoch 50/100\n",
      "210/210 [==============================] - 3s 14ms/step - loss: 0.3102 - accuracy: 0.9034 - val_loss: 0.4206 - val_accuracy: 0.8800\n",
      "Epoch 51/100\n",
      "210/210 [==============================] - 3s 14ms/step - loss: 0.3206 - accuracy: 0.8980 - val_loss: 0.4264 - val_accuracy: 0.8788\n",
      "Epoch 52/100\n",
      "210/210 [==============================] - 3s 14ms/step - loss: 0.3117 - accuracy: 0.9027 - val_loss: 0.4249 - val_accuracy: 0.8795\n",
      "Epoch 53/100\n",
      "210/210 [==============================] - 3s 14ms/step - loss: 0.3057 - accuracy: 0.9049 - val_loss: 0.4238 - val_accuracy: 0.8811\n",
      "Epoch 54/100\n",
      "210/210 [==============================] - 3s 14ms/step - loss: 0.3137 - accuracy: 0.9011 - val_loss: 0.4160 - val_accuracy: 0.8809\n",
      "Epoch 55/100\n",
      "210/210 [==============================] - 3s 14ms/step - loss: 0.3072 - accuracy: 0.9023 - val_loss: 0.4205 - val_accuracy: 0.8818\n",
      "Epoch 56/100\n",
      "210/210 [==============================] - 3s 14ms/step - loss: 0.3251 - accuracy: 0.8970 - val_loss: 0.4197 - val_accuracy: 0.8827\n",
      "Epoch 57/100\n"
     ]
    },
    {
     "name": "stdout",
     "output_type": "stream",
     "text": [
      "210/210 [==============================] - 3s 14ms/step - loss: 0.3015 - accuracy: 0.9050 - val_loss: 0.3775 - val_accuracy: 0.8960\n",
      "Epoch 58/100\n",
      "210/210 [==============================] - 3s 14ms/step - loss: 0.3073 - accuracy: 0.9029 - val_loss: 0.4260 - val_accuracy: 0.8793\n",
      "Epoch 59/100\n",
      "210/210 [==============================] - 3s 14ms/step - loss: 0.3018 - accuracy: 0.9049 - val_loss: 0.3938 - val_accuracy: 0.8919\n",
      "Epoch 60/100\n",
      "210/210 [==============================] - 3s 14ms/step - loss: 0.2967 - accuracy: 0.9064 - val_loss: 0.4248 - val_accuracy: 0.8812\n",
      "Epoch 61/100\n",
      "210/210 [==============================] - 3s 14ms/step - loss: 0.2989 - accuracy: 0.9060 - val_loss: 0.4085 - val_accuracy: 0.8863\n",
      "Epoch 62/100\n",
      "210/210 [==============================] - 3s 14ms/step - loss: 0.3078 - accuracy: 0.9022 - val_loss: 0.3820 - val_accuracy: 0.8945\n",
      "Epoch 63/100\n",
      "210/210 [==============================] - 3s 14ms/step - loss: 0.2981 - accuracy: 0.9064 - val_loss: 0.4187 - val_accuracy: 0.8820\n",
      "Epoch 64/100\n",
      "210/210 [==============================] - 3s 14ms/step - loss: 0.2987 - accuracy: 0.9063 - val_loss: 0.3900 - val_accuracy: 0.8921\n",
      "Epoch 65/100\n",
      "210/210 [==============================] - 3s 14ms/step - loss: 0.3015 - accuracy: 0.9045 - val_loss: 0.3981 - val_accuracy: 0.8897\n",
      "Epoch 66/100\n",
      "210/210 [==============================] - 3s 14ms/step - loss: 0.3036 - accuracy: 0.9041 - val_loss: 0.3875 - val_accuracy: 0.8945\n",
      "Epoch 67/100\n",
      "210/210 [==============================] - 3s 14ms/step - loss: 0.3040 - accuracy: 0.9039 - val_loss: 0.3813 - val_accuracy: 0.8965\n",
      "Epoch 68/100\n",
      "210/210 [==============================] - 3s 14ms/step - loss: 0.2976 - accuracy: 0.9064 - val_loss: 0.3879 - val_accuracy: 0.8918\n",
      "Epoch 69/100\n",
      "210/210 [==============================] - 3s 14ms/step - loss: 0.2914 - accuracy: 0.9087 - val_loss: 0.3805 - val_accuracy: 0.8962\n",
      "Epoch 70/100\n",
      "210/210 [==============================] - 3s 13ms/step - loss: 0.2979 - accuracy: 0.9066 - val_loss: 0.4062 - val_accuracy: 0.8867\n",
      "Epoch 71/100\n",
      "210/210 [==============================] - 3s 13ms/step - loss: 0.2897 - accuracy: 0.9078 - val_loss: 0.3943 - val_accuracy: 0.8910\n",
      "Epoch 72/100\n",
      "210/210 [==============================] - 3s 14ms/step - loss: 0.2983 - accuracy: 0.9049 - val_loss: 0.4746 - val_accuracy: 0.8629\n",
      "Epoch 73/100\n",
      "210/210 [==============================] - 3s 14ms/step - loss: 0.2960 - accuracy: 0.9074 - val_loss: 0.4244 - val_accuracy: 0.8818\n",
      "Epoch 74/100\n",
      "210/210 [==============================] - 3s 14ms/step - loss: 0.2854 - accuracy: 0.9108 - val_loss: 0.3988 - val_accuracy: 0.8901\n",
      "Epoch 75/100\n",
      "210/210 [==============================] - 3s 14ms/step - loss: 0.2913 - accuracy: 0.9083 - val_loss: 0.4300 - val_accuracy: 0.8795\n",
      "Epoch 76/100\n",
      "210/210 [==============================] - 3s 15ms/step - loss: 0.2989 - accuracy: 0.9048 - val_loss: 0.4153 - val_accuracy: 0.8832\n",
      "Epoch 77/100\n",
      "210/210 [==============================] - 3s 14ms/step - loss: 0.2852 - accuracy: 0.9107 - val_loss: 0.4070 - val_accuracy: 0.8864\n",
      "Epoch 78/100\n",
      "210/210 [==============================] - 3s 13ms/step - loss: 0.2917 - accuracy: 0.9068 - val_loss: 0.4297 - val_accuracy: 0.8791\n",
      "Epoch 79/100\n",
      "210/210 [==============================] - 3s 14ms/step - loss: 0.2916 - accuracy: 0.9090 - val_loss: 0.4344 - val_accuracy: 0.8795\n",
      "Epoch 80/100\n",
      "210/210 [==============================] - 3s 14ms/step - loss: 0.2864 - accuracy: 0.9090 - val_loss: 0.3960 - val_accuracy: 0.8913\n",
      "Epoch 81/100\n",
      "210/210 [==============================] - 3s 13ms/step - loss: 0.2892 - accuracy: 0.9089 - val_loss: 0.4194 - val_accuracy: 0.8847\n",
      "Epoch 82/100\n",
      "210/210 [==============================] - 3s 14ms/step - loss: 0.2974 - accuracy: 0.9054 - val_loss: 0.4306 - val_accuracy: 0.8796\n",
      "Epoch 83/100\n",
      "210/210 [==============================] - 3s 14ms/step - loss: 0.2897 - accuracy: 0.9075 - val_loss: 0.4112 - val_accuracy: 0.8857\n",
      "Epoch 84/100\n",
      "210/210 [==============================] - 3s 14ms/step - loss: 0.2871 - accuracy: 0.9104 - val_loss: 0.4063 - val_accuracy: 0.8884\n",
      "Epoch 85/100\n",
      "210/210 [==============================] - 3s 14ms/step - loss: 0.2869 - accuracy: 0.9094 - val_loss: 0.4177 - val_accuracy: 0.8842\n",
      "Epoch 86/100\n",
      "210/210 [==============================] - 3s 13ms/step - loss: 0.2831 - accuracy: 0.9098 - val_loss: 0.4028 - val_accuracy: 0.8903\n",
      "Epoch 87/100\n",
      "210/210 [==============================] - 3s 14ms/step - loss: 0.2930 - accuracy: 0.9066 - val_loss: 0.4023 - val_accuracy: 0.8884\n",
      "Epoch 88/100\n",
      "210/210 [==============================] - 3s 14ms/step - loss: 0.2837 - accuracy: 0.9083 - val_loss: 0.4112 - val_accuracy: 0.8867\n",
      "Epoch 89/100\n",
      "210/210 [==============================] - 3s 14ms/step - loss: 0.2756 - accuracy: 0.9124 - val_loss: 0.3728 - val_accuracy: 0.9008\n",
      "Epoch 90/100\n",
      "210/210 [==============================] - 3s 14ms/step - loss: 0.2705 - accuracy: 0.9155 - val_loss: 0.3776 - val_accuracy: 0.8987\n",
      "Epoch 91/100\n",
      "210/210 [==============================] - 3s 14ms/step - loss: 0.2831 - accuracy: 0.9097 - val_loss: 0.4058 - val_accuracy: 0.8893\n",
      "Epoch 92/100\n",
      "210/210 [==============================] - 3s 14ms/step - loss: 0.2839 - accuracy: 0.9100 - val_loss: 0.3857 - val_accuracy: 0.8945\n",
      "Epoch 93/100\n",
      "210/210 [==============================] - 3s 14ms/step - loss: 0.2943 - accuracy: 0.9068 - val_loss: 0.3926 - val_accuracy: 0.8920\n",
      "Epoch 94/100\n",
      "210/210 [==============================] - 3s 14ms/step - loss: 0.2794 - accuracy: 0.9120 - val_loss: 0.3983 - val_accuracy: 0.8902\n",
      "Epoch 95/100\n",
      "210/210 [==============================] - 3s 14ms/step - loss: 0.2904 - accuracy: 0.9085 - val_loss: 0.4070 - val_accuracy: 0.8871\n",
      "Epoch 96/100\n",
      "210/210 [==============================] - 3s 14ms/step - loss: 0.2769 - accuracy: 0.9137 - val_loss: 0.4254 - val_accuracy: 0.8815\n",
      "Epoch 97/100\n",
      "210/210 [==============================] - 3s 14ms/step - loss: 0.2872 - accuracy: 0.9080 - val_loss: 0.3660 - val_accuracy: 0.9018\n",
      "Epoch 98/100\n",
      "210/210 [==============================] - 3s 14ms/step - loss: 0.2741 - accuracy: 0.9141 - val_loss: 0.3947 - val_accuracy: 0.8928\n",
      "Epoch 99/100\n",
      "210/210 [==============================] - 3s 14ms/step - loss: 0.2692 - accuracy: 0.9146 - val_loss: 0.4043 - val_accuracy: 0.8900\n",
      "Epoch 100/100\n",
      "210/210 [==============================] - 3s 14ms/step - loss: 0.2753 - accuracy: 0.9126 - val_loss: 0.4020 - val_accuracy: 0.8904\n"
     ]
    }
   ],
   "source": [
    "%time\n",
    "print('NN model with relu activations and adam optimizer'); print('--'*40)\n",
    "# compiling the neural network classifier, adam optimizer\n",
    "adam = optimizers.Adam(lr = 0.001)\n",
    "model2.compile(optimizer = adam, loss = 'categorical_crossentropy', metrics = ['accuracy'])\n",
    "\n",
    "# Fitting the neural network for training\n",
    "history = model2.fit(X_train, y_train, validation_data = (X_val, y_val), batch_size = 200, epochs = 100, verbose = 1)"
   ]
  },
  {
   "cell_type": "code",
   "execution_count": 43,
   "metadata": {
    "colab": {
     "base_uri": "https://localhost:8080/",
     "height": 88
    },
    "colab_type": "code",
    "id": "sERp232wRvAN",
    "outputId": "4e9f4dd0-22bf-4f2a-fc71-d76816807e40"
   },
   "outputs": [
    {
     "name": "stdout",
     "output_type": "stream",
     "text": [
      "Evaluate NN model with relu activations\n",
      "--------------------------------------------------------------------------------\n",
      "1875/1875 [==============================] - 12s 6ms/step - loss: 0.4020 - accuracy: 0.8904\n",
      "Validation accuracy: 89.04\n"
     ]
    }
   ],
   "source": [
    "print('Evaluate NN model with relu activations'); print('--'*40)\n",
    "results2 = model2.evaluate(X_val, y_val)\n",
    "print('Validation accuracy: {}'.format(round(results2[1]*100, 2), '%'))"
   ]
  },
  {
   "cell_type": "markdown",
   "metadata": {
    "colab_type": "text",
    "id": "HKt6irM6ownA"
   },
   "source": [
    "<a id='o4'></a>\n",
    "##### Observation 4 - NN model with relu activations\n",
    "* Improves the scores considerably.\n",
    "* Best accuracy achieved till now is using relu activations, SGD optimizer, changing learning rate to 0.001.\n",
    "* Next, let's try and change the number of activators and see if the score improves."
   ]
  },
  {
   "cell_type": "markdown",
   "metadata": {
    "colab_type": "text",
    "id": "17b7kG5oR7J_"
   },
   "source": [
    "#### NN model, relu activations, changing number of activators, SGD optimizers"
   ]
  },
  {
   "cell_type": "code",
   "execution_count": 44,
   "metadata": {
    "colab": {
     "base_uri": "https://localhost:8080/",
     "height": 52
    },
    "colab_type": "code",
    "id": "58Iskt9pKB3L",
    "outputId": "13040982-5c85-4d03-daf3-8729d8c3687a"
   },
   "outputs": [
    {
     "name": "stdout",
     "output_type": "stream",
     "text": [
      "NN model with relu activations and changing number of activators\n",
      "--------------------------------------------------------------------------------\n"
     ]
    }
   ],
   "source": [
    "print('NN model with relu activations and changing number of activators'); print('--'*40)\n",
    "# Initialize the neural network classifier\n",
    "model3 = Sequential()\n",
    "\n",
    "# Input Layer - adding input layer and activation functions relu\n",
    "model3.add(Dense(256, input_shape = (1024, )))\n",
    "# Adding activation function\n",
    "model3.add(Activation('relu'))\n",
    "\n",
    "#Hidden Layer 1 - adding first hidden layer\n",
    "model3.add(Dense(128))\n",
    "# Adding activation function\n",
    "model3.add(Activation('relu'))\n",
    "\n",
    "#Hidden Layer 2 - Adding second hidden layer\n",
    "model3.add(Dense(64))\n",
    "# Adding activation function\n",
    "model3.add(Activation('relu'))\n",
    "\n",
    "# Output Layer - adding output layer which is of 10 nodes (digits)\n",
    "model3.add(Dense(10))\n",
    "# Adding activation function - softmax for multiclass classification\n",
    "model3.add(Activation('softmax'))"
   ]
  },
  {
   "cell_type": "code",
   "execution_count": 45,
   "metadata": {
    "colab": {
     "base_uri": "https://localhost:8080/",
     "height": 444
    },
    "colab_type": "code",
    "id": "2q5A5rfawr08",
    "outputId": "a42e0e5e-d814-4ae9-b1a2-facd345a31e2"
   },
   "outputs": [
    {
     "name": "stdout",
     "output_type": "stream",
     "text": [
      "Model: \"sequential_2\"\n",
      "_________________________________________________________________\n",
      " Layer (type)                Output Shape              Param #   \n",
      "=================================================================\n",
      " dense_6 (Dense)             (None, 256)               262400    \n",
      "                                                                 \n",
      " activation_6 (Activation)   (None, 256)               0         \n",
      "                                                                 \n",
      " dense_7 (Dense)             (None, 128)               32896     \n",
      "                                                                 \n",
      " activation_7 (Activation)   (None, 128)               0         \n",
      "                                                                 \n",
      " dense_8 (Dense)             (None, 64)                8256      \n",
      "                                                                 \n",
      " activation_8 (Activation)   (None, 64)                0         \n",
      "                                                                 \n",
      " dense_9 (Dense)             (None, 10)                650       \n",
      "                                                                 \n",
      " activation_9 (Activation)   (None, 10)                0         \n",
      "                                                                 \n",
      "=================================================================\n",
      "Total params: 304,202\n",
      "Trainable params: 304,202\n",
      "Non-trainable params: 0\n",
      "_________________________________________________________________\n"
     ]
    }
   ],
   "source": [
    "model3.summary()"
   ]
  },
  {
   "cell_type": "code",
   "execution_count": 46,
   "metadata": {
    "colab": {
     "base_uri": "https://localhost:8080/",
     "height": 1000
    },
    "colab_type": "code",
    "id": "WbApDf7hTG87",
    "outputId": "141ce0c1-6f66-4e22-f40a-6954dd4636f5"
   },
   "outputs": [
    {
     "name": "stderr",
     "output_type": "stream",
     "text": [
      "WARNING:absl:At this time, the v2.11+ optimizer `tf.keras.optimizers.SGD` runs slowly on M1/M2 Macs, please use the legacy Keras optimizer instead, located at `tf.keras.optimizers.legacy.SGD`.\n",
      "WARNING:absl:`lr` is deprecated in Keras optimizer, please use `learning_rate` or use the legacy optimizer, e.g.,tf.keras.optimizers.legacy.SGD.\n",
      "WARNING:absl:There is a known slowdown when using v2.11+ Keras optimizers on M1/M2 Macs. Falling back to the legacy Keras optimizer, i.e., `tf.keras.optimizers.legacy.SGD`.\n"
     ]
    },
    {
     "name": "stdout",
     "output_type": "stream",
     "text": [
      "Epoch 1/100\n",
      "210/210 [==============================] - 5s 19ms/step - loss: 2.2996 - accuracy: 0.1210 - val_loss: 2.2925 - val_accuracy: 0.1392\n",
      "Epoch 2/100\n",
      "210/210 [==============================] - 3s 14ms/step - loss: 2.2866 - accuracy: 0.1570 - val_loss: 2.2806 - val_accuracy: 0.1729\n",
      "Epoch 3/100\n",
      "210/210 [==============================] - 3s 15ms/step - loss: 2.2737 - accuracy: 0.1898 - val_loss: 2.2651 - val_accuracy: 0.2163\n",
      "Epoch 4/100\n",
      "210/210 [==============================] - 3s 14ms/step - loss: 2.2574 - accuracy: 0.2197 - val_loss: 2.2473 - val_accuracy: 0.2341\n",
      "Epoch 5/100\n",
      "210/210 [==============================] - 3s 14ms/step - loss: 2.2371 - accuracy: 0.2500 - val_loss: 2.2233 - val_accuracy: 0.2787\n",
      "Epoch 6/100\n",
      "210/210 [==============================] - 3s 14ms/step - loss: 2.2097 - accuracy: 0.2821 - val_loss: 2.1913 - val_accuracy: 0.2988\n",
      "Epoch 7/100\n",
      "210/210 [==============================] - 3s 14ms/step - loss: 2.1722 - accuracy: 0.3068 - val_loss: 2.1525 - val_accuracy: 0.3049\n",
      "Epoch 8/100\n",
      "210/210 [==============================] - 3s 13ms/step - loss: 2.1225 - accuracy: 0.3282 - val_loss: 2.0933 - val_accuracy: 0.3437\n",
      "Epoch 9/100\n",
      "210/210 [==============================] - 3s 16ms/step - loss: 2.0567 - accuracy: 0.3522 - val_loss: 2.0143 - val_accuracy: 0.3753\n",
      "Epoch 10/100\n",
      "210/210 [==============================] - 3s 14ms/step - loss: 1.9732 - accuracy: 0.3750 - val_loss: 1.9279 - val_accuracy: 0.3875\n",
      "Epoch 11/100\n",
      "210/210 [==============================] - 3s 14ms/step - loss: 1.8814 - accuracy: 0.4008 - val_loss: 1.8307 - val_accuracy: 0.4111\n",
      "Epoch 12/100\n",
      "210/210 [==============================] - 3s 14ms/step - loss: 1.7895 - accuracy: 0.4295 - val_loss: 1.7419 - val_accuracy: 0.4433\n",
      "Epoch 13/100\n",
      "210/210 [==============================] - 3s 14ms/step - loss: 1.7075 - accuracy: 0.4546 - val_loss: 1.6824 - val_accuracy: 0.4521\n",
      "Epoch 14/100\n",
      "210/210 [==============================] - 3s 14ms/step - loss: 1.6334 - accuracy: 0.4819 - val_loss: 1.6526 - val_accuracy: 0.4493\n",
      "Epoch 15/100\n",
      "210/210 [==============================] - 3s 13ms/step - loss: 1.5705 - accuracy: 0.5034 - val_loss: 1.5528 - val_accuracy: 0.4909\n",
      "Epoch 16/100\n",
      "210/210 [==============================] - 3s 13ms/step - loss: 1.5120 - accuracy: 0.5243 - val_loss: 1.5028 - val_accuracy: 0.5113\n",
      "Epoch 17/100\n",
      "210/210 [==============================] - 3s 13ms/step - loss: 1.4623 - accuracy: 0.5414 - val_loss: 1.4133 - val_accuracy: 0.5586\n",
      "Epoch 18/100\n",
      "210/210 [==============================] - 3s 14ms/step - loss: 1.4122 - accuracy: 0.5606 - val_loss: 1.3951 - val_accuracy: 0.5578\n",
      "Epoch 19/100\n",
      "210/210 [==============================] - 3s 14ms/step - loss: 1.3696 - accuracy: 0.5753 - val_loss: 1.3241 - val_accuracy: 0.5926\n",
      "Epoch 20/100\n",
      "210/210 [==============================] - 3s 13ms/step - loss: 1.3426 - accuracy: 0.5815 - val_loss: 1.3255 - val_accuracy: 0.5873\n",
      "Epoch 21/100\n",
      "210/210 [==============================] - 3s 14ms/step - loss: 1.3019 - accuracy: 0.5995 - val_loss: 1.2674 - val_accuracy: 0.6143\n",
      "Epoch 22/100\n",
      "210/210 [==============================] - 3s 14ms/step - loss: 1.2755 - accuracy: 0.6050 - val_loss: 1.2365 - val_accuracy: 0.6198\n",
      "Epoch 23/100\n",
      "210/210 [==============================] - 3s 13ms/step - loss: 1.2429 - accuracy: 0.6170 - val_loss: 1.2199 - val_accuracy: 0.6322\n",
      "Epoch 24/100\n",
      "210/210 [==============================] - 3s 13ms/step - loss: 1.2193 - accuracy: 0.6254 - val_loss: 1.1825 - val_accuracy: 0.6400\n",
      "Epoch 25/100\n",
      "210/210 [==============================] - 3s 13ms/step - loss: 1.1945 - accuracy: 0.6340 - val_loss: 1.1624 - val_accuracy: 0.6490\n",
      "Epoch 26/100\n",
      "210/210 [==============================] - 3s 14ms/step - loss: 1.1740 - accuracy: 0.6388 - val_loss: 1.1734 - val_accuracy: 0.6296\n",
      "Epoch 27/100\n",
      "210/210 [==============================] - 3s 13ms/step - loss: 1.1532 - accuracy: 0.6476 - val_loss: 1.1634 - val_accuracy: 0.6352\n",
      "Epoch 28/100\n",
      "210/210 [==============================] - 3s 13ms/step - loss: 1.1309 - accuracy: 0.6542 - val_loss: 1.1134 - val_accuracy: 0.6636\n",
      "Epoch 29/100\n",
      "210/210 [==============================] - 3s 14ms/step - loss: 1.1148 - accuracy: 0.6597 - val_loss: 1.0903 - val_accuracy: 0.6692\n",
      "Epoch 30/100\n",
      "210/210 [==============================] - 3s 13ms/step - loss: 1.0918 - accuracy: 0.6666 - val_loss: 1.0779 - val_accuracy: 0.6753\n",
      "Epoch 31/100\n",
      "210/210 [==============================] - 3s 13ms/step - loss: 1.0834 - accuracy: 0.6702 - val_loss: 1.0597 - val_accuracy: 0.6800\n",
      "Epoch 32/100\n",
      "210/210 [==============================] - 3s 13ms/step - loss: 1.0613 - accuracy: 0.6762 - val_loss: 1.0424 - val_accuracy: 0.6836\n",
      "Epoch 33/100\n",
      "210/210 [==============================] - 3s 13ms/step - loss: 1.0477 - accuracy: 0.6801 - val_loss: 1.0695 - val_accuracy: 0.6712\n",
      "Epoch 34/100\n",
      "210/210 [==============================] - 3s 13ms/step - loss: 1.0284 - accuracy: 0.6880 - val_loss: 1.0128 - val_accuracy: 0.6934\n",
      "Epoch 35/100\n",
      "210/210 [==============================] - 3s 13ms/step - loss: 1.0147 - accuracy: 0.6911 - val_loss: 0.9974 - val_accuracy: 0.7005\n",
      "Epoch 36/100\n",
      "210/210 [==============================] - 3s 14ms/step - loss: 0.9982 - accuracy: 0.6986 - val_loss: 0.9777 - val_accuracy: 0.7076\n",
      "Epoch 37/100\n",
      "210/210 [==============================] - 3s 14ms/step - loss: 0.9830 - accuracy: 0.7025 - val_loss: 1.0094 - val_accuracy: 0.6928\n",
      "Epoch 38/100\n",
      "210/210 [==============================] - 3s 13ms/step - loss: 0.9773 - accuracy: 0.7040 - val_loss: 0.9465 - val_accuracy: 0.7184\n",
      "Epoch 39/100\n",
      "210/210 [==============================] - 3s 13ms/step - loss: 0.9596 - accuracy: 0.7091 - val_loss: 0.9882 - val_accuracy: 0.6966\n",
      "Epoch 40/100\n",
      "210/210 [==============================] - 3s 14ms/step - loss: 0.9488 - accuracy: 0.7125 - val_loss: 0.9401 - val_accuracy: 0.7165\n",
      "Epoch 41/100\n",
      "210/210 [==============================] - 3s 13ms/step - loss: 0.9351 - accuracy: 0.7178 - val_loss: 0.9200 - val_accuracy: 0.7242\n",
      "Epoch 42/100\n",
      "210/210 [==============================] - 3s 13ms/step - loss: 0.9205 - accuracy: 0.7216 - val_loss: 0.9058 - val_accuracy: 0.7273\n",
      "Epoch 43/100\n",
      "210/210 [==============================] - 3s 13ms/step - loss: 0.9115 - accuracy: 0.7234 - val_loss: 0.9125 - val_accuracy: 0.7266\n",
      "Epoch 44/100\n",
      "210/210 [==============================] - 3s 14ms/step - loss: 0.9048 - accuracy: 0.7258 - val_loss: 0.9032 - val_accuracy: 0.7255\n",
      "Epoch 45/100\n",
      "210/210 [==============================] - 3s 15ms/step - loss: 0.8913 - accuracy: 0.7301 - val_loss: 0.8790 - val_accuracy: 0.7377\n",
      "Epoch 46/100\n",
      "210/210 [==============================] - 3s 14ms/step - loss: 0.8804 - accuracy: 0.7339 - val_loss: 0.8753 - val_accuracy: 0.7367\n",
      "Epoch 47/100\n",
      "210/210 [==============================] - 3s 14ms/step - loss: 0.8709 - accuracy: 0.7378 - val_loss: 0.9485 - val_accuracy: 0.7110\n",
      "Epoch 48/100\n",
      "210/210 [==============================] - 3s 14ms/step - loss: 0.8605 - accuracy: 0.7412 - val_loss: 0.8623 - val_accuracy: 0.7413\n",
      "Epoch 49/100\n",
      "210/210 [==============================] - 3s 14ms/step - loss: 0.8530 - accuracy: 0.7428 - val_loss: 0.8684 - val_accuracy: 0.7354\n",
      "Epoch 50/100\n",
      "210/210 [==============================] - 3s 14ms/step - loss: 0.8466 - accuracy: 0.7427 - val_loss: 0.8507 - val_accuracy: 0.7431\n",
      "Epoch 51/100\n",
      "210/210 [==============================] - 3s 13ms/step - loss: 0.8429 - accuracy: 0.7452 - val_loss: 0.8377 - val_accuracy: 0.7489\n",
      "Epoch 52/100\n",
      "210/210 [==============================] - 3s 14ms/step - loss: 0.8275 - accuracy: 0.7500 - val_loss: 0.8370 - val_accuracy: 0.7453\n",
      "Epoch 53/100\n",
      "210/210 [==============================] - 3s 14ms/step - loss: 0.8194 - accuracy: 0.7526 - val_loss: 0.8280 - val_accuracy: 0.7505\n",
      "Epoch 54/100\n",
      "210/210 [==============================] - 3s 14ms/step - loss: 0.8106 - accuracy: 0.7551 - val_loss: 0.8258 - val_accuracy: 0.7519\n",
      "Epoch 55/100\n",
      "210/210 [==============================] - 3s 14ms/step - loss: 0.8098 - accuracy: 0.7549 - val_loss: 0.8185 - val_accuracy: 0.7531\n",
      "Epoch 56/100\n",
      "210/210 [==============================] - 3s 14ms/step - loss: 0.7978 - accuracy: 0.7579 - val_loss: 0.8182 - val_accuracy: 0.7538\n",
      "Epoch 57/100\n"
     ]
    },
    {
     "name": "stdout",
     "output_type": "stream",
     "text": [
      "210/210 [==============================] - 3s 14ms/step - loss: 0.7915 - accuracy: 0.7608 - val_loss: 0.8322 - val_accuracy: 0.7465\n",
      "Epoch 58/100\n",
      "210/210 [==============================] - 3s 14ms/step - loss: 0.7848 - accuracy: 0.7627 - val_loss: 0.7909 - val_accuracy: 0.7617\n",
      "Epoch 59/100\n",
      "210/210 [==============================] - 3s 14ms/step - loss: 0.7801 - accuracy: 0.7642 - val_loss: 0.7972 - val_accuracy: 0.7602\n",
      "Epoch 60/100\n",
      "210/210 [==============================] - 3s 13ms/step - loss: 0.7710 - accuracy: 0.7672 - val_loss: 0.8061 - val_accuracy: 0.7542\n",
      "Epoch 61/100\n",
      "210/210 [==============================] - 3s 14ms/step - loss: 0.7651 - accuracy: 0.7677 - val_loss: 0.7625 - val_accuracy: 0.7718\n",
      "Epoch 62/100\n",
      "210/210 [==============================] - 3s 13ms/step - loss: 0.7576 - accuracy: 0.7708 - val_loss: 0.7580 - val_accuracy: 0.7717\n",
      "Epoch 63/100\n",
      "210/210 [==============================] - 3s 13ms/step - loss: 0.7534 - accuracy: 0.7713 - val_loss: 0.7879 - val_accuracy: 0.7625\n",
      "Epoch 64/100\n",
      "210/210 [==============================] - 3s 13ms/step - loss: 0.7499 - accuracy: 0.7733 - val_loss: 0.7633 - val_accuracy: 0.7681\n",
      "Epoch 65/100\n",
      "210/210 [==============================] - 3s 13ms/step - loss: 0.7415 - accuracy: 0.7752 - val_loss: 0.8031 - val_accuracy: 0.7520\n",
      "Epoch 66/100\n",
      "210/210 [==============================] - 3s 14ms/step - loss: 0.7325 - accuracy: 0.7769 - val_loss: 0.7586 - val_accuracy: 0.7707\n",
      "Epoch 67/100\n",
      "210/210 [==============================] - 3s 14ms/step - loss: 0.7291 - accuracy: 0.7801 - val_loss: 0.7342 - val_accuracy: 0.7809\n",
      "Epoch 68/100\n",
      "210/210 [==============================] - 3s 14ms/step - loss: 0.7229 - accuracy: 0.7796 - val_loss: 0.7553 - val_accuracy: 0.7722\n",
      "Epoch 69/100\n",
      "210/210 [==============================] - 3s 14ms/step - loss: 0.7143 - accuracy: 0.7830 - val_loss: 0.7106 - val_accuracy: 0.7876\n",
      "Epoch 70/100\n",
      "210/210 [==============================] - 3s 14ms/step - loss: 0.7160 - accuracy: 0.7825 - val_loss: 0.7321 - val_accuracy: 0.7797\n",
      "Epoch 71/100\n",
      "210/210 [==============================] - 3s 14ms/step - loss: 0.7107 - accuracy: 0.7856 - val_loss: 0.7120 - val_accuracy: 0.7856\n",
      "Epoch 72/100\n",
      "210/210 [==============================] - 3s 14ms/step - loss: 0.6991 - accuracy: 0.7863 - val_loss: 0.7067 - val_accuracy: 0.7855\n",
      "Epoch 73/100\n",
      "210/210 [==============================] - 3s 13ms/step - loss: 0.6958 - accuracy: 0.7895 - val_loss: 0.7296 - val_accuracy: 0.7789\n",
      "Epoch 74/100\n",
      "210/210 [==============================] - 3s 13ms/step - loss: 0.6927 - accuracy: 0.7891 - val_loss: 0.7040 - val_accuracy: 0.7903\n",
      "Epoch 75/100\n",
      "210/210 [==============================] - 3s 14ms/step - loss: 0.6907 - accuracy: 0.7898 - val_loss: 0.7044 - val_accuracy: 0.7879\n",
      "Epoch 76/100\n",
      "210/210 [==============================] - 3s 13ms/step - loss: 0.6828 - accuracy: 0.7944 - val_loss: 0.7048 - val_accuracy: 0.7872\n",
      "Epoch 77/100\n",
      "210/210 [==============================] - 3s 13ms/step - loss: 0.6802 - accuracy: 0.7939 - val_loss: 0.6924 - val_accuracy: 0.7903\n",
      "Epoch 78/100\n",
      "210/210 [==============================] - 3s 13ms/step - loss: 0.6732 - accuracy: 0.7949 - val_loss: 0.6882 - val_accuracy: 0.7937\n",
      "Epoch 79/100\n",
      "210/210 [==============================] - 3s 14ms/step - loss: 0.6710 - accuracy: 0.7957 - val_loss: 0.7318 - val_accuracy: 0.7777\n",
      "Epoch 80/100\n",
      "210/210 [==============================] - 3s 14ms/step - loss: 0.6641 - accuracy: 0.7985 - val_loss: 0.6664 - val_accuracy: 0.8012\n",
      "Epoch 81/100\n",
      "210/210 [==============================] - 3s 14ms/step - loss: 0.6587 - accuracy: 0.8011 - val_loss: 0.6609 - val_accuracy: 0.8033\n",
      "Epoch 82/100\n",
      "210/210 [==============================] - 3s 14ms/step - loss: 0.6583 - accuracy: 0.8002 - val_loss: 0.6587 - val_accuracy: 0.8039\n",
      "Epoch 83/100\n",
      "210/210 [==============================] - 3s 13ms/step - loss: 0.6523 - accuracy: 0.8030 - val_loss: 0.6647 - val_accuracy: 0.8020\n",
      "Epoch 84/100\n",
      "210/210 [==============================] - 3s 14ms/step - loss: 0.6468 - accuracy: 0.8035 - val_loss: 0.6784 - val_accuracy: 0.7950\n",
      "Epoch 85/100\n",
      "210/210 [==============================] - 3s 13ms/step - loss: 0.6413 - accuracy: 0.8054 - val_loss: 0.6630 - val_accuracy: 0.8041\n",
      "Epoch 86/100\n",
      "210/210 [==============================] - 3s 14ms/step - loss: 0.6386 - accuracy: 0.8063 - val_loss: 0.6783 - val_accuracy: 0.7982\n",
      "Epoch 87/100\n",
      "210/210 [==============================] - 3s 14ms/step - loss: 0.6408 - accuracy: 0.8062 - val_loss: 0.6659 - val_accuracy: 0.7988\n",
      "Epoch 88/100\n",
      "210/210 [==============================] - 3s 14ms/step - loss: 0.6318 - accuracy: 0.8093 - val_loss: 0.6436 - val_accuracy: 0.8067\n",
      "Epoch 89/100\n",
      "210/210 [==============================] - 3s 14ms/step - loss: 0.6268 - accuracy: 0.8105 - val_loss: 0.6459 - val_accuracy: 0.8062\n",
      "Epoch 90/100\n",
      "210/210 [==============================] - 3s 14ms/step - loss: 0.6238 - accuracy: 0.8102 - val_loss: 0.6422 - val_accuracy: 0.8083\n",
      "Epoch 91/100\n",
      "210/210 [==============================] - 3s 14ms/step - loss: 0.6214 - accuracy: 0.8132 - val_loss: 0.6885 - val_accuracy: 0.7909\n",
      "Epoch 92/100\n",
      "210/210 [==============================] - 3s 14ms/step - loss: 0.6185 - accuracy: 0.8129 - val_loss: 0.6216 - val_accuracy: 0.8154\n",
      "Epoch 93/100\n",
      "210/210 [==============================] - 3s 14ms/step - loss: 0.6135 - accuracy: 0.8148 - val_loss: 0.6459 - val_accuracy: 0.8069\n",
      "Epoch 94/100\n",
      "210/210 [==============================] - 3s 14ms/step - loss: 0.6117 - accuracy: 0.8151 - val_loss: 0.6255 - val_accuracy: 0.8146\n",
      "Epoch 95/100\n",
      "210/210 [==============================] - 3s 14ms/step - loss: 0.6053 - accuracy: 0.8171 - val_loss: 0.6303 - val_accuracy: 0.8113\n",
      "Epoch 96/100\n",
      "210/210 [==============================] - 3s 13ms/step - loss: 0.6079 - accuracy: 0.8159 - val_loss: 0.6069 - val_accuracy: 0.8204\n",
      "Epoch 97/100\n",
      "210/210 [==============================] - 3s 14ms/step - loss: 0.5984 - accuracy: 0.8188 - val_loss: 0.6467 - val_accuracy: 0.8070\n",
      "Epoch 98/100\n",
      "210/210 [==============================] - 3s 14ms/step - loss: 0.5964 - accuracy: 0.8201 - val_loss: 0.6163 - val_accuracy: 0.8165\n",
      "Epoch 99/100\n",
      "210/210 [==============================] - 3s 14ms/step - loss: 0.5913 - accuracy: 0.8213 - val_loss: 0.6330 - val_accuracy: 0.8092\n",
      "Epoch 100/100\n",
      "210/210 [==============================] - 3s 14ms/step - loss: 0.5915 - accuracy: 0.8211 - val_loss: 0.6298 - val_accuracy: 0.8123\n"
     ]
    }
   ],
   "source": [
    "# compiling the neural network classifier, sgd optimizer\n",
    "sgd = optimizers.SGD(lr = 0.01)\n",
    "model3.compile(optimizer = sgd, loss = 'categorical_crossentropy', metrics = ['accuracy'])\n",
    "\n",
    "# Fitting the neural network for training\n",
    "history = model3.fit(X_train, y_train, validation_data = (X_val, y_val), batch_size = 200, epochs = 100, verbose = 1)"
   ]
  },
  {
   "cell_type": "code",
   "execution_count": 47,
   "metadata": {
    "colab": {
     "base_uri": "https://localhost:8080/",
     "height": 88
    },
    "colab_type": "code",
    "id": "4nU-fCy5KbwM",
    "outputId": "efbd3096-803c-420b-a9cb-2403397384f4"
   },
   "outputs": [
    {
     "name": "stdout",
     "output_type": "stream",
     "text": [
      "Evaluate NN model with relu activations and changing the number of activators\n",
      "--------------------------------------------------------------------------------\n",
      "1875/1875 [==============================] - 12s 6ms/step - loss: 0.6298 - accuracy: 0.8123\n",
      "Validation accuracy: 81.23\n"
     ]
    }
   ],
   "source": [
    "print('Evaluate NN model with relu activations and changing the number of activators'); print('--'*40)\n",
    "results3 = model3.evaluate(X_val, y_val)\n",
    "print('Validation accuracy: {}'.format(round(results3[1]*100, 2), '%'))"
   ]
  },
  {
   "cell_type": "markdown",
   "metadata": {
    "colab_type": "text",
    "id": "dCjOofsRTN1K"
   },
   "source": [
    "#### NN model, relu activations, changing number of activators, Adam optimizers"
   ]
  },
  {
   "cell_type": "code",
   "execution_count": 48,
   "metadata": {
    "colab": {
     "base_uri": "https://localhost:8080/",
     "height": 1000
    },
    "colab_type": "code",
    "id": "DhnK4y6VTQAC",
    "outputId": "248d2cc8-22c1-482b-f193-44a2c5025f2d"
   },
   "outputs": [
    {
     "name": "stderr",
     "output_type": "stream",
     "text": [
      "WARNING:absl:At this time, the v2.11+ optimizer `tf.keras.optimizers.Adam` runs slowly on M1/M2 Macs, please use the legacy Keras optimizer instead, located at `tf.keras.optimizers.legacy.Adam`.\n",
      "WARNING:absl:`lr` is deprecated in Keras optimizer, please use `learning_rate` or use the legacy optimizer, e.g.,tf.keras.optimizers.legacy.Adam.\n",
      "WARNING:absl:There is a known slowdown when using v2.11+ Keras optimizers on M1/M2 Macs. Falling back to the legacy Keras optimizer, i.e., `tf.keras.optimizers.legacy.Adam`.\n"
     ]
    },
    {
     "name": "stdout",
     "output_type": "stream",
     "text": [
      "Epoch 1/100\n",
      "210/210 [==============================] - 4s 19ms/step - loss: 0.9128 - accuracy: 0.7284 - val_loss: 0.8122 - val_accuracy: 0.7461\n",
      "Epoch 2/100\n",
      "210/210 [==============================] - 3s 14ms/step - loss: 0.7718 - accuracy: 0.7594 - val_loss: 0.7842 - val_accuracy: 0.7584\n",
      "Epoch 3/100\n",
      "210/210 [==============================] - 3s 15ms/step - loss: 0.7473 - accuracy: 0.7669 - val_loss: 0.7557 - val_accuracy: 0.7672\n",
      "Epoch 4/100\n",
      "210/210 [==============================] - 3s 14ms/step - loss: 0.7357 - accuracy: 0.7734 - val_loss: 0.7701 - val_accuracy: 0.7633\n",
      "Epoch 5/100\n",
      "210/210 [==============================] - 3s 14ms/step - loss: 0.7185 - accuracy: 0.7787 - val_loss: 0.7352 - val_accuracy: 0.7783\n",
      "Epoch 6/100\n",
      "210/210 [==============================] - 3s 14ms/step - loss: 0.7201 - accuracy: 0.7767 - val_loss: 0.7186 - val_accuracy: 0.7822\n",
      "Epoch 7/100\n",
      "210/210 [==============================] - 3s 14ms/step - loss: 0.6920 - accuracy: 0.7901 - val_loss: 0.6977 - val_accuracy: 0.7882\n",
      "Epoch 8/100\n",
      "210/210 [==============================] - 3s 14ms/step - loss: 0.6813 - accuracy: 0.7904 - val_loss: 0.6768 - val_accuracy: 0.7957\n",
      "Epoch 9/100\n",
      "210/210 [==============================] - 3s 14ms/step - loss: 0.6584 - accuracy: 0.7971 - val_loss: 0.6607 - val_accuracy: 0.7983\n",
      "Epoch 10/100\n",
      "210/210 [==============================] - 3s 14ms/step - loss: 0.6373 - accuracy: 0.8053 - val_loss: 0.6124 - val_accuracy: 0.8151\n",
      "Epoch 11/100\n",
      "210/210 [==============================] - 3s 14ms/step - loss: 0.6353 - accuracy: 0.8045 - val_loss: 0.6115 - val_accuracy: 0.8142\n",
      "Epoch 12/100\n",
      "210/210 [==============================] - 3s 14ms/step - loss: 0.6178 - accuracy: 0.8115 - val_loss: 0.6304 - val_accuracy: 0.8081\n",
      "Epoch 13/100\n",
      "210/210 [==============================] - 3s 14ms/step - loss: 0.5999 - accuracy: 0.8154 - val_loss: 0.6069 - val_accuracy: 0.8191\n",
      "Epoch 14/100\n",
      "210/210 [==============================] - 3s 14ms/step - loss: 0.6025 - accuracy: 0.8134 - val_loss: 0.6368 - val_accuracy: 0.8074\n",
      "Epoch 15/100\n",
      "210/210 [==============================] - 3s 14ms/step - loss: 0.5950 - accuracy: 0.8170 - val_loss: 0.6329 - val_accuracy: 0.8051\n",
      "Epoch 16/100\n",
      "210/210 [==============================] - 3s 14ms/step - loss: 0.5702 - accuracy: 0.8242 - val_loss: 0.6107 - val_accuracy: 0.8151\n",
      "Epoch 17/100\n",
      "210/210 [==============================] - 3s 14ms/step - loss: 0.5674 - accuracy: 0.8254 - val_loss: 0.5875 - val_accuracy: 0.8231\n",
      "Epoch 18/100\n",
      "210/210 [==============================] - 3s 14ms/step - loss: 0.5564 - accuracy: 0.8276 - val_loss: 0.6100 - val_accuracy: 0.8132\n",
      "Epoch 19/100\n",
      "210/210 [==============================] - 3s 14ms/step - loss: 0.5509 - accuracy: 0.8305 - val_loss: 0.5705 - val_accuracy: 0.8260\n",
      "Epoch 20/100\n",
      "210/210 [==============================] - 3s 14ms/step - loss: 0.5454 - accuracy: 0.8314 - val_loss: 0.6002 - val_accuracy: 0.8176\n",
      "Epoch 21/100\n",
      "210/210 [==============================] - 3s 14ms/step - loss: 0.5296 - accuracy: 0.8355 - val_loss: 0.5457 - val_accuracy: 0.8348\n",
      "Epoch 22/100\n",
      "210/210 [==============================] - 3s 14ms/step - loss: 0.5393 - accuracy: 0.8350 - val_loss: 0.5566 - val_accuracy: 0.8300\n",
      "Epoch 23/100\n",
      "210/210 [==============================] - 3s 14ms/step - loss: 0.5254 - accuracy: 0.8367 - val_loss: 0.5761 - val_accuracy: 0.8253\n",
      "Epoch 24/100\n",
      "210/210 [==============================] - 3s 14ms/step - loss: 0.5099 - accuracy: 0.8424 - val_loss: 0.5346 - val_accuracy: 0.8378\n",
      "Epoch 25/100\n",
      "210/210 [==============================] - 3s 14ms/step - loss: 0.5117 - accuracy: 0.8397 - val_loss: 0.5367 - val_accuracy: 0.8377\n",
      "Epoch 26/100\n",
      "210/210 [==============================] - 3s 15ms/step - loss: 0.4930 - accuracy: 0.8467 - val_loss: 0.5125 - val_accuracy: 0.8455\n",
      "Epoch 27/100\n",
      "210/210 [==============================] - 3s 14ms/step - loss: 0.4916 - accuracy: 0.8461 - val_loss: 0.5710 - val_accuracy: 0.8243\n",
      "Epoch 28/100\n",
      "210/210 [==============================] - 3s 14ms/step - loss: 0.4820 - accuracy: 0.8506 - val_loss: 0.5103 - val_accuracy: 0.8464\n",
      "Epoch 29/100\n",
      "210/210 [==============================] - 3s 14ms/step - loss: 0.4847 - accuracy: 0.8486 - val_loss: 0.5442 - val_accuracy: 0.8333\n",
      "Epoch 30/100\n",
      "210/210 [==============================] - 3s 14ms/step - loss: 0.4838 - accuracy: 0.8493 - val_loss: 0.5303 - val_accuracy: 0.8399\n",
      "Epoch 31/100\n",
      "210/210 [==============================] - 3s 14ms/step - loss: 0.4642 - accuracy: 0.8553 - val_loss: 0.5339 - val_accuracy: 0.8379\n",
      "Epoch 32/100\n",
      "210/210 [==============================] - 3s 14ms/step - loss: 0.4586 - accuracy: 0.8587 - val_loss: 0.4665 - val_accuracy: 0.8610\n",
      "Epoch 33/100\n",
      "210/210 [==============================] - 3s 14ms/step - loss: 0.4702 - accuracy: 0.8532 - val_loss: 0.5090 - val_accuracy: 0.8445\n",
      "Epoch 34/100\n",
      "210/210 [==============================] - 3s 14ms/step - loss: 0.4531 - accuracy: 0.8575 - val_loss: 0.4925 - val_accuracy: 0.8518\n",
      "Epoch 35/100\n",
      "210/210 [==============================] - 3s 15ms/step - loss: 0.4459 - accuracy: 0.8607 - val_loss: 0.4786 - val_accuracy: 0.8559\n",
      "Epoch 36/100\n",
      "210/210 [==============================] - 3s 14ms/step - loss: 0.4329 - accuracy: 0.8655 - val_loss: 0.5176 - val_accuracy: 0.8444\n",
      "Epoch 37/100\n",
      "210/210 [==============================] - 3s 14ms/step - loss: 0.4336 - accuracy: 0.8639 - val_loss: 0.5056 - val_accuracy: 0.8475\n",
      "Epoch 38/100\n",
      "210/210 [==============================] - 3s 14ms/step - loss: 0.4429 - accuracy: 0.8608 - val_loss: 0.4966 - val_accuracy: 0.8503\n",
      "Epoch 39/100\n",
      "210/210 [==============================] - 3s 14ms/step - loss: 0.4156 - accuracy: 0.8701 - val_loss: 0.4778 - val_accuracy: 0.8573\n",
      "Epoch 40/100\n",
      "210/210 [==============================] - 3s 14ms/step - loss: 0.4263 - accuracy: 0.8676 - val_loss: 0.4659 - val_accuracy: 0.8590\n",
      "Epoch 41/100\n",
      "210/210 [==============================] - 3s 14ms/step - loss: 0.4224 - accuracy: 0.8680 - val_loss: 0.4759 - val_accuracy: 0.8563\n",
      "Epoch 42/100\n",
      "210/210 [==============================] - 3s 14ms/step - loss: 0.4163 - accuracy: 0.8689 - val_loss: 0.4596 - val_accuracy: 0.8612\n",
      "Epoch 43/100\n",
      "210/210 [==============================] - 3s 14ms/step - loss: 0.4015 - accuracy: 0.8743 - val_loss: 0.4573 - val_accuracy: 0.8606\n",
      "Epoch 44/100\n",
      "210/210 [==============================] - 3s 14ms/step - loss: 0.4089 - accuracy: 0.8700 - val_loss: 0.4616 - val_accuracy: 0.8609\n",
      "Epoch 45/100\n",
      "210/210 [==============================] - 3s 14ms/step - loss: 0.4052 - accuracy: 0.8747 - val_loss: 0.4815 - val_accuracy: 0.8527\n",
      "Epoch 46/100\n",
      "210/210 [==============================] - 3s 14ms/step - loss: 0.4008 - accuracy: 0.8721 - val_loss: 0.4642 - val_accuracy: 0.8622\n",
      "Epoch 47/100\n",
      "210/210 [==============================] - 3s 15ms/step - loss: 0.3898 - accuracy: 0.8770 - val_loss: 0.4315 - val_accuracy: 0.8698\n",
      "Epoch 48/100\n",
      "210/210 [==============================] - 3s 14ms/step - loss: 0.3871 - accuracy: 0.8785 - val_loss: 0.4768 - val_accuracy: 0.8590\n",
      "Epoch 49/100\n",
      "210/210 [==============================] - 3s 14ms/step - loss: 0.3777 - accuracy: 0.8811 - val_loss: 0.4117 - val_accuracy: 0.8788\n",
      "Epoch 50/100\n",
      "210/210 [==============================] - 3s 14ms/step - loss: 0.3849 - accuracy: 0.8778 - val_loss: 0.4372 - val_accuracy: 0.8690\n",
      "Epoch 51/100\n",
      "210/210 [==============================] - 3s 14ms/step - loss: 0.3747 - accuracy: 0.8809 - val_loss: 0.4310 - val_accuracy: 0.8698\n",
      "Epoch 52/100\n",
      "210/210 [==============================] - 3s 14ms/step - loss: 0.3726 - accuracy: 0.8823 - val_loss: 0.4748 - val_accuracy: 0.8568\n",
      "Epoch 53/100\n",
      "210/210 [==============================] - 3s 14ms/step - loss: 0.3562 - accuracy: 0.8883 - val_loss: 0.4458 - val_accuracy: 0.8680\n",
      "Epoch 54/100\n",
      "210/210 [==============================] - 3s 14ms/step - loss: 0.3552 - accuracy: 0.8870 - val_loss: 0.4162 - val_accuracy: 0.8776\n",
      "Epoch 55/100\n",
      "210/210 [==============================] - 3s 14ms/step - loss: 0.3612 - accuracy: 0.8855 - val_loss: 0.4513 - val_accuracy: 0.8644\n",
      "Epoch 56/100\n",
      "210/210 [==============================] - 3s 14ms/step - loss: 0.3714 - accuracy: 0.8813 - val_loss: 0.4903 - val_accuracy: 0.8495\n",
      "Epoch 57/100\n"
     ]
    },
    {
     "name": "stdout",
     "output_type": "stream",
     "text": [
      "210/210 [==============================] - 3s 15ms/step - loss: 0.3605 - accuracy: 0.8850 - val_loss: 0.4574 - val_accuracy: 0.8657\n",
      "Epoch 58/100\n",
      "210/210 [==============================] - 3s 14ms/step - loss: 0.3576 - accuracy: 0.8856 - val_loss: 0.4001 - val_accuracy: 0.8835\n",
      "Epoch 59/100\n",
      "210/210 [==============================] - 3s 14ms/step - loss: 0.3449 - accuracy: 0.8901 - val_loss: 0.3794 - val_accuracy: 0.8919\n",
      "Epoch 60/100\n",
      "210/210 [==============================] - 3s 14ms/step - loss: 0.3395 - accuracy: 0.8914 - val_loss: 0.4616 - val_accuracy: 0.8604\n",
      "Epoch 61/100\n",
      "210/210 [==============================] - 3s 14ms/step - loss: 0.3377 - accuracy: 0.8919 - val_loss: 0.4239 - val_accuracy: 0.8742\n",
      "Epoch 62/100\n",
      "210/210 [==============================] - 3s 14ms/step - loss: 0.3264 - accuracy: 0.8955 - val_loss: 0.4277 - val_accuracy: 0.8727\n",
      "Epoch 63/100\n",
      "210/210 [==============================] - 3s 14ms/step - loss: 0.3431 - accuracy: 0.8889 - val_loss: 0.4509 - val_accuracy: 0.8666\n",
      "Epoch 64/100\n",
      "210/210 [==============================] - 3s 14ms/step - loss: 0.3429 - accuracy: 0.8890 - val_loss: 0.4162 - val_accuracy: 0.8783\n",
      "Epoch 65/100\n",
      "210/210 [==============================] - 3s 14ms/step - loss: 0.3402 - accuracy: 0.8901 - val_loss: 0.4002 - val_accuracy: 0.8833\n",
      "Epoch 66/100\n",
      "210/210 [==============================] - 3s 14ms/step - loss: 0.3214 - accuracy: 0.8969 - val_loss: 0.4204 - val_accuracy: 0.8779\n",
      "Epoch 67/100\n",
      "210/210 [==============================] - 3s 14ms/step - loss: 0.3281 - accuracy: 0.8950 - val_loss: 0.4044 - val_accuracy: 0.8830\n",
      "Epoch 68/100\n",
      "210/210 [==============================] - 3s 14ms/step - loss: 0.3144 - accuracy: 0.8986 - val_loss: 0.3982 - val_accuracy: 0.8820\n",
      "Epoch 69/100\n",
      "210/210 [==============================] - 3s 14ms/step - loss: 0.3240 - accuracy: 0.8948 - val_loss: 0.4467 - val_accuracy: 0.8714\n",
      "Epoch 70/100\n",
      "210/210 [==============================] - 3s 14ms/step - loss: 0.3273 - accuracy: 0.8943 - val_loss: 0.3861 - val_accuracy: 0.8899\n",
      "Epoch 71/100\n",
      "210/210 [==============================] - 3s 14ms/step - loss: 0.3219 - accuracy: 0.8958 - val_loss: 0.4550 - val_accuracy: 0.8676\n",
      "Epoch 72/100\n",
      "210/210 [==============================] - 3s 14ms/step - loss: 0.3040 - accuracy: 0.9009 - val_loss: 0.4584 - val_accuracy: 0.8660\n",
      "Epoch 73/100\n",
      "210/210 [==============================] - 3s 14ms/step - loss: 0.3094 - accuracy: 0.8997 - val_loss: 0.4023 - val_accuracy: 0.8822\n",
      "Epoch 74/100\n",
      "210/210 [==============================] - 3s 14ms/step - loss: 0.2945 - accuracy: 0.9051 - val_loss: 0.4008 - val_accuracy: 0.8824\n",
      "Epoch 75/100\n",
      "210/210 [==============================] - 3s 15ms/step - loss: 0.3120 - accuracy: 0.8984 - val_loss: 0.4077 - val_accuracy: 0.8814\n",
      "Epoch 76/100\n",
      "210/210 [==============================] - 3s 14ms/step - loss: 0.2882 - accuracy: 0.9060 - val_loss: 0.3635 - val_accuracy: 0.8957\n",
      "Epoch 77/100\n",
      "210/210 [==============================] - 3s 14ms/step - loss: 0.2913 - accuracy: 0.9055 - val_loss: 0.4154 - val_accuracy: 0.8805\n",
      "Epoch 78/100\n",
      "210/210 [==============================] - 3s 14ms/step - loss: 0.2856 - accuracy: 0.9064 - val_loss: 0.4034 - val_accuracy: 0.8832\n",
      "Epoch 79/100\n",
      "210/210 [==============================] - 3s 15ms/step - loss: 0.2849 - accuracy: 0.9081 - val_loss: 0.3955 - val_accuracy: 0.8861\n",
      "Epoch 80/100\n",
      "210/210 [==============================] - 3s 14ms/step - loss: 0.2860 - accuracy: 0.9083 - val_loss: 0.3897 - val_accuracy: 0.8900\n",
      "Epoch 81/100\n",
      "210/210 [==============================] - 3s 14ms/step - loss: 0.2879 - accuracy: 0.9053 - val_loss: 0.4148 - val_accuracy: 0.8809\n",
      "Epoch 82/100\n",
      "210/210 [==============================] - 3s 15ms/step - loss: 0.2897 - accuracy: 0.9041 - val_loss: 0.3998 - val_accuracy: 0.8853\n",
      "Epoch 83/100\n",
      "210/210 [==============================] - 3s 14ms/step - loss: 0.2793 - accuracy: 0.9089 - val_loss: 0.3956 - val_accuracy: 0.8898\n",
      "Epoch 84/100\n",
      "210/210 [==============================] - 3s 14ms/step - loss: 0.2868 - accuracy: 0.9066 - val_loss: 0.4592 - val_accuracy: 0.8659\n",
      "Epoch 85/100\n",
      "210/210 [==============================] - 3s 14ms/step - loss: 0.2871 - accuracy: 0.9056 - val_loss: 0.4272 - val_accuracy: 0.8768\n",
      "Epoch 86/100\n",
      "210/210 [==============================] - 3s 14ms/step - loss: 0.2759 - accuracy: 0.9088 - val_loss: 0.3671 - val_accuracy: 0.8988\n",
      "Epoch 87/100\n",
      "210/210 [==============================] - 3s 14ms/step - loss: 0.2673 - accuracy: 0.9125 - val_loss: 0.3647 - val_accuracy: 0.8988\n",
      "Epoch 88/100\n",
      "210/210 [==============================] - 3s 14ms/step - loss: 0.2740 - accuracy: 0.9104 - val_loss: 0.3732 - val_accuracy: 0.8972\n",
      "Epoch 89/100\n",
      "210/210 [==============================] - 3s 14ms/step - loss: 0.2649 - accuracy: 0.9126 - val_loss: 0.4182 - val_accuracy: 0.8816\n",
      "Epoch 90/100\n",
      "210/210 [==============================] - 3s 14ms/step - loss: 0.2602 - accuracy: 0.9147 - val_loss: 0.4105 - val_accuracy: 0.8851\n",
      "Epoch 91/100\n",
      "210/210 [==============================] - 3s 14ms/step - loss: 0.2584 - accuracy: 0.9165 - val_loss: 0.3634 - val_accuracy: 0.8992\n",
      "Epoch 92/100\n",
      "210/210 [==============================] - 3s 14ms/step - loss: 0.2531 - accuracy: 0.9172 - val_loss: 0.3873 - val_accuracy: 0.8925\n",
      "Epoch 93/100\n",
      "210/210 [==============================] - 3s 14ms/step - loss: 0.2629 - accuracy: 0.9150 - val_loss: 0.4017 - val_accuracy: 0.8865\n",
      "Epoch 94/100\n",
      "210/210 [==============================] - 3s 14ms/step - loss: 0.2645 - accuracy: 0.9127 - val_loss: 0.3819 - val_accuracy: 0.8953\n",
      "Epoch 95/100\n",
      "210/210 [==============================] - 3s 14ms/step - loss: 0.2522 - accuracy: 0.9186 - val_loss: 0.3865 - val_accuracy: 0.8943\n",
      "Epoch 96/100\n",
      "210/210 [==============================] - 3s 14ms/step - loss: 0.2502 - accuracy: 0.9189 - val_loss: 0.3907 - val_accuracy: 0.8946\n",
      "Epoch 97/100\n",
      "210/210 [==============================] - 3s 14ms/step - loss: 0.2599 - accuracy: 0.9156 - val_loss: 0.4117 - val_accuracy: 0.8842\n",
      "Epoch 98/100\n",
      "210/210 [==============================] - 3s 14ms/step - loss: 0.2420 - accuracy: 0.9205 - val_loss: 0.4047 - val_accuracy: 0.8889\n",
      "Epoch 99/100\n",
      "210/210 [==============================] - 3s 14ms/step - loss: 0.2468 - accuracy: 0.9179 - val_loss: 0.4661 - val_accuracy: 0.8688\n",
      "Epoch 100/100\n",
      "210/210 [==============================] - 3s 14ms/step - loss: 0.2372 - accuracy: 0.9228 - val_loss: 0.3913 - val_accuracy: 0.8954\n"
     ]
    }
   ],
   "source": [
    "# compiling the neural network classifier, adam optimizer\n",
    "adam = optimizers.Adam(lr = 0.001)\n",
    "model3.compile(optimizer = adam, loss = 'categorical_crossentropy', metrics = ['accuracy'])\n",
    "\n",
    "# Fitting the neural network for training\n",
    "history = model3.fit(X_train, y_train, validation_data = (X_val, y_val), batch_size = 200, epochs = 100, verbose = 1)"
   ]
  },
  {
   "cell_type": "code",
   "execution_count": 49,
   "metadata": {
    "colab": {
     "base_uri": "https://localhost:8080/",
     "height": 88
    },
    "colab_type": "code",
    "id": "sHt5CH17TYgP",
    "outputId": "a1e0b820-8142-414c-c95f-4db5e98130f9"
   },
   "outputs": [
    {
     "name": "stdout",
     "output_type": "stream",
     "text": [
      "Evaluate NN model with relu activations and changing the number of activators\n",
      "--------------------------------------------------------------------------------\n",
      "1875/1875 [==============================] - 12s 6ms/step - loss: 0.3913 - accuracy: 0.8954\n",
      "Validation accuracy: 89.54\n"
     ]
    }
   ],
   "source": [
    "print('Evaluate NN model with relu activations and changing the number of activators'); print('--'*40)\n",
    "results3 = model3.evaluate(X_val, y_val)\n",
    "print('Validation accuracy: {}'.format(round(results3[1]*100, 2), '%'))"
   ]
  },
  {
   "cell_type": "markdown",
   "metadata": {
    "colab_type": "text",
    "id": "xMH4JH0Aw1Xz"
   },
   "source": [
    "<a id='o5'></a>\n",
    "##### Observation 5 - NN model with relu activations and changing activators\n",
    "* Adding relu activations and changing activators results in improvement of score.\n",
    "* Best accuracy achieved till now is using relu activations, changing number of activators and Adam optimizers with a learning rate of 0.001\n",
    "* Next, let's try adding weight initilization."
   ]
  },
  {
   "cell_type": "markdown",
   "metadata": {
    "colab_type": "text",
    "id": "kermiDSyKAPQ"
   },
   "source": [
    "<a id='Weight'></a>\n",
    "### With Weight Initializers\n",
    "Changing weight initialization scheme can significantly improve training of the model by preventing vanishing gradient problem up to some degree."
   ]
  },
  {
   "cell_type": "markdown",
   "metadata": {
    "colab_type": "text",
    "id": "bdMa80vmVAfU"
   },
   "source": [
    "#### NN model, relu activations, SGD optimizers with weight initializers"
   ]
  },
  {
   "cell_type": "code",
   "execution_count": 50,
   "metadata": {
    "colab": {
     "base_uri": "https://localhost:8080/",
     "height": 52
    },
    "colab_type": "code",
    "id": "jLn1T1HTE5ms",
    "outputId": "ffdb5aa0-c9ef-4033-8453-4f4e3ab775fe"
   },
   "outputs": [
    {
     "name": "stdout",
     "output_type": "stream",
     "text": [
      "NN model with weight initializers\n",
      "--------------------------------------------------------------------------------\n"
     ]
    }
   ],
   "source": [
    "print('NN model with weight initializers'); print('--'*40)\n",
    "# Initialize the neural network classifier\n",
    "model4 = Sequential()\n",
    "\n",
    "# Input Layer - adding input layer and activation functions relu and weight initializer\n",
    "model4.add(Dense(256, input_shape = (1024, ), kernel_initializer = 'he_normal'))\n",
    "# Adding activation function\n",
    "model4.add(Activation('relu'))\n",
    "\n",
    "#Hidden Layer 1 - adding first hidden layer\n",
    "model4.add(Dense(128, kernel_initializer = 'he_normal', bias_initializer = 'he_uniform'))\n",
    "# Adding activation function\n",
    "model4.add(Activation('relu'))\n",
    "\n",
    "#Hidden Layer 2 - adding second hidden layer\n",
    "model4.add(Dense(64, kernel_initializer = 'he_normal', bias_initializer = 'he_uniform'))\n",
    "# Adding activation function\n",
    "model4.add(Activation('relu'))\n",
    "\n",
    "#Hidden Layer 3 - adding third hidden layer\n",
    "model4.add(Dense(32, kernel_initializer = 'he_normal', bias_initializer = 'he_uniform'))\n",
    "# Adding activation function\n",
    "model4.add(Activation('relu'))\n",
    "\n",
    "# Output Layer - adding output layer which is of 10 nodes (digits)\n",
    "model4.add(Dense(10, kernel_initializer = 'he_normal', bias_initializer = 'he_uniform'))\n",
    "# Adding activation function\n",
    "model4.add(Activation('softmax'))"
   ]
  },
  {
   "cell_type": "code",
   "execution_count": 51,
   "metadata": {
    "colab": {
     "base_uri": "https://localhost:8080/",
     "height": 515
    },
    "colab_type": "code",
    "id": "j4Ll9EKlU0Ep",
    "outputId": "918e5dc5-c837-4e54-9ad9-22ee8ec24f1a"
   },
   "outputs": [
    {
     "name": "stdout",
     "output_type": "stream",
     "text": [
      "Model: \"sequential_3\"\n",
      "_________________________________________________________________\n",
      " Layer (type)                Output Shape              Param #   \n",
      "=================================================================\n",
      " dense_10 (Dense)            (None, 256)               262400    \n",
      "                                                                 \n",
      " activation_10 (Activation)  (None, 256)               0         \n",
      "                                                                 \n",
      " dense_11 (Dense)            (None, 128)               32896     \n",
      "                                                                 \n",
      " activation_11 (Activation)  (None, 128)               0         \n",
      "                                                                 \n",
      " dense_12 (Dense)            (None, 64)                8256      \n",
      "                                                                 \n",
      " activation_12 (Activation)  (None, 64)                0         \n",
      "                                                                 \n",
      " dense_13 (Dense)            (None, 32)                2080      \n",
      "                                                                 \n",
      " activation_13 (Activation)  (None, 32)                0         \n",
      "                                                                 \n",
      " dense_14 (Dense)            (None, 10)                330       \n",
      "                                                                 \n",
      " activation_14 (Activation)  (None, 10)                0         \n",
      "                                                                 \n",
      "=================================================================\n",
      "Total params: 305,962\n",
      "Trainable params: 305,962\n",
      "Non-trainable params: 0\n",
      "_________________________________________________________________\n"
     ]
    }
   ],
   "source": [
    "model4.summary()"
   ]
  },
  {
   "cell_type": "code",
   "execution_count": 52,
   "metadata": {
    "colab": {
     "base_uri": "https://localhost:8080/",
     "height": 1000
    },
    "colab_type": "code",
    "id": "W8Np2U7LU2vN",
    "outputId": "e6bcfe8a-09e0-4d1f-e43b-3543a24cc155"
   },
   "outputs": [
    {
     "name": "stderr",
     "output_type": "stream",
     "text": [
      "WARNING:absl:At this time, the v2.11+ optimizer `tf.keras.optimizers.SGD` runs slowly on M1/M2 Macs, please use the legacy Keras optimizer instead, located at `tf.keras.optimizers.legacy.SGD`.\n",
      "WARNING:absl:`lr` is deprecated in Keras optimizer, please use `learning_rate` or use the legacy optimizer, e.g.,tf.keras.optimizers.legacy.SGD.\n",
      "WARNING:absl:There is a known slowdown when using v2.11+ Keras optimizers on M1/M2 Macs. Falling back to the legacy Keras optimizer, i.e., `tf.keras.optimizers.legacy.SGD`.\n"
     ]
    },
    {
     "name": "stdout",
     "output_type": "stream",
     "text": [
      "Epoch 1/100\n",
      "210/210 [==============================] - 5s 22ms/step - loss: 2.3001 - accuracy: 0.1245 - val_loss: 2.2776 - val_accuracy: 0.1505\n",
      "Epoch 2/100\n",
      "210/210 [==============================] - 3s 14ms/step - loss: 2.2608 - accuracy: 0.1663 - val_loss: 2.2420 - val_accuracy: 0.1768\n",
      "Epoch 3/100\n",
      "210/210 [==============================] - 3s 14ms/step - loss: 2.2211 - accuracy: 0.1958 - val_loss: 2.1940 - val_accuracy: 0.2206\n",
      "Epoch 4/100\n",
      "210/210 [==============================] - 3s 14ms/step - loss: 2.1721 - accuracy: 0.2354 - val_loss: 2.1404 - val_accuracy: 0.2637\n",
      "Epoch 5/100\n",
      "210/210 [==============================] - 3s 14ms/step - loss: 2.1100 - accuracy: 0.2728 - val_loss: 2.0824 - val_accuracy: 0.2711\n",
      "Epoch 6/100\n",
      "210/210 [==============================] - 3s 14ms/step - loss: 2.0277 - accuracy: 0.3055 - val_loss: 1.9755 - val_accuracy: 0.3287\n",
      "Epoch 7/100\n",
      "210/210 [==============================] - 3s 14ms/step - loss: 1.9294 - accuracy: 0.3508 - val_loss: 1.8580 - val_accuracy: 0.3843\n",
      "Epoch 8/100\n",
      "210/210 [==============================] - 3s 14ms/step - loss: 1.8335 - accuracy: 0.3949 - val_loss: 1.7535 - val_accuracy: 0.4273\n",
      "Epoch 9/100\n",
      "210/210 [==============================] - 3s 14ms/step - loss: 1.7353 - accuracy: 0.4315 - val_loss: 1.6619 - val_accuracy: 0.4667\n",
      "Epoch 10/100\n",
      "210/210 [==============================] - 3s 14ms/step - loss: 1.6622 - accuracy: 0.4505 - val_loss: 1.5743 - val_accuracy: 0.4974\n",
      "Epoch 11/100\n",
      "210/210 [==============================] - 3s 14ms/step - loss: 1.5952 - accuracy: 0.4740 - val_loss: 1.6267 - val_accuracy: 0.4362\n",
      "Epoch 12/100\n",
      "210/210 [==============================] - 3s 14ms/step - loss: 1.5311 - accuracy: 0.5001 - val_loss: 1.5265 - val_accuracy: 0.4983\n",
      "Epoch 13/100\n",
      "210/210 [==============================] - 3s 14ms/step - loss: 1.4911 - accuracy: 0.5135 - val_loss: 1.4194 - val_accuracy: 0.5450\n",
      "Epoch 14/100\n",
      "210/210 [==============================] - 3s 14ms/step - loss: 1.4263 - accuracy: 0.5414 - val_loss: 1.4453 - val_accuracy: 0.5229\n",
      "Epoch 15/100\n",
      "210/210 [==============================] - 3s 14ms/step - loss: 1.3824 - accuracy: 0.5602 - val_loss: 1.3835 - val_accuracy: 0.5588\n",
      "Epoch 16/100\n",
      "210/210 [==============================] - 3s 14ms/step - loss: 1.3396 - accuracy: 0.5760 - val_loss: 1.3756 - val_accuracy: 0.5523\n",
      "Epoch 17/100\n",
      "210/210 [==============================] - 3s 14ms/step - loss: 1.2995 - accuracy: 0.5901 - val_loss: 1.2383 - val_accuracy: 0.6211\n",
      "Epoch 18/100\n",
      "210/210 [==============================] - 3s 14ms/step - loss: 1.2562 - accuracy: 0.6087 - val_loss: 1.2148 - val_accuracy: 0.6269\n",
      "Epoch 19/100\n",
      "210/210 [==============================] - 3s 14ms/step - loss: 1.2285 - accuracy: 0.6166 - val_loss: 1.1688 - val_accuracy: 0.6464\n",
      "Epoch 20/100\n",
      "210/210 [==============================] - 3s 14ms/step - loss: 1.2036 - accuracy: 0.6256 - val_loss: 1.1669 - val_accuracy: 0.6424\n",
      "Epoch 21/100\n",
      "210/210 [==============================] - 3s 14ms/step - loss: 1.1730 - accuracy: 0.6369 - val_loss: 1.1631 - val_accuracy: 0.6362\n",
      "Epoch 22/100\n",
      "210/210 [==============================] - 3s 14ms/step - loss: 1.1533 - accuracy: 0.6419 - val_loss: 1.1258 - val_accuracy: 0.6539\n",
      "Epoch 23/100\n",
      "210/210 [==============================] - 3s 14ms/step - loss: 1.1311 - accuracy: 0.6497 - val_loss: 1.0862 - val_accuracy: 0.6712\n",
      "Epoch 24/100\n",
      "210/210 [==============================] - 3s 14ms/step - loss: 1.1113 - accuracy: 0.6560 - val_loss: 1.0694 - val_accuracy: 0.6775\n",
      "Epoch 25/100\n",
      "210/210 [==============================] - 3s 14ms/step - loss: 1.0880 - accuracy: 0.6650 - val_loss: 1.0478 - val_accuracy: 0.6809\n",
      "Epoch 26/100\n",
      "210/210 [==============================] - 3s 14ms/step - loss: 1.0719 - accuracy: 0.6696 - val_loss: 1.0755 - val_accuracy: 0.6630\n",
      "Epoch 27/100\n",
      "210/210 [==============================] - 3s 15ms/step - loss: 1.0498 - accuracy: 0.6766 - val_loss: 1.1119 - val_accuracy: 0.6438\n",
      "Epoch 28/100\n",
      "210/210 [==============================] - 3s 14ms/step - loss: 1.0407 - accuracy: 0.6793 - val_loss: 0.9945 - val_accuracy: 0.6999\n",
      "Epoch 29/100\n",
      "210/210 [==============================] - 3s 14ms/step - loss: 1.0247 - accuracy: 0.6842 - val_loss: 1.0111 - val_accuracy: 0.6891\n",
      "Epoch 30/100\n",
      "210/210 [==============================] - 3s 14ms/step - loss: 1.0075 - accuracy: 0.6893 - val_loss: 0.9746 - val_accuracy: 0.7051\n",
      "Epoch 31/100\n",
      "210/210 [==============================] - 3s 14ms/step - loss: 1.0028 - accuracy: 0.6905 - val_loss: 0.9542 - val_accuracy: 0.7123\n",
      "Epoch 32/100\n",
      "210/210 [==============================] - 3s 14ms/step - loss: 0.9875 - accuracy: 0.6976 - val_loss: 0.9724 - val_accuracy: 0.7020\n",
      "Epoch 33/100\n",
      "210/210 [==============================] - 3s 14ms/step - loss: 0.9733 - accuracy: 0.6998 - val_loss: 1.0210 - val_accuracy: 0.6811\n",
      "Epoch 34/100\n",
      "210/210 [==============================] - 3s 14ms/step - loss: 0.9597 - accuracy: 0.7057 - val_loss: 0.9348 - val_accuracy: 0.7165\n",
      "Epoch 35/100\n",
      "210/210 [==============================] - 3s 14ms/step - loss: 0.9473 - accuracy: 0.7091 - val_loss: 0.9430 - val_accuracy: 0.7121\n",
      "Epoch 36/100\n",
      "210/210 [==============================] - 3s 14ms/step - loss: 0.9380 - accuracy: 0.7117 - val_loss: 0.9133 - val_accuracy: 0.7225\n",
      "Epoch 37/100\n",
      "210/210 [==============================] - 3s 13ms/step - loss: 0.9274 - accuracy: 0.7165 - val_loss: 0.9031 - val_accuracy: 0.7258\n",
      "Epoch 38/100\n",
      "210/210 [==============================] - 3s 13ms/step - loss: 0.9175 - accuracy: 0.7186 - val_loss: 0.9013 - val_accuracy: 0.7267\n",
      "Epoch 39/100\n",
      "210/210 [==============================] - 3s 13ms/step - loss: 0.9090 - accuracy: 0.7210 - val_loss: 0.9502 - val_accuracy: 0.7076\n",
      "Epoch 40/100\n",
      "210/210 [==============================] - 3s 14ms/step - loss: 0.8976 - accuracy: 0.7238 - val_loss: 0.8715 - val_accuracy: 0.7359\n",
      "Epoch 41/100\n",
      "210/210 [==============================] - 3s 14ms/step - loss: 0.8846 - accuracy: 0.7286 - val_loss: 0.8750 - val_accuracy: 0.7329\n",
      "Epoch 42/100\n",
      "210/210 [==============================] - 3s 14ms/step - loss: 0.8762 - accuracy: 0.7309 - val_loss: 0.8509 - val_accuracy: 0.7439\n",
      "Epoch 43/100\n",
      "210/210 [==============================] - 4s 17ms/step - loss: 0.8641 - accuracy: 0.7348 - val_loss: 0.8499 - val_accuracy: 0.7422\n",
      "Epoch 44/100\n",
      "210/210 [==============================] - 3s 14ms/step - loss: 0.8615 - accuracy: 0.7360 - val_loss: 0.8434 - val_accuracy: 0.7441\n",
      "Epoch 45/100\n",
      "210/210 [==============================] - 3s 14ms/step - loss: 0.8476 - accuracy: 0.7413 - val_loss: 0.8365 - val_accuracy: 0.7448\n",
      "Epoch 46/100\n",
      "210/210 [==============================] - 3s 14ms/step - loss: 0.8437 - accuracy: 0.7409 - val_loss: 0.8363 - val_accuracy: 0.7441\n",
      "Epoch 47/100\n",
      "210/210 [==============================] - 3s 14ms/step - loss: 0.8295 - accuracy: 0.7469 - val_loss: 0.8745 - val_accuracy: 0.7308\n",
      "Epoch 48/100\n",
      "210/210 [==============================] - 3s 14ms/step - loss: 0.8237 - accuracy: 0.7482 - val_loss: 0.8185 - val_accuracy: 0.7518\n",
      "Epoch 49/100\n",
      "210/210 [==============================] - 3s 14ms/step - loss: 0.8165 - accuracy: 0.7509 - val_loss: 0.8229 - val_accuracy: 0.7472\n",
      "Epoch 50/100\n",
      "210/210 [==============================] - 3s 14ms/step - loss: 0.8107 - accuracy: 0.7510 - val_loss: 0.8085 - val_accuracy: 0.7530\n",
      "Epoch 51/100\n",
      "210/210 [==============================] - 3s 15ms/step - loss: 0.8054 - accuracy: 0.7532 - val_loss: 0.8264 - val_accuracy: 0.7453\n",
      "Epoch 52/100\n",
      "210/210 [==============================] - 3s 15ms/step - loss: 0.7958 - accuracy: 0.7554 - val_loss: 0.7989 - val_accuracy: 0.7563\n",
      "Epoch 53/100\n",
      "210/210 [==============================] - 3s 14ms/step - loss: 0.7850 - accuracy: 0.7596 - val_loss: 0.7906 - val_accuracy: 0.7608\n",
      "Epoch 54/100\n",
      "210/210 [==============================] - 3s 14ms/step - loss: 0.7804 - accuracy: 0.7615 - val_loss: 0.8230 - val_accuracy: 0.7456\n",
      "Epoch 55/100\n",
      "210/210 [==============================] - 3s 14ms/step - loss: 0.7807 - accuracy: 0.7613 - val_loss: 0.7840 - val_accuracy: 0.7632\n",
      "Epoch 56/100\n",
      "210/210 [==============================] - 3s 14ms/step - loss: 0.7678 - accuracy: 0.7632 - val_loss: 0.7837 - val_accuracy: 0.7594\n",
      "Epoch 57/100\n"
     ]
    },
    {
     "name": "stdout",
     "output_type": "stream",
     "text": [
      "210/210 [==============================] - 3s 14ms/step - loss: 0.7599 - accuracy: 0.7684 - val_loss: 0.7890 - val_accuracy: 0.7570\n",
      "Epoch 58/100\n",
      "210/210 [==============================] - 3s 14ms/step - loss: 0.7569 - accuracy: 0.7693 - val_loss: 0.7854 - val_accuracy: 0.7594\n",
      "Epoch 59/100\n",
      "210/210 [==============================] - 3s 14ms/step - loss: 0.7467 - accuracy: 0.7725 - val_loss: 0.7656 - val_accuracy: 0.7672\n",
      "Epoch 60/100\n",
      "210/210 [==============================] - 3s 14ms/step - loss: 0.7402 - accuracy: 0.7736 - val_loss: 0.8023 - val_accuracy: 0.7563\n",
      "Epoch 61/100\n",
      "210/210 [==============================] - 3s 14ms/step - loss: 0.7383 - accuracy: 0.7743 - val_loss: 0.7327 - val_accuracy: 0.7778\n",
      "Epoch 62/100\n",
      "210/210 [==============================] - 3s 15ms/step - loss: 0.7296 - accuracy: 0.7754 - val_loss: 0.7476 - val_accuracy: 0.7706\n",
      "Epoch 63/100\n",
      "210/210 [==============================] - 3s 14ms/step - loss: 0.7235 - accuracy: 0.7782 - val_loss: 0.7851 - val_accuracy: 0.7611\n",
      "Epoch 64/100\n",
      "210/210 [==============================] - 3s 14ms/step - loss: 0.7241 - accuracy: 0.7774 - val_loss: 0.7506 - val_accuracy: 0.7719\n",
      "Epoch 65/100\n",
      "210/210 [==============================] - 3s 14ms/step - loss: 0.7139 - accuracy: 0.7817 - val_loss: 0.7620 - val_accuracy: 0.7661\n",
      "Epoch 66/100\n",
      "210/210 [==============================] - 3s 15ms/step - loss: 0.7076 - accuracy: 0.7835 - val_loss: 0.7183 - val_accuracy: 0.7813\n",
      "Epoch 67/100\n",
      "210/210 [==============================] - 3s 14ms/step - loss: 0.7004 - accuracy: 0.7861 - val_loss: 0.7021 - val_accuracy: 0.7893\n",
      "Epoch 68/100\n",
      "210/210 [==============================] - 3s 15ms/step - loss: 0.6936 - accuracy: 0.7893 - val_loss: 0.7175 - val_accuracy: 0.7828\n",
      "Epoch 69/100\n",
      "210/210 [==============================] - 3s 14ms/step - loss: 0.6892 - accuracy: 0.7880 - val_loss: 0.6901 - val_accuracy: 0.7909\n",
      "Epoch 70/100\n",
      "210/210 [==============================] - 3s 14ms/step - loss: 0.6894 - accuracy: 0.7885 - val_loss: 0.7465 - val_accuracy: 0.7716\n",
      "Epoch 71/100\n",
      "210/210 [==============================] - 3s 14ms/step - loss: 0.6822 - accuracy: 0.7927 - val_loss: 0.6850 - val_accuracy: 0.7927\n",
      "Epoch 72/100\n",
      "210/210 [==============================] - 3s 14ms/step - loss: 0.6763 - accuracy: 0.7922 - val_loss: 0.6891 - val_accuracy: 0.7908\n",
      "Epoch 73/100\n",
      "210/210 [==============================] - 3s 14ms/step - loss: 0.6736 - accuracy: 0.7951 - val_loss: 0.7040 - val_accuracy: 0.7862\n",
      "Epoch 74/100\n",
      "210/210 [==============================] - 3s 14ms/step - loss: 0.6679 - accuracy: 0.7958 - val_loss: 0.6633 - val_accuracy: 0.8020\n",
      "Epoch 75/100\n",
      "210/210 [==============================] - 3s 14ms/step - loss: 0.6617 - accuracy: 0.7990 - val_loss: 0.6877 - val_accuracy: 0.7922\n",
      "Epoch 76/100\n",
      "210/210 [==============================] - 3s 14ms/step - loss: 0.6602 - accuracy: 0.7991 - val_loss: 0.6779 - val_accuracy: 0.7952\n",
      "Epoch 77/100\n",
      "210/210 [==============================] - 3s 14ms/step - loss: 0.6542 - accuracy: 0.8011 - val_loss: 0.7343 - val_accuracy: 0.7720\n",
      "Epoch 78/100\n",
      "210/210 [==============================] - 3s 14ms/step - loss: 0.6512 - accuracy: 0.8000 - val_loss: 0.6754 - val_accuracy: 0.7950\n",
      "Epoch 79/100\n",
      "210/210 [==============================] - 3s 14ms/step - loss: 0.6440 - accuracy: 0.8041 - val_loss: 0.7060 - val_accuracy: 0.7855\n",
      "Epoch 80/100\n",
      "210/210 [==============================] - 3s 14ms/step - loss: 0.6403 - accuracy: 0.8049 - val_loss: 0.6482 - val_accuracy: 0.8048\n",
      "Epoch 81/100\n",
      "210/210 [==============================] - 3s 14ms/step - loss: 0.6379 - accuracy: 0.8044 - val_loss: 0.6737 - val_accuracy: 0.7970\n",
      "Epoch 82/100\n",
      "210/210 [==============================] - 3s 14ms/step - loss: 0.6322 - accuracy: 0.8080 - val_loss: 0.6456 - val_accuracy: 0.8065\n",
      "Epoch 83/100\n",
      "210/210 [==============================] - 3s 14ms/step - loss: 0.6237 - accuracy: 0.8099 - val_loss: 0.6463 - val_accuracy: 0.8055\n",
      "Epoch 84/100\n",
      "210/210 [==============================] - 3s 14ms/step - loss: 0.6197 - accuracy: 0.8113 - val_loss: 0.6727 - val_accuracy: 0.7952\n",
      "Epoch 85/100\n",
      "210/210 [==============================] - 3s 14ms/step - loss: 0.6156 - accuracy: 0.8118 - val_loss: 0.6388 - val_accuracy: 0.8059\n",
      "Epoch 86/100\n",
      "210/210 [==============================] - 3s 14ms/step - loss: 0.6124 - accuracy: 0.8139 - val_loss: 0.6358 - val_accuracy: 0.8103\n",
      "Epoch 87/100\n",
      "210/210 [==============================] - 3s 14ms/step - loss: 0.6119 - accuracy: 0.8124 - val_loss: 0.6067 - val_accuracy: 0.8199\n",
      "Epoch 88/100\n",
      "210/210 [==============================] - 3s 14ms/step - loss: 0.6040 - accuracy: 0.8149 - val_loss: 0.6750 - val_accuracy: 0.7921\n",
      "Epoch 89/100\n",
      "210/210 [==============================] - 3s 14ms/step - loss: 0.6002 - accuracy: 0.8177 - val_loss: 0.6289 - val_accuracy: 0.8088\n",
      "Epoch 90/100\n",
      "210/210 [==============================] - 3s 14ms/step - loss: 0.5990 - accuracy: 0.8182 - val_loss: 0.6207 - val_accuracy: 0.8140\n",
      "Epoch 91/100\n",
      "210/210 [==============================] - 3s 14ms/step - loss: 0.5944 - accuracy: 0.8179 - val_loss: 0.6335 - val_accuracy: 0.8093\n",
      "Epoch 92/100\n",
      "210/210 [==============================] - 3s 14ms/step - loss: 0.5930 - accuracy: 0.8185 - val_loss: 0.6001 - val_accuracy: 0.8219\n",
      "Epoch 93/100\n",
      "210/210 [==============================] - 3s 14ms/step - loss: 0.5871 - accuracy: 0.8205 - val_loss: 0.6038 - val_accuracy: 0.8195\n",
      "Epoch 94/100\n",
      "210/210 [==============================] - 3s 14ms/step - loss: 0.5855 - accuracy: 0.8220 - val_loss: 0.6286 - val_accuracy: 0.8104\n",
      "Epoch 95/100\n",
      "210/210 [==============================] - 3s 14ms/step - loss: 0.5837 - accuracy: 0.8229 - val_loss: 0.6200 - val_accuracy: 0.8136\n",
      "Epoch 96/100\n",
      "210/210 [==============================] - 3s 14ms/step - loss: 0.5790 - accuracy: 0.8227 - val_loss: 0.5913 - val_accuracy: 0.8234\n",
      "Epoch 97/100\n",
      "210/210 [==============================] - 3s 14ms/step - loss: 0.5747 - accuracy: 0.8248 - val_loss: 0.5956 - val_accuracy: 0.8215\n",
      "Epoch 98/100\n",
      "210/210 [==============================] - 3s 14ms/step - loss: 0.5726 - accuracy: 0.8262 - val_loss: 0.6044 - val_accuracy: 0.8183\n",
      "Epoch 99/100\n",
      "210/210 [==============================] - 3s 14ms/step - loss: 0.5670 - accuracy: 0.8281 - val_loss: 0.6093 - val_accuracy: 0.8154\n",
      "Epoch 100/100\n",
      "210/210 [==============================] - 3s 14ms/step - loss: 0.5630 - accuracy: 0.8269 - val_loss: 0.5715 - val_accuracy: 0.8298\n"
     ]
    }
   ],
   "source": [
    "# compiling the neural network classifier, sgd optimizer\n",
    "sgd = optimizers.SGD(lr = 0.01)\n",
    "# Adding activation function - softmax for multiclass classification\n",
    "model4.compile(optimizer = sgd, loss = 'categorical_crossentropy', metrics = ['accuracy'])\n",
    "\n",
    "# Fitting the neural network for training\n",
    "history = model4.fit(X_train, y_train, validation_data = (X_val, y_val), batch_size = 200, epochs = 100, verbose = 1)"
   ]
  },
  {
   "cell_type": "code",
   "execution_count": 53,
   "metadata": {
    "colab": {
     "base_uri": "https://localhost:8080/",
     "height": 88
    },
    "colab_type": "code",
    "id": "xPbRGkQ7NKyW",
    "outputId": "c3f60776-2e5c-4e2f-ea1c-ad478024d792"
   },
   "outputs": [
    {
     "name": "stdout",
     "output_type": "stream",
     "text": [
      "NN with weight initializers\n",
      "--------------------------------------------------------------------------------\n",
      "1875/1875 [==============================] - 12s 6ms/step - loss: 0.5715 - accuracy: 0.8298\n",
      "Validation accuracy: 82.98\n"
     ]
    }
   ],
   "source": [
    "print('NN with weight initializers'); print('--'*40)\n",
    "results4 = model4.evaluate(X_val, y_val)\n",
    "print('Validation accuracy: {}'.format(round(results4[1]*100, 2), '%'))"
   ]
  },
  {
   "cell_type": "markdown",
   "metadata": {
    "colab_type": "text",
    "id": "BSWZvLlSVgq5"
   },
   "source": [
    "#### NN model, relu activations, Adam optimizers with weight initializers"
   ]
  },
  {
   "cell_type": "code",
   "execution_count": 54,
   "metadata": {
    "colab": {
     "base_uri": "https://localhost:8080/",
     "height": 1000
    },
    "colab_type": "code",
    "id": "ysyBxxvgVjWk",
    "outputId": "450c0d00-c085-45d7-ed52-96360d18e32a"
   },
   "outputs": [
    {
     "name": "stderr",
     "output_type": "stream",
     "text": [
      "WARNING:absl:At this time, the v2.11+ optimizer `tf.keras.optimizers.Adam` runs slowly on M1/M2 Macs, please use the legacy Keras optimizer instead, located at `tf.keras.optimizers.legacy.Adam`.\n",
      "WARNING:absl:`lr` is deprecated in Keras optimizer, please use `learning_rate` or use the legacy optimizer, e.g.,tf.keras.optimizers.legacy.Adam.\n",
      "WARNING:absl:There is a known slowdown when using v2.11+ Keras optimizers on M1/M2 Macs. Falling back to the legacy Keras optimizer, i.e., `tf.keras.optimizers.legacy.Adam`.\n"
     ]
    },
    {
     "name": "stdout",
     "output_type": "stream",
     "text": [
      "Epoch 1/100\n",
      "210/210 [==============================] - 4s 17ms/step - loss: 0.8888 - accuracy: 0.7339 - val_loss: 0.7864 - val_accuracy: 0.7609\n",
      "Epoch 2/100\n",
      "210/210 [==============================] - 3s 14ms/step - loss: 0.7709 - accuracy: 0.7600 - val_loss: 0.8544 - val_accuracy: 0.7403\n",
      "Epoch 3/100\n",
      "210/210 [==============================] - 3s 14ms/step - loss: 0.7701 - accuracy: 0.7605 - val_loss: 0.7305 - val_accuracy: 0.7753\n",
      "Epoch 4/100\n",
      "210/210 [==============================] - 3s 14ms/step - loss: 0.7561 - accuracy: 0.7671 - val_loss: 0.7218 - val_accuracy: 0.7814\n",
      "Epoch 5/100\n",
      "210/210 [==============================] - 3s 15ms/step - loss: 0.7308 - accuracy: 0.7712 - val_loss: 0.7024 - val_accuracy: 0.7877\n",
      "Epoch 6/100\n",
      "210/210 [==============================] - 3s 14ms/step - loss: 0.7123 - accuracy: 0.7812 - val_loss: 0.6677 - val_accuracy: 0.7968\n",
      "Epoch 7/100\n",
      "210/210 [==============================] - 3s 14ms/step - loss: 0.7004 - accuracy: 0.7859 - val_loss: 0.6657 - val_accuracy: 0.7998\n",
      "Epoch 8/100\n",
      "210/210 [==============================] - 3s 14ms/step - loss: 0.6879 - accuracy: 0.7880 - val_loss: 0.6639 - val_accuracy: 0.7994\n",
      "Epoch 9/100\n",
      "210/210 [==============================] - 3s 14ms/step - loss: 0.6504 - accuracy: 0.8005 - val_loss: 0.6668 - val_accuracy: 0.7951\n",
      "Epoch 10/100\n",
      "210/210 [==============================] - 3s 14ms/step - loss: 0.6480 - accuracy: 0.8013 - val_loss: 0.7020 - val_accuracy: 0.7879\n",
      "Epoch 11/100\n",
      "210/210 [==============================] - 3s 15ms/step - loss: 0.6543 - accuracy: 0.7963 - val_loss: 0.6302 - val_accuracy: 0.8087\n",
      "Epoch 12/100\n",
      "210/210 [==============================] - 3s 15ms/step - loss: 0.6006 - accuracy: 0.8155 - val_loss: 0.5738 - val_accuracy: 0.8265\n",
      "Epoch 13/100\n",
      "210/210 [==============================] - 3s 15ms/step - loss: 0.6038 - accuracy: 0.8138 - val_loss: 0.5974 - val_accuracy: 0.8199\n",
      "Epoch 14/100\n",
      "210/210 [==============================] - 3s 15ms/step - loss: 0.6256 - accuracy: 0.8072 - val_loss: 0.6074 - val_accuracy: 0.8161\n",
      "Epoch 15/100\n",
      "210/210 [==============================] - 3s 14ms/step - loss: 0.5921 - accuracy: 0.8167 - val_loss: 0.6132 - val_accuracy: 0.8148\n",
      "Epoch 16/100\n",
      "210/210 [==============================] - 3s 14ms/step - loss: 0.5895 - accuracy: 0.8156 - val_loss: 0.5864 - val_accuracy: 0.8201\n",
      "Epoch 17/100\n",
      "210/210 [==============================] - 3s 15ms/step - loss: 0.5770 - accuracy: 0.8210 - val_loss: 0.5794 - val_accuracy: 0.8267\n",
      "Epoch 18/100\n",
      "210/210 [==============================] - 3s 14ms/step - loss: 0.5596 - accuracy: 0.8273 - val_loss: 0.6320 - val_accuracy: 0.8052\n",
      "Epoch 19/100\n",
      "210/210 [==============================] - 3s 14ms/step - loss: 0.5539 - accuracy: 0.8292 - val_loss: 0.5644 - val_accuracy: 0.8251\n",
      "Epoch 20/100\n",
      "210/210 [==============================] - 3s 14ms/step - loss: 0.5366 - accuracy: 0.8317 - val_loss: 0.5995 - val_accuracy: 0.8175\n",
      "Epoch 21/100\n",
      "210/210 [==============================] - 3s 14ms/step - loss: 0.5279 - accuracy: 0.8345 - val_loss: 0.5296 - val_accuracy: 0.8363\n",
      "Epoch 22/100\n",
      "210/210 [==============================] - 3s 14ms/step - loss: 0.5257 - accuracy: 0.8374 - val_loss: 0.5721 - val_accuracy: 0.8277\n",
      "Epoch 23/100\n",
      "210/210 [==============================] - 3s 15ms/step - loss: 0.5283 - accuracy: 0.8363 - val_loss: 0.5880 - val_accuracy: 0.8207\n",
      "Epoch 24/100\n",
      "210/210 [==============================] - 3s 15ms/step - loss: 0.5219 - accuracy: 0.8374 - val_loss: 0.5303 - val_accuracy: 0.8373\n",
      "Epoch 25/100\n",
      "210/210 [==============================] - 3s 14ms/step - loss: 0.5068 - accuracy: 0.8409 - val_loss: 0.5195 - val_accuracy: 0.8424\n",
      "Epoch 26/100\n",
      "210/210 [==============================] - 3s 14ms/step - loss: 0.5044 - accuracy: 0.8421 - val_loss: 0.5517 - val_accuracy: 0.8315\n",
      "Epoch 27/100\n",
      "210/210 [==============================] - 3s 15ms/step - loss: 0.5116 - accuracy: 0.8385 - val_loss: 0.6131 - val_accuracy: 0.8102\n",
      "Epoch 28/100\n",
      "210/210 [==============================] - 3s 14ms/step - loss: 0.4805 - accuracy: 0.8506 - val_loss: 0.5514 - val_accuracy: 0.8306\n",
      "Epoch 29/100\n",
      "210/210 [==============================] - 3s 14ms/step - loss: 0.4885 - accuracy: 0.8475 - val_loss: 0.5335 - val_accuracy: 0.8364\n",
      "Epoch 30/100\n",
      "210/210 [==============================] - 3s 14ms/step - loss: 0.4801 - accuracy: 0.8490 - val_loss: 0.5146 - val_accuracy: 0.8419\n",
      "Epoch 31/100\n",
      "210/210 [==============================] - 3s 14ms/step - loss: 0.4746 - accuracy: 0.8519 - val_loss: 0.5482 - val_accuracy: 0.8310\n",
      "Epoch 32/100\n",
      "210/210 [==============================] - 3s 14ms/step - loss: 0.4629 - accuracy: 0.8530 - val_loss: 0.4854 - val_accuracy: 0.8529\n",
      "Epoch 33/100\n",
      "210/210 [==============================] - 3s 14ms/step - loss: 0.4497 - accuracy: 0.8582 - val_loss: 0.5148 - val_accuracy: 0.8411\n",
      "Epoch 34/100\n",
      "210/210 [==============================] - 3s 14ms/step - loss: 0.4536 - accuracy: 0.8585 - val_loss: 0.5057 - val_accuracy: 0.8458\n",
      "Epoch 35/100\n",
      "210/210 [==============================] - 3s 14ms/step - loss: 0.4453 - accuracy: 0.8577 - val_loss: 0.4623 - val_accuracy: 0.8615\n",
      "Epoch 36/100\n",
      "210/210 [==============================] - 3s 14ms/step - loss: 0.4481 - accuracy: 0.8569 - val_loss: 0.5124 - val_accuracy: 0.8462\n",
      "Epoch 37/100\n",
      "210/210 [==============================] - 3s 15ms/step - loss: 0.4392 - accuracy: 0.8611 - val_loss: 0.4986 - val_accuracy: 0.8467\n",
      "Epoch 38/100\n",
      "210/210 [==============================] - 3s 15ms/step - loss: 0.4286 - accuracy: 0.8655 - val_loss: 0.4709 - val_accuracy: 0.8564\n",
      "Epoch 39/100\n",
      "210/210 [==============================] - 3s 16ms/step - loss: 0.4185 - accuracy: 0.8666 - val_loss: 0.4907 - val_accuracy: 0.8515\n",
      "Epoch 40/100\n",
      "210/210 [==============================] - 3s 15ms/step - loss: 0.4350 - accuracy: 0.8614 - val_loss: 0.4887 - val_accuracy: 0.8527\n",
      "Epoch 41/100\n",
      "210/210 [==============================] - 3s 15ms/step - loss: 0.4159 - accuracy: 0.8695 - val_loss: 0.4328 - val_accuracy: 0.8707\n",
      "Epoch 42/100\n",
      "210/210 [==============================] - 3s 15ms/step - loss: 0.4065 - accuracy: 0.8716 - val_loss: 0.5246 - val_accuracy: 0.8371\n",
      "Epoch 43/100\n",
      "210/210 [==============================] - 3s 14ms/step - loss: 0.4105 - accuracy: 0.8714 - val_loss: 0.4929 - val_accuracy: 0.8501\n",
      "Epoch 44/100\n",
      "210/210 [==============================] - 3s 14ms/step - loss: 0.4200 - accuracy: 0.8662 - val_loss: 0.5555 - val_accuracy: 0.8293\n",
      "Epoch 45/100\n",
      "210/210 [==============================] - 3s 14ms/step - loss: 0.4132 - accuracy: 0.8683 - val_loss: 0.4935 - val_accuracy: 0.8507\n",
      "Epoch 46/100\n",
      "210/210 [==============================] - 3s 15ms/step - loss: 0.4037 - accuracy: 0.8710 - val_loss: 0.4170 - val_accuracy: 0.8769\n",
      "Epoch 47/100\n",
      "210/210 [==============================] - 4s 18ms/step - loss: 0.3884 - accuracy: 0.8767 - val_loss: 0.5106 - val_accuracy: 0.8445\n",
      "Epoch 48/100\n",
      "210/210 [==============================] - 4s 17ms/step - loss: 0.3904 - accuracy: 0.8754 - val_loss: 0.4506 - val_accuracy: 0.8654\n",
      "Epoch 49/100\n",
      "210/210 [==============================] - 3s 14ms/step - loss: 0.4037 - accuracy: 0.8716 - val_loss: 0.4281 - val_accuracy: 0.8734\n",
      "Epoch 50/100\n",
      "210/210 [==============================] - 3s 15ms/step - loss: 0.3844 - accuracy: 0.8775 - val_loss: 0.4249 - val_accuracy: 0.8734\n",
      "Epoch 51/100\n",
      "210/210 [==============================] - 3s 14ms/step - loss: 0.3769 - accuracy: 0.8796 - val_loss: 0.4693 - val_accuracy: 0.8613\n",
      "Epoch 52/100\n",
      "210/210 [==============================] - 3s 14ms/step - loss: 0.3739 - accuracy: 0.8792 - val_loss: 0.4520 - val_accuracy: 0.8658\n",
      "Epoch 53/100\n",
      "210/210 [==============================] - 3s 15ms/step - loss: 0.3652 - accuracy: 0.8831 - val_loss: 0.4253 - val_accuracy: 0.8748\n",
      "Epoch 54/100\n",
      "210/210 [==============================] - 3s 14ms/step - loss: 0.3639 - accuracy: 0.8842 - val_loss: 0.4292 - val_accuracy: 0.8729\n",
      "Epoch 55/100\n",
      "210/210 [==============================] - 3s 15ms/step - loss: 0.3641 - accuracy: 0.8851 - val_loss: 0.4563 - val_accuracy: 0.8627\n",
      "Epoch 56/100\n",
      "210/210 [==============================] - 3s 15ms/step - loss: 0.3645 - accuracy: 0.8836 - val_loss: 0.4336 - val_accuracy: 0.8720\n",
      "Epoch 57/100\n"
     ]
    },
    {
     "name": "stdout",
     "output_type": "stream",
     "text": [
      "210/210 [==============================] - 3s 15ms/step - loss: 0.3481 - accuracy: 0.8885 - val_loss: 0.4085 - val_accuracy: 0.8779\n",
      "Epoch 58/100\n",
      "210/210 [==============================] - 3s 14ms/step - loss: 0.3560 - accuracy: 0.8853 - val_loss: 0.4650 - val_accuracy: 0.8595\n",
      "Epoch 59/100\n",
      "210/210 [==============================] - 4s 17ms/step - loss: 0.3442 - accuracy: 0.8907 - val_loss: 0.4183 - val_accuracy: 0.8780\n",
      "Epoch 60/100\n",
      "210/210 [==============================] - 3s 14ms/step - loss: 0.3449 - accuracy: 0.8888 - val_loss: 0.4378 - val_accuracy: 0.8688\n",
      "Epoch 61/100\n",
      "210/210 [==============================] - 3s 14ms/step - loss: 0.3410 - accuracy: 0.8893 - val_loss: 0.4343 - val_accuracy: 0.8699\n",
      "Epoch 62/100\n",
      "210/210 [==============================] - 3s 14ms/step - loss: 0.3438 - accuracy: 0.8895 - val_loss: 0.4116 - val_accuracy: 0.8792\n",
      "Epoch 63/100\n",
      "210/210 [==============================] - 3s 14ms/step - loss: 0.3378 - accuracy: 0.8908 - val_loss: 0.4607 - val_accuracy: 0.8661\n",
      "Epoch 64/100\n",
      "210/210 [==============================] - 3s 15ms/step - loss: 0.3466 - accuracy: 0.8874 - val_loss: 0.4213 - val_accuracy: 0.8762\n",
      "Epoch 65/100\n",
      "210/210 [==============================] - 3s 15ms/step - loss: 0.3164 - accuracy: 0.8989 - val_loss: 0.4183 - val_accuracy: 0.8774\n",
      "Epoch 66/100\n",
      "210/210 [==============================] - 3s 14ms/step - loss: 0.3351 - accuracy: 0.8925 - val_loss: 0.4211 - val_accuracy: 0.8760\n",
      "Epoch 67/100\n",
      "210/210 [==============================] - 3s 14ms/step - loss: 0.3382 - accuracy: 0.8908 - val_loss: 0.3924 - val_accuracy: 0.8850\n",
      "Epoch 68/100\n",
      "210/210 [==============================] - 3s 15ms/step - loss: 0.3244 - accuracy: 0.8952 - val_loss: 0.4305 - val_accuracy: 0.8717\n",
      "Epoch 69/100\n",
      "210/210 [==============================] - 3s 15ms/step - loss: 0.3416 - accuracy: 0.8890 - val_loss: 0.4324 - val_accuracy: 0.8730\n",
      "Epoch 70/100\n",
      "210/210 [==============================] - 3s 14ms/step - loss: 0.3136 - accuracy: 0.8999 - val_loss: 0.3917 - val_accuracy: 0.8878\n",
      "Epoch 71/100\n",
      "210/210 [==============================] - 3s 15ms/step - loss: 0.3076 - accuracy: 0.9009 - val_loss: 0.3898 - val_accuracy: 0.8882\n",
      "Epoch 72/100\n",
      "210/210 [==============================] - 3s 15ms/step - loss: 0.3078 - accuracy: 0.9009 - val_loss: 0.4003 - val_accuracy: 0.8860\n",
      "Epoch 73/100\n",
      "210/210 [==============================] - 3s 17ms/step - loss: 0.3123 - accuracy: 0.8988 - val_loss: 0.4718 - val_accuracy: 0.8609\n",
      "Epoch 74/100\n",
      "210/210 [==============================] - 3s 16ms/step - loss: 0.3177 - accuracy: 0.8965 - val_loss: 0.4352 - val_accuracy: 0.8696\n",
      "Epoch 75/100\n",
      "210/210 [==============================] - 3s 15ms/step - loss: 0.3097 - accuracy: 0.9004 - val_loss: 0.4223 - val_accuracy: 0.8784\n",
      "Epoch 76/100\n",
      "210/210 [==============================] - 3s 14ms/step - loss: 0.2992 - accuracy: 0.9033 - val_loss: 0.3819 - val_accuracy: 0.8920\n",
      "Epoch 77/100\n",
      "210/210 [==============================] - 3s 15ms/step - loss: 0.3027 - accuracy: 0.9031 - val_loss: 0.4039 - val_accuracy: 0.8815\n",
      "Epoch 78/100\n",
      "210/210 [==============================] - 3s 15ms/step - loss: 0.3154 - accuracy: 0.8975 - val_loss: 0.4046 - val_accuracy: 0.8836\n",
      "Epoch 79/100\n",
      "210/210 [==============================] - 3s 14ms/step - loss: 0.2994 - accuracy: 0.9025 - val_loss: 0.4313 - val_accuracy: 0.8729\n",
      "Epoch 80/100\n",
      "210/210 [==============================] - 3s 14ms/step - loss: 0.2822 - accuracy: 0.9074 - val_loss: 0.3769 - val_accuracy: 0.8927\n",
      "Epoch 81/100\n",
      "210/210 [==============================] - 3s 14ms/step - loss: 0.2855 - accuracy: 0.9076 - val_loss: 0.4165 - val_accuracy: 0.8821\n",
      "Epoch 82/100\n",
      "210/210 [==============================] - 3s 14ms/step - loss: 0.2893 - accuracy: 0.9063 - val_loss: 0.4391 - val_accuracy: 0.8738\n",
      "Epoch 83/100\n",
      "210/210 [==============================] - 3s 14ms/step - loss: 0.2842 - accuracy: 0.9072 - val_loss: 0.3923 - val_accuracy: 0.8886\n",
      "Epoch 84/100\n",
      "210/210 [==============================] - 3s 14ms/step - loss: 0.2756 - accuracy: 0.9093 - val_loss: 0.4151 - val_accuracy: 0.8810\n",
      "Epoch 85/100\n",
      "210/210 [==============================] - 3s 14ms/step - loss: 0.2773 - accuracy: 0.9108 - val_loss: 0.3618 - val_accuracy: 0.8990\n",
      "Epoch 86/100\n",
      "210/210 [==============================] - 3s 14ms/step - loss: 0.2778 - accuracy: 0.9088 - val_loss: 0.4551 - val_accuracy: 0.8697\n",
      "Epoch 87/100\n",
      "210/210 [==============================] - 3s 14ms/step - loss: 0.2786 - accuracy: 0.9100 - val_loss: 0.4067 - val_accuracy: 0.8837\n",
      "Epoch 88/100\n",
      "210/210 [==============================] - 3s 15ms/step - loss: 0.2827 - accuracy: 0.9085 - val_loss: 0.4016 - val_accuracy: 0.8867\n",
      "Epoch 89/100\n",
      "210/210 [==============================] - 3s 14ms/step - loss: 0.2682 - accuracy: 0.9117 - val_loss: 0.3828 - val_accuracy: 0.8929\n",
      "Epoch 90/100\n",
      "210/210 [==============================] - 3s 15ms/step - loss: 0.2699 - accuracy: 0.9120 - val_loss: 0.4387 - val_accuracy: 0.8748\n",
      "Epoch 91/100\n",
      "210/210 [==============================] - 3s 15ms/step - loss: 0.2772 - accuracy: 0.9085 - val_loss: 0.4764 - val_accuracy: 0.8691\n",
      "Epoch 92/100\n",
      "210/210 [==============================] - 3s 14ms/step - loss: 0.2798 - accuracy: 0.9085 - val_loss: 0.3647 - val_accuracy: 0.9005\n",
      "Epoch 93/100\n",
      "210/210 [==============================] - 3s 15ms/step - loss: 0.2535 - accuracy: 0.9157 - val_loss: 0.4361 - val_accuracy: 0.8780\n",
      "Epoch 94/100\n",
      "210/210 [==============================] - 3s 15ms/step - loss: 0.2687 - accuracy: 0.9119 - val_loss: 0.4083 - val_accuracy: 0.8869\n",
      "Epoch 95/100\n",
      "210/210 [==============================] - 3s 14ms/step - loss: 0.2562 - accuracy: 0.9169 - val_loss: 0.4231 - val_accuracy: 0.8793\n",
      "Epoch 96/100\n",
      "210/210 [==============================] - 3s 15ms/step - loss: 0.2713 - accuracy: 0.9104 - val_loss: 0.4297 - val_accuracy: 0.8800\n",
      "Epoch 97/100\n",
      "210/210 [==============================] - 3s 14ms/step - loss: 0.2623 - accuracy: 0.9131 - val_loss: 0.3940 - val_accuracy: 0.8924\n",
      "Epoch 98/100\n",
      "210/210 [==============================] - 3s 14ms/step - loss: 0.2516 - accuracy: 0.9174 - val_loss: 0.4077 - val_accuracy: 0.8889\n",
      "Epoch 99/100\n",
      "210/210 [==============================] - 3s 14ms/step - loss: 0.2543 - accuracy: 0.9162 - val_loss: 0.4097 - val_accuracy: 0.8855\n",
      "Epoch 100/100\n",
      "210/210 [==============================] - 3s 14ms/step - loss: 0.2570 - accuracy: 0.9160 - val_loss: 0.4063 - val_accuracy: 0.8891\n"
     ]
    }
   ],
   "source": [
    "# compiling the neural network classifier, adam optimizer\n",
    "adam = optimizers.Adam(lr = 0.001)\n",
    "# Adding activation function - softmax for multiclass classification\n",
    "model4.compile(optimizer = adam, loss = 'categorical_crossentropy', metrics = ['accuracy'])\n",
    "\n",
    "# Fitting the neural network for training\n",
    "history = model4.fit(X_train, y_train, validation_data = (X_val, y_val), batch_size = 200, epochs = 100, verbose = 1)"
   ]
  },
  {
   "cell_type": "code",
   "execution_count": 55,
   "metadata": {
    "colab": {
     "base_uri": "https://localhost:8080/",
     "height": 88
    },
    "colab_type": "code",
    "id": "95vBMvCvVrg0",
    "outputId": "328825e1-3e71-4e25-8e71-3e58733cef83"
   },
   "outputs": [
    {
     "name": "stdout",
     "output_type": "stream",
     "text": [
      "NN with weight initializers\n",
      "--------------------------------------------------------------------------------\n",
      "1875/1875 [==============================] - 12s 7ms/step - loss: 0.4063 - accuracy: 0.8891\n",
      "Validation accuracy: 88.91\n"
     ]
    }
   ],
   "source": [
    "print('NN with weight initializers'); print('--'*40)\n",
    "results4 = model4.evaluate(X_val, y_val)\n",
    "print('Validation accuracy: {}'.format(round(results4[1]*100, 2), '%'))"
   ]
  },
  {
   "cell_type": "markdown",
   "metadata": {
    "colab_type": "text",
    "id": "gjy8FCIQz_s4"
   },
   "source": [
    "<a id='o6'></a>\n",
    "##### Observation 6 - Weight initializers\n",
    "* Adding weight initialiers didn't result in improvement of score.\n",
    "* relu activations, changing number of activators, Adam optimizers gives the best score out of the ones tried as of now.\n",
    "* Next, let's try batch normalization."
   ]
  },
  {
   "cell_type": "markdown",
   "metadata": {
    "colab_type": "text",
    "id": "nlLYOhj_TNcf"
   },
   "source": [
    "<a id='Batch'></a>\n",
    "### Batch Normalization\n",
    "Batch Normalization, one of the methods to prevent the \"internal covariance shift\" problem, has proven to be highly effective. Normalize each mini-batch before nonlinearity."
   ]
  },
  {
   "cell_type": "markdown",
   "metadata": {
    "colab_type": "text",
    "id": "D8QVHk2dWbgK"
   },
   "source": [
    "#### NN model, relu activations, SGD optimizers with weight initializers and batch normalization"
   ]
  },
  {
   "cell_type": "code",
   "execution_count": 56,
   "metadata": {
    "colab": {
     "base_uri": "https://localhost:8080/",
     "height": 52
    },
    "colab_type": "code",
    "id": "BCATllTeUghF",
    "outputId": "61ca8e1f-aac8-4a3d-f81c-5a9656f7de71"
   },
   "outputs": [
    {
     "name": "stdout",
     "output_type": "stream",
     "text": [
      "NN model with batch normalization\n",
      "--------------------------------------------------------------------------------\n"
     ]
    }
   ],
   "source": [
    "print('NN model with batch normalization'); print('--'*40)\n",
    "# Initialize the neural network classifier\n",
    "model5 = Sequential()\n",
    "\n",
    "# Input Layer - adding input layer and activation functions relu and weight initializer\n",
    "model5.add(Dense(256, input_shape = (1024, ), kernel_initializer = 'he_normal'))\n",
    "# Adding batch normalization\n",
    "model5.add(BatchNormalization())\n",
    "# Adding activation function\n",
    "model5.add(Activation('relu'))\n",
    "\n",
    "#Hidden Layer 1 - adding first hidden layer\n",
    "model5.add(Dense(128, kernel_initializer = 'he_normal', bias_initializer = 'he_uniform'))\n",
    "# Adding batch normalization\n",
    "model5.add(BatchNormalization())\n",
    "# Adding activation function\n",
    "model5.add(Activation('relu'))\n",
    "\n",
    "#Hidden Layer 2 - adding second hidden layer\n",
    "model5.add(Dense(64, kernel_initializer = 'he_normal', bias_initializer = 'he_uniform'))\n",
    "# Adding batch normalization\n",
    "model5.add(BatchNormalization())\n",
    "# Adding activation function\n",
    "model5.add(Activation('relu'))\n",
    "\n",
    "#Hidden Layer 3 - adding third hidden layer\n",
    "model5.add(Dense(32, kernel_initializer = 'he_normal', bias_initializer = 'he_uniform'))\n",
    "# Adding batch normalization\n",
    "model5.add(BatchNormalization())\n",
    "# Adding activation function\n",
    "model5.add(Activation('relu'))\n",
    "\n",
    "# Output Layer - adding output layer which is of 10 nodes (digits)\n",
    "model5.add(Dense(10, kernel_initializer = 'he_normal', bias_initializer = 'he_uniform'))\n",
    "# Adding activation function\n",
    "model5.add(Activation('softmax'))"
   ]
  },
  {
   "cell_type": "code",
   "execution_count": 57,
   "metadata": {
    "colab": {
     "base_uri": "https://localhost:8080/",
     "height": 657
    },
    "colab_type": "code",
    "id": "3Yz93UDo557M",
    "outputId": "b1f09216-291e-4c56-b0b2-466f3ab28aad"
   },
   "outputs": [
    {
     "name": "stdout",
     "output_type": "stream",
     "text": [
      "Model: \"sequential_4\"\n",
      "_________________________________________________________________\n",
      " Layer (type)                Output Shape              Param #   \n",
      "=================================================================\n",
      " dense_15 (Dense)            (None, 256)               262400    \n",
      "                                                                 \n",
      " batch_normalization (BatchN  (None, 256)              1024      \n",
      " ormalization)                                                   \n",
      "                                                                 \n",
      " activation_15 (Activation)  (None, 256)               0         \n",
      "                                                                 \n",
      " dense_16 (Dense)            (None, 128)               32896     \n",
      "                                                                 \n",
      " batch_normalization_1 (Batc  (None, 128)              512       \n",
      " hNormalization)                                                 \n",
      "                                                                 \n",
      " activation_16 (Activation)  (None, 128)               0         \n",
      "                                                                 \n",
      " dense_17 (Dense)            (None, 64)                8256      \n",
      "                                                                 \n",
      " batch_normalization_2 (Batc  (None, 64)               256       \n",
      " hNormalization)                                                 \n",
      "                                                                 \n",
      " activation_17 (Activation)  (None, 64)                0         \n",
      "                                                                 \n",
      " dense_18 (Dense)            (None, 32)                2080      \n",
      "                                                                 \n",
      " batch_normalization_3 (Batc  (None, 32)               128       \n",
      " hNormalization)                                                 \n",
      "                                                                 \n",
      " activation_18 (Activation)  (None, 32)                0         \n",
      "                                                                 \n",
      " dense_19 (Dense)            (None, 10)                330       \n",
      "                                                                 \n",
      " activation_19 (Activation)  (None, 10)                0         \n",
      "                                                                 \n",
      "=================================================================\n",
      "Total params: 307,882\n",
      "Trainable params: 306,922\n",
      "Non-trainable params: 960\n",
      "_________________________________________________________________\n"
     ]
    }
   ],
   "source": [
    "model5.summary()"
   ]
  },
  {
   "cell_type": "code",
   "execution_count": 58,
   "metadata": {
    "colab": {
     "base_uri": "https://localhost:8080/",
     "height": 1000
    },
    "colab_type": "code",
    "id": "lvXUI89PWUcr",
    "outputId": "767307aa-ba57-45b3-c51b-91583fa5592c",
    "scrolled": true
   },
   "outputs": [
    {
     "name": "stderr",
     "output_type": "stream",
     "text": [
      "WARNING:absl:At this time, the v2.11+ optimizer `tf.keras.optimizers.SGD` runs slowly on M1/M2 Macs, please use the legacy Keras optimizer instead, located at `tf.keras.optimizers.legacy.SGD`.\n",
      "WARNING:absl:`lr` is deprecated in Keras optimizer, please use `learning_rate` or use the legacy optimizer, e.g.,tf.keras.optimizers.legacy.SGD.\n",
      "WARNING:absl:There is a known slowdown when using v2.11+ Keras optimizers on M1/M2 Macs. Falling back to the legacy Keras optimizer, i.e., `tf.keras.optimizers.legacy.SGD`.\n"
     ]
    },
    {
     "name": "stdout",
     "output_type": "stream",
     "text": [
      "Epoch 1/100\n",
      "210/210 [==============================] - 6s 23ms/step - loss: 2.3350 - accuracy: 0.1777 - val_loss: 2.1878 - val_accuracy: 0.2032\n",
      "Epoch 2/100\n",
      "210/210 [==============================] - 4s 18ms/step - loss: 1.9046 - accuracy: 0.3452 - val_loss: 1.8651 - val_accuracy: 0.3618\n",
      "Epoch 3/100\n",
      "210/210 [==============================] - 4s 18ms/step - loss: 1.6477 - accuracy: 0.4684 - val_loss: 1.6028 - val_accuracy: 0.4825\n",
      "Epoch 4/100\n",
      "210/210 [==============================] - 4s 18ms/step - loss: 1.4569 - accuracy: 0.5460 - val_loss: 1.4211 - val_accuracy: 0.5500\n",
      "Epoch 5/100\n",
      "210/210 [==============================] - 4s 18ms/step - loss: 1.3041 - accuracy: 0.6027 - val_loss: 1.2753 - val_accuracy: 0.6032\n",
      "Epoch 6/100\n",
      "210/210 [==============================] - 4s 18ms/step - loss: 1.1868 - accuracy: 0.6398 - val_loss: 1.1824 - val_accuracy: 0.6344\n",
      "Epoch 7/100\n",
      "210/210 [==============================] - 4s 18ms/step - loss: 1.0903 - accuracy: 0.6672 - val_loss: 1.1571 - val_accuracy: 0.6350\n",
      "Epoch 8/100\n",
      "210/210 [==============================] - 4s 18ms/step - loss: 1.0141 - accuracy: 0.6896 - val_loss: 1.1704 - val_accuracy: 0.6180\n",
      "Epoch 9/100\n",
      "210/210 [==============================] - 4s 19ms/step - loss: 0.9525 - accuracy: 0.7074 - val_loss: 1.0336 - val_accuracy: 0.6699\n",
      "Epoch 10/100\n",
      "210/210 [==============================] - 4s 18ms/step - loss: 0.9017 - accuracy: 0.7219 - val_loss: 0.9743 - val_accuracy: 0.6915\n",
      "Epoch 11/100\n",
      "210/210 [==============================] - 4s 18ms/step - loss: 0.8562 - accuracy: 0.7338 - val_loss: 1.0515 - val_accuracy: 0.6572\n",
      "Epoch 12/100\n",
      "210/210 [==============================] - 4s 18ms/step - loss: 0.8195 - accuracy: 0.7469 - val_loss: 0.9496 - val_accuracy: 0.6906\n",
      "Epoch 13/100\n",
      "210/210 [==============================] - 4s 18ms/step - loss: 0.7821 - accuracy: 0.7578 - val_loss: 0.9107 - val_accuracy: 0.7112\n",
      "Epoch 14/100\n",
      "210/210 [==============================] - 4s 18ms/step - loss: 0.7525 - accuracy: 0.7653 - val_loss: 0.8930 - val_accuracy: 0.7141\n",
      "Epoch 15/100\n",
      "210/210 [==============================] - 4s 18ms/step - loss: 0.7185 - accuracy: 0.7760 - val_loss: 0.9198 - val_accuracy: 0.7067\n",
      "Epoch 16/100\n",
      "210/210 [==============================] - 4s 18ms/step - loss: 0.6984 - accuracy: 0.7825 - val_loss: 0.8358 - val_accuracy: 0.7370\n",
      "Epoch 17/100\n",
      "210/210 [==============================] - 4s 18ms/step - loss: 0.6747 - accuracy: 0.7919 - val_loss: 0.7934 - val_accuracy: 0.7493\n",
      "Epoch 18/100\n",
      "210/210 [==============================] - 4s 18ms/step - loss: 0.6524 - accuracy: 0.7964 - val_loss: 0.7796 - val_accuracy: 0.7517\n",
      "Epoch 19/100\n",
      "210/210 [==============================] - 4s 18ms/step - loss: 0.6357 - accuracy: 0.8035 - val_loss: 0.8103 - val_accuracy: 0.7397\n",
      "Epoch 20/100\n",
      "210/210 [==============================] - 4s 18ms/step - loss: 0.6175 - accuracy: 0.8098 - val_loss: 0.7772 - val_accuracy: 0.7541\n",
      "Epoch 21/100\n",
      "210/210 [==============================] - 4s 18ms/step - loss: 0.5961 - accuracy: 0.8143 - val_loss: 0.8014 - val_accuracy: 0.7530\n",
      "Epoch 22/100\n",
      "210/210 [==============================] - 4s 18ms/step - loss: 0.5862 - accuracy: 0.8191 - val_loss: 0.7927 - val_accuracy: 0.7474\n",
      "Epoch 23/100\n",
      "210/210 [==============================] - 4s 18ms/step - loss: 0.5720 - accuracy: 0.8225 - val_loss: 0.8451 - val_accuracy: 0.7363\n",
      "Epoch 24/100\n",
      "210/210 [==============================] - 4s 17ms/step - loss: 0.5523 - accuracy: 0.8294 - val_loss: 0.8498 - val_accuracy: 0.7255\n",
      "Epoch 25/100\n",
      "210/210 [==============================] - 4s 17ms/step - loss: 0.5388 - accuracy: 0.8318 - val_loss: 0.9276 - val_accuracy: 0.7131\n",
      "Epoch 26/100\n",
      "210/210 [==============================] - 4s 17ms/step - loss: 0.5277 - accuracy: 0.8347 - val_loss: 0.7436 - val_accuracy: 0.7676\n",
      "Epoch 27/100\n",
      "210/210 [==============================] - 4s 18ms/step - loss: 0.5150 - accuracy: 0.8405 - val_loss: 0.7288 - val_accuracy: 0.7714\n",
      "Epoch 28/100\n",
      "210/210 [==============================] - 4s 18ms/step - loss: 0.5071 - accuracy: 0.8419 - val_loss: 0.8777 - val_accuracy: 0.7305\n",
      "Epoch 29/100\n",
      "210/210 [==============================] - 4s 18ms/step - loss: 0.4953 - accuracy: 0.8467 - val_loss: 0.7846 - val_accuracy: 0.7545\n",
      "Epoch 30/100\n",
      "210/210 [==============================] - 4s 18ms/step - loss: 0.4845 - accuracy: 0.8497 - val_loss: 0.8875 - val_accuracy: 0.7218\n",
      "Epoch 31/100\n",
      "210/210 [==============================] - 4s 18ms/step - loss: 0.4779 - accuracy: 0.8522 - val_loss: 0.6739 - val_accuracy: 0.7922\n",
      "Epoch 32/100\n",
      "210/210 [==============================] - 4s 18ms/step - loss: 0.4650 - accuracy: 0.8564 - val_loss: 0.7950 - val_accuracy: 0.7469\n",
      "Epoch 33/100\n",
      "210/210 [==============================] - 4s 18ms/step - loss: 0.4603 - accuracy: 0.8568 - val_loss: 1.0527 - val_accuracy: 0.6974\n",
      "Epoch 34/100\n",
      "210/210 [==============================] - 4s 18ms/step - loss: 0.4411 - accuracy: 0.8641 - val_loss: 0.6213 - val_accuracy: 0.8052\n",
      "Epoch 35/100\n",
      "210/210 [==============================] - 4s 19ms/step - loss: 0.4383 - accuracy: 0.8640 - val_loss: 0.7195 - val_accuracy: 0.7724\n",
      "Epoch 36/100\n",
      "210/210 [==============================] - 4s 18ms/step - loss: 0.4316 - accuracy: 0.8670 - val_loss: 0.8784 - val_accuracy: 0.7381\n",
      "Epoch 37/100\n",
      "210/210 [==============================] - 4s 18ms/step - loss: 0.4267 - accuracy: 0.8685 - val_loss: 0.6768 - val_accuracy: 0.7827\n",
      "Epoch 38/100\n",
      "210/210 [==============================] - 4s 18ms/step - loss: 0.4227 - accuracy: 0.8676 - val_loss: 0.6775 - val_accuracy: 0.7886\n",
      "Epoch 39/100\n",
      "210/210 [==============================] - 4s 18ms/step - loss: 0.4084 - accuracy: 0.8743 - val_loss: 0.6216 - val_accuracy: 0.8038\n",
      "Epoch 40/100\n",
      "210/210 [==============================] - 4s 18ms/step - loss: 0.4020 - accuracy: 0.8761 - val_loss: 0.6589 - val_accuracy: 0.7951\n",
      "Epoch 41/100\n",
      "210/210 [==============================] - 4s 18ms/step - loss: 0.3993 - accuracy: 0.8757 - val_loss: 0.6963 - val_accuracy: 0.7794\n",
      "Epoch 42/100\n",
      "210/210 [==============================] - 4s 18ms/step - loss: 0.3862 - accuracy: 0.8813 - val_loss: 0.7101 - val_accuracy: 0.7775\n",
      "Epoch 43/100\n",
      "210/210 [==============================] - 4s 18ms/step - loss: 0.3796 - accuracy: 0.8828 - val_loss: 0.6889 - val_accuracy: 0.7861\n",
      "Epoch 44/100\n",
      "210/210 [==============================] - 4s 18ms/step - loss: 0.3742 - accuracy: 0.8849 - val_loss: 0.6770 - val_accuracy: 0.7955\n",
      "Epoch 45/100\n",
      "210/210 [==============================] - 4s 18ms/step - loss: 0.3645 - accuracy: 0.8874 - val_loss: 0.7178 - val_accuracy: 0.7783\n",
      "Epoch 46/100\n",
      "210/210 [==============================] - 4s 19ms/step - loss: 0.3684 - accuracy: 0.8849 - val_loss: 1.0118 - val_accuracy: 0.7100\n",
      "Epoch 47/100\n",
      "210/210 [==============================] - 4s 18ms/step - loss: 0.3571 - accuracy: 0.8902 - val_loss: 0.6989 - val_accuracy: 0.7834\n",
      "Epoch 48/100\n",
      "210/210 [==============================] - 4s 18ms/step - loss: 0.3506 - accuracy: 0.8924 - val_loss: 0.5604 - val_accuracy: 0.8271\n",
      "Epoch 49/100\n",
      "210/210 [==============================] - 4s 18ms/step - loss: 0.3491 - accuracy: 0.8926 - val_loss: 0.6516 - val_accuracy: 0.8026\n",
      "Epoch 50/100\n",
      "210/210 [==============================] - 4s 18ms/step - loss: 0.3431 - accuracy: 0.8925 - val_loss: 0.7914 - val_accuracy: 0.7570\n",
      "Epoch 51/100\n",
      "210/210 [==============================] - 4s 18ms/step - loss: 0.3355 - accuracy: 0.8967 - val_loss: 0.6042 - val_accuracy: 0.8105\n",
      "Epoch 52/100\n",
      "210/210 [==============================] - 4s 18ms/step - loss: 0.3344 - accuracy: 0.8957 - val_loss: 0.5921 - val_accuracy: 0.8140\n",
      "Epoch 53/100\n",
      "210/210 [==============================] - 4s 18ms/step - loss: 0.3260 - accuracy: 0.8991 - val_loss: 0.8671 - val_accuracy: 0.7543\n",
      "Epoch 54/100\n",
      "210/210 [==============================] - 4s 18ms/step - loss: 0.3241 - accuracy: 0.8989 - val_loss: 0.6945 - val_accuracy: 0.7891\n",
      "Epoch 55/100\n",
      "210/210 [==============================] - 4s 18ms/step - loss: 0.3177 - accuracy: 0.9033 - val_loss: 0.7754 - val_accuracy: 0.7768\n",
      "Epoch 56/100\n",
      "210/210 [==============================] - 4s 18ms/step - loss: 0.3142 - accuracy: 0.9029 - val_loss: 0.6115 - val_accuracy: 0.8101\n",
      "Epoch 57/100\n"
     ]
    },
    {
     "name": "stdout",
     "output_type": "stream",
     "text": [
      "210/210 [==============================] - 4s 18ms/step - loss: 0.3066 - accuracy: 0.9044 - val_loss: 0.5255 - val_accuracy: 0.8376\n",
      "Epoch 58/100\n",
      "210/210 [==============================] - 4s 18ms/step - loss: 0.3057 - accuracy: 0.9050 - val_loss: 0.7200 - val_accuracy: 0.7844\n",
      "Epoch 59/100\n",
      "210/210 [==============================] - 4s 18ms/step - loss: 0.2997 - accuracy: 0.9070 - val_loss: 1.2145 - val_accuracy: 0.6914\n",
      "Epoch 60/100\n",
      "210/210 [==============================] - 4s 18ms/step - loss: 0.2978 - accuracy: 0.9068 - val_loss: 0.6649 - val_accuracy: 0.7904\n",
      "Epoch 61/100\n",
      "210/210 [==============================] - 4s 18ms/step - loss: 0.2937 - accuracy: 0.9094 - val_loss: 0.5427 - val_accuracy: 0.8293\n",
      "Epoch 62/100\n",
      "210/210 [==============================] - 4s 18ms/step - loss: 0.2865 - accuracy: 0.9107 - val_loss: 0.5982 - val_accuracy: 0.8208\n",
      "Epoch 63/100\n",
      "210/210 [==============================] - 4s 18ms/step - loss: 0.2860 - accuracy: 0.9112 - val_loss: 0.5078 - val_accuracy: 0.8461\n",
      "Epoch 64/100\n",
      "210/210 [==============================] - 4s 18ms/step - loss: 0.2797 - accuracy: 0.9130 - val_loss: 0.5595 - val_accuracy: 0.8261\n",
      "Epoch 65/100\n",
      "210/210 [==============================] - 4s 18ms/step - loss: 0.2789 - accuracy: 0.9143 - val_loss: 0.6228 - val_accuracy: 0.8189\n",
      "Epoch 66/100\n",
      "210/210 [==============================] - 4s 18ms/step - loss: 0.2700 - accuracy: 0.9162 - val_loss: 0.8404 - val_accuracy: 0.7598\n",
      "Epoch 67/100\n",
      "210/210 [==============================] - 4s 17ms/step - loss: 0.2698 - accuracy: 0.9162 - val_loss: 0.6292 - val_accuracy: 0.8104\n",
      "Epoch 68/100\n",
      "210/210 [==============================] - 4s 18ms/step - loss: 0.2654 - accuracy: 0.9178 - val_loss: 0.5923 - val_accuracy: 0.8236\n",
      "Epoch 69/100\n",
      "210/210 [==============================] - 4s 18ms/step - loss: 0.2613 - accuracy: 0.9210 - val_loss: 0.5067 - val_accuracy: 0.8485\n",
      "Epoch 70/100\n",
      "210/210 [==============================] - 4s 18ms/step - loss: 0.2532 - accuracy: 0.9217 - val_loss: 0.5606 - val_accuracy: 0.8291\n",
      "Epoch 71/100\n",
      "210/210 [==============================] - 4s 18ms/step - loss: 0.2568 - accuracy: 0.9200 - val_loss: 0.6671 - val_accuracy: 0.8008\n",
      "Epoch 72/100\n",
      "210/210 [==============================] - 4s 18ms/step - loss: 0.2507 - accuracy: 0.9235 - val_loss: 0.5289 - val_accuracy: 0.8404\n",
      "Epoch 73/100\n",
      "210/210 [==============================] - 4s 18ms/step - loss: 0.2465 - accuracy: 0.9237 - val_loss: 0.4998 - val_accuracy: 0.8508\n",
      "Epoch 74/100\n",
      "210/210 [==============================] - 4s 18ms/step - loss: 0.2401 - accuracy: 0.9265 - val_loss: 0.7359 - val_accuracy: 0.7805\n",
      "Epoch 75/100\n",
      "210/210 [==============================] - 4s 18ms/step - loss: 0.2406 - accuracy: 0.9258 - val_loss: 0.7108 - val_accuracy: 0.7857\n",
      "Epoch 76/100\n",
      "210/210 [==============================] - 4s 18ms/step - loss: 0.2376 - accuracy: 0.9271 - val_loss: 0.6877 - val_accuracy: 0.8002\n",
      "Epoch 77/100\n",
      "210/210 [==============================] - 4s 18ms/step - loss: 0.2315 - accuracy: 0.9293 - val_loss: 0.7619 - val_accuracy: 0.7914\n",
      "Epoch 78/100\n",
      "210/210 [==============================] - 4s 18ms/step - loss: 0.2314 - accuracy: 0.9292 - val_loss: 0.6957 - val_accuracy: 0.8012\n",
      "Epoch 79/100\n",
      "210/210 [==============================] - 4s 18ms/step - loss: 0.2290 - accuracy: 0.9299 - val_loss: 0.4595 - val_accuracy: 0.8626\n",
      "Epoch 80/100\n",
      "210/210 [==============================] - 4s 18ms/step - loss: 0.2283 - accuracy: 0.9302 - val_loss: 0.9464 - val_accuracy: 0.7570\n",
      "Epoch 81/100\n",
      "210/210 [==============================] - 4s 18ms/step - loss: 0.2277 - accuracy: 0.9300 - val_loss: 0.7415 - val_accuracy: 0.7891\n",
      "Epoch 82/100\n",
      "210/210 [==============================] - 4s 18ms/step - loss: 0.2177 - accuracy: 0.9343 - val_loss: 0.7063 - val_accuracy: 0.8028\n",
      "Epoch 83/100\n",
      "210/210 [==============================] - 4s 18ms/step - loss: 0.2147 - accuracy: 0.9340 - val_loss: 0.7168 - val_accuracy: 0.7917\n",
      "Epoch 84/100\n",
      "210/210 [==============================] - 4s 18ms/step - loss: 0.2168 - accuracy: 0.9331 - val_loss: 0.5449 - val_accuracy: 0.8386\n",
      "Epoch 85/100\n",
      "210/210 [==============================] - 4s 18ms/step - loss: 0.2052 - accuracy: 0.9369 - val_loss: 0.5705 - val_accuracy: 0.8372\n",
      "Epoch 86/100\n",
      "210/210 [==============================] - 4s 18ms/step - loss: 0.2119 - accuracy: 0.9350 - val_loss: 0.6084 - val_accuracy: 0.8210\n",
      "Epoch 87/100\n",
      "210/210 [==============================] - 4s 18ms/step - loss: 0.2113 - accuracy: 0.9354 - val_loss: 0.6398 - val_accuracy: 0.8208\n",
      "Epoch 88/100\n",
      "210/210 [==============================] - 4s 18ms/step - loss: 0.2029 - accuracy: 0.9380 - val_loss: 0.6452 - val_accuracy: 0.8119\n",
      "Epoch 89/100\n",
      "210/210 [==============================] - 4s 19ms/step - loss: 0.2047 - accuracy: 0.9379 - val_loss: 1.4981 - val_accuracy: 0.6858\n",
      "Epoch 90/100\n",
      "210/210 [==============================] - 4s 18ms/step - loss: 0.1995 - accuracy: 0.9390 - val_loss: 0.5438 - val_accuracy: 0.8406\n",
      "Epoch 91/100\n",
      "210/210 [==============================] - 4s 18ms/step - loss: 0.1902 - accuracy: 0.9427 - val_loss: 0.6493 - val_accuracy: 0.8146\n",
      "Epoch 92/100\n",
      "210/210 [==============================] - 4s 18ms/step - loss: 0.1931 - accuracy: 0.9406 - val_loss: 0.5135 - val_accuracy: 0.8474\n",
      "Epoch 93/100\n",
      "210/210 [==============================] - 4s 18ms/step - loss: 0.1903 - accuracy: 0.9418 - val_loss: 0.5810 - val_accuracy: 0.8302\n",
      "Epoch 94/100\n",
      "210/210 [==============================] - 4s 17ms/step - loss: 0.1836 - accuracy: 0.9451 - val_loss: 0.5722 - val_accuracy: 0.8364\n",
      "Epoch 95/100\n",
      "210/210 [==============================] - 4s 18ms/step - loss: 0.1851 - accuracy: 0.9430 - val_loss: 0.7187 - val_accuracy: 0.8066\n",
      "Epoch 96/100\n",
      "210/210 [==============================] - 4s 18ms/step - loss: 0.1822 - accuracy: 0.9442 - val_loss: 0.6318 - val_accuracy: 0.8178\n",
      "Epoch 97/100\n",
      "210/210 [==============================] - 4s 18ms/step - loss: 0.1826 - accuracy: 0.9450 - val_loss: 0.5545 - val_accuracy: 0.8386\n",
      "Epoch 98/100\n",
      "210/210 [==============================] - 4s 18ms/step - loss: 0.1850 - accuracy: 0.9434 - val_loss: 0.7045 - val_accuracy: 0.8085\n",
      "Epoch 99/100\n",
      "210/210 [==============================] - 4s 18ms/step - loss: 0.1772 - accuracy: 0.9464 - val_loss: 0.5776 - val_accuracy: 0.8366\n",
      "Epoch 100/100\n",
      "210/210 [==============================] - 4s 18ms/step - loss: 0.1753 - accuracy: 0.9467 - val_loss: 0.5503 - val_accuracy: 0.8468\n"
     ]
    }
   ],
   "source": [
    "# compiling the neural network classifier, sgd optimizer\n",
    "sgd = optimizers.SGD(lr = 0.01)\n",
    "# Adding activation function - softmax for multiclass classification\n",
    "model5.compile(optimizer = sgd, loss = 'categorical_crossentropy', metrics = ['accuracy'])\n",
    "\n",
    "# Fitting the neural network for training\n",
    "history = model5.fit(X_train, y_train, validation_data = (X_val, y_val), batch_size = 200, epochs = 100, verbose = 1)"
   ]
  },
  {
   "cell_type": "code",
   "execution_count": 59,
   "metadata": {
    "colab": {
     "base_uri": "https://localhost:8080/",
     "height": 88
    },
    "colab_type": "code",
    "id": "8jMKdIGlU0eG",
    "outputId": "6680e992-5559-4379-de7c-2b80fa37a638"
   },
   "outputs": [
    {
     "name": "stdout",
     "output_type": "stream",
     "text": [
      "NN with batch normalization\n",
      "--------------------------------------------------------------------------------\n",
      "1875/1875 [==============================] - 13s 7ms/step - loss: 0.5503 - accuracy: 0.8468\n",
      "Validation accuracy: 84.68\n"
     ]
    }
   ],
   "source": [
    "print('NN with batch normalization'); print('--'*40)\n",
    "results5 = model5.evaluate(X_val, y_val)\n",
    "print('Validation accuracy: {}'.format(round(results5[1]*100, 2), '%'))"
   ]
  },
  {
   "cell_type": "markdown",
   "metadata": {
    "colab_type": "text",
    "id": "hvExZp5EXHFf"
   },
   "source": [
    "#### NN model, relu activations, Adam optimizers with weight initializers and batch normalization"
   ]
  },
  {
   "cell_type": "code",
   "execution_count": 60,
   "metadata": {
    "colab": {
     "base_uri": "https://localhost:8080/",
     "height": 1000
    },
    "colab_type": "code",
    "id": "rws18ePgW5HZ",
    "outputId": "1761ca54-9f96-43db-9705-dd67994d8d5a"
   },
   "outputs": [
    {
     "name": "stderr",
     "output_type": "stream",
     "text": [
      "WARNING:absl:At this time, the v2.11+ optimizer `tf.keras.optimizers.Adam` runs slowly on M1/M2 Macs, please use the legacy Keras optimizer instead, located at `tf.keras.optimizers.legacy.Adam`.\n",
      "WARNING:absl:`lr` is deprecated in Keras optimizer, please use `learning_rate` or use the legacy optimizer, e.g.,tf.keras.optimizers.legacy.Adam.\n",
      "WARNING:absl:There is a known slowdown when using v2.11+ Keras optimizers on M1/M2 Macs. Falling back to the legacy Keras optimizer, i.e., `tf.keras.optimizers.legacy.Adam`.\n"
     ]
    },
    {
     "name": "stdout",
     "output_type": "stream",
     "text": [
      "Epoch 1/100\n",
      "210/210 [==============================] - 6s 25ms/step - loss: 0.7678 - accuracy: 0.7657 - val_loss: 1.9145 - val_accuracy: 0.4936\n",
      "Epoch 2/100\n",
      "210/210 [==============================] - 4s 20ms/step - loss: 0.5721 - accuracy: 0.8159 - val_loss: 1.7544 - val_accuracy: 0.5247\n",
      "Epoch 3/100\n",
      "210/210 [==============================] - 4s 19ms/step - loss: 0.5187 - accuracy: 0.8305 - val_loss: 1.5401 - val_accuracy: 0.5572\n",
      "Epoch 4/100\n",
      "210/210 [==============================] - 4s 20ms/step - loss: 0.4761 - accuracy: 0.8457 - val_loss: 1.6531 - val_accuracy: 0.5232\n",
      "Epoch 5/100\n",
      "210/210 [==============================] - 4s 20ms/step - loss: 0.4457 - accuracy: 0.8543 - val_loss: 1.4212 - val_accuracy: 0.5964\n",
      "Epoch 6/100\n",
      "210/210 [==============================] - 4s 20ms/step - loss: 0.4416 - accuracy: 0.8581 - val_loss: 1.9117 - val_accuracy: 0.5510\n",
      "Epoch 7/100\n",
      "210/210 [==============================] - 4s 19ms/step - loss: 0.4138 - accuracy: 0.8669 - val_loss: 1.3570 - val_accuracy: 0.6027\n",
      "Epoch 8/100\n",
      "210/210 [==============================] - 4s 19ms/step - loss: 0.3962 - accuracy: 0.8708 - val_loss: 1.1375 - val_accuracy: 0.6533\n",
      "Epoch 9/100\n",
      "210/210 [==============================] - 4s 19ms/step - loss: 0.3867 - accuracy: 0.8755 - val_loss: 1.0255 - val_accuracy: 0.6798\n",
      "Epoch 10/100\n",
      "210/210 [==============================] - 4s 19ms/step - loss: 0.3707 - accuracy: 0.8804 - val_loss: 1.0699 - val_accuracy: 0.6630\n",
      "Epoch 11/100\n",
      "210/210 [==============================] - 4s 19ms/step - loss: 0.3529 - accuracy: 0.8855 - val_loss: 1.8945 - val_accuracy: 0.5577\n",
      "Epoch 12/100\n",
      "210/210 [==============================] - 4s 19ms/step - loss: 0.3442 - accuracy: 0.8885 - val_loss: 0.9428 - val_accuracy: 0.7118\n",
      "Epoch 13/100\n",
      "210/210 [==============================] - 4s 19ms/step - loss: 0.3397 - accuracy: 0.8900 - val_loss: 1.0035 - val_accuracy: 0.6919\n",
      "Epoch 14/100\n",
      "210/210 [==============================] - 4s 19ms/step - loss: 0.3236 - accuracy: 0.8954 - val_loss: 1.3233 - val_accuracy: 0.6479\n",
      "Epoch 15/100\n",
      "210/210 [==============================] - 4s 20ms/step - loss: 0.3215 - accuracy: 0.8937 - val_loss: 1.7287 - val_accuracy: 0.5914\n",
      "Epoch 16/100\n",
      "210/210 [==============================] - 4s 19ms/step - loss: 0.3096 - accuracy: 0.8982 - val_loss: 1.2224 - val_accuracy: 0.6389\n",
      "Epoch 17/100\n",
      "210/210 [==============================] - 4s 18ms/step - loss: 0.3024 - accuracy: 0.9015 - val_loss: 1.0380 - val_accuracy: 0.7042\n",
      "Epoch 18/100\n",
      "210/210 [==============================] - 4s 19ms/step - loss: 0.2918 - accuracy: 0.9052 - val_loss: 1.0777 - val_accuracy: 0.6987\n",
      "Epoch 19/100\n",
      "210/210 [==============================] - 4s 19ms/step - loss: 0.2886 - accuracy: 0.9059 - val_loss: 0.8831 - val_accuracy: 0.7346\n",
      "Epoch 20/100\n",
      "210/210 [==============================] - 4s 19ms/step - loss: 0.2845 - accuracy: 0.9060 - val_loss: 1.2451 - val_accuracy: 0.6304\n",
      "Epoch 21/100\n",
      "210/210 [==============================] - 4s 19ms/step - loss: 0.2697 - accuracy: 0.9120 - val_loss: 1.1795 - val_accuracy: 0.6892\n",
      "Epoch 22/100\n",
      "210/210 [==============================] - 4s 19ms/step - loss: 0.2697 - accuracy: 0.9109 - val_loss: 1.1585 - val_accuracy: 0.6636\n",
      "Epoch 23/100\n",
      "210/210 [==============================] - 4s 19ms/step - loss: 0.2558 - accuracy: 0.9156 - val_loss: 1.0819 - val_accuracy: 0.6927\n",
      "Epoch 24/100\n",
      "210/210 [==============================] - 4s 19ms/step - loss: 0.2476 - accuracy: 0.9196 - val_loss: 1.2735 - val_accuracy: 0.6761\n",
      "Epoch 25/100\n",
      "210/210 [==============================] - 4s 19ms/step - loss: 0.2390 - accuracy: 0.9212 - val_loss: 1.0367 - val_accuracy: 0.7339\n",
      "Epoch 26/100\n",
      "210/210 [==============================] - 4s 19ms/step - loss: 0.2369 - accuracy: 0.9216 - val_loss: 1.0875 - val_accuracy: 0.6981\n",
      "Epoch 27/100\n",
      "210/210 [==============================] - 4s 19ms/step - loss: 0.2360 - accuracy: 0.9211 - val_loss: 1.1589 - val_accuracy: 0.6966\n",
      "Epoch 28/100\n",
      "210/210 [==============================] - 4s 19ms/step - loss: 0.2297 - accuracy: 0.9248 - val_loss: 1.4075 - val_accuracy: 0.6586\n",
      "Epoch 29/100\n",
      "210/210 [==============================] - 4s 19ms/step - loss: 0.2172 - accuracy: 0.9290 - val_loss: 1.0960 - val_accuracy: 0.7146\n",
      "Epoch 30/100\n",
      "210/210 [==============================] - 4s 19ms/step - loss: 0.2190 - accuracy: 0.9281 - val_loss: 1.1328 - val_accuracy: 0.7231\n",
      "Epoch 31/100\n",
      "210/210 [==============================] - 4s 19ms/step - loss: 0.2121 - accuracy: 0.9307 - val_loss: 1.1319 - val_accuracy: 0.7216\n",
      "Epoch 32/100\n",
      "210/210 [==============================] - 4s 19ms/step - loss: 0.2060 - accuracy: 0.9330 - val_loss: 1.8181 - val_accuracy: 0.6191\n",
      "Epoch 33/100\n",
      "210/210 [==============================] - 4s 19ms/step - loss: 0.2084 - accuracy: 0.9311 - val_loss: 1.0878 - val_accuracy: 0.7156\n",
      "Epoch 34/100\n",
      "210/210 [==============================] - 4s 20ms/step - loss: 0.2005 - accuracy: 0.9340 - val_loss: 0.8488 - val_accuracy: 0.7884\n",
      "Epoch 35/100\n",
      "210/210 [==============================] - 4s 20ms/step - loss: 0.1841 - accuracy: 0.9406 - val_loss: 0.9188 - val_accuracy: 0.7541\n",
      "Epoch 36/100\n",
      "210/210 [==============================] - 4s 19ms/step - loss: 0.1944 - accuracy: 0.9344 - val_loss: 0.9297 - val_accuracy: 0.7396\n",
      "Epoch 37/100\n",
      "210/210 [==============================] - 4s 19ms/step - loss: 0.1939 - accuracy: 0.9358 - val_loss: 1.0248 - val_accuracy: 0.7342\n",
      "Epoch 38/100\n",
      "210/210 [==============================] - 4s 19ms/step - loss: 0.1815 - accuracy: 0.9401 - val_loss: 0.9971 - val_accuracy: 0.7535\n",
      "Epoch 39/100\n",
      "210/210 [==============================] - 4s 19ms/step - loss: 0.1866 - accuracy: 0.9389 - val_loss: 0.9201 - val_accuracy: 0.7666\n",
      "Epoch 40/100\n",
      "210/210 [==============================] - 4s 19ms/step - loss: 0.1734 - accuracy: 0.9419 - val_loss: 0.7591 - val_accuracy: 0.7855\n",
      "Epoch 41/100\n",
      "210/210 [==============================] - 4s 19ms/step - loss: 0.1723 - accuracy: 0.9437 - val_loss: 0.8671 - val_accuracy: 0.7667\n",
      "Epoch 42/100\n",
      "210/210 [==============================] - 4s 19ms/step - loss: 0.1672 - accuracy: 0.9439 - val_loss: 1.6224 - val_accuracy: 0.6620\n",
      "Epoch 43/100\n",
      "210/210 [==============================] - 4s 20ms/step - loss: 0.1679 - accuracy: 0.9446 - val_loss: 0.8260 - val_accuracy: 0.7866\n",
      "Epoch 44/100\n",
      "210/210 [==============================] - 4s 19ms/step - loss: 0.1557 - accuracy: 0.9488 - val_loss: 1.0278 - val_accuracy: 0.7539\n",
      "Epoch 45/100\n",
      "210/210 [==============================] - 4s 20ms/step - loss: 0.1556 - accuracy: 0.9483 - val_loss: 1.0094 - val_accuracy: 0.7570\n",
      "Epoch 46/100\n",
      "210/210 [==============================] - 4s 19ms/step - loss: 0.1628 - accuracy: 0.9447 - val_loss: 0.9525 - val_accuracy: 0.7659\n",
      "Epoch 47/100\n",
      "210/210 [==============================] - 4s 19ms/step - loss: 0.1609 - accuracy: 0.9472 - val_loss: 0.9807 - val_accuracy: 0.7555\n",
      "Epoch 48/100\n",
      "210/210 [==============================] - 4s 19ms/step - loss: 0.1537 - accuracy: 0.9487 - val_loss: 0.8966 - val_accuracy: 0.7711\n",
      "Epoch 49/100\n",
      "210/210 [==============================] - 4s 19ms/step - loss: 0.1381 - accuracy: 0.9549 - val_loss: 1.2464 - val_accuracy: 0.7322\n",
      "Epoch 50/100\n",
      "210/210 [==============================] - 4s 20ms/step - loss: 0.1437 - accuracy: 0.9520 - val_loss: 1.4065 - val_accuracy: 0.7021\n",
      "Epoch 51/100\n",
      "210/210 [==============================] - 4s 19ms/step - loss: 0.1483 - accuracy: 0.9501 - val_loss: 0.6915 - val_accuracy: 0.8080\n",
      "Epoch 52/100\n",
      "210/210 [==============================] - 4s 19ms/step - loss: 0.1429 - accuracy: 0.9525 - val_loss: 1.8659 - val_accuracy: 0.6697\n",
      "Epoch 53/100\n",
      "210/210 [==============================] - 4s 19ms/step - loss: 0.1387 - accuracy: 0.9536 - val_loss: 1.3048 - val_accuracy: 0.7362\n",
      "Epoch 54/100\n",
      "210/210 [==============================] - 4s 19ms/step - loss: 0.1335 - accuracy: 0.9544 - val_loss: 1.6467 - val_accuracy: 0.6910\n",
      "Epoch 55/100\n",
      "210/210 [==============================] - 4s 19ms/step - loss: 0.1413 - accuracy: 0.9532 - val_loss: 0.8894 - val_accuracy: 0.7893\n",
      "Epoch 56/100\n",
      "210/210 [==============================] - 4s 19ms/step - loss: 0.1298 - accuracy: 0.9560 - val_loss: 1.1131 - val_accuracy: 0.7412\n",
      "Epoch 57/100\n"
     ]
    },
    {
     "name": "stdout",
     "output_type": "stream",
     "text": [
      "210/210 [==============================] - 4s 19ms/step - loss: 0.1375 - accuracy: 0.9543 - val_loss: 1.3912 - val_accuracy: 0.7197\n",
      "Epoch 58/100\n",
      "210/210 [==============================] - 4s 19ms/step - loss: 0.1258 - accuracy: 0.9574 - val_loss: 1.0504 - val_accuracy: 0.7676\n",
      "Epoch 59/100\n",
      "210/210 [==============================] - 4s 19ms/step - loss: 0.1232 - accuracy: 0.9583 - val_loss: 0.7234 - val_accuracy: 0.8169\n",
      "Epoch 60/100\n",
      "210/210 [==============================] - 4s 19ms/step - loss: 0.1245 - accuracy: 0.9585 - val_loss: 1.2958 - val_accuracy: 0.7121\n",
      "Epoch 61/100\n",
      "210/210 [==============================] - 4s 19ms/step - loss: 0.1266 - accuracy: 0.9580 - val_loss: 0.9523 - val_accuracy: 0.7685\n",
      "Epoch 62/100\n",
      "210/210 [==============================] - 4s 19ms/step - loss: 0.1205 - accuracy: 0.9587 - val_loss: 0.7931 - val_accuracy: 0.8162\n",
      "Epoch 63/100\n",
      "210/210 [==============================] - 4s 20ms/step - loss: 0.1210 - accuracy: 0.9600 - val_loss: 1.4094 - val_accuracy: 0.7503\n",
      "Epoch 64/100\n",
      "210/210 [==============================] - 4s 19ms/step - loss: 0.1174 - accuracy: 0.9609 - val_loss: 0.9406 - val_accuracy: 0.7817\n",
      "Epoch 65/100\n",
      "210/210 [==============================] - 4s 19ms/step - loss: 0.1101 - accuracy: 0.9622 - val_loss: 1.1039 - val_accuracy: 0.7576\n",
      "Epoch 66/100\n",
      "210/210 [==============================] - 4s 19ms/step - loss: 0.1106 - accuracy: 0.9629 - val_loss: 0.8285 - val_accuracy: 0.8128\n",
      "Epoch 67/100\n",
      "210/210 [==============================] - 4s 20ms/step - loss: 0.1158 - accuracy: 0.9612 - val_loss: 0.8043 - val_accuracy: 0.8052\n",
      "Epoch 68/100\n",
      "210/210 [==============================] - 4s 19ms/step - loss: 0.1182 - accuracy: 0.9601 - val_loss: 0.7484 - val_accuracy: 0.8084\n",
      "Epoch 69/100\n",
      "210/210 [==============================] - 4s 19ms/step - loss: 0.1105 - accuracy: 0.9632 - val_loss: 1.2532 - val_accuracy: 0.7566\n",
      "Epoch 70/100\n",
      "210/210 [==============================] - 4s 19ms/step - loss: 0.1081 - accuracy: 0.9634 - val_loss: 0.8561 - val_accuracy: 0.8001\n",
      "Epoch 71/100\n",
      "210/210 [==============================] - 4s 18ms/step - loss: 0.1132 - accuracy: 0.9614 - val_loss: 1.1888 - val_accuracy: 0.7503\n",
      "Epoch 72/100\n",
      "210/210 [==============================] - 4s 18ms/step - loss: 0.1076 - accuracy: 0.9635 - val_loss: 1.0669 - val_accuracy: 0.7688\n",
      "Epoch 73/100\n",
      "210/210 [==============================] - 4s 19ms/step - loss: 0.1060 - accuracy: 0.9644 - val_loss: 1.5830 - val_accuracy: 0.7127\n",
      "Epoch 74/100\n",
      "210/210 [==============================] - 4s 19ms/step - loss: 0.1133 - accuracy: 0.9624 - val_loss: 1.4272 - val_accuracy: 0.7194\n",
      "Epoch 75/100\n",
      "210/210 [==============================] - 4s 19ms/step - loss: 0.0996 - accuracy: 0.9662 - val_loss: 0.7037 - val_accuracy: 0.8288\n",
      "Epoch 76/100\n",
      "210/210 [==============================] - 4s 19ms/step - loss: 0.0914 - accuracy: 0.9695 - val_loss: 1.2552 - val_accuracy: 0.7485\n",
      "Epoch 77/100\n",
      "210/210 [==============================] - 4s 19ms/step - loss: 0.0983 - accuracy: 0.9660 - val_loss: 0.9233 - val_accuracy: 0.8008\n",
      "Epoch 78/100\n",
      "210/210 [==============================] - 4s 19ms/step - loss: 0.1063 - accuracy: 0.9639 - val_loss: 0.8032 - val_accuracy: 0.8164\n",
      "Epoch 79/100\n",
      "210/210 [==============================] - 4s 19ms/step - loss: 0.0917 - accuracy: 0.9691 - val_loss: 0.6941 - val_accuracy: 0.8328\n",
      "Epoch 80/100\n",
      "210/210 [==============================] - 4s 19ms/step - loss: 0.0932 - accuracy: 0.9693 - val_loss: 1.1146 - val_accuracy: 0.7612\n",
      "Epoch 81/100\n",
      "210/210 [==============================] - 4s 19ms/step - loss: 0.0974 - accuracy: 0.9664 - val_loss: 1.1239 - val_accuracy: 0.7821\n",
      "Epoch 82/100\n",
      "210/210 [==============================] - 4s 19ms/step - loss: 0.0924 - accuracy: 0.9689 - val_loss: 0.9119 - val_accuracy: 0.8024\n",
      "Epoch 83/100\n",
      "210/210 [==============================] - 4s 19ms/step - loss: 0.0974 - accuracy: 0.9670 - val_loss: 0.7934 - val_accuracy: 0.8217\n",
      "Epoch 84/100\n",
      "210/210 [==============================] - 4s 19ms/step - loss: 0.0886 - accuracy: 0.9701 - val_loss: 0.8995 - val_accuracy: 0.7970\n",
      "Epoch 85/100\n",
      "210/210 [==============================] - 4s 19ms/step - loss: 0.0885 - accuracy: 0.9698 - val_loss: 0.9379 - val_accuracy: 0.8197\n",
      "Epoch 86/100\n",
      "210/210 [==============================] - 4s 19ms/step - loss: 0.0926 - accuracy: 0.9687 - val_loss: 0.9614 - val_accuracy: 0.7919\n",
      "Epoch 87/100\n",
      "210/210 [==============================] - 4s 19ms/step - loss: 0.0884 - accuracy: 0.9705 - val_loss: 1.3896 - val_accuracy: 0.7523\n",
      "Epoch 88/100\n",
      "210/210 [==============================] - 4s 19ms/step - loss: 0.0881 - accuracy: 0.9707 - val_loss: 1.1228 - val_accuracy: 0.7650\n",
      "Epoch 89/100\n",
      "210/210 [==============================] - 4s 19ms/step - loss: 0.0876 - accuracy: 0.9705 - val_loss: 0.8894 - val_accuracy: 0.8018\n",
      "Epoch 90/100\n",
      "210/210 [==============================] - 4s 19ms/step - loss: 0.0859 - accuracy: 0.9709 - val_loss: 1.4751 - val_accuracy: 0.7345\n",
      "Epoch 91/100\n",
      "210/210 [==============================] - 4s 19ms/step - loss: 0.0768 - accuracy: 0.9748 - val_loss: 1.0093 - val_accuracy: 0.7925\n",
      "Epoch 92/100\n",
      "210/210 [==============================] - 4s 19ms/step - loss: 0.0859 - accuracy: 0.9705 - val_loss: 1.1760 - val_accuracy: 0.7788\n",
      "Epoch 93/100\n",
      "210/210 [==============================] - 4s 19ms/step - loss: 0.0883 - accuracy: 0.9708 - val_loss: 0.9452 - val_accuracy: 0.7986\n",
      "Epoch 94/100\n",
      "210/210 [==============================] - 4s 19ms/step - loss: 0.0845 - accuracy: 0.9715 - val_loss: 0.7809 - val_accuracy: 0.8292\n",
      "Epoch 95/100\n",
      "210/210 [==============================] - 4s 19ms/step - loss: 0.0784 - accuracy: 0.9734 - val_loss: 1.2139 - val_accuracy: 0.7724\n",
      "Epoch 96/100\n",
      "210/210 [==============================] - 4s 19ms/step - loss: 0.0761 - accuracy: 0.9738 - val_loss: 0.8749 - val_accuracy: 0.8073\n",
      "Epoch 97/100\n",
      "210/210 [==============================] - 4s 19ms/step - loss: 0.0868 - accuracy: 0.9709 - val_loss: 0.9294 - val_accuracy: 0.7990\n",
      "Epoch 98/100\n",
      "210/210 [==============================] - 4s 19ms/step - loss: 0.0786 - accuracy: 0.9723 - val_loss: 1.2703 - val_accuracy: 0.7645\n",
      "Epoch 99/100\n",
      "210/210 [==============================] - 4s 19ms/step - loss: 0.0712 - accuracy: 0.9753 - val_loss: 0.7033 - val_accuracy: 0.8436\n",
      "Epoch 100/100\n",
      "210/210 [==============================] - 4s 19ms/step - loss: 0.0777 - accuracy: 0.9743 - val_loss: 0.8765 - val_accuracy: 0.8140\n"
     ]
    }
   ],
   "source": [
    "# compiling the neural network classifier, adam optimizer\n",
    "adam = optimizers.Adam(lr = 0.001)\n",
    "# Adding activation function - softmax for multiclass classification\n",
    "model5.compile(optimizer = adam, loss = 'categorical_crossentropy', metrics = ['accuracy'])\n",
    "\n",
    "# Fitting the neural network for training\n",
    "history = model5.fit(X_train, y_train, validation_data = (X_val, y_val), batch_size = 200, epochs = 100, verbose = 1)"
   ]
  },
  {
   "cell_type": "code",
   "execution_count": 61,
   "metadata": {
    "colab": {
     "base_uri": "https://localhost:8080/",
     "height": 88
    },
    "colab_type": "code",
    "id": "x612tS1vXAfv",
    "outputId": "f11fc93f-16ff-47dd-865b-972c3e338684"
   },
   "outputs": [
    {
     "name": "stdout",
     "output_type": "stream",
     "text": [
      "NN with batch normalization\n",
      "--------------------------------------------------------------------------------\n",
      "1875/1875 [==============================] - 15s 7ms/step - loss: 0.8765 - accuracy: 0.8140\n",
      "Validation accuracy: 81.4\n"
     ]
    }
   ],
   "source": [
    "print('NN with batch normalization'); print('--'*40)\n",
    "results5 = model5.evaluate(X_val, y_val)\n",
    "print('Validation accuracy: {}'.format(round(results5[1]*100, 2), '%'))"
   ]
  },
  {
   "cell_type": "markdown",
   "metadata": {
    "colab_type": "text",
    "id": "zlIflBua6Hie"
   },
   "source": [
    "<a id='o7'></a>\n",
    "##### Observation 7 - Batch Normalization\n",
    "* Batch normalization didn't result in improvement of score.\n",
    "* Relu activations, changing number of activators, Adam optimizers achieved the best score.\n",
    "* Next, let's try batch normalization with dropout."
   ]
  },
  {
   "cell_type": "markdown",
   "metadata": {
    "colab_type": "text",
    "id": "04uo_AzWTq5X"
   },
   "source": [
    "<a id='Dropout'></a>\n",
    "### Dropout"
   ]
  },
  {
   "cell_type": "markdown",
   "metadata": {
    "colab_type": "text",
    "id": "smSh8h6RZthm"
   },
   "source": [
    "#### NN model, relu activations, SGD optimizers with weight initializers,  batch normalization and dropout"
   ]
  },
  {
   "cell_type": "code",
   "execution_count": 62,
   "metadata": {
    "colab": {
     "base_uri": "https://localhost:8080/",
     "height": 52
    },
    "colab_type": "code",
    "id": "xq5p41MtNvui",
    "outputId": "8c1d1307-fc95-40ba-cfdd-e4733b432c15"
   },
   "outputs": [
    {
     "name": "stdout",
     "output_type": "stream",
     "text": [
      "NN model with dropout - sgd optimizer\n",
      "--------------------------------------------------------------------------------\n"
     ]
    }
   ],
   "source": [
    "print('NN model with dropout - sgd optimizer'); print('--'*40)\n",
    "# Initialize the neural network classifier\n",
    "model6 = Sequential()\n",
    "# Input Layer - adding input layer and activation functions relu and weight initializer\n",
    "model6.add(Dense(512, input_shape = (1024, ), kernel_initializer = 'he_normal'))\n",
    "# Adding batch normalization\n",
    "model6.add(BatchNormalization()) \n",
    "# Adding activation function\n",
    "model6.add(Activation('relu'))\n",
    "# Adding dropout layer\n",
    "model6.add(Dropout(0.2))\n",
    "\n",
    "#Hidden Layer 1 - adding first hidden layer\n",
    "model6.add(Dense(256, kernel_initializer = 'he_normal', bias_initializer = 'he_uniform'))\n",
    "# Adding batch normalization\n",
    "model6.add(BatchNormalization())\n",
    "# Adding activation function\n",
    "model6.add(Activation('relu'))\n",
    "# Adding dropout layer\n",
    "model6.add(Dropout(0.2))\n",
    "\n",
    "#Hidden Layer 2 - adding second hidden layer\n",
    "model6.add(Dense(128, kernel_initializer = 'he_normal', bias_initializer = 'he_uniform'))\n",
    "# Adding batch normalization\n",
    "model6.add(BatchNormalization())\n",
    "# Adding activation function\n",
    "model6.add(Activation('relu'))\n",
    "# Adding dropout layer\n",
    "model6.add(Dropout(0.2))\n",
    "\n",
    "#Hidden Layer 3 - adding third hidden layer\n",
    "model6.add(Dense(64, kernel_initializer = 'he_normal', bias_initializer = 'he_uniform'))\n",
    "# Adding batch normalization\n",
    "model6.add(BatchNormalization())\n",
    "# Adding activation function\n",
    "model6.add(Activation('relu'))\n",
    "# Adding dropout layer\n",
    "model6.add(Dropout(0.2))\n",
    "\n",
    "#Hidden Layer 4 - adding fourth hidden layer\n",
    "model6.add(Dense(32, kernel_initializer = 'he_normal', bias_initializer = 'he_uniform'))\n",
    "# Adding batch normalization\n",
    "model6.add(BatchNormalization())\n",
    "# Adding activation function\n",
    "model6.add(Activation('relu'))\n",
    "# Adding dropout layer\n",
    "model6.add(Dropout(0.2))\n",
    "\n",
    "# Output Layer - adding output layer which is of 10 nodes (digits)\n",
    "model6.add(Dense(10, kernel_initializer = 'he_normal',bias_initializer = 'he_uniform'))\n",
    "# Adding activation function\n",
    "model6.add(Activation('softmax'))"
   ]
  },
  {
   "cell_type": "code",
   "execution_count": 63,
   "metadata": {
    "colab": {
     "base_uri": "https://localhost:8080/",
     "height": 941
    },
    "colab_type": "code",
    "id": "IV_EP0rf6n6A",
    "outputId": "3fdbd698-c572-4d46-ee16-acf3ae768c77"
   },
   "outputs": [
    {
     "name": "stdout",
     "output_type": "stream",
     "text": [
      "Model: \"sequential_5\"\n",
      "_________________________________________________________________\n",
      " Layer (type)                Output Shape              Param #   \n",
      "=================================================================\n",
      " dense_20 (Dense)            (None, 512)               524800    \n",
      "                                                                 \n",
      " batch_normalization_4 (Batc  (None, 512)              2048      \n",
      " hNormalization)                                                 \n",
      "                                                                 \n",
      " activation_20 (Activation)  (None, 512)               0         \n",
      "                                                                 \n",
      " dropout (Dropout)           (None, 512)               0         \n",
      "                                                                 \n",
      " dense_21 (Dense)            (None, 256)               131328    \n",
      "                                                                 \n",
      " batch_normalization_5 (Batc  (None, 256)              1024      \n",
      " hNormalization)                                                 \n",
      "                                                                 \n",
      " activation_21 (Activation)  (None, 256)               0         \n",
      "                                                                 \n",
      " dropout_1 (Dropout)         (None, 256)               0         \n",
      "                                                                 \n",
      " dense_22 (Dense)            (None, 128)               32896     \n",
      "                                                                 \n",
      " batch_normalization_6 (Batc  (None, 128)              512       \n",
      " hNormalization)                                                 \n",
      "                                                                 \n",
      " activation_22 (Activation)  (None, 128)               0         \n",
      "                                                                 \n",
      " dropout_2 (Dropout)         (None, 128)               0         \n",
      "                                                                 \n",
      " dense_23 (Dense)            (None, 64)                8256      \n",
      "                                                                 \n",
      " batch_normalization_7 (Batc  (None, 64)               256       \n",
      " hNormalization)                                                 \n",
      "                                                                 \n",
      " activation_23 (Activation)  (None, 64)                0         \n",
      "                                                                 \n",
      " dropout_3 (Dropout)         (None, 64)                0         \n",
      "                                                                 \n",
      " dense_24 (Dense)            (None, 32)                2080      \n",
      "                                                                 \n",
      " batch_normalization_8 (Batc  (None, 32)               128       \n",
      " hNormalization)                                                 \n",
      "                                                                 \n",
      " activation_24 (Activation)  (None, 32)                0         \n",
      "                                                                 \n",
      " dropout_4 (Dropout)         (None, 32)                0         \n",
      "                                                                 \n",
      " dense_25 (Dense)            (None, 10)                330       \n",
      "                                                                 \n",
      " activation_25 (Activation)  (None, 10)                0         \n",
      "                                                                 \n",
      "=================================================================\n",
      "Total params: 703,658\n",
      "Trainable params: 701,674\n",
      "Non-trainable params: 1,984\n",
      "_________________________________________________________________\n"
     ]
    }
   ],
   "source": [
    "model6.summary()"
   ]
  },
  {
   "cell_type": "code",
   "execution_count": 64,
   "metadata": {
    "colab": {
     "base_uri": "https://localhost:8080/",
     "height": 1000
    },
    "colab_type": "code",
    "id": "E9TPI3fIZGTI",
    "outputId": "2d73d0c6-232d-405f-cbe8-11ea5d49550d",
    "scrolled": false
   },
   "outputs": [
    {
     "name": "stderr",
     "output_type": "stream",
     "text": [
      "WARNING:absl:At this time, the v2.11+ optimizer `tf.keras.optimizers.SGD` runs slowly on M1/M2 Macs, please use the legacy Keras optimizer instead, located at `tf.keras.optimizers.legacy.SGD`.\n",
      "WARNING:absl:`lr` is deprecated in Keras optimizer, please use `learning_rate` or use the legacy optimizer, e.g.,tf.keras.optimizers.legacy.SGD.\n",
      "WARNING:absl:There is a known slowdown when using v2.11+ Keras optimizers on M1/M2 Macs. Falling back to the legacy Keras optimizer, i.e., `tf.keras.optimizers.legacy.SGD`.\n"
     ]
    },
    {
     "name": "stdout",
     "output_type": "stream",
     "text": [
      "Epoch 1/100\n",
      "210/210 [==============================] - 6s 24ms/step - loss: 2.6308 - accuracy: 0.1082 - val_loss: 2.3197 - val_accuracy: 0.1292\n",
      "Epoch 2/100\n",
      "210/210 [==============================] - 5s 23ms/step - loss: 2.4045 - accuracy: 0.1423 - val_loss: 2.2180 - val_accuracy: 0.1996\n",
      "Epoch 3/100\n",
      "210/210 [==============================] - 5s 22ms/step - loss: 2.2978 - accuracy: 0.1693 - val_loss: 2.1054 - val_accuracy: 0.2627\n",
      "Epoch 4/100\n",
      "210/210 [==============================] - 4s 21ms/step - loss: 2.1981 - accuracy: 0.2077 - val_loss: 1.9827 - val_accuracy: 0.3336\n",
      "Epoch 5/100\n",
      "210/210 [==============================] - 5s 22ms/step - loss: 2.0904 - accuracy: 0.2485 - val_loss: 1.8729 - val_accuracy: 0.3902\n",
      "Epoch 6/100\n",
      "210/210 [==============================] - 4s 21ms/step - loss: 1.9949 - accuracy: 0.2827 - val_loss: 1.7519 - val_accuracy: 0.4423\n",
      "Epoch 7/100\n",
      "210/210 [==============================] - 5s 22ms/step - loss: 1.8983 - accuracy: 0.3233 - val_loss: 1.6532 - val_accuracy: 0.4791\n",
      "Epoch 8/100\n",
      "210/210 [==============================] - 5s 22ms/step - loss: 1.8233 - accuracy: 0.3517 - val_loss: 1.5736 - val_accuracy: 0.5150\n",
      "Epoch 9/100\n",
      "210/210 [==============================] - 4s 21ms/step - loss: 1.7485 - accuracy: 0.3796 - val_loss: 1.4976 - val_accuracy: 0.5397\n",
      "Epoch 10/100\n",
      "210/210 [==============================] - 4s 21ms/step - loss: 1.6855 - accuracy: 0.4050 - val_loss: 1.4234 - val_accuracy: 0.5590\n",
      "Epoch 11/100\n",
      "210/210 [==============================] - 5s 22ms/step - loss: 1.6251 - accuracy: 0.4293 - val_loss: 1.3526 - val_accuracy: 0.5869\n",
      "Epoch 12/100\n",
      "210/210 [==============================] - 4s 21ms/step - loss: 1.5702 - accuracy: 0.4495 - val_loss: 1.2970 - val_accuracy: 0.6104\n",
      "Epoch 13/100\n",
      "210/210 [==============================] - 5s 22ms/step - loss: 1.5141 - accuracy: 0.4719 - val_loss: 1.2615 - val_accuracy: 0.6115\n",
      "Epoch 14/100\n",
      "210/210 [==============================] - 4s 21ms/step - loss: 1.4635 - accuracy: 0.4944 - val_loss: 1.1983 - val_accuracy: 0.6361\n",
      "Epoch 15/100\n",
      "210/210 [==============================] - 4s 21ms/step - loss: 1.4139 - accuracy: 0.5138 - val_loss: 1.1428 - val_accuracy: 0.6561\n",
      "Epoch 16/100\n",
      "210/210 [==============================] - 5s 22ms/step - loss: 1.3777 - accuracy: 0.5254 - val_loss: 1.0998 - val_accuracy: 0.6601\n",
      "Epoch 17/100\n",
      "210/210 [==============================] - 4s 21ms/step - loss: 1.3357 - accuracy: 0.5452 - val_loss: 1.0653 - val_accuracy: 0.6778\n",
      "Epoch 18/100\n",
      "210/210 [==============================] - 4s 21ms/step - loss: 1.3057 - accuracy: 0.5546 - val_loss: 1.0266 - val_accuracy: 0.6926\n",
      "Epoch 19/100\n",
      "210/210 [==============================] - 5s 23ms/step - loss: 1.2663 - accuracy: 0.5717 - val_loss: 1.0364 - val_accuracy: 0.6714\n",
      "Epoch 20/100\n",
      "210/210 [==============================] - 4s 21ms/step - loss: 1.2400 - accuracy: 0.5838 - val_loss: 0.9598 - val_accuracy: 0.7104\n",
      "Epoch 21/100\n",
      "210/210 [==============================] - 4s 21ms/step - loss: 1.2007 - accuracy: 0.5964 - val_loss: 0.9605 - val_accuracy: 0.7100\n",
      "Epoch 22/100\n",
      "210/210 [==============================] - 4s 21ms/step - loss: 1.1725 - accuracy: 0.6083 - val_loss: 0.9621 - val_accuracy: 0.6956\n",
      "Epoch 23/100\n",
      "210/210 [==============================] - 5s 22ms/step - loss: 1.1473 - accuracy: 0.6215 - val_loss: 0.9036 - val_accuracy: 0.7250\n",
      "Epoch 24/100\n",
      "210/210 [==============================] - 5s 22ms/step - loss: 1.1223 - accuracy: 0.6330 - val_loss: 0.8766 - val_accuracy: 0.7337\n",
      "Epoch 25/100\n",
      "210/210 [==============================] - 5s 22ms/step - loss: 1.1012 - accuracy: 0.6385 - val_loss: 0.8838 - val_accuracy: 0.7287\n",
      "Epoch 26/100\n",
      "210/210 [==============================] - 5s 21ms/step - loss: 1.0808 - accuracy: 0.6503 - val_loss: 0.8385 - val_accuracy: 0.7499\n",
      "Epoch 27/100\n",
      "210/210 [==============================] - 5s 22ms/step - loss: 1.0520 - accuracy: 0.6555 - val_loss: 0.8879 - val_accuracy: 0.7164\n",
      "Epoch 28/100\n",
      "210/210 [==============================] - 4s 21ms/step - loss: 1.0394 - accuracy: 0.6626 - val_loss: 0.8204 - val_accuracy: 0.7490\n",
      "Epoch 29/100\n",
      "210/210 [==============================] - 4s 21ms/step - loss: 1.0150 - accuracy: 0.6727 - val_loss: 0.8348 - val_accuracy: 0.7386\n",
      "Epoch 30/100\n",
      "210/210 [==============================] - 5s 22ms/step - loss: 0.9971 - accuracy: 0.6809 - val_loss: 0.8213 - val_accuracy: 0.7476\n",
      "Epoch 31/100\n",
      "210/210 [==============================] - 5s 22ms/step - loss: 0.9802 - accuracy: 0.6868 - val_loss: 0.8950 - val_accuracy: 0.7135\n",
      "Epoch 32/100\n",
      "210/210 [==============================] - 5s 21ms/step - loss: 0.9631 - accuracy: 0.6924 - val_loss: 0.7950 - val_accuracy: 0.7519\n",
      "Epoch 33/100\n",
      "210/210 [==============================] - 5s 22ms/step - loss: 0.9437 - accuracy: 0.6993 - val_loss: 0.7547 - val_accuracy: 0.7663\n",
      "Epoch 34/100\n",
      "210/210 [==============================] - 5s 22ms/step - loss: 0.9325 - accuracy: 0.7017 - val_loss: 0.7329 - val_accuracy: 0.7740\n",
      "Epoch 35/100\n",
      "210/210 [==============================] - 5s 22ms/step - loss: 0.9154 - accuracy: 0.7111 - val_loss: 0.7694 - val_accuracy: 0.7553\n",
      "Epoch 36/100\n",
      "210/210 [==============================] - 5s 22ms/step - loss: 0.8990 - accuracy: 0.7112 - val_loss: 0.7468 - val_accuracy: 0.7696\n",
      "Epoch 37/100\n",
      "210/210 [==============================] - 5s 22ms/step - loss: 0.8969 - accuracy: 0.7175 - val_loss: 0.8197 - val_accuracy: 0.7492\n",
      "Epoch 38/100\n",
      "210/210 [==============================] - 5s 22ms/step - loss: 0.8689 - accuracy: 0.7236 - val_loss: 0.7497 - val_accuracy: 0.7677\n",
      "Epoch 39/100\n",
      "210/210 [==============================] - 5s 22ms/step - loss: 0.8660 - accuracy: 0.7285 - val_loss: 0.6816 - val_accuracy: 0.7880\n",
      "Epoch 40/100\n",
      "210/210 [==============================] - 5s 22ms/step - loss: 0.8601 - accuracy: 0.7280 - val_loss: 0.6704 - val_accuracy: 0.7958\n",
      "Epoch 41/100\n",
      "210/210 [==============================] - 4s 21ms/step - loss: 0.8404 - accuracy: 0.7370 - val_loss: 0.6727 - val_accuracy: 0.7939\n",
      "Epoch 42/100\n",
      "210/210 [==============================] - 5s 22ms/step - loss: 0.8304 - accuracy: 0.7373 - val_loss: 0.6663 - val_accuracy: 0.7941\n",
      "Epoch 43/100\n",
      "210/210 [==============================] - 4s 21ms/step - loss: 0.8226 - accuracy: 0.7417 - val_loss: 0.6797 - val_accuracy: 0.7894\n",
      "Epoch 44/100\n",
      "210/210 [==============================] - 5s 22ms/step - loss: 0.8126 - accuracy: 0.7453 - val_loss: 0.6712 - val_accuracy: 0.7911\n",
      "Epoch 45/100\n",
      "210/210 [==============================] - 5s 22ms/step - loss: 0.7966 - accuracy: 0.7506 - val_loss: 0.6519 - val_accuracy: 0.7988\n",
      "Epoch 46/100\n",
      "210/210 [==============================] - 5s 22ms/step - loss: 0.7947 - accuracy: 0.7524 - val_loss: 0.7274 - val_accuracy: 0.7765\n",
      "Epoch 47/100\n",
      "210/210 [==============================] - 5s 22ms/step - loss: 0.7872 - accuracy: 0.7530 - val_loss: 0.8059 - val_accuracy: 0.7439\n",
      "Epoch 48/100\n",
      "210/210 [==============================] - 5s 22ms/step - loss: 0.7698 - accuracy: 0.7601 - val_loss: 0.6895 - val_accuracy: 0.7853\n",
      "Epoch 49/100\n",
      "210/210 [==============================] - 4s 21ms/step - loss: 0.7661 - accuracy: 0.7600 - val_loss: 0.5848 - val_accuracy: 0.8207\n",
      "Epoch 50/100\n",
      "210/210 [==============================] - 5s 22ms/step - loss: 0.7517 - accuracy: 0.7639 - val_loss: 0.6398 - val_accuracy: 0.8038\n",
      "Epoch 51/100\n",
      "210/210 [==============================] - 5s 22ms/step - loss: 0.7457 - accuracy: 0.7662 - val_loss: 0.6586 - val_accuracy: 0.7955\n",
      "Epoch 52/100\n",
      "210/210 [==============================] - 4s 21ms/step - loss: 0.7440 - accuracy: 0.7696 - val_loss: 0.6707 - val_accuracy: 0.7892\n",
      "Epoch 53/100\n",
      "210/210 [==============================] - 5s 22ms/step - loss: 0.7342 - accuracy: 0.7717 - val_loss: 0.8787 - val_accuracy: 0.7334\n",
      "Epoch 54/100\n",
      "210/210 [==============================] - 5s 22ms/step - loss: 0.7284 - accuracy: 0.7718 - val_loss: 0.6063 - val_accuracy: 0.8115\n",
      "Epoch 55/100\n",
      "210/210 [==============================] - 5s 22ms/step - loss: 0.7233 - accuracy: 0.7751 - val_loss: 0.6017 - val_accuracy: 0.8119\n",
      "Epoch 56/100\n",
      "210/210 [==============================] - 4s 21ms/step - loss: 0.7127 - accuracy: 0.7801 - val_loss: 0.6427 - val_accuracy: 0.7941\n",
      "Epoch 57/100\n"
     ]
    },
    {
     "name": "stdout",
     "output_type": "stream",
     "text": [
      "210/210 [==============================] - 5s 22ms/step - loss: 0.7121 - accuracy: 0.7769 - val_loss: 0.6028 - val_accuracy: 0.8124\n",
      "Epoch 58/100\n",
      "210/210 [==============================] - 5s 22ms/step - loss: 0.7066 - accuracy: 0.7807 - val_loss: 0.6028 - val_accuracy: 0.8130\n",
      "Epoch 59/100\n",
      "210/210 [==============================] - 5s 22ms/step - loss: 0.6974 - accuracy: 0.7840 - val_loss: 0.6254 - val_accuracy: 0.8032\n",
      "Epoch 60/100\n",
      "210/210 [==============================] - 5s 22ms/step - loss: 0.6947 - accuracy: 0.7862 - val_loss: 0.6160 - val_accuracy: 0.8073\n",
      "Epoch 61/100\n",
      "210/210 [==============================] - 5s 22ms/step - loss: 0.6817 - accuracy: 0.7888 - val_loss: 0.5983 - val_accuracy: 0.8116\n",
      "Epoch 62/100\n",
      "210/210 [==============================] - 5s 22ms/step - loss: 0.6799 - accuracy: 0.7894 - val_loss: 0.5821 - val_accuracy: 0.8191\n",
      "Epoch 63/100\n",
      "210/210 [==============================] - 5s 22ms/step - loss: 0.6723 - accuracy: 0.7923 - val_loss: 0.5863 - val_accuracy: 0.8141\n",
      "Epoch 64/100\n",
      "210/210 [==============================] - 5s 22ms/step - loss: 0.6643 - accuracy: 0.7958 - val_loss: 0.6011 - val_accuracy: 0.8110\n",
      "Epoch 65/100\n",
      "210/210 [==============================] - 5s 22ms/step - loss: 0.6662 - accuracy: 0.7952 - val_loss: 0.5448 - val_accuracy: 0.8297\n",
      "Epoch 66/100\n",
      "210/210 [==============================] - 5s 22ms/step - loss: 0.6553 - accuracy: 0.7980 - val_loss: 0.5490 - val_accuracy: 0.8288\n",
      "Epoch 67/100\n",
      "210/210 [==============================] - 5s 22ms/step - loss: 0.6562 - accuracy: 0.7976 - val_loss: 0.5470 - val_accuracy: 0.8276\n",
      "Epoch 68/100\n",
      "210/210 [==============================] - 5s 22ms/step - loss: 0.6501 - accuracy: 0.7975 - val_loss: 0.6160 - val_accuracy: 0.8097\n",
      "Epoch 69/100\n",
      "210/210 [==============================] - 5s 22ms/step - loss: 0.6453 - accuracy: 0.8012 - val_loss: 0.5831 - val_accuracy: 0.8202\n",
      "Epoch 70/100\n",
      "210/210 [==============================] - 5s 22ms/step - loss: 0.6390 - accuracy: 0.8028 - val_loss: 0.6409 - val_accuracy: 0.7994\n",
      "Epoch 71/100\n",
      "210/210 [==============================] - 5s 22ms/step - loss: 0.6296 - accuracy: 0.8065 - val_loss: 0.5409 - val_accuracy: 0.8338\n",
      "Epoch 72/100\n",
      "210/210 [==============================] - 5s 22ms/step - loss: 0.6289 - accuracy: 0.8061 - val_loss: 0.6985 - val_accuracy: 0.7799\n",
      "Epoch 73/100\n",
      "210/210 [==============================] - 4s 21ms/step - loss: 0.6230 - accuracy: 0.8090 - val_loss: 0.5351 - val_accuracy: 0.8331\n",
      "Epoch 74/100\n",
      "210/210 [==============================] - 5s 22ms/step - loss: 0.6178 - accuracy: 0.8119 - val_loss: 0.6208 - val_accuracy: 0.8038\n",
      "Epoch 75/100\n",
      "210/210 [==============================] - 5s 21ms/step - loss: 0.6173 - accuracy: 0.8096 - val_loss: 0.5142 - val_accuracy: 0.8410\n",
      "Epoch 76/100\n",
      "210/210 [==============================] - 4s 21ms/step - loss: 0.6073 - accuracy: 0.8120 - val_loss: 0.4947 - val_accuracy: 0.8478\n",
      "Epoch 77/100\n",
      "210/210 [==============================] - 4s 21ms/step - loss: 0.6021 - accuracy: 0.8140 - val_loss: 0.5996 - val_accuracy: 0.8115\n",
      "Epoch 78/100\n",
      "210/210 [==============================] - 5s 22ms/step - loss: 0.6091 - accuracy: 0.8120 - val_loss: 0.5789 - val_accuracy: 0.8174\n",
      "Epoch 79/100\n",
      "210/210 [==============================] - 4s 21ms/step - loss: 0.5984 - accuracy: 0.8155 - val_loss: 0.5143 - val_accuracy: 0.8395\n",
      "Epoch 80/100\n",
      "210/210 [==============================] - 5s 22ms/step - loss: 0.5955 - accuracy: 0.8190 - val_loss: 0.9124 - val_accuracy: 0.7409\n",
      "Epoch 81/100\n",
      "210/210 [==============================] - 5s 22ms/step - loss: 0.5882 - accuracy: 0.8212 - val_loss: 0.5768 - val_accuracy: 0.8198\n",
      "Epoch 82/100\n",
      "210/210 [==============================] - 4s 21ms/step - loss: 0.5879 - accuracy: 0.8186 - val_loss: 0.4539 - val_accuracy: 0.8609\n",
      "Epoch 83/100\n",
      "210/210 [==============================] - 4s 21ms/step - loss: 0.5865 - accuracy: 0.8212 - val_loss: 0.5304 - val_accuracy: 0.8353\n",
      "Epoch 84/100\n",
      "210/210 [==============================] - 4s 21ms/step - loss: 0.5814 - accuracy: 0.8210 - val_loss: 0.5021 - val_accuracy: 0.8432\n",
      "Epoch 85/100\n",
      "210/210 [==============================] - 5s 22ms/step - loss: 0.5733 - accuracy: 0.8214 - val_loss: 0.4792 - val_accuracy: 0.8516\n",
      "Epoch 86/100\n",
      "210/210 [==============================] - 5s 22ms/step - loss: 0.5778 - accuracy: 0.8224 - val_loss: 0.4643 - val_accuracy: 0.8570\n",
      "Epoch 87/100\n",
      "210/210 [==============================] - 5s 22ms/step - loss: 0.5717 - accuracy: 0.8232 - val_loss: 0.5238 - val_accuracy: 0.8380\n",
      "Epoch 88/100\n",
      "210/210 [==============================] - 5s 22ms/step - loss: 0.5660 - accuracy: 0.8269 - val_loss: 0.6384 - val_accuracy: 0.8008\n",
      "Epoch 89/100\n",
      "210/210 [==============================] - 5s 22ms/step - loss: 0.5643 - accuracy: 0.8282 - val_loss: 0.5594 - val_accuracy: 0.8224\n",
      "Epoch 90/100\n",
      "210/210 [==============================] - 5s 22ms/step - loss: 0.5603 - accuracy: 0.8311 - val_loss: 0.5785 - val_accuracy: 0.8160\n",
      "Epoch 91/100\n",
      "210/210 [==============================] - 5s 22ms/step - loss: 0.5554 - accuracy: 0.8290 - val_loss: 0.6057 - val_accuracy: 0.8156\n",
      "Epoch 92/100\n",
      "210/210 [==============================] - 5s 22ms/step - loss: 0.5512 - accuracy: 0.8315 - val_loss: 0.5931 - val_accuracy: 0.8155\n",
      "Epoch 93/100\n",
      "210/210 [==============================] - 5s 23ms/step - loss: 0.5512 - accuracy: 0.8337 - val_loss: 0.5006 - val_accuracy: 0.8454\n",
      "Epoch 94/100\n",
      "210/210 [==============================] - 5s 23ms/step - loss: 0.5480 - accuracy: 0.8315 - val_loss: 0.5717 - val_accuracy: 0.8211\n",
      "Epoch 95/100\n",
      "210/210 [==============================] - 5s 23ms/step - loss: 0.5463 - accuracy: 0.8313 - val_loss: 0.5180 - val_accuracy: 0.8334\n",
      "Epoch 96/100\n",
      "210/210 [==============================] - 5s 23ms/step - loss: 0.5361 - accuracy: 0.8364 - val_loss: 0.6033 - val_accuracy: 0.8156\n",
      "Epoch 97/100\n",
      "210/210 [==============================] - 5s 22ms/step - loss: 0.5318 - accuracy: 0.8400 - val_loss: 0.6023 - val_accuracy: 0.8122\n",
      "Epoch 98/100\n",
      "210/210 [==============================] - 5s 22ms/step - loss: 0.5419 - accuracy: 0.8326 - val_loss: 0.5985 - val_accuracy: 0.8173\n",
      "Epoch 99/100\n",
      "210/210 [==============================] - 5s 23ms/step - loss: 0.5283 - accuracy: 0.8385 - val_loss: 0.5887 - val_accuracy: 0.8135\n",
      "Epoch 100/100\n",
      "210/210 [==============================] - 5s 22ms/step - loss: 0.5353 - accuracy: 0.8353 - val_loss: 0.6466 - val_accuracy: 0.8027\n"
     ]
    }
   ],
   "source": [
    "# compiling the neural network classifier, sgd optimizer\n",
    "sgd = optimizers.SGD(lr = 0.01)\n",
    "model6.compile(optimizer = sgd, loss = 'categorical_crossentropy', metrics = ['accuracy'])\n",
    "\n",
    "# Adding activation function - softmax for multiclass classification\n",
    "history = model6.fit(X_train, y_train, validation_data = (X_val, y_val), batch_size = 200, epochs = 100, verbose = 1)"
   ]
  },
  {
   "cell_type": "code",
   "execution_count": 65,
   "metadata": {
    "colab": {
     "base_uri": "https://localhost:8080/",
     "height": 88
    },
    "colab_type": "code",
    "id": "JpuSGV5WUUJX",
    "outputId": "880b9b5c-f1da-48a1-c91a-471fd15c30e8"
   },
   "outputs": [
    {
     "name": "stdout",
     "output_type": "stream",
     "text": [
      "NN model with dropout - sgd optimizer\n",
      "--------------------------------------------------------------------------------\n",
      "1875/1875 [==============================] - 15s 8ms/step - loss: 0.6466 - accuracy: 0.8027\n",
      "Validation accuracy: 80.27\n"
     ]
    }
   ],
   "source": [
    "print('NN model with dropout - sgd optimizer'); print('--'*40)\n",
    "results6 = model6.evaluate(X_val, y_val)\n",
    "print('Validation accuracy: {}'.format(round(results6[1]*100, 2), '%'))"
   ]
  },
  {
   "cell_type": "code",
   "execution_count": 66,
   "metadata": {
    "colab": {
     "base_uri": "https://localhost:8080/",
     "height": 1000
    },
    "colab_type": "code",
    "id": "658feR9fZ353",
    "outputId": "fd0788fc-79ef-4743-f378-54e217eb1095",
    "scrolled": false
   },
   "outputs": [
    {
     "name": "stderr",
     "output_type": "stream",
     "text": [
      "WARNING:absl:At this time, the v2.11+ optimizer `tf.keras.optimizers.Adam` runs slowly on M1/M2 Macs, please use the legacy Keras optimizer instead, located at `tf.keras.optimizers.legacy.Adam`.\n",
      "WARNING:absl:`lr` is deprecated in Keras optimizer, please use `learning_rate` or use the legacy optimizer, e.g.,tf.keras.optimizers.legacy.Adam.\n",
      "WARNING:absl:There is a known slowdown when using v2.11+ Keras optimizers on M1/M2 Macs. Falling back to the legacy Keras optimizer, i.e., `tf.keras.optimizers.legacy.Adam`.\n"
     ]
    },
    {
     "name": "stdout",
     "output_type": "stream",
     "text": [
      "Epoch 1/100\n",
      "210/210 [==============================] - 8s 29ms/step - loss: 0.9836 - accuracy: 0.6906 - val_loss: 1.6070 - val_accuracy: 0.4698\n",
      "Epoch 2/100\n",
      "210/210 [==============================] - 5s 24ms/step - loss: 0.8302 - accuracy: 0.7394 - val_loss: 1.1466 - val_accuracy: 0.6302\n",
      "Epoch 3/100\n",
      "210/210 [==============================] - 5s 24ms/step - loss: 0.7692 - accuracy: 0.7610 - val_loss: 1.0848 - val_accuracy: 0.6482\n",
      "Epoch 4/100\n",
      "210/210 [==============================] - 5s 23ms/step - loss: 0.7269 - accuracy: 0.7748 - val_loss: 1.3483 - val_accuracy: 0.5394\n",
      "Epoch 5/100\n",
      "210/210 [==============================] - 5s 24ms/step - loss: 0.6925 - accuracy: 0.7840 - val_loss: 1.3217 - val_accuracy: 0.5546\n",
      "Epoch 6/100\n",
      "210/210 [==============================] - 5s 24ms/step - loss: 0.6696 - accuracy: 0.7949 - val_loss: 1.3175 - val_accuracy: 0.5825\n",
      "Epoch 7/100\n",
      "210/210 [==============================] - 5s 24ms/step - loss: 0.6504 - accuracy: 0.8001 - val_loss: 0.9309 - val_accuracy: 0.7006\n",
      "Epoch 8/100\n",
      "210/210 [==============================] - 5s 23ms/step - loss: 0.6272 - accuracy: 0.8061 - val_loss: 1.0989 - val_accuracy: 0.6529\n",
      "Epoch 9/100\n",
      "210/210 [==============================] - 5s 23ms/step - loss: 0.6030 - accuracy: 0.8132 - val_loss: 0.9711 - val_accuracy: 0.6809\n",
      "Epoch 10/100\n",
      "210/210 [==============================] - 5s 23ms/step - loss: 0.6004 - accuracy: 0.8158 - val_loss: 1.1863 - val_accuracy: 0.6134\n",
      "Epoch 11/100\n",
      "210/210 [==============================] - 5s 24ms/step - loss: 0.5822 - accuracy: 0.8205 - val_loss: 0.8351 - val_accuracy: 0.7268\n",
      "Epoch 12/100\n",
      "210/210 [==============================] - 5s 24ms/step - loss: 0.5668 - accuracy: 0.8263 - val_loss: 1.0453 - val_accuracy: 0.6565\n",
      "Epoch 13/100\n",
      "210/210 [==============================] - 5s 24ms/step - loss: 0.5531 - accuracy: 0.8300 - val_loss: 0.9599 - val_accuracy: 0.6915\n",
      "Epoch 14/100\n",
      "210/210 [==============================] - 5s 25ms/step - loss: 0.5407 - accuracy: 0.8345 - val_loss: 1.2480 - val_accuracy: 0.6372\n",
      "Epoch 15/100\n",
      "210/210 [==============================] - 5s 24ms/step - loss: 0.5210 - accuracy: 0.8388 - val_loss: 0.9256 - val_accuracy: 0.6961\n",
      "Epoch 16/100\n",
      "210/210 [==============================] - 5s 23ms/step - loss: 0.5151 - accuracy: 0.8403 - val_loss: 1.1121 - val_accuracy: 0.6365\n",
      "Epoch 17/100\n",
      "210/210 [==============================] - 5s 23ms/step - loss: 0.5156 - accuracy: 0.8396 - val_loss: 0.8525 - val_accuracy: 0.7215\n",
      "Epoch 18/100\n",
      "210/210 [==============================] - 5s 24ms/step - loss: 0.4971 - accuracy: 0.8460 - val_loss: 0.9410 - val_accuracy: 0.6821\n",
      "Epoch 19/100\n",
      "210/210 [==============================] - 5s 24ms/step - loss: 0.4920 - accuracy: 0.8477 - val_loss: 0.9632 - val_accuracy: 0.6781\n",
      "Epoch 20/100\n",
      "210/210 [==============================] - 5s 25ms/step - loss: 0.4912 - accuracy: 0.8483 - val_loss: 0.6946 - val_accuracy: 0.7860\n",
      "Epoch 21/100\n",
      "210/210 [==============================] - 5s 25ms/step - loss: 0.4762 - accuracy: 0.8521 - val_loss: 0.6559 - val_accuracy: 0.7911\n",
      "Epoch 22/100\n",
      "210/210 [==============================] - 7s 31ms/step - loss: 0.4688 - accuracy: 0.8542 - val_loss: 1.1117 - val_accuracy: 0.6524\n",
      "Epoch 23/100\n",
      "210/210 [==============================] - 5s 25ms/step - loss: 0.4564 - accuracy: 0.8592 - val_loss: 0.7805 - val_accuracy: 0.7464\n",
      "Epoch 24/100\n",
      "210/210 [==============================] - 5s 23ms/step - loss: 0.4551 - accuracy: 0.8584 - val_loss: 0.8400 - val_accuracy: 0.7212\n",
      "Epoch 25/100\n",
      "210/210 [==============================] - 5s 25ms/step - loss: 0.4481 - accuracy: 0.8596 - val_loss: 0.6986 - val_accuracy: 0.7746\n",
      "Epoch 26/100\n",
      "210/210 [==============================] - 5s 24ms/step - loss: 0.4373 - accuracy: 0.8645 - val_loss: 0.7480 - val_accuracy: 0.7579\n",
      "Epoch 27/100\n",
      "210/210 [==============================] - 5s 24ms/step - loss: 0.4356 - accuracy: 0.8646 - val_loss: 0.7297 - val_accuracy: 0.7566\n",
      "Epoch 28/100\n",
      "210/210 [==============================] - 5s 24ms/step - loss: 0.4318 - accuracy: 0.8655 - val_loss: 0.8300 - val_accuracy: 0.7221\n",
      "Epoch 29/100\n",
      "210/210 [==============================] - 5s 24ms/step - loss: 0.4273 - accuracy: 0.8680 - val_loss: 0.8566 - val_accuracy: 0.7220\n",
      "Epoch 30/100\n",
      "210/210 [==============================] - 5s 24ms/step - loss: 0.4218 - accuracy: 0.8700 - val_loss: 0.6881 - val_accuracy: 0.7752\n",
      "Epoch 31/100\n",
      "210/210 [==============================] - 5s 24ms/step - loss: 0.4070 - accuracy: 0.8737 - val_loss: 0.8112 - val_accuracy: 0.7309\n",
      "Epoch 32/100\n",
      "210/210 [==============================] - 5s 23ms/step - loss: 0.4100 - accuracy: 0.8709 - val_loss: 0.7160 - val_accuracy: 0.7675\n",
      "Epoch 33/100\n",
      "210/210 [==============================] - 5s 24ms/step - loss: 0.3973 - accuracy: 0.8762 - val_loss: 0.6039 - val_accuracy: 0.8015\n",
      "Epoch 34/100\n",
      "210/210 [==============================] - 5s 24ms/step - loss: 0.3930 - accuracy: 0.8777 - val_loss: 0.5794 - val_accuracy: 0.8138\n",
      "Epoch 35/100\n",
      "210/210 [==============================] - 5s 24ms/step - loss: 0.4002 - accuracy: 0.8755 - val_loss: 0.8838 - val_accuracy: 0.7203\n",
      "Epoch 36/100\n",
      "210/210 [==============================] - 5s 24ms/step - loss: 0.3851 - accuracy: 0.8798 - val_loss: 0.6652 - val_accuracy: 0.7832\n",
      "Epoch 37/100\n",
      "210/210 [==============================] - 5s 24ms/step - loss: 0.3881 - accuracy: 0.8804 - val_loss: 0.7974 - val_accuracy: 0.7445\n",
      "Epoch 38/100\n",
      "210/210 [==============================] - 5s 24ms/step - loss: 0.3800 - accuracy: 0.8813 - val_loss: 0.6386 - val_accuracy: 0.7865\n",
      "Epoch 39/100\n",
      "210/210 [==============================] - 5s 23ms/step - loss: 0.3796 - accuracy: 0.8817 - val_loss: 0.6578 - val_accuracy: 0.7860\n",
      "Epoch 40/100\n",
      "210/210 [==============================] - 5s 24ms/step - loss: 0.3737 - accuracy: 0.8835 - val_loss: 0.6193 - val_accuracy: 0.7973\n",
      "Epoch 41/100\n",
      "210/210 [==============================] - 5s 23ms/step - loss: 0.3667 - accuracy: 0.8861 - val_loss: 0.6375 - val_accuracy: 0.7927\n",
      "Epoch 42/100\n",
      "210/210 [==============================] - 5s 23ms/step - loss: 0.3660 - accuracy: 0.8863 - val_loss: 0.9235 - val_accuracy: 0.7057\n",
      "Epoch 43/100\n",
      "210/210 [==============================] - 5s 23ms/step - loss: 0.3554 - accuracy: 0.8913 - val_loss: 0.6596 - val_accuracy: 0.7965\n",
      "Epoch 44/100\n",
      "210/210 [==============================] - 5s 23ms/step - loss: 0.3587 - accuracy: 0.8891 - val_loss: 0.7910 - val_accuracy: 0.7384\n",
      "Epoch 45/100\n",
      "210/210 [==============================] - 5s 22ms/step - loss: 0.3459 - accuracy: 0.8918 - val_loss: 0.5686 - val_accuracy: 0.8182\n",
      "Epoch 46/100\n",
      "210/210 [==============================] - 5s 23ms/step - loss: 0.3491 - accuracy: 0.8903 - val_loss: 0.8203 - val_accuracy: 0.7401\n",
      "Epoch 47/100\n",
      "210/210 [==============================] - 5s 23ms/step - loss: 0.3429 - accuracy: 0.8935 - val_loss: 0.5605 - val_accuracy: 0.8248\n",
      "Epoch 48/100\n",
      "210/210 [==============================] - 5s 23ms/step - loss: 0.3346 - accuracy: 0.8968 - val_loss: 0.6368 - val_accuracy: 0.7932\n",
      "Epoch 49/100\n",
      "210/210 [==============================] - 5s 22ms/step - loss: 0.3343 - accuracy: 0.8963 - val_loss: 0.5448 - val_accuracy: 0.8253\n",
      "Epoch 50/100\n",
      "210/210 [==============================] - 5s 23ms/step - loss: 0.3333 - accuracy: 0.8937 - val_loss: 0.7376 - val_accuracy: 0.7762\n",
      "Epoch 51/100\n",
      "210/210 [==============================] - 5s 24ms/step - loss: 0.3273 - accuracy: 0.8970 - val_loss: 0.4643 - val_accuracy: 0.8530\n",
      "Epoch 52/100\n",
      "210/210 [==============================] - 5s 23ms/step - loss: 0.3320 - accuracy: 0.8966 - val_loss: 0.9108 - val_accuracy: 0.7375\n",
      "Epoch 53/100\n",
      "210/210 [==============================] - 5s 23ms/step - loss: 0.3227 - accuracy: 0.8995 - val_loss: 0.7251 - val_accuracy: 0.7629\n",
      "Epoch 54/100\n",
      "210/210 [==============================] - 5s 23ms/step - loss: 0.3226 - accuracy: 0.8998 - val_loss: 0.6189 - val_accuracy: 0.8009\n",
      "Epoch 55/100\n",
      "210/210 [==============================] - 5s 24ms/step - loss: 0.3105 - accuracy: 0.9027 - val_loss: 0.7623 - val_accuracy: 0.7754\n",
      "Epoch 56/100\n",
      "210/210 [==============================] - 5s 24ms/step - loss: 0.3124 - accuracy: 0.9017 - val_loss: 0.7486 - val_accuracy: 0.7582\n",
      "Epoch 57/100\n"
     ]
    },
    {
     "name": "stdout",
     "output_type": "stream",
     "text": [
      "210/210 [==============================] - 5s 24ms/step - loss: 0.3101 - accuracy: 0.9035 - val_loss: 0.5700 - val_accuracy: 0.8181\n",
      "Epoch 58/100\n",
      "210/210 [==============================] - 5s 24ms/step - loss: 0.3025 - accuracy: 0.9045 - val_loss: 0.5382 - val_accuracy: 0.8262\n",
      "Epoch 59/100\n",
      "210/210 [==============================] - 5s 23ms/step - loss: 0.3054 - accuracy: 0.9052 - val_loss: 0.5402 - val_accuracy: 0.8224\n",
      "Epoch 60/100\n",
      "210/210 [==============================] - 5s 23ms/step - loss: 0.3112 - accuracy: 0.9020 - val_loss: 0.5785 - val_accuracy: 0.8150\n",
      "Epoch 61/100\n",
      "210/210 [==============================] - 5s 23ms/step - loss: 0.3027 - accuracy: 0.9040 - val_loss: 0.9793 - val_accuracy: 0.7038\n",
      "Epoch 62/100\n",
      "210/210 [==============================] - 5s 24ms/step - loss: 0.2976 - accuracy: 0.9061 - val_loss: 1.0140 - val_accuracy: 0.7130\n",
      "Epoch 63/100\n",
      "210/210 [==============================] - 5s 23ms/step - loss: 0.2957 - accuracy: 0.9080 - val_loss: 0.5561 - val_accuracy: 0.8195\n",
      "Epoch 64/100\n",
      "210/210 [==============================] - 5s 24ms/step - loss: 0.2871 - accuracy: 0.9101 - val_loss: 0.7409 - val_accuracy: 0.7876\n",
      "Epoch 65/100\n",
      "210/210 [==============================] - 5s 24ms/step - loss: 0.2918 - accuracy: 0.9082 - val_loss: 0.7126 - val_accuracy: 0.7775\n",
      "Epoch 66/100\n",
      "210/210 [==============================] - 5s 23ms/step - loss: 0.2875 - accuracy: 0.9088 - val_loss: 0.7211 - val_accuracy: 0.7687\n",
      "Epoch 67/100\n",
      "210/210 [==============================] - 5s 23ms/step - loss: 0.2866 - accuracy: 0.9105 - val_loss: 0.5412 - val_accuracy: 0.8276\n",
      "Epoch 68/100\n",
      "210/210 [==============================] - 5s 24ms/step - loss: 0.2842 - accuracy: 0.9111 - val_loss: 0.5748 - val_accuracy: 0.8126\n",
      "Epoch 69/100\n",
      "210/210 [==============================] - 5s 24ms/step - loss: 0.2802 - accuracy: 0.9128 - val_loss: 0.7203 - val_accuracy: 0.7674\n",
      "Epoch 70/100\n",
      "210/210 [==============================] - 5s 24ms/step - loss: 0.2844 - accuracy: 0.9100 - val_loss: 0.6744 - val_accuracy: 0.7833\n",
      "Epoch 71/100\n",
      "210/210 [==============================] - 5s 23ms/step - loss: 0.2746 - accuracy: 0.9126 - val_loss: 0.6937 - val_accuracy: 0.7825\n",
      "Epoch 72/100\n",
      "210/210 [==============================] - 5s 23ms/step - loss: 0.2778 - accuracy: 0.9127 - val_loss: 0.5613 - val_accuracy: 0.8202\n",
      "Epoch 73/100\n",
      "210/210 [==============================] - 5s 24ms/step - loss: 0.2665 - accuracy: 0.9164 - val_loss: 0.5622 - val_accuracy: 0.8221\n",
      "Epoch 74/100\n",
      "210/210 [==============================] - 5s 24ms/step - loss: 0.2670 - accuracy: 0.9170 - val_loss: 0.7204 - val_accuracy: 0.7720\n",
      "Epoch 75/100\n",
      "210/210 [==============================] - 5s 23ms/step - loss: 0.2693 - accuracy: 0.9157 - val_loss: 0.7487 - val_accuracy: 0.7699\n",
      "Epoch 76/100\n",
      "210/210 [==============================] - 5s 24ms/step - loss: 0.2620 - accuracy: 0.9179 - val_loss: 0.7040 - val_accuracy: 0.7706\n",
      "Epoch 77/100\n",
      "210/210 [==============================] - 5s 24ms/step - loss: 0.2655 - accuracy: 0.9172 - val_loss: 0.6831 - val_accuracy: 0.7964\n",
      "Epoch 78/100\n",
      "210/210 [==============================] - 5s 23ms/step - loss: 0.2575 - accuracy: 0.9179 - val_loss: 0.6383 - val_accuracy: 0.8018\n",
      "Epoch 79/100\n",
      "210/210 [==============================] - 5s 24ms/step - loss: 0.2619 - accuracy: 0.9178 - val_loss: 0.6995 - val_accuracy: 0.7885\n",
      "Epoch 80/100\n",
      "210/210 [==============================] - 5s 24ms/step - loss: 0.2588 - accuracy: 0.9194 - val_loss: 0.5663 - val_accuracy: 0.8285\n",
      "Epoch 81/100\n",
      "210/210 [==============================] - 5s 23ms/step - loss: 0.2561 - accuracy: 0.9182 - val_loss: 0.5199 - val_accuracy: 0.8352\n",
      "Epoch 82/100\n",
      "210/210 [==============================] - 5s 23ms/step - loss: 0.2481 - accuracy: 0.9214 - val_loss: 0.4960 - val_accuracy: 0.8430\n",
      "Epoch 83/100\n",
      "210/210 [==============================] - 5s 24ms/step - loss: 0.2484 - accuracy: 0.9219 - val_loss: 0.5349 - val_accuracy: 0.8313\n",
      "Epoch 84/100\n",
      "210/210 [==============================] - 5s 23ms/step - loss: 0.2503 - accuracy: 0.9208 - val_loss: 0.5544 - val_accuracy: 0.8260\n",
      "Epoch 85/100\n",
      "210/210 [==============================] - 5s 24ms/step - loss: 0.2474 - accuracy: 0.9227 - val_loss: 0.7123 - val_accuracy: 0.7861\n",
      "Epoch 86/100\n",
      "210/210 [==============================] - 5s 24ms/step - loss: 0.2413 - accuracy: 0.9246 - val_loss: 0.6676 - val_accuracy: 0.7945\n",
      "Epoch 87/100\n",
      "210/210 [==============================] - 5s 24ms/step - loss: 0.2450 - accuracy: 0.9221 - val_loss: 0.5873 - val_accuracy: 0.8180\n",
      "Epoch 88/100\n",
      "210/210 [==============================] - 5s 24ms/step - loss: 0.2472 - accuracy: 0.9227 - val_loss: 0.5419 - val_accuracy: 0.8214\n",
      "Epoch 89/100\n",
      "210/210 [==============================] - 5s 24ms/step - loss: 0.2468 - accuracy: 0.9220 - val_loss: 0.5228 - val_accuracy: 0.8292\n",
      "Epoch 90/100\n",
      "210/210 [==============================] - 5s 24ms/step - loss: 0.2327 - accuracy: 0.9257 - val_loss: 0.6886 - val_accuracy: 0.7922\n",
      "Epoch 91/100\n",
      "210/210 [==============================] - 5s 23ms/step - loss: 0.2349 - accuracy: 0.9260 - val_loss: 0.5754 - val_accuracy: 0.8213\n",
      "Epoch 92/100\n",
      "210/210 [==============================] - 5s 23ms/step - loss: 0.2326 - accuracy: 0.9273 - val_loss: 0.4357 - val_accuracy: 0.8640\n",
      "Epoch 93/100\n",
      "210/210 [==============================] - 5s 23ms/step - loss: 0.2294 - accuracy: 0.9275 - val_loss: 0.6028 - val_accuracy: 0.8189\n",
      "Epoch 94/100\n",
      "210/210 [==============================] - 5s 23ms/step - loss: 0.2346 - accuracy: 0.9261 - val_loss: 0.4912 - val_accuracy: 0.8485\n",
      "Epoch 95/100\n",
      "210/210 [==============================] - 5s 23ms/step - loss: 0.2323 - accuracy: 0.9281 - val_loss: 0.6137 - val_accuracy: 0.8160\n",
      "Epoch 96/100\n",
      "210/210 [==============================] - 5s 23ms/step - loss: 0.2276 - accuracy: 0.9264 - val_loss: 0.4808 - val_accuracy: 0.8482\n",
      "Epoch 97/100\n",
      "210/210 [==============================] - 5s 23ms/step - loss: 0.2245 - accuracy: 0.9295 - val_loss: 0.5090 - val_accuracy: 0.8389\n",
      "Epoch 98/100\n",
      "210/210 [==============================] - 5s 24ms/step - loss: 0.2259 - accuracy: 0.9274 - val_loss: 0.5159 - val_accuracy: 0.8364\n",
      "Epoch 99/100\n",
      "210/210 [==============================] - 5s 23ms/step - loss: 0.2232 - accuracy: 0.9307 - val_loss: 0.6017 - val_accuracy: 0.8154\n",
      "Epoch 100/100\n",
      "210/210 [==============================] - 5s 23ms/step - loss: 0.2216 - accuracy: 0.9306 - val_loss: 0.5311 - val_accuracy: 0.8332\n"
     ]
    }
   ],
   "source": [
    "# compiling the neural network classifier, adam optimizer\n",
    "adam = optimizers.Adam(lr = 0.001)\n",
    "model6.compile(optimizer = adam, loss = 'categorical_crossentropy', metrics = ['accuracy'])\n",
    "\n",
    "# Adding activation function - softmax for multiclass classification\n",
    "history = model6.fit(X_train, y_train, validation_data = (X_val, y_val), batch_size = 200, epochs = 100, verbose = 1)"
   ]
  },
  {
   "cell_type": "code",
   "execution_count": 67,
   "metadata": {
    "colab": {
     "base_uri": "https://localhost:8080/",
     "height": 88
    },
    "colab_type": "code",
    "id": "f-n63MmSN9DQ",
    "outputId": "70ff10de-e9d7-4482-b8c5-905e6d835e62"
   },
   "outputs": [
    {
     "name": "stdout",
     "output_type": "stream",
     "text": [
      "NN model with dropout - adam optimizer\n",
      "--------------------------------------------------------------------------------\n",
      "1875/1875 [==============================] - 15s 8ms/step - loss: 0.5311 - accuracy: 0.8332\n",
      "Validation accuracy: 83.32\n"
     ]
    }
   ],
   "source": [
    "print('NN model with dropout - adam optimizer'); print('--'*40)\n",
    "results6 = model6.evaluate(X_val, y_val)\n",
    "print('Validation accuracy: {}'.format(round(results6[1]*100, 2), '%'))"
   ]
  },
  {
   "cell_type": "markdown",
   "metadata": {
    "colab_type": "text",
    "id": "YEbd6Ynm6wmp"
   },
   "source": [
    "<a id='o8'></a>\n",
    "##### Observation 8 - Batch Normalization and Dropout\n",
    "* Didn't result in any improvement of score.\n",
    "* NN model, relu activations, SGD optimizers with weight initializers and batch normalization is still the best model.\n",
    "* Next, let's try batch normalization and dropout with adam optimizer."
   ]
  },
  {
   "cell_type": "markdown",
   "metadata": {
    "colab_type": "text",
    "id": "H-x-REsa00x7"
   },
   "source": [
    "<a id='Prediction'></a>\n",
    "### Prediction on test dataset using Model 3 - relu activations, Adam optimizers"
   ]
  },
  {
   "cell_type": "code",
   "execution_count": 68,
   "metadata": {
    "colab": {
     "base_uri": "https://localhost:8080/",
     "height": 52
    },
    "colab_type": "code",
    "id": "E3V_MkU-018D",
    "outputId": "3ccf507a-70e3-4d2c-d4b9-d55d887ef826"
   },
   "outputs": [
    {
     "name": "stdout",
     "output_type": "stream",
     "text": [
      "NN model with relu activations and changing number of activators\n",
      "--------------------------------------------------------------------------------\n"
     ]
    }
   ],
   "source": [
    "print('NN model with relu activations and changing number of activators'); print('--'*40)\n",
    "# Initialize the neural network classifier\n",
    "model3 = Sequential()\n",
    "\n",
    "# Input Layer - adding input layer and activation functions relu\n",
    "model3.add(Dense(256, input_shape = (1024, )))\n",
    "# Adding activation function\n",
    "model3.add(Activation('relu'))\n",
    "\n",
    "#Hidden Layer 1 - adding first hidden layer\n",
    "model3.add(Dense(128))\n",
    "# Adding activation function\n",
    "model3.add(Activation('relu'))\n",
    "\n",
    "#Hidden Layer 2 - Adding second hidden layer\n",
    "model3.add(Dense(64))\n",
    "# Adding activation function\n",
    "model3.add(Activation('relu'))\n",
    "\n",
    "# Output Layer - adding output layer which is of 10 nodes (digits)\n",
    "model3.add(Dense(10))\n",
    "# Adding activation function - softmax for multiclass classification\n",
    "model3.add(Activation('softmax'))"
   ]
  },
  {
   "cell_type": "code",
   "execution_count": 69,
   "metadata": {
    "colab": {
     "base_uri": "https://localhost:8080/",
     "height": 1000
    },
    "colab_type": "code",
    "id": "dFUqzgvDL0Gf",
    "outputId": "67f86db0-42f7-4cef-c552-fcc3b20b3287"
   },
   "outputs": [
    {
     "name": "stderr",
     "output_type": "stream",
     "text": [
      "WARNING:absl:At this time, the v2.11+ optimizer `tf.keras.optimizers.Adam` runs slowly on M1/M2 Macs, please use the legacy Keras optimizer instead, located at `tf.keras.optimizers.legacy.Adam`.\n",
      "WARNING:absl:`lr` is deprecated in Keras optimizer, please use `learning_rate` or use the legacy optimizer, e.g.,tf.keras.optimizers.legacy.Adam.\n",
      "WARNING:absl:There is a known slowdown when using v2.11+ Keras optimizers on M1/M2 Macs. Falling back to the legacy Keras optimizer, i.e., `tf.keras.optimizers.legacy.Adam`.\n"
     ]
    },
    {
     "name": "stdout",
     "output_type": "stream",
     "text": [
      "Epoch 1/100\n",
      "210/210 [==============================] - 5s 23ms/step - loss: 2.2894 - accuracy: 0.1247 - val_loss: 2.1682 - val_accuracy: 0.2188\n",
      "Epoch 2/100\n",
      "210/210 [==============================] - 4s 17ms/step - loss: 1.8270 - accuracy: 0.3570 - val_loss: 1.4833 - val_accuracy: 0.5075\n",
      "Epoch 3/100\n",
      "210/210 [==============================] - 4s 17ms/step - loss: 1.3614 - accuracy: 0.5481 - val_loss: 1.2582 - val_accuracy: 0.5922\n",
      "Epoch 4/100\n",
      "210/210 [==============================] - 3s 17ms/step - loss: 1.2098 - accuracy: 0.6125 - val_loss: 1.1265 - val_accuracy: 0.6502\n",
      "Epoch 5/100\n",
      "210/210 [==============================] - 3s 17ms/step - loss: 1.1104 - accuracy: 0.6505 - val_loss: 1.0536 - val_accuracy: 0.6726\n",
      "Epoch 6/100\n",
      "210/210 [==============================] - 4s 17ms/step - loss: 1.0334 - accuracy: 0.6784 - val_loss: 0.9934 - val_accuracy: 0.6920\n",
      "Epoch 7/100\n",
      "210/210 [==============================] - 4s 17ms/step - loss: 0.9778 - accuracy: 0.6987 - val_loss: 0.9292 - val_accuracy: 0.7168\n",
      "Epoch 8/100\n",
      "210/210 [==============================] - 4s 17ms/step - loss: 0.9323 - accuracy: 0.7120 - val_loss: 0.9083 - val_accuracy: 0.7170\n",
      "Epoch 9/100\n",
      "210/210 [==============================] - 3s 16ms/step - loss: 0.8841 - accuracy: 0.7271 - val_loss: 0.8945 - val_accuracy: 0.7179\n",
      "Epoch 10/100\n",
      "210/210 [==============================] - 4s 18ms/step - loss: 0.8405 - accuracy: 0.7420 - val_loss: 0.8743 - val_accuracy: 0.7296\n",
      "Epoch 11/100\n",
      "210/210 [==============================] - 4s 17ms/step - loss: 0.8254 - accuracy: 0.7474 - val_loss: 0.7963 - val_accuracy: 0.7572\n",
      "Epoch 12/100\n",
      "210/210 [==============================] - 4s 17ms/step - loss: 0.7962 - accuracy: 0.7550 - val_loss: 0.7985 - val_accuracy: 0.7553\n",
      "Epoch 13/100\n",
      "210/210 [==============================] - 3s 17ms/step - loss: 0.7799 - accuracy: 0.7600 - val_loss: 0.8200 - val_accuracy: 0.7492\n",
      "Epoch 14/100\n",
      "210/210 [==============================] - 3s 17ms/step - loss: 0.7696 - accuracy: 0.7633 - val_loss: 0.7734 - val_accuracy: 0.7644\n",
      "Epoch 15/100\n",
      "210/210 [==============================] - 3s 16ms/step - loss: 0.7420 - accuracy: 0.7726 - val_loss: 0.7550 - val_accuracy: 0.7705\n",
      "Epoch 16/100\n",
      "210/210 [==============================] - 3s 17ms/step - loss: 0.7257 - accuracy: 0.7762 - val_loss: 0.7726 - val_accuracy: 0.7605\n",
      "Epoch 17/100\n",
      "210/210 [==============================] - 4s 17ms/step - loss: 0.7145 - accuracy: 0.7810 - val_loss: 0.7009 - val_accuracy: 0.7877\n",
      "Epoch 18/100\n",
      "210/210 [==============================] - 3s 16ms/step - loss: 0.6897 - accuracy: 0.7903 - val_loss: 0.7210 - val_accuracy: 0.7813\n",
      "Epoch 19/100\n",
      "210/210 [==============================] - 4s 17ms/step - loss: 0.6945 - accuracy: 0.7871 - val_loss: 0.6812 - val_accuracy: 0.7930\n",
      "Epoch 20/100\n",
      "210/210 [==============================] - 4s 18ms/step - loss: 0.6697 - accuracy: 0.7946 - val_loss: 0.7139 - val_accuracy: 0.7801\n",
      "Epoch 21/100\n",
      "210/210 [==============================] - 4s 17ms/step - loss: 0.6656 - accuracy: 0.7972 - val_loss: 0.6973 - val_accuracy: 0.7864\n",
      "Epoch 22/100\n",
      "210/210 [==============================] - 3s 17ms/step - loss: 0.6451 - accuracy: 0.8027 - val_loss: 0.6904 - val_accuracy: 0.7903\n",
      "Epoch 23/100\n",
      "210/210 [==============================] - 4s 17ms/step - loss: 0.6339 - accuracy: 0.8056 - val_loss: 0.6305 - val_accuracy: 0.8092\n",
      "Epoch 24/100\n",
      "210/210 [==============================] - 4s 17ms/step - loss: 0.6405 - accuracy: 0.8037 - val_loss: 0.6617 - val_accuracy: 0.7969\n",
      "Epoch 25/100\n",
      "210/210 [==============================] - 4s 17ms/step - loss: 0.6257 - accuracy: 0.8087 - val_loss: 0.6397 - val_accuracy: 0.8056\n",
      "Epoch 26/100\n",
      "210/210 [==============================] - 4s 18ms/step - loss: 0.6151 - accuracy: 0.8119 - val_loss: 0.6384 - val_accuracy: 0.8070\n",
      "Epoch 27/100\n",
      "210/210 [==============================] - 4s 17ms/step - loss: 0.5975 - accuracy: 0.8149 - val_loss: 0.6415 - val_accuracy: 0.8023\n",
      "Epoch 28/100\n",
      "210/210 [==============================] - 4s 17ms/step - loss: 0.5907 - accuracy: 0.8192 - val_loss: 0.6098 - val_accuracy: 0.8151\n",
      "Epoch 29/100\n",
      "210/210 [==============================] - 4s 17ms/step - loss: 0.5799 - accuracy: 0.8238 - val_loss: 0.5801 - val_accuracy: 0.8244\n",
      "Epoch 30/100\n",
      "210/210 [==============================] - 4s 18ms/step - loss: 0.5704 - accuracy: 0.8257 - val_loss: 0.5963 - val_accuracy: 0.8205\n",
      "Epoch 31/100\n",
      "210/210 [==============================] - 4s 17ms/step - loss: 0.5779 - accuracy: 0.8219 - val_loss: 0.5697 - val_accuracy: 0.8284\n",
      "Epoch 32/100\n",
      "210/210 [==============================] - 4s 19ms/step - loss: 0.5625 - accuracy: 0.8271 - val_loss: 0.5661 - val_accuracy: 0.8289\n",
      "Epoch 33/100\n",
      "210/210 [==============================] - 4s 17ms/step - loss: 0.5554 - accuracy: 0.8287 - val_loss: 0.5913 - val_accuracy: 0.8201\n",
      "Epoch 34/100\n",
      "210/210 [==============================] - 3s 16ms/step - loss: 0.5490 - accuracy: 0.8290 - val_loss: 0.5705 - val_accuracy: 0.8255\n",
      "Epoch 35/100\n",
      "210/210 [==============================] - 3s 16ms/step - loss: 0.5397 - accuracy: 0.8343 - val_loss: 0.5723 - val_accuracy: 0.8263\n",
      "Epoch 36/100\n",
      "210/210 [==============================] - 3s 17ms/step - loss: 0.5296 - accuracy: 0.8369 - val_loss: 0.5454 - val_accuracy: 0.8358\n",
      "Epoch 37/100\n",
      "210/210 [==============================] - 4s 17ms/step - loss: 0.5314 - accuracy: 0.8346 - val_loss: 0.6052 - val_accuracy: 0.8126\n",
      "Epoch 38/100\n",
      "210/210 [==============================] - 4s 18ms/step - loss: 0.5275 - accuracy: 0.8365 - val_loss: 0.5688 - val_accuracy: 0.8272\n",
      "Epoch 39/100\n",
      "210/210 [==============================] - 4s 18ms/step - loss: 0.5119 - accuracy: 0.8411 - val_loss: 0.5714 - val_accuracy: 0.8244\n",
      "Epoch 40/100\n",
      "210/210 [==============================] - 4s 18ms/step - loss: 0.5130 - accuracy: 0.8428 - val_loss: 0.5399 - val_accuracy: 0.8375\n",
      "Epoch 41/100\n",
      "210/210 [==============================] - 3s 16ms/step - loss: 0.5111 - accuracy: 0.8415 - val_loss: 0.5350 - val_accuracy: 0.8388\n",
      "Epoch 42/100\n",
      "210/210 [==============================] - 3s 16ms/step - loss: 0.5026 - accuracy: 0.8434 - val_loss: 0.5526 - val_accuracy: 0.8326\n",
      "Epoch 43/100\n",
      "210/210 [==============================] - 4s 18ms/step - loss: 0.4950 - accuracy: 0.8469 - val_loss: 0.5485 - val_accuracy: 0.8336\n",
      "Epoch 44/100\n",
      "210/210 [==============================] - 4s 18ms/step - loss: 0.4941 - accuracy: 0.8471 - val_loss: 0.5061 - val_accuracy: 0.8474\n",
      "Epoch 45/100\n",
      "210/210 [==============================] - 4s 18ms/step - loss: 0.4910 - accuracy: 0.8470 - val_loss: 0.5182 - val_accuracy: 0.8423\n",
      "Epoch 46/100\n",
      "210/210 [==============================] - 4s 18ms/step - loss: 0.4821 - accuracy: 0.8495 - val_loss: 0.5292 - val_accuracy: 0.8403\n",
      "Epoch 47/100\n",
      "210/210 [==============================] - 4s 18ms/step - loss: 0.4796 - accuracy: 0.8502 - val_loss: 0.4912 - val_accuracy: 0.8521\n",
      "Epoch 48/100\n",
      "210/210 [==============================] - 4s 17ms/step - loss: 0.4740 - accuracy: 0.8513 - val_loss: 0.5043 - val_accuracy: 0.8490\n",
      "Epoch 49/100\n",
      "210/210 [==============================] - 4s 17ms/step - loss: 0.4760 - accuracy: 0.8526 - val_loss: 0.5285 - val_accuracy: 0.8416\n",
      "Epoch 50/100\n",
      "210/210 [==============================] - 4s 18ms/step - loss: 0.4701 - accuracy: 0.8529 - val_loss: 0.5063 - val_accuracy: 0.8470\n",
      "Epoch 51/100\n",
      "210/210 [==============================] - 4s 17ms/step - loss: 0.4593 - accuracy: 0.8566 - val_loss: 0.4948 - val_accuracy: 0.8509\n",
      "Epoch 52/100\n",
      "210/210 [==============================] - 4s 18ms/step - loss: 0.4582 - accuracy: 0.8563 - val_loss: 0.5240 - val_accuracy: 0.8448\n",
      "Epoch 53/100\n",
      "210/210 [==============================] - 3s 16ms/step - loss: 0.4607 - accuracy: 0.8558 - val_loss: 0.5172 - val_accuracy: 0.8432\n",
      "Epoch 54/100\n",
      "210/210 [==============================] - 4s 17ms/step - loss: 0.4530 - accuracy: 0.8571 - val_loss: 0.4719 - val_accuracy: 0.8587\n",
      "Epoch 55/100\n",
      "210/210 [==============================] - 3s 16ms/step - loss: 0.4441 - accuracy: 0.8619 - val_loss: 0.5001 - val_accuracy: 0.8496\n",
      "Epoch 56/100\n",
      "210/210 [==============================] - 3s 17ms/step - loss: 0.4465 - accuracy: 0.8600 - val_loss: 0.4736 - val_accuracy: 0.8574\n",
      "Epoch 57/100\n"
     ]
    },
    {
     "name": "stdout",
     "output_type": "stream",
     "text": [
      "210/210 [==============================] - 4s 17ms/step - loss: 0.4363 - accuracy: 0.8634 - val_loss: 0.4869 - val_accuracy: 0.8534\n",
      "Epoch 58/100\n",
      "210/210 [==============================] - 4s 18ms/step - loss: 0.4378 - accuracy: 0.8622 - val_loss: 0.5144 - val_accuracy: 0.8449\n",
      "Epoch 59/100\n",
      "210/210 [==============================] - 4s 17ms/step - loss: 0.4303 - accuracy: 0.8647 - val_loss: 0.4518 - val_accuracy: 0.8665\n",
      "Epoch 60/100\n",
      "210/210 [==============================] - 4s 17ms/step - loss: 0.4328 - accuracy: 0.8637 - val_loss: 0.4966 - val_accuracy: 0.8496\n",
      "Epoch 61/100\n",
      "210/210 [==============================] - 3s 16ms/step - loss: 0.4242 - accuracy: 0.8665 - val_loss: 0.4594 - val_accuracy: 0.8639\n",
      "Epoch 62/100\n",
      "210/210 [==============================] - 4s 17ms/step - loss: 0.4228 - accuracy: 0.8655 - val_loss: 0.4588 - val_accuracy: 0.8625\n",
      "Epoch 63/100\n",
      "210/210 [==============================] - 4s 18ms/step - loss: 0.4213 - accuracy: 0.8671 - val_loss: 0.4915 - val_accuracy: 0.8535\n",
      "Epoch 64/100\n",
      "210/210 [==============================] - 4s 17ms/step - loss: 0.4135 - accuracy: 0.8692 - val_loss: 0.4617 - val_accuracy: 0.8629\n",
      "Epoch 65/100\n",
      "210/210 [==============================] - 4s 17ms/step - loss: 0.4117 - accuracy: 0.8697 - val_loss: 0.4777 - val_accuracy: 0.8550\n",
      "Epoch 66/100\n",
      "210/210 [==============================] - 3s 16ms/step - loss: 0.4155 - accuracy: 0.8695 - val_loss: 0.4512 - val_accuracy: 0.8645\n",
      "Epoch 67/100\n",
      "210/210 [==============================] - 4s 17ms/step - loss: 0.4075 - accuracy: 0.8698 - val_loss: 0.4520 - val_accuracy: 0.8664\n",
      "Epoch 68/100\n",
      "210/210 [==============================] - 3s 17ms/step - loss: 0.4011 - accuracy: 0.8727 - val_loss: 0.4667 - val_accuracy: 0.8595\n",
      "Epoch 69/100\n",
      "210/210 [==============================] - 4s 18ms/step - loss: 0.3992 - accuracy: 0.8743 - val_loss: 0.4503 - val_accuracy: 0.8655\n",
      "Epoch 70/100\n",
      "210/210 [==============================] - 4s 18ms/step - loss: 0.3979 - accuracy: 0.8742 - val_loss: 0.4495 - val_accuracy: 0.8662\n",
      "Epoch 71/100\n",
      "210/210 [==============================] - 4s 17ms/step - loss: 0.3972 - accuracy: 0.8756 - val_loss: 0.4630 - val_accuracy: 0.8605\n",
      "Epoch 72/100\n",
      "210/210 [==============================] - 4s 17ms/step - loss: 0.3905 - accuracy: 0.8764 - val_loss: 0.4787 - val_accuracy: 0.8576\n",
      "Epoch 73/100\n",
      "210/210 [==============================] - 4s 18ms/step - loss: 0.3961 - accuracy: 0.8738 - val_loss: 0.4675 - val_accuracy: 0.8609\n",
      "Epoch 74/100\n",
      "210/210 [==============================] - 4s 17ms/step - loss: 0.3775 - accuracy: 0.8813 - val_loss: 0.4801 - val_accuracy: 0.8557\n",
      "Epoch 75/100\n",
      "210/210 [==============================] - 4s 18ms/step - loss: 0.3905 - accuracy: 0.8756 - val_loss: 0.4329 - val_accuracy: 0.8700\n",
      "Epoch 76/100\n",
      "210/210 [==============================] - 4s 18ms/step - loss: 0.3826 - accuracy: 0.8792 - val_loss: 0.4448 - val_accuracy: 0.8672\n",
      "Epoch 77/100\n",
      "210/210 [==============================] - 4s 17ms/step - loss: 0.3844 - accuracy: 0.8774 - val_loss: 0.4882 - val_accuracy: 0.8541\n",
      "Epoch 78/100\n",
      "210/210 [==============================] - 3s 16ms/step - loss: 0.3698 - accuracy: 0.8838 - val_loss: 0.4250 - val_accuracy: 0.8742\n",
      "Epoch 79/100\n",
      "210/210 [==============================] - 4s 18ms/step - loss: 0.3777 - accuracy: 0.8804 - val_loss: 0.4221 - val_accuracy: 0.8748\n",
      "Epoch 80/100\n",
      "210/210 [==============================] - 4s 18ms/step - loss: 0.3719 - accuracy: 0.8817 - val_loss: 0.4819 - val_accuracy: 0.8556\n",
      "Epoch 81/100\n",
      "210/210 [==============================] - 4s 18ms/step - loss: 0.3649 - accuracy: 0.8826 - val_loss: 0.4417 - val_accuracy: 0.8700\n",
      "Epoch 82/100\n",
      "210/210 [==============================] - 4s 17ms/step - loss: 0.3826 - accuracy: 0.8790 - val_loss: 0.4356 - val_accuracy: 0.8706\n",
      "Epoch 83/100\n",
      "210/210 [==============================] - 4s 17ms/step - loss: 0.3676 - accuracy: 0.8826 - val_loss: 0.4679 - val_accuracy: 0.8594\n",
      "Epoch 84/100\n",
      "210/210 [==============================] - 4s 17ms/step - loss: 0.3605 - accuracy: 0.8857 - val_loss: 0.4785 - val_accuracy: 0.8576\n",
      "Epoch 85/100\n",
      "210/210 [==============================] - 4s 17ms/step - loss: 0.3646 - accuracy: 0.8826 - val_loss: 0.4361 - val_accuracy: 0.8709\n",
      "Epoch 86/100\n",
      "210/210 [==============================] - 4s 18ms/step - loss: 0.3531 - accuracy: 0.8876 - val_loss: 0.4261 - val_accuracy: 0.8747\n",
      "Epoch 87/100\n",
      "210/210 [==============================] - 4s 17ms/step - loss: 0.3559 - accuracy: 0.8872 - val_loss: 0.4242 - val_accuracy: 0.8753\n",
      "Epoch 88/100\n",
      "210/210 [==============================] - 3s 17ms/step - loss: 0.3525 - accuracy: 0.8873 - val_loss: 0.4352 - val_accuracy: 0.8724\n",
      "Epoch 89/100\n",
      "210/210 [==============================] - 4s 17ms/step - loss: 0.3548 - accuracy: 0.8873 - val_loss: 0.4129 - val_accuracy: 0.8805\n",
      "Epoch 90/100\n",
      "210/210 [==============================] - 4s 18ms/step - loss: 0.3431 - accuracy: 0.8906 - val_loss: 0.4623 - val_accuracy: 0.8616\n",
      "Epoch 91/100\n",
      "210/210 [==============================] - 4s 18ms/step - loss: 0.3504 - accuracy: 0.8885 - val_loss: 0.4212 - val_accuracy: 0.8778\n",
      "Epoch 92/100\n",
      "210/210 [==============================] - 4s 18ms/step - loss: 0.3480 - accuracy: 0.8887 - val_loss: 0.4109 - val_accuracy: 0.8789\n",
      "Epoch 93/100\n",
      "210/210 [==============================] - 4s 18ms/step - loss: 0.3429 - accuracy: 0.8903 - val_loss: 0.4320 - val_accuracy: 0.8731\n",
      "Epoch 94/100\n",
      "210/210 [==============================] - 4s 17ms/step - loss: 0.3396 - accuracy: 0.8926 - val_loss: 0.4259 - val_accuracy: 0.8745\n",
      "Epoch 95/100\n",
      "210/210 [==============================] - 4s 17ms/step - loss: 0.3398 - accuracy: 0.8917 - val_loss: 0.4310 - val_accuracy: 0.8730\n",
      "Epoch 96/100\n",
      "210/210 [==============================] - 4s 17ms/step - loss: 0.3383 - accuracy: 0.8926 - val_loss: 0.4276 - val_accuracy: 0.8746\n",
      "Epoch 97/100\n",
      "210/210 [==============================] - 4s 17ms/step - loss: 0.3441 - accuracy: 0.8913 - val_loss: 0.4061 - val_accuracy: 0.8813\n",
      "Epoch 98/100\n",
      "210/210 [==============================] - 4s 17ms/step - loss: 0.3411 - accuracy: 0.8915 - val_loss: 0.4377 - val_accuracy: 0.8719\n",
      "Epoch 99/100\n",
      "210/210 [==============================] - 4s 18ms/step - loss: 0.3469 - accuracy: 0.8889 - val_loss: 0.4440 - val_accuracy: 0.8684\n",
      "Epoch 100/100\n",
      "210/210 [==============================] - 4s 17ms/step - loss: 0.3298 - accuracy: 0.8950 - val_loss: 0.4039 - val_accuracy: 0.8832\n"
     ]
    }
   ],
   "source": [
    "# compiling the neural network classifier, adam optimizer\n",
    "adam = optimizers.Adam(lr = 0.001)\n",
    "model3.compile(optimizer = adam, loss = 'categorical_crossentropy', metrics = ['accuracy'])\n",
    "\n",
    "# Fitting the neural network for training\n",
    "history = model3.fit(X_train, y_train, validation_data = (X_val, y_val), batch_size = 200, epochs = 100, verbose = 1)"
   ]
  },
  {
   "cell_type": "code",
   "execution_count": 70,
   "metadata": {
    "colab": {
     "base_uri": "https://localhost:8080/",
     "height": 88
    },
    "colab_type": "code",
    "id": "2ao6j_Dl1I9j",
    "outputId": "2197768b-98ca-41a3-f096-158282390297"
   },
   "outputs": [
    {
     "name": "stdout",
     "output_type": "stream",
     "text": [
      "NN with batch normalization\n",
      "--------------------------------------------------------------------------------\n",
      "1875/1875 [==============================] - 14s 7ms/step - loss: 0.4039 - accuracy: 0.8832\n",
      "Validation accuracy: 88.32\n"
     ]
    }
   ],
   "source": [
    "print('NN with batch normalization'); print('--'*40)\n",
    "results3 = model3.evaluate(X_val, y_val)\n",
    "print('Validation accuracy: {}'.format(round(results3[1]*100, 2), '%'))"
   ]
  },
  {
   "cell_type": "code",
   "execution_count": 83,
   "metadata": {
    "colab": {
     "base_uri": "https://localhost:8080/",
     "height": 88
    },
    "colab_type": "code",
    "id": "2VfnxZqX1Mnm",
    "outputId": "f0a94d2e-950b-45ee-d164-5e7d93fc45a6"
   },
   "outputs": [
    {
     "name": "stdout",
     "output_type": "stream",
     "text": [
      "Testing the model on test dataset\n",
      "563/563 [==============================] - 1s 1ms/step\n",
      "563/563 [==============================] - 4s 8ms/step - loss: 0.6473 - accuracy: 0.8348\n",
      "Test loss : 0.6472819447517395\n",
      "Test accuracy : 0.8348333239555359\n",
      "Classification Report\n",
      "--------------------------------------------------------------------------------\n",
      "              precision    recall  f1-score   support\n",
      "\n",
      "           0       0.86      0.86      0.86      1814\n",
      "           1       0.79      0.88      0.84      1828\n",
      "           2       0.87      0.82      0.85      1803\n",
      "           3       0.83      0.78      0.81      1719\n",
      "           4       0.84      0.89      0.86      1812\n",
      "           5       0.83      0.82      0.83      1768\n",
      "           6       0.85      0.79      0.82      1832\n",
      "           7       0.89      0.85      0.87      1808\n",
      "           8       0.74      0.84      0.79      1812\n",
      "           9       0.85      0.81      0.83      1804\n",
      "\n",
      "    accuracy                           0.83     18000\n",
      "   macro avg       0.84      0.83      0.83     18000\n",
      "weighted avg       0.84      0.83      0.84     18000\n",
      "\n"
     ]
    }
   ],
   "source": [
    "from keras.utils import to_categorical\n",
    "\n",
    "\n",
    "# Ensure y_test_o is one-hot encoded\n",
    "if y_test_o.ndim == 1 or y_test_o.shape[1] == 1:\n",
    "    y_test_o = to_categorical(y_test_o, num_classes=10)\n",
    "\n",
    "print('Testing the model on test dataset')\n",
    "\n",
    "# Predict the probabilities\n",
    "predictions = model3.predict(X_test)\n",
    "predicted_classes = np.argmax(predictions, axis=1)\n",
    "\n",
    "# Convert y_test_o to class labels for classification report\n",
    "true_classes = np.argmax(y_test_o, axis=1)\n",
    "\n",
    "# Evaluate the model on the test dataset\n",
    "score = model3.evaluate(X_test, y_test_o)\n",
    "print('Test loss :', score[0])\n",
    "print('Test accuracy :', score[1])\n",
    "\n",
    "print('Classification Report')\n",
    "print('--' * 40)\n",
    "print(classification_report(true_classes, predicted_classes))"
   ]
  },
  {
   "cell_type": "code",
   "execution_count": 85,
   "metadata": {
    "colab": {
     "base_uri": "https://localhost:8080/",
     "height": 472
    },
    "colab_type": "code",
    "id": "rTLDrm8u3KR0",
    "outputId": "feec8cdb-8b61-4280-f286-c5cfd29f4b68"
   },
   "outputs": [
    {
     "name": "stdout",
     "output_type": "stream",
     "text": [
      "Visualizing the confusion matrix\n"
     ]
    },
    {
     "data": {
      "image/png": "[encoded data removed]",
      "text/plain": [
       "<Figure size 1500x720 with 2 Axes>"
      ]
     },
     "metadata": {},
     "output_type": "display_data"
    }
   ],
   "source": [
    "true_classes = np.argmax(y_test_o, axis=1)\n",
    "predicted_classes = np.argmax(predictions, axis=1)\n",
    "\n",
    "print('Visualizing the confusion matrix')\n",
    "plt.figure(figsize=(15, 7.2))\n",
    "cm = confusion_matrix(true_classes, predicted_classes)\n",
    "sns.heatmap(cm, annot=True, fmt='d', cmap='Blues', xticklabels=range(10), yticklabels=range(10))\n",
    "plt.xlabel('Predicted')\n",
    "plt.ylabel('True')\n",
    "plt.title('Confusion Matrix')\n",
    "plt.show()"
   ]
  },
  {
   "cell_type": "code",
   "execution_count": 87,
   "metadata": {
    "colab": {
     "base_uri": "https://localhost:8080/",
     "height": 575
    },
    "colab_type": "code",
    "id": "91DnbyzFQCVg",
    "outputId": "82c28e5f-8009-4655-a542-d567a4c0d2d7"
   },
   "outputs": [
    {
     "data": {
      "image/png": "[encoded data removed]",
      "text/plain": [
       "<Figure size 640x480 with 1 Axes>"
      ]
     },
     "metadata": {},
     "output_type": "display_data"
    },
    {
     "data": {
      "image/png": "[encoded data removed]",
      "text/plain": [
       "<Figure size 640x480 with 1 Axes>"
      ]
     },
     "metadata": {},
     "output_type": "display_data"
    }
   ],
   "source": [
    "import matplotlib.pyplot as plt\n",
    "\n",
    "# summarize history for accuracy\n",
    "plt.plot(history.history['accuracy'])\n",
    "plt.plot(history.history['val_accuracy'])\n",
    "plt.title('Model3 Accuracy')\n",
    "plt.ylabel('accuracy')\n",
    "plt.xlabel('epoch')\n",
    "plt.legend(['Train', 'Validation'], loc='upper left')\n",
    "plt.show()\n",
    "\n",
    "# summarize history for loss\n",
    "plt.plot(history.history['loss'])\n",
    "plt.plot(history.history['val_loss'])\n",
    "plt.title('Model3 Loss')\n",
    "plt.ylabel('loss')\n",
    "plt.xlabel('epoch')\n",
    "plt.legend(['Train', 'Validation'], loc='upper left')\n",
    "plt.show()"
   ]
  },
  {
   "cell_type": "code",
   "execution_count": 89,
   "metadata": {
    "colab": {
     "base_uri": "https://localhost:8080/",
     "height": 35
    },
    "colab_type": "code",
    "id": "rX4gZs4YB3Kc",
    "outputId": "43ddc14c-8b2e-4de5-e0e0-e44017d97147"
   },
   "outputs": [
    {
     "name": "stdout",
     "output_type": "stream",
     "text": [
      "563/563 [==============================] - 1s 1ms/step\n"
     ]
    },
    {
     "data": {
      "text/plain": [
       "array([1.6055026e-04, 5.2281380e-06, 1.0211231e-06, 6.7398344e-07,\n",
       "       2.4269555e-09, 8.2765575e-07, 1.0747666e-05, 1.8011376e-08,\n",
       "       8.9617382e-04, 9.9892467e-01], dtype=float32)"
      ]
     },
     "execution_count": 89,
     "metadata": {},
     "output_type": "execute_result"
    }
   ],
   "source": [
    "model3.predict(X_test)[5]"
   ]
  },
  {
   "cell_type": "code",
   "execution_count": 90,
   "metadata": {
    "colab": {
     "base_uri": "https://localhost:8080/",
     "height": 280
    },
    "colab_type": "code",
    "id": "8YADP-ZLB7HA",
    "outputId": "72b128ca-23b2-47cd-ed8b-c96c1967fc36"
   },
   "outputs": [
    {
     "data": {
      "text/plain": [
       "<matplotlib.image.AxesImage at 0x38d1d7ca0>"
      ]
     },
     "execution_count": 90,
     "metadata": {},
     "output_type": "execute_result"
    },
    {
     "data": {
      "image/png": "[encoded data removed]",
      "text/plain": [
       "<Figure size 640x480 with 1 Axes>"
      ]
     },
     "metadata": {},
     "output_type": "display_data"
    }
   ],
   "source": [
    "#Showing the image\n",
    "plt.imshow(X_test[20].reshape(32, 32), cmap = 'gray')"
   ]
  },
  {
   "cell_type": "code",
   "execution_count": 92,
   "metadata": {
    "colab": {
     "base_uri": "https://localhost:8080/",
     "height": 35
    },
    "colab_type": "code",
    "id": "ZnPW2DeGCBf8",
    "outputId": "750a7e76-cbe8-4c4a-b03d-b64ae030cc8e"
   },
   "outputs": [
    {
     "name": "stdout",
     "output_type": "stream",
     "text": [
      "563/563 [==============================] - 1s 1ms/step\n"
     ]
    },
    {
     "data": {
      "text/plain": [
       "array([9.9914181e-01, 6.2872619e-05, 2.8191223e-05, 4.6199525e-06,\n",
       "       2.4291045e-05, 2.5696431e-06, 3.5903038e-04, 4.0831019e-06,\n",
       "       2.2225591e-05, 3.5022834e-04], dtype=float32)"
      ]
     },
     "execution_count": 92,
     "metadata": {},
     "output_type": "execute_result"
    }
   ],
   "source": [
    "model3.predict(X_test)[20]\n",
    "\n"
   ]
  },
  {
   "cell_type": "code",
   "execution_count": 96,
   "metadata": {},
   "outputs": [
    {
     "name": "stdout",
     "output_type": "stream",
     "text": [
      "563/563 [==============================] - 1s 1ms/step\n",
      "Predicted class: 0\n"
     ]
    }
   ],
   "source": [
    "predicted_class = np.argmax(model3.predict(X_test)[20])\n",
    "\n",
    "# Print the predicted class\n",
    "print(f'Predicted class: {predicted_class}')"
   ]
  },
  {
   "cell_type": "code",
   "execution_count": 93,
   "metadata": {
    "colab": {
     "base_uri": "https://localhost:8080/",
     "height": 280
    },
    "colab_type": "code",
    "id": "SNYI3rhrCEVv",
    "outputId": "9a7b29ec-738a-4dcf-bc8a-8cab43f49509"
   },
   "outputs": [
    {
     "data": {
      "text/plain": [
       "<matplotlib.image.AxesImage at 0x38d2418b0>"
      ]
     },
     "execution_count": 93,
     "metadata": {},
     "output_type": "execute_result"
    },
    {
     "data": {
      "image/png": "[encoded data removed]",
      "text/plain": [
       "<Figure size 640x480 with 1 Axes>"
      ]
     },
     "metadata": {},
     "output_type": "display_data"
    }
   ],
   "source": [
    "plt.imshow(X_test[10].reshape(32, 32), cmap = 'gray')"
   ]
  },
  {
   "cell_type": "code",
   "execution_count": 94,
   "metadata": {
    "colab": {
     "base_uri": "https://localhost:8080/",
     "height": 35
    },
    "colab_type": "code",
    "id": "liZmu-GVCPoV",
    "outputId": "795f01e0-a6a2-4cec-8a9f-b4e0d55b3f49"
   },
   "outputs": [
    {
     "name": "stdout",
     "output_type": "stream",
     "text": [
      "563/563 [==============================] - 1s 1ms/step\n"
     ]
    },
    {
     "data": {
      "text/plain": [
       "array([6.5280256e-05, 1.3742156e-04, 2.5355959e-05, 8.2734427e-05,\n",
       "       1.8495108e-06, 8.0626422e-05, 2.5297992e-02, 8.5539109e-10,\n",
       "       9.5279258e-01, 2.1516139e-02], dtype=float32)"
      ]
     },
     "execution_count": 94,
     "metadata": {},
     "output_type": "execute_result"
    }
   ],
   "source": [
    "model3.predict(X_test)[10]"
   ]
  },
  {
   "cell_type": "code",
   "execution_count": 95,
   "metadata": {},
   "outputs": [
    {
     "name": "stdout",
     "output_type": "stream",
     "text": [
      "563/563 [==============================] - 1s 1ms/step\n",
      "Predicted class: 8\n"
     ]
    }
   ],
   "source": [
    "# Extract the predicted class\n",
    "predicted_class = np.argmax(model3.predict(X_test)[10])\n",
    "\n",
    "# Print the predicted class\n",
    "print(f'Predicted class: {predicted_class}')"
   ]
  },
  {
   "cell_type": "markdown",
   "metadata": {
    "colab_type": "text",
    "id": "k-nx-k4eMKAl"
   },
   "source": [
    "<a id='Conclusion'></a>\n",
    "### Conclusion\n",
    "Evaluated the accuracy using two methods i.e. baby sitting the NN and NN through API. Followed all the required steps starting with loading the datasets to performing hyperparameter optimization and running a finer search by using a finer range. Explored different options in optimizers, number of activators, learning rate and activation methods in NN through API. Found that baby sitting process achieved the best accuracy of 21% using hyper parameter optimization. It might have been further improved but that's the trade off vs time taken to run the script. NN through API method achieved best accuracy of 90% on validation set. Also printed the classification report, visualized the confusion matrix and summarized history for accuracy and loss."
   ]
  }
 ],
 "metadata": {
  "accelerator": "GPU",
  "colab": {
   "collapsed_sections": [],
   "name": "07_Neural Network.ipynb",
   "provenance": []
  },
  "kernelspec": {
   "display_name": "Python 3 (ipykernel)",
   "language": "python",
   "name": "python3"
  },
  "language_info": {
   "codemirror_mode": {
    "name": "ipython",
    "version": 3
   },
   "file_extension": ".py",
   "mimetype": "text/x-python",
   "name": "python",
   "nbconvert_exporter": "python",
   "pygments_lexer": "ipython3",
   "version": "3.8.15"
  }
 },
 "nbformat": 4,
 "nbformat_minor": 1
}
